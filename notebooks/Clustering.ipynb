{
 "cells": [
  {
   "cell_type": "code",
   "execution_count": 1,
   "metadata": {
    "collapsed": false
   },
   "outputs": [
    {
     "name": "stderr",
     "output_type": "stream",
     "text": [
      "\n",
      "WARNING: deprecated syntax \"[a=>b for (a,b) in c]\".\n",
      "Use \"Dict(a=>b for (a,b) in c)\" instead.\n"
     ]
    }
   ],
   "source": [
    "push!(LOAD_PATH, pwd()*\"/..\")\n",
    "import_path = \"/Users/julian/Harvard/research/nowak/indirect_rec/src\"\n",
    "push!(LOAD_PATH, import_path)\n",
    "using LightGraphs, Epidemics, GraphGeneration,IM\n",
    "using GraphGeneration\n",
    "using NLsolve\n",
    "using PyPlot, Distributions\n",
    "using DegreeDistribution\n",
    "using StatsBase\n",
    "using GraphCreation\n",
    "using Clustering\n",
    "using DataAnalysis\n",
    "using TwoLevelGraphs"
   ]
  },
  {
   "cell_type": "code",
   "execution_count": 2,
   "metadata": {
    "collapsed": false
   },
   "outputs": [
    {
     "name": "stdout",
     "output_type": "stream",
     "text": [
      "0.13333333333333333 0.013333333333333334\n",
      "10010\n",
      "0.5022783705183705\n",
      "0.0010466666666666667\n",
      "0.5073326673326671\n"
     ]
    }
   ],
   "source": [
    "N = 10000\n",
    "k = 10\n",
    "C = 0.5\n",
    "d = Binomial(k,1) \n",
    "\n",
    "c_r = 0.3\n",
    "y_n = 0.1\n",
    "\n",
    "n_n = Int(N*y_n)#y_n*N\n",
    "beta = get_beta(N,c_r,n_n)#4.0/(c_r*n_n)\n",
    "alpha = get_alpha(N,c_r,n_n)#(N*beta)/n_n\n",
    "\n",
    "# alpha,beta = 0.0,0.0\n",
    "# beta = 0.0\n",
    "# alpha = 10\n",
    "\n",
    "\n",
    "println(alpha,\" \", beta)\n",
    "im_normal = InfectionModel(x -> 1 + alpha*x , x -> 1 + beta);\n",
    "fixation_threshold = (N-2)/N\n",
    "carry_by_node_information = false\n",
    "graph_model = true\n",
    "in_parallel = true\n",
    "\n",
    "#:erdos_renyi,:watts_strogatz,:gamma_fb,:rand_clust\n",
    "\n",
    "# G = create_graph(N,k,:erdos_renyi,C,deg_distr=d)\n",
    "# H = create_graph(N,k,:rand_clust,C,deg_distr=d)\n",
    "K = create_graph(N,k,:watts_strogatz,C,deg_distr=d)\n",
    "# GC = regular_clustering_graph(N,k,C)\n",
    "R = LightGraphs.random_regular_graph(N,k)\n",
    "m = 14 #0.5: m=14,l=9,r=1 $ 0.3: m = 10, l = 7, r = 3\n",
    "l = 9\n",
    "r = k -l\n",
    "t = TwoLevel(Int(ceil(N/m)*m),m,l,r)\n",
    "# l = 9\n",
    "# m = 20\n",
    "# t = TwoLevel(N,m,l,k-r)\n",
    "println(t.N)\n",
    "T = generate_regular_two_level_graph(t)\n",
    "# println(mean(local_clustering_coefficient(G)))\n",
    "# println(mean(local_clustering_coefficient(H)))\n",
    "println(mean(local_clustering_coefficient(K)))\n",
    "println(mean(local_clustering_coefficient(R)))\n",
    "println(mean(local_clustering_coefficient(T)))\n",
    "# println(mean(local_clustering_coefficient(GC)))"
   ]
  },
  {
   "cell_type": "markdown",
   "metadata": {},
   "source": [
    "# The effect of clustering gets stronger with small $k$ and with large $N$.\n",
    "\n",
    "It might have something to do with how the pair counts are estimated. For example, why do II pairs sometimes rise while IS pairs go extinct? Sometimes the pair count should be higher than the model suggests (i.e. mis = 0, mii large should give a lot of overlap pairs). How do I avoid impossible counts?\n",
    "\n",
    "Somehow the algorithm seems to produce to many II pairs for large N"
   ]
  },
  {
   "cell_type": "code",
   "execution_count": 69,
   "metadata": {
    "collapsed": false
   },
   "outputs": [
    {
     "name": "stdout",
     "output_type": "stream",
     "text": [
      " 54.916471 seconds (1.16 G allocations: 27.070 GB, 25.08% gc time)\n",
      "  6.723623 seconds (153.61 M allocations: 3.580 GB, 25.49% gc time)\n",
      "  0.014870 seconds (82.84 k allocations: 3.779 MB, 58.24% gc time)\n"
     ]
    }
   ],
   "source": [
    "num_trials = 1000\n",
    "# println(C)\n",
    "# Profile.clear()\n",
    "#Profile.print()\n",
    "@time yy,pp,edge_counts = Clustering.get_p_reach_well_mixed_with_clustering(N,k,C,alpha,beta,num_trials,fixation_threshold);    \n",
    "@time yyrc,pprc,edge_countsrc = Clustering.get_p_reach_well_mixed_with_clustering(N,k,(k-1)/N,alpha,beta,num_trials,fixation_threshold);    \n",
    "# println(C)\n",
    "im = InfectionModel(x -> 1 + beta + get_s_eff_exact(x,alpha,beta,k,N) , x -> 1 + beta)\n",
    "yyr = logspace(log10(1/N),0,500)\n",
    "@time ppr = P_reach_fast(im,N,1.0/N,yyr,true);"
   ]
  },
  {
   "cell_type": "code",
   "execution_count": 70,
   "metadata": {
    "collapsed": false,
    "scrolled": true
   },
   "outputs": [
    {
     "ename": "LoadError",
     "evalue": "InterruptException:\n in compute_rate(::PayloadGraph.Graph{Int64}, ::Int64, ::IM.InfectionModel) at /Users/julian/Dropbox/ubuntu_home/Harvard/research/desai/population/src/SIS.jl:354\n in update_nodes_and_rates(::PayloadGraph.Graph{Int64}, ::Int64, ::Array{Float64,1}, ::IM.InfectionModel) at /Users/julian/Dropbox/ubuntu_home/Harvard/research/desai/population/src/SIS.jl:376\n in update_graph_gillespie(::PayloadGraph.Graph{Int64}, ::IM.InfectionModel, ::Array{Float64,1}) at /Users/julian/Dropbox/ubuntu_home/Harvard/research/desai/population/src/SIS.jl:383\n in run_epidemic_graph_gillespie(::Int64, ::IM.InfectionModel, ::Epidemics.GraphInformation, ::Float64) at /Users/julian/Dropbox/ubuntu_home/Harvard/research/desai/population/src/Epidemics.jl:215\n in (::Epidemics.##9#10{##111#112})(::Int64) at /Users/julian/Dropbox/ubuntu_home/Harvard/research/desai/population/src/Epidemics.jl:401\n in macro expansion at ./asyncmap.jl:63 [inlined]\n in (::Base.##755#757{Base.AsyncCollector,Base.AsyncCollectorState})() at ./task.jl:360",
     "output_type": "error",
     "traceback": [
      "InterruptException:\n in compute_rate(::PayloadGraph.Graph{Int64}, ::Int64, ::IM.InfectionModel) at /Users/julian/Dropbox/ubuntu_home/Harvard/research/desai/population/src/SIS.jl:354\n in update_nodes_and_rates(::PayloadGraph.Graph{Int64}, ::Int64, ::Array{Float64,1}, ::IM.InfectionModel) at /Users/julian/Dropbox/ubuntu_home/Harvard/research/desai/population/src/SIS.jl:376\n in update_graph_gillespie(::PayloadGraph.Graph{Int64}, ::IM.InfectionModel, ::Array{Float64,1}) at /Users/julian/Dropbox/ubuntu_home/Harvard/research/desai/population/src/SIS.jl:383\n in run_epidemic_graph_gillespie(::Int64, ::IM.InfectionModel, ::Epidemics.GraphInformation, ::Float64) at /Users/julian/Dropbox/ubuntu_home/Harvard/research/desai/population/src/Epidemics.jl:215\n in (::Epidemics.##9#10{##111#112})(::Int64) at /Users/julian/Dropbox/ubuntu_home/Harvard/research/desai/population/src/Epidemics.jl:401\n in macro expansion at ./asyncmap.jl:63 [inlined]\n in (::Base.##755#757{Base.AsyncCollector,Base.AsyncCollectorState})() at ./task.jl:360",
      "",
      " in sync_end() at ./task.jl:311",
      " in done(::Base.AsyncCollector, ::Base.AsyncCollectorState) at ./asyncmap.jl:124",
      " in pump_source(::Base.AsyncGenerator, ::Base.AsyncGeneratorState) at ./asyncmap.jl:185",
      " in next(::Base.AsyncGenerator, ::Base.AsyncGeneratorState) at ./asyncmap.jl:201",
      " in _collect(::UnitRange{Int64}, ::Base.AsyncGenerator, ::Base.HasEltype, ::Base.SizeUnknown) at ./array.jl:282",
      " in #pmap#714(::Bool, ::Int64, ::Void, ::Int64, ::Float64, ::Function, ::Void, ::Void, ::Void, ::Base.#pmap, ::WorkerPool, ::Epidemics.##9#10{##111#112}, ::UnitRange{Int64}) at ./pmap.jl:121",
      " in pmap(::WorkerPool, ::Function, ::UnitRange{Int64}) at ./pmap.jl:80",
      " in #pmap#726(::Array{Any,1}, ::Function, ::Function, ::UnitRange{Int64}) at ./pmap.jl:146",
      " in pmap(::Function, ::UnitRange{Int64}) at ./pmap.jl:146",
      " in run_epidemics_parallel(::Int64, ::##111#112, ::Bool) at /Users/julian/Dropbox/ubuntu_home/Harvard/research/desai/population/src/Epidemics.jl:401"
     ]
    }
   ],
   "source": [
    "num_trials_local_sim = 1000\n",
    "# graph_fn = () -> create_graph(N,k,:erdos_renyi,C,deg_distr=d)\n",
    "graph_fn = () -> K #create_graph(N,k,:watts_strogatz,C,deg_distr=d)\n",
    "graph_data = C\n",
    "\n",
    "graph_information = GraphInformation(graph_fn,Graph(),carry_by_node_information,graph_data)\n",
    "\n",
    "@time runssim = run_epidemics_parallel(num_trials_local_sim,() -> run_epidemic_graph_gillespie(N,im_normal,graph_information,fixation_threshold),in_parallel);\n",
    "yysim,ppsim = get_p_reach(runssim)\n",
    "yysim /= N\n",
    "\n",
    "num_points = 200\n",
    "@time yytl,pptl,s_eff_two_level = get_p_reach_theory(t,alpha,beta,N,true,num_points)\n"
   ]
  },
  {
   "cell_type": "code",
   "execution_count": 74,
   "metadata": {
    "collapsed": false
   },
   "outputs": [
    {
     "data": {
      "image/png": "[encoded data removed]",
      "text/plain": [
       "PyPlot.Figure(PyObject <matplotlib.figure.Figure object at 0x3274dead0>)"
      ]
     },
     "metadata": {},
     "output_type": "display_data"
    },
    {
     "data": {
      "text/plain": [
       "PyObject <matplotlib.legend.Legend object at 0x328950f90>"
      ]
     },
     "execution_count": 74,
     "metadata": {},
     "output_type": "execute_result"
    }
   ],
   "source": [
    "# loglog(yy/N,pp)\n",
    "errorbars = 2*(pp.*(1-pp)/num_trials).^0.5\n",
    "plt[:errorbar](yy,pp,linestyle=\"--\",yerr=errorbars,label=\"wm\")#,label=simulation_labels[i])\n",
    "# loglog([],[])\n",
    "\n",
    "loglog(yyrc,pprc,label=\"reg wm\")\n",
    "# loglog(yyr,ppr,label=\"reg th.\")\n",
    "\n",
    "\n",
    "errorbars_c = 2*(ppc.*(1-ppc)/runs.num_trials).^0.5\n",
    "plt[:errorbar](yyc,ppc,linestyle=\"--\",yerr=errorbars_c,label=\"odyssey sim\")#,label=simulation_labels[i])\n",
    "# loglog(yyc,ppc)\n",
    "\n",
    "loglog(yytl,pptl,label=\"tl theory\")\n",
    "\n",
    "errorbars_sim = 2*(ppsim.*(1-ppsim)/num_trials_local_sim).^0.5\n",
    "plt[:errorbar](yysim,ppsim,linestyle=\"--\",yerr=errorbars_sim,label=\"local sim\")#,label=simulation_labels[i])\n",
    "# loglog(yysim,ppsim)\n",
    "xlim([1/N,1])\n",
    "ylim([1e-3,1])\n",
    "# ylim([1/num_trials,1])\n",
    "grid()\n",
    "legend()"
   ]
  },
  {
   "cell_type": "code",
   "execution_count": 71,
   "metadata": {
    "collapsed": false
   },
   "outputs": [
    {
     "data": {
      "text/plain": [
       "(10000,10,0.1,0.13333333333333333,0.013333333333333334)"
      ]
     },
     "execution_count": 71,
     "metadata": {},
     "output_type": "execute_result"
    }
   ],
   "source": [
    "data_dir_path = \"../../data/\"  #\"/mnt/D/windows/MIT/classes/6/338/project/data/\"\n",
    "filenames = split(readstring(`ls $data_dir_path`));\n",
    "filenames[1:12]\n",
    "path = data_dir_path*filenames[end-6]\n",
    "params,yyc,ppc,epidemic_params,k_c,graph_information,graph_type,runs,num_trials_sim = load_p_reach_data(path);\n",
    "filenames[end-10:end]\n",
    "epidemic_params.N,k_c,graph_information.data,epidemic_params.alpha,epidemic_params.beta"
   ]
  },
  {
   "cell_type": "code",
   "execution_count": 268,
   "metadata": {
    "collapsed": false
   },
   "outputs": [
    {
     "data": {
      "text/plain": [
       "10000"
      ]
     },
     "execution_count": 268,
     "metadata": {},
     "output_type": "execute_result"
    }
   ],
   "source": [
    "runs.num_trials"
   ]
  },
  {
   "cell_type": "code",
   "execution_count": 261,
   "metadata": {
    "collapsed": false
   },
   "outputs": [
    {
     "name": "stderr",
     "output_type": "stream",
     "text": [
      "WARNING: Method definition get_expected_clustering(Any, Any, Any, Any) in module Main at In[132]:2 overwritten at In[261]:2.\n",
      "WARNING: Method definition get_expected_clustering(TwoLevelGraphs.TwoLevel) in module Main at In[132]:9 overwritten at In[261]:9.\n",
      "WARNING: Method definition g!(Any, Any) in module Main at In[132]:13 overwritten at In[261]:13.\n"
     ]
    },
    {
     "data": {
      "text/plain": [
       "g! (generic function with 1 method)"
      ]
     },
     "execution_count": 261,
     "metadata": {},
     "output_type": "execute_result"
    }
   ],
   "source": [
    "function get_expected_clustering(k,N,ki,m)\n",
    "    ke = k - ki \n",
    "    C_i = (ki-1)/(m-2)\n",
    "    C_e = (N-2*m)*(ke-1)/(N-m)^2 + (m/(N-m))*(ki/(m-1))\n",
    "    return (ki*(ki-1)*C_i + ke*(ke-1)*C_e )/ (k*(k-1))\n",
    "end\n",
    "\n",
    "function get_expected_clustering(t::TwoLevel)\n",
    "    return get_expected_clustering(t.l + t.r,t.N,t.l,t.m)\n",
    "end\n",
    "\n",
    "function g!(x, fvec)\n",
    "    fvec[1] = get_c_fn(x[1],x[2]) - C\n",
    "#     fvec[2] = sum((x - round(x)).^2)\n",
    "end\n"
   ]
  },
  {
   "cell_type": "code",
   "execution_count": 205,
   "metadata": {
    "collapsed": false
   },
   "outputs": [
    {
     "name": "stdout",
     "output_type": "stream",
     "text": [
      "0.29090909090909095\n",
      "0.267861111111111\n"
     ]
    }
   ],
   "source": [
    "N = 24*100\n",
    "m = 24 #m=14,l=9,r=1\n",
    "k = 10\n",
    "l = 9\n",
    "r = k -l\n",
    "t1 = TwoLevel(Int(ceil(N/m)*m),m,l,r)\n",
    "println(get_expected_clustering(t1))\n",
    "T = generate_regular_two_level_graph(t1)\n",
    "println(mean(local_clustering_coefficient(T)))"
   ]
  },
  {
   "cell_type": "code",
   "execution_count": 155,
   "metadata": {
    "collapsed": false
   },
   "outputs": [
    {
     "name": "stderr",
     "output_type": "stream",
     "text": [
      "WARNING: Method definition get_c_fn(Any, Any) in module Main at In[154]:7 overwritten at In[155]:7.\n"
     ]
    },
    {
     "data": {
      "text/plain": [
       "Results of Nonlinear Solver Algorithm\n",
       " * Algorithm: Trust-region with dogleg and autoscaling\n",
       " * Starting Point: [5.0,200.0]\n",
       " * Zero: [10.4766,22.9165]\n",
       " * Inf-norm of residuals: 0.000000\n",
       " * Iterations: 12\n",
       " * Convergence: true\n",
       "   * |x - x'| < 0.0e+00: false\n",
       "   * |f(x)| < 1.0e-08: true\n",
       " * Function Calls (f): 13\n",
       " * Jacobian Calls (df/dx): 8"
      ]
     },
     "execution_count": 155,
     "metadata": {},
     "output_type": "execute_result"
    }
   ],
   "source": [
    "using NLsolve\n",
    "\n",
    "C = 0.5\n",
    "N = 400\n",
    "k = 10\n",
    "\n",
    "get_c_fn(ki,m) = get_expected_clustering(k,N,ki,m)\n",
    "\n",
    "\n",
    "sol = nlsolve(g!, [k/2,N/2])\n"
   ]
  },
  {
   "cell_type": "code",
   "execution_count": 145,
   "metadata": {
    "collapsed": false
   },
   "outputs": [
    {
     "name": "stdout",
     "output_type": "stream",
     "text": [
      "0.45\n"
     ]
    },
    {
     "ename": "LoadError",
     "evalue": "InterruptException:",
     "output_type": "error",
     "traceback": [
      "InterruptException:",
      "",
      " in LightGraphs.Graph(::Int64) at /Users/julian/.julia/v0.5/LightGraphs/src/graph.jl:15",
      " in #random_regular_graph#100(::Int64, ::Function, ::Int64, ::Int64) at /Users/julian/.julia/v0.5/LightGraphs/src/generators/randgraphs.jl:398",
      " in get_regular_edges at /Users/julian/Dropbox/ubuntu_home/Harvard/research/desai/population/src/TwoLevelGraphs.jl:1533 [inlined]",
      " in get_regular_super_edges_for_supergraph(::TwoLevelGraphs.TwoLevel) at /Users/julian/Dropbox/ubuntu_home/Harvard/research/desai/population/src/TwoLevelGraphs.jl:1516",
      " in get_regular_edges_for_supergraph at /Users/julian/Dropbox/ubuntu_home/Harvard/research/desai/population/src/TwoLevelGraphs.jl:1527 [inlined]",
      " in generate_single_regular_two_level_graph(::TwoLevelGraphs.TwoLevel) at /Users/julian/Dropbox/ubuntu_home/Harvard/research/desai/population/src/TwoLevelGraphs.jl:1386",
      " in generate_regular_two_level_graph(::TwoLevelGraphs.TwoLevel) at /Users/julian/Dropbox/ubuntu_home/Harvard/research/desai/population/src/TwoLevelGraphs.jl:1406"
     ]
    }
   ],
   "source": [
    "solution = round(sol.zero)\n",
    "ki = Int(solution[1])\n",
    "m = Int(solution[2])\n",
    "t1 = TwoLevel(Int(ceil(N/m)*m),m,ki,k-ki)\n",
    "println(get_expected_clustering(t1))\n",
    "T = generate_regular_two_level_graph(t1)\n",
    "println(mean(local_clustering_coefficient(T)))"
   ]
  },
  {
   "cell_type": "code",
   "execution_count": 206,
   "metadata": {
    "collapsed": false
   },
   "outputs": [
    {
     "name": "stderr",
     "output_type": "stream",
     "text": [
      "WARNING: Method definition get_optimal_tl_params(Any, Any, Any) in module Main at In[193]:6 overwritten at In[206]:6.\n"
     ]
    },
    {
     "data": {
      "text/plain": [
       "get_optimal_tl_params (generic function with 1 method)"
      ]
     },
     "execution_count": 206,
     "metadata": {},
     "output_type": "execute_result"
    }
   ],
   "source": [
    "using JuMP\n",
    "using CoinOptServices\n",
    "\n",
    "function get_optimal_tl_params(N,k,C)\n",
    "\n",
    "    mod = Model(solver=OsilBonminSolver())\n",
    "    @variable(mod,ki_v, Int)\n",
    "    @variable(mod,m_vh, Int)\n",
    "\n",
    "    @NLobjective(mod,Min,(C - (ki_v*(ki_v-1)*(ki_v-1)/(2*m_vh-2) + (k-ki_v)*((k-ki_v)-1)*((N-2*2*m_vh)*((k-ki_v)-1)/(N-2*m_vh)^2 + (2*m_vh/(N-2*m_vh))*(ki_v/(2*m_vh-1))) )/ (k*(k-1)))^2)    \n",
    "    @NLconstraint(mod,ki_v <= 2*m_vh-1)\n",
    "    @NLconstraint(mod,1 <= ki_v <= k-1)\n",
    "    @NLconstraint(mod,1 <= 2*m_vh <= N/2)\n",
    "    # @NLconstraint(mod,ki_v*m_v/2 == round(ki_v*m_v/2))\n",
    "\n",
    "    # Solve problem using MIP solver\n",
    "    status = solve(mod)\n",
    "\n",
    "    println(\"Objective is: \", getobjectivevalue(mod))\n",
    "    println(\"Solution is:\")\n",
    "    println(\"ki = \",getvalue(ki_v))\n",
    "    println(\"m = \",2*getvalue(m_vh))\n",
    "\n",
    "\n",
    "    ki = Int(getvalue(ki_v))\n",
    "    m = Int(2*getvalue(m_vh) )\n",
    "    t1 = TwoLevel(Int(ceil(N/m)*m),m,ki,k-ki)\n",
    "    println(get_expected_clustering(t1))\n",
    "    T = generate_regular_two_level_graph(t1)\n",
    "    println(mean(local_clustering_coefficient(T)))\n",
    "    return t1\n",
    "end\n"
   ]
  },
  {
   "cell_type": "code",
   "execution_count": 220,
   "metadata": {
    "collapsed": false
   },
   "outputs": [
    {
     "name": "stdout",
     "output_type": "stream",
     "text": [
      "\n",
      "\n",
      "Optimization Services Solver\n",
      "Main Authors: Horand Gassmann, Jun Ma, and Kipp Martin\n",
      "Distributed under the Eclipse Public License\n",
      "OS Version:  2.9.3\n",
      "Build Date: Oct 24 2016\n",
      "\n",
      "\n",
      "\n",
      "\n",
      "******************************************************************************\n",
      "This program contains Ipopt, a library for large-scale nonlinear optimization.\n",
      " Ipopt is released as open source code under the Eclipse Public License (EPL).\n",
      "         For more information visit http://projects.coin-or.org/Ipopt\n",
      "******************************************************************************\n",
      "\n",
      "Objective is: 6.720655683212513e-8\n",
      "Solution is:\n",
      "ki = 7.0\n",
      "m = 30.0\n",
      "0.10025924227439237\n",
      "0.08694444444444427\n"
     ]
    },
    {
     "data": {
      "text/plain": [
       "TwoLevelGraphs.TwoLevel(Number[0,0,0,0,0,0,0,0,0,0  …  0,0,0,0,0,0,0,0,0,0],2400,30,80,0,3,7)"
      ]
     },
     "execution_count": 220,
     "metadata": {},
     "output_type": "execute_result"
    }
   ],
   "source": [
    "get_optimal_tl_params(24*100,10,0.1*1.0)"
   ]
  },
  {
   "cell_type": "markdown",
   "metadata": {},
   "source": [
    "## Plot individual time series"
   ]
  },
  {
   "cell_type": "code",
   "execution_count": 26,
   "metadata": {
    "collapsed": false
   },
   "outputs": [
    {
     "data": {
      "text/plain": [
       "get_max_reach (generic function with 1 method)"
      ]
     },
     "execution_count": 26,
     "metadata": {},
     "output_type": "execute_result"
    }
   ],
   "source": [
    "function get_individual_arrays(ecs::Array{Clustering.EdgeCounts,1})\n",
    "    len = length(ecs)\n",
    "    miis = zeros(len)\n",
    "    miss = zeros(len)\n",
    "    msss = zeros(len)\n",
    "    ns = zeros(len)\n",
    "    for i = 1:len\n",
    "        miis[i] = ecs[i].mii\n",
    "        miss[i] = ecs[i].mis\n",
    "        msss[i] = ecs[i].mss\n",
    "        ns[i] = Clustering.get_num_infecteds(ecs[i])\n",
    "    end\n",
    "    return miis,miss,msss,ns\n",
    "end\n",
    "\n",
    "function get_z_arrays(ecs::Array{EdgeCounts,1},C,central_infected,attached_infected)\n",
    "    len = length(ecs)\n",
    "    z_a_arr = zeros(len)\n",
    "    z_a_b_arr = zeros(len)\n",
    "    z_a_b_mean_arr = zeros(len)\n",
    "    for i = 1:len\n",
    "        ms = ecs[i]\n",
    "        if ms.mis > 0\n",
    "            z_a_arr[i] = get_z_a(ms,central_infected)\n",
    "            z_a_b_arr[i] = get_z_a_b(ms,central_infected,attached_infected)\n",
    "            z_a_b_mean_arr[i] = get_z_a_b_mean(C,ms,central_infected,attached_infected)\n",
    "        end\n",
    "    end\n",
    "    return z_a_arr,z_a_b_arr,z_a_b_mean_arr\n",
    "end\n",
    "\n",
    "function get_infection_size(ecs::Array{Clustering.EdgeCounts,1})\n",
    "    len = length(ecs)\n",
    "    size_curr = 0\n",
    "    for i = 1:len\n",
    "        size_curr += Clustering.get_num_infecteds(ecs[i])\n",
    "    end\n",
    "    size_curr *= 0.1\n",
    "    return size_curr\n",
    "end\n",
    "\n",
    "function get_max_reach(ecs::Array{Clustering.EdgeCounts,1})\n",
    "    max_curr = -1.0\n",
    "    for i = 1:length(ecs)\n",
    "        max_curr = max(Clustering.get_num_infecteds(ecs[i]),max_curr)\n",
    "    end\n",
    "    return max_curr\n",
    "end\n",
    "    "
   ]
  },
  {
   "cell_type": "code",
   "execution_count": 77,
   "metadata": {
    "collapsed": false
   },
   "outputs": [
    {
     "data": {
      "image/png": "[encoded data removed]",
      "text/plain": [
       "PyPlot.Figure(PyObject <matplotlib.figure.Figure object at 0x328977c50>)"
      ]
     },
     "metadata": {},
     "output_type": "display_data"
    },
    {
     "data": {
      "text/plain": [
       "(0.01,1.0)"
      ]
     },
     "execution_count": 77,
     "metadata": {},
     "output_type": "execute_result"
    }
   ],
   "source": [
    "\n",
    "loglog([],[])\n",
    "scatter(ns/Clustering.get_N(ms),miis/m)\n",
    "scatter(ns/Clustering.get_N(ms),miss/m)\n",
    "scatter(ns/Clustering.get_N(ms),msss/m)\n",
    "ylim([1e-2,1])"
   ]
  },
  {
   "cell_type": "code",
   "execution_count": 76,
   "metadata": {
    "collapsed": false
   },
   "outputs": [
    {
     "data": {
      "image/png": "[encoded data removed]",
      "text/plain": [
       "PyPlot.Figure(PyObject <matplotlib.figure.Figure object at 0x326b781d0>)"
      ]
     },
     "metadata": {},
     "output_type": "display_data"
    },
    {
     "data": {
      "image/png": "[encoded data removed]",
      "text/plain": [
       "PyPlot.Figure(PyObject <matplotlib.figure.Figure object at 0x327d79690>)"
      ]
     },
     "metadata": {},
     "output_type": "display_data"
    },
    {
     "data": {
      "text/plain": [
       "PyObject <matplotlib.legend.Legend object at 0x327cb7c90>"
      ]
     },
     "execution_count": 76,
     "metadata": {},
     "output_type": "execute_result"
    }
   ],
   "source": [
    "\n",
    "idx = 166\n",
    "C = 0.5\n",
    "ecs = edge_counts[idx]\n",
    "\n",
    "xlim_ = length(ecs)#200\n",
    "ms = ecs[1]\n",
    "m = ms.m\n",
    "miis,miss,msss,ns = get_individual_arrays(ecs)\n",
    "z_a,z_ab,z_abm = get_z_arrays(ecs,C,false,true)\n",
    "#when attached infected is false, the time series become the same\n",
    "xlim([0,xlim_])\n",
    "plot(miis/m,label=\"II\")\n",
    "plot(miss/m,label=\"IS\")\n",
    "semilogy([],[])\n",
    "plot(msss/m,label=\"SS\")\n",
    "\n",
    "# plot(z_a,label=\"z_a\")\n",
    "# plot(z_ab,label=\"z_ab\")\n",
    "# plot(msss+2*miss+miis,label=\"Tot\")\n",
    "plot(ns/Clustering.get_N(ms),\"--\",label=\"I\")\n",
    "legend(loc=\"best\")\n",
    "# ylim([1e-2,2e-2])\n",
    "# ylim([0.5/m,1.1])\n",
    "# xlim([8100,8120])\n",
    "figure()\n",
    "xlim([0,xlim_])\n",
    "plot(z_a,label=\"z_a\")\n",
    "plot(z_ab,label=\"z_ab\")\n",
    "semilogy([],[])\n",
    "# plot(z_abm,label=\"z_abm\")\n",
    "legend()"
   ]
  },
  {
   "cell_type": "code",
   "execution_count": 75,
   "metadata": {
    "collapsed": false
   },
   "outputs": [
    {
     "name": "stdout",
     "output_type": "stream",
     "text": [
      "4: 9.4\n",
      "here: 4\n",
      "11: 21.2\n",
      "here: 13\n",
      "here: 20\n",
      "here: 31\n",
      "here: 33\n",
      "here: 40\n",
      "48: 28.0\n",
      "here: 55\n",
      "here: 60\n",
      "here: 63\n",
      "here: 64\n",
      "here: 68\n",
      "here: 70\n",
      "here: 71\n",
      "here: 74\n",
      "here: 86\n",
      "88: 2821.0\n",
      "89: 14.6\n",
      "here: 91\n",
      "here: 94\n",
      "here: 97\n",
      "here: 100\n",
      "102: 2111.0\n",
      "109: 14.6\n",
      "124: 118.0\n",
      "here: 130\n",
      "here: 149\n",
      "here: 150\n",
      "154: 30.0\n",
      "164: 20.0\n",
      "here: 164\n",
      "166: 3183.6\n",
      "180: 14.0\n",
      "here: 184\n",
      "here: 188\n",
      "here: 190\n",
      "here: 191\n",
      "195: 2036.6\n",
      "here: 203\n",
      "here: 204\n",
      "207: 1297.4\n",
      "here: 208\n",
      "here: 209\n",
      "here: 220\n",
      "here: 244\n",
      "249: 1798.0\n",
      "251: 19.6\n",
      "here: 251\n",
      "here: 254\n",
      "here: 259\n",
      "261: 22.6\n",
      "here: 261\n",
      "267: 2441.6\n",
      "269: 56.4\n",
      "271: 23.4\n",
      "273: 25.0\n",
      "here: 273\n",
      "here: 293\n",
      "here: 298\n",
      "301: 9.6\n",
      "307: 26.4\n",
      "here: 312\n",
      "324: 47.8\n",
      "328: 2608.0\n",
      "here: 331\n",
      "336: 21.0\n",
      "339: 1578.0\n",
      "here: 351\n",
      "here: 353\n",
      "here: 355\n",
      "here: 356\n",
      "here: 359\n",
      "360: 13.2\n",
      "here: 365\n",
      "389: 1949.0\n",
      "391: 2554.0\n",
      "394: 3058.0\n",
      "396: 11.4\n",
      "here: 396\n",
      "397: 2011.0\n",
      "here: 398\n",
      "400: 495.8\n",
      "401: 12.2\n",
      "here: 404\n",
      "here: 412\n",
      "416: 1623.2\n",
      "420: 103.0\n",
      "422: 2462.0\n",
      "here: 424\n",
      "here: 425\n",
      "429: 19.0\n",
      "here: 429\n",
      "430: 18.6\n",
      "435: 2609.0\n",
      "here: 446\n",
      "here: 450\n",
      "here: 453\n",
      "here: 456\n",
      "here: 459\n",
      "461: 3022.6\n",
      "465: 55.0\n",
      "here: 479\n",
      "here: 483\n",
      "here: 484\n",
      "here: 486\n",
      "492: 24.4\n",
      "here: 501\n",
      "512: 18.4\n",
      "here: 516\n",
      "518: 1200.2\n",
      "here: 522\n",
      "526: 71.0\n",
      "here: 526\n",
      "531: 24.6\n",
      "here: 532\n",
      "here: 541\n",
      "here: 543\n",
      "548: 16.0\n",
      "here: 564\n",
      "here: 566\n",
      "here: 572\n",
      "here: 578\n",
      "here: 580\n",
      "583: 13.6\n",
      "here: 583\n",
      "585: 54.0\n",
      "here: 585\n",
      "587: 17.2\n",
      "here: 587\n",
      "588: 11.0\n",
      "here: 590\n",
      "here: 592\n",
      "608: 1228.0\n",
      "623: 42.6\n",
      "629: 1760.0\n",
      "644: 17.0\n",
      "659: 1604.2\n",
      "here: 662\n",
      "here: 664\n",
      "670: 1817.8\n",
      "here: 679\n",
      "682: 15.0\n",
      "here: 683\n",
      "688: 1176.0\n",
      "697: 261.0\n",
      "698: 9.0\n",
      "699: 13.2\n",
      "700: 14.6\n",
      "here: 702\n",
      "here: 715\n",
      "723: 14.0\n",
      "here: 723\n",
      "here: 725\n",
      "here: 729\n",
      "here: 733\n",
      "737: 1452.2\n",
      "739: 2107.0\n",
      "here: 741\n",
      "743: 1628.4\n",
      "here: 744\n",
      "745: 8.0\n",
      "here: 745\n",
      "752: 10.0\n",
      "753: 24.2\n",
      "756: 1569.0\n",
      "here: 765\n",
      "here: 766\n",
      "767: 1707.6\n",
      "773: 62.0\n",
      "778: 2403.8\n",
      "here: 781\n",
      "here: 786\n",
      "here: 797\n",
      "806: 18.2\n",
      "here: 814\n",
      "817: 10.0\n",
      "818: 15.0\n",
      "here: 820\n",
      "821: 10.4\n",
      "826: 28.4\n",
      "here: 826\n",
      "here: 828\n",
      "829: 12.8\n",
      "830: 2487.4\n",
      "here: 833\n",
      "839: 11.0\n",
      "here: 839\n",
      "842: 18.6\n",
      "852: 69.2\n",
      "here: 852\n",
      "here: 868\n",
      "here: 888\n",
      "892: 25.0\n",
      "here: 892\n",
      "here: 894\n",
      "898: 2752.0\n",
      "here: 908\n",
      "909: 1634.4\n",
      "912: 2117.0\n",
      "914: 2541.0\n",
      "915: 9.0\n",
      "here: 916\n",
      "here: 917\n",
      "921: 82.4\n",
      "930: 1567.0\n",
      "932: 33.0\n",
      "here: 933\n",
      "937: 14.0\n",
      "here: 937\n",
      "here: 948\n",
      "949: 1897.2\n",
      "here: 956\n",
      "here: 958\n",
      "here: 961\n",
      "966: 2667.0\n",
      "here: 967\n",
      "here: 970\n",
      "972: 11.6\n",
      "here: 974\n",
      "978: 14.4\n",
      "here: 978\n",
      "here: 979\n",
      "here: 983\n",
      "here: 989\n",
      "993: 1199.0\n",
      "999: 18.0\n"
     ]
    }
   ],
   "source": [
    "for i = 1:1000\n",
    "    if length(edge_counts[i]) > 100\n",
    "        println(\"$i: $(get_max_reach(edge_counts[i]))\")\n",
    "#         println(\"$i: $(length(edge_counts[i]))\")\n",
    "    end\n",
    "    if edge_counts[i][end-1].mii == 2\n",
    "        println(\"here: $i\")\n",
    "    end\n",
    "#     if (get_max_reach(edge_counts[i])) > 1000\n",
    "#         println(\"$i: $(get_max_reach(edge_counts[i]))\")\n",
    "#     end\n",
    "end"
   ]
  },
  {
   "cell_type": "markdown",
   "metadata": {},
   "source": [
    "## Why do we get steady state behavior?\n",
    "\n",
    "## Where does the factor of $k$ go?"
   ]
  },
  {
   "cell_type": "markdown",
   "metadata": {
    "collapsed": true
   },
   "source": [
    "## Posterior distribution over k"
   ]
  },
  {
   "cell_type": "code",
   "execution_count": 41,
   "metadata": {
    "collapsed": false
   },
   "outputs": [
    {
     "data": {
      "image/png": "[encoded data removed]",
      "text/plain": [
       "PyPlot.Figure(PyObject <matplotlib.figure.Figure object at 0x324c98bd0>)"
      ]
     },
     "metadata": {},
     "output_type": "display_data"
    },
    {
     "data": {
      "text/plain": [
       "1-element Array{Any,1}:\n",
       " PyObject <matplotlib.lines.Line2D object at 0x326409e90>"
      ]
     },
     "execution_count": 41,
     "metadata": {},
     "output_type": "execute_result"
    }
   ],
   "source": [
    "k = 20\n",
    "z_a = 0.01\n",
    "z_ab = 0.8\n",
    "C = 0.2\n",
    "bins = collect(0:k-1)\n",
    "plot(bins,[Clustering.prior_ki(_,k-1,z_a,z_ab,C) for _ in bins])\n",
    "plot(bins,[Clustering.prior_ki_fast(_,k-1,z_a,z_ab,C) for _ in bins],\"--\")"
   ]
  },
  {
   "cell_type": "code",
   "execution_count": 62,
   "metadata": {
    "collapsed": false
   },
   "outputs": [
    {
     "name": "stdout",
     "output_type": "stream",
     "text": [
      "  0.027556 seconds (133.27 k allocations: 2.636 MB)\n",
      "  0.051836 seconds (673.27 k allocations: 14.385 MB, 12.57% gc time)\n",
      "  0.000420 seconds (7 allocations: 78.391 KB)\n",
      "z_a: 0.5, z_ab: 0.3333333333333333\n"
     ]
    },
    {
     "data": {
      "text/plain": [
       "600.0"
      ]
     },
     "execution_count": 62,
     "metadata": {},
     "output_type": "execute_result"
    }
   ],
   "source": [
    "alpha,beta = 0.06,0.66\n",
    "k = 6\n",
    "N = 400\n",
    "# n = 50\n",
    "C = 0.5\n",
    "ms = EdgeCounts(Int(N*k/2),0,N*k,k)\n",
    "num_trials = 10000\n",
    "central_infected = false \n",
    "attached_infected = true \n",
    "z_a_b_m = get_z_a_b_mean(C,ms,central_infected,attached_infected)\n",
    "\n",
    "\n",
    "@time kis = [Clustering.draw_k_i(ms,k,C,central_infected,attached_infected)[1] for i = 1:num_trials]\n",
    "@time kisp = [Clustering.sample_posterior_k_i(C,ms,central_infected,attached_infected,alpha,beta)[1] for i = 1:num_trials]\n",
    "@time approx = rand(Binomial(k-1,z_a_b_m),num_trials);\n",
    "ms\n",
    "z_a = get_z_a(ms,central_infected)\n",
    "z_ab = get_z_a_b(ms,central_infected,attached_infected)\n",
    "println(\"z_a: $(z_a), z_ab: $(z_ab)\")\n",
    "Clustering.get_pair_count(ms,central_infected,attached_infected)\n",
    "Clustering.get_pair_count_approximation(ms,central_infected,attached_infected)"
   ]
  },
  {
   "cell_type": "code",
   "execution_count": 56,
   "metadata": {
    "collapsed": false
   },
   "outputs": [
    {
     "data": {
      "image/png": "[encoded data removed]",
      "text/plain": [
       "PyPlot.Figure(PyObject <matplotlib.figure.Figure object at 0x3257b3110>)"
      ]
     },
     "metadata": {},
     "output_type": "display_data"
    },
    {
     "name": "stdout",
     "output_type": "stream",
     "text": [
      "z_a: 0.5, z_ab: 0.3333333333333333\n"
     ]
    }
   ],
   "source": [
    "figure()\n",
    "bins = collect(0:k-1)\n",
    "# PyPlot.plt[:hist](kis,bins=bins,alpha=0.5,label=\"prior\")\n",
    "# PyPlot.plt[:hist](kisp,bins=bins,alpha=0.5,label=\"post\")\n",
    "plot(counts(kis))\n",
    "plot(counts(kisp))\n",
    "# plot(counts(approx),\"--\")\n",
    "legend()\n",
    "\n"
   ]
  }
 ],
 "metadata": {
  "anaconda-cloud": {},
  "kernelspec": {
   "display_name": "Julia 0.5.0",
   "language": "julia",
   "name": "julia-0.5"
  },
  "language_info": {
   "file_extension": ".jl",
   "mimetype": "application/julia",
   "name": "julia",
   "version": "0.5.0"
  },
  "latex_envs": {
   "LaTeX_envs_menu_present": true,
   "bibliofile": "biblio.bib",
   "cite_by": "apalike",
   "current_citInitial": 1,
   "eqLabelWithNumbers": true,
   "eqNumInitial": 1,
   "labels_anchors": false,
   "latex_user_defs": false,
   "report_style_numbering": false,
   "user_envs_cfg": false
  }
 },
 "nbformat": 4,
 "nbformat_minor": 1
}
