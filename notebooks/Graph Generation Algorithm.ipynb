{
 "cells": [
  {
   "cell_type": "code",
   "execution_count": 1,
   "metadata": {
    "collapsed": false
   },
   "outputs": [],
   "source": [
    "push!(LOAD_PATH, pwd())\n",
    "using LightGraphs, Distributions, PyPlot, TwoLevelGraphs,GraphGeneration,Epidemics"
   ]
  },
  {
   "cell_type": "markdown",
   "metadata": {},
   "source": [
    "# Two Level Graph"
   ]
  },
  {
   "cell_type": "markdown",
   "metadata": {},
   "source": [
    "#Generate random regular two level graph\n",
    "\n",
    "1) generate internal edges: simple regular graph\n",
    "\n",
    "2) generate external edges\n",
    "- repeat m times (for m nodes per cluster)\n",
    "- generate a random regular graph with a maximum allowable k which is divisible by m*r. Do this until there are m*r edges per supernode\n",
    "- randomly distribute the edges on a supernode among subnodes of that supernode\n",
    "\n",
    "3) How to avoid possible duplication of edges in step 2.3?"
   ]
  },
  {
   "cell_type": "code",
   "execution_count": 2,
   "metadata": {
    "collapsed": false
   },
   "outputs": [
    {
     "data": {
      "text/plain": [
       "TwoLevelGraphs.TwoLevel(Number[0,0,0,0,0,0,0,0,0,0,0],400,10,40,0,10,8)"
      ]
     },
     "execution_count": 2,
     "metadata": {},
     "output_type": "execute_result"
    }
   ],
   "source": [
    "N = 400\n",
    "m = 10\n",
    "n = Int(N/m)\n",
    "l = 8\n",
    "r = 10\n",
    "\n",
    "t = TwoLevel(N,m,l,r)"
   ]
  },
  {
   "cell_type": "code",
   "execution_count": 10,
   "metadata": {
    "collapsed": false
   },
   "outputs": [
    {
     "name": "stdout",
     "output_type": "stream",
     "text": [
      "removing 9 duplicate edges\n",
      "{400, 3600} undirected graph\n"
     ]
    }
   ],
   "source": [
    "G = generate_regular_two_level_graph(t)\n",
    "println(G)\n",
    "for v in vertices(G)\n",
    "    in_count = 0\n",
    "    out_count = 0\n",
    "    for w in neighbors(G,v)#[100]\n",
    "        if same_cluster(v,w,clusters)\n",
    "            in_count += 1\n",
    "        else\n",
    "            out_count += 1\n",
    "        end\n",
    "    end\n",
    "    if in_count != l || out_count != r\n",
    "        println(\"v: $v, in: $(in_count), out: $(out_count)\")\n",
    "    end\n",
    "#     assert(in_count == l)\n",
    "#     assert(out_count == r)\n",
    "end\n",
    "    \n",
    "    "
   ]
  },
  {
   "cell_type": "code",
   "execution_count": 4,
   "metadata": {
    "collapsed": false
   },
   "outputs": [
    {
     "data": {
      "text/plain": [
       "({400, 3635} undirected graph,[[1,2,3,4,5,6,7,8,9,10],[11,12,13,14,15,16,17,18,19,20],[21,22,23,24,25,26,27,28,29,30],[31,32,33,34,35,36,37,38,39,40],[41,42,43,44,45,46,47,48,49,50],[51,52,53,54,55,56,57,58,59,60],[61,62,63,64,65,66,67,68,69,70],[71,72,73,74,75,76,77,78,79,80],[81,82,83,84,85,86,87,88,89,90],[91,92,93,94,95,96,97,98,99,100]  …  [301,302,303,304,305,306,307,308,309,310],[311,312,313,314,315,316,317,318,319,320],[321,322,323,324,325,326,327,328,329,330],[331,332,333,334,335,336,337,338,339,340],[341,342,343,344,345,346,347,348,349,350],[351,352,353,354,355,356,357,358,359,360],[361,362,363,364,365,366,367,368,369,370],[371,372,373,374,375,376,377,378,379,380],[381,382,383,384,385,386,387,388,389,390],[391,392,393,394,395,396,397,398,399,400]])"
      ]
     },
     "execution_count": 4,
     "metadata": {},
     "output_type": "execute_result"
    }
   ],
   "source": [
    "G,clusters = make_two_level_random_graph(t)"
   ]
  },
  {
   "cell_type": "code",
   "execution_count": 4,
   "metadata": {
    "collapsed": false
   },
   "outputs": [
    {
     "ename": "LoadError",
     "evalue": "LoadError: UndefVarError: t not defined\nwhile loading In[4], in expression starting on line 1",
     "output_type": "error",
     "traceback": [
      "LoadError: UndefVarError: t not defined\nwhile loading In[4], in expression starting on line 1",
      "",
      " [inlined code] from In[4]:2",
      " in anonymous at no file:0"
     ]
    }
   ],
   "source": [
    "for i in 1:10\n",
    "edges = get_regular_edges_for_supergraph(t)\n",
    "if length(edges) - length(unique(edges)) > 0\n",
    "        println(sort(edges))\n",
    "        println(sort(remove_duplicate_superedges(edges)))\n",
    "end\n",
    "end"
   ]
  },
  {
   "cell_type": "code",
   "execution_count": 7,
   "metadata": {
    "collapsed": true
   },
   "outputs": [
    {
     "name": "stdout",
     "output_type": "stream",
     "text": [
      "v: 1, in: 0, out: 18\n",
      "v: 2, in: 0, out: 20\n",
      "v: 3, in: 0, out: 17\n",
      "v: 4, in: 0, out: 18\n",
      "v: 5, in: 0, out: 18\n",
      "v: 6, in: 0, out: 22\n",
      "v: 7, in: 0, out: 28\n",
      "v: 8, in: 0, out: 18\n",
      "v: 9, in: 0, out: 24\n",
      "v: 10, in: 0, out: 23\n",
      "v: 11, in: 0, out: 24\n",
      "v: 12, in: 0, out: 24\n",
      "v: 13, in: 0, out: 27\n",
      "v: 14, in: 0, out: 22\n",
      "v: 15, in: 0, out: 24\n",
      "v: 16, in: 0, out: 18\n",
      "v: 17, in: 0, out: 25\n",
      "v: 18, in: 0, out: 23\n",
      "v: 19, in: 0, out: 23\n",
      "v: 20, in: 0, out: 19\n",
      "v: 21, in: 0, out: 24\n",
      "v: 22, in: 0, out: 26\n",
      "v: 23, in: 0, out: 20\n",
      "v: 24, in: 0, out: 17\n",
      "v: 25, in: 0, out: 24\n",
      "v: 26, in: 0, out: 19\n",
      "v: 27, in: 0, out: 14\n",
      "v: 28, in: 0, out: 20\n",
      "v: 29, in: 0, out: 22\n",
      "v: 30, in: 0, out: 20\n",
      "v: 31, in: 0, out: 26\n",
      "v: 32, in: 0, out: 26\n",
      "v: 33, in: 0, out: 20\n",
      "v: 34, in: 0, out: 19\n",
      "v: 35, in: 0, out: 23\n",
      "v: 36, in: 0, out: 16\n",
      "v: 37, in: 0, out: 19\n",
      "v: 38, in: 0, out: 14\n",
      "v: 39, in: 0, out: 19\n",
      "v: 40, in: 0, out: 20\n",
      "v: 41, in: 0, out: 28\n",
      "v: 42, in: 0, out: 18\n",
      "v: 43, in: 0, out: 21\n",
      "v: 44, in: 0, out: 16\n",
      "v: 45, in: 0, out: 22\n",
      "v: 46, in: 0, out: 20\n",
      "v: 47, in: 0, out: 11\n",
      "v: 48, in: 0, out: 22\n",
      "v: 49, in: 0, out: 21\n",
      "v: 50, in: 0, out: 19\n",
      "v: 51, in: 0, out: 22\n",
      "v: 52, in: 0, out: 22\n",
      "v: 53, in: 0, out: 24\n",
      "v: 54, in: 0, out: 17\n",
      "v: 55, in: 0, out: 27\n",
      "v: 56, in: 0, out: 27\n",
      "v: 57, in: 0, out: 17\n",
      "v: 58, in: 0, out: 21\n",
      "v: 59, in: 0, out: 26\n",
      "v: 60, in: 0, out: 21\n",
      "v: 61, in: 0, out: 22\n",
      "v: 62, in: 0, out: 26\n",
      "v: 63, in: 0, out: 13\n",
      "v: 64, in: 0, out: 23\n",
      "v: 65, in: 0, out: 19\n",
      "v: 66, in: 0, out: 20\n",
      "v: 67, in: 0, out: 23\n",
      "v: 68, in: 0, out: 21\n",
      "v: 69, in: 0, out: 26\n",
      "v: 70, in: 0, out: 26\n",
      "v: 71, in: 0, out: 21\n",
      "v: 72, in: 0, out: 25\n",
      "v: 73, in: 0, out: 22\n",
      "v: 74, in: 0, out: 19\n",
      "v: 75, in: 0, out: 17\n",
      "v: 76, in: 0, out: 24\n",
      "v: 77, in: 0, out: 25\n",
      "v: 78, in: 0, out: 27\n",
      "v: 79, in: 0, out: 17\n",
      "v: 80, in: 0, out: 27\n",
      "v: 81, in: 0, out: 28\n",
      "v: 82, in: 0, out: 24\n",
      "v: 83, in: 0, out: 18\n",
      "v: 84, in: 0, out: 18\n",
      "v: 85, in: 0, out: 19\n",
      "v: 86, in: 0, out: 14\n",
      "v: 87, in: 0, out: 22\n",
      "v: 88, in: 0, out: 20\n",
      "v: 89, in: 0, out: 26\n",
      "v: 90, in: 0, out: 19\n",
      "v: 91, in: 0, out: 21\n",
      "v: 92, in: 0, out: 18\n",
      "v: 93, in: 0, out: 20\n",
      "v: 94, in: 0, out: 21\n",
      "v: 95, in: 0, out: 28\n",
      "v: 96, in: 0, out: 13\n",
      "v: 97, in: 0, out: 23\n",
      "v: 98, in: 0, out: 14\n",
      "v: 99, in: 0, out: 17\n",
      "v: 100, in: 0, out: 13\n",
      "v: 101, in: 0, out: 24\n",
      "v: 102, in: 0, out: 20\n",
      "v: 103, in: 0, out: 21\n",
      "v: 104, in: 0, out: 23\n",
      "v: 105, in: 0, out: 20\n",
      "v: 106, in: 0, out: 15\n",
      "v: 107, in: 0, out: 18\n",
      "v: 108, in: 0, out: 18\n",
      "v: 109, in: 0, out: 19\n",
      "v: 110, in: 0, out: 24\n",
      "v: 111, in: 0, out: 27\n",
      "v: 112, in: 0, out: 25\n",
      "v: 113, in: 0, out: 26\n",
      "v: 114, in: 0, out: 21\n",
      "v: 115, in: 0, out: 23\n",
      "v: 116, in: 0, out: 19\n",
      "v: 117, in: 0, out: 13\n",
      "v: 118, in: 0, out: 21\n",
      "v: 119, in: 0, out: 14\n",
      "v: 120, in: 0, out: 18\n",
      "v: 121, in: 0, out: 21\n",
      "v: 122, in: 0, out: 17\n",
      "v: 123, in: 0, out: 23\n",
      "v: 124, in: 0, out: 20\n",
      "v: 125, in: 0, out: 25\n",
      "v: 126, in: 0, out: 25\n",
      "v: 127, in: 0, out: 24\n",
      "v: 128, in: 0, out: 21\n",
      "v: 129, in: 0, out: 19\n",
      "v: 130, in: 0, out: 28\n",
      "v: 131, in: 0, out: 14\n",
      "v: 132, in: 0, out: 21\n",
      "v: 133, in: 0, out: 19\n",
      "v: 134, in: 0, out: 19\n",
      "v: 135, in: 0, out: 27\n",
      "v: 136, in: 0, out: 29\n",
      "v: 137, in: 0, out: 21\n",
      "v: 138, in: 0, out: 19\n",
      "v: 139, in: 0, out: 16\n",
      "v: 140, in: 0, out: 24\n",
      "v: 141, in: 0, out: 17\n",
      "v: 142, in: 0, out: 26\n",
      "v: 143, in: 0, out: 17\n",
      "v: 144, in: 0, out: 17\n",
      "v: 145, in: 0, out: 17\n",
      "v: 146, in: 0, out: 21\n",
      "v: 147, in: 0, out: 21\n",
      "v: 148, in: 0, out: 26\n",
      "v: 149, in: 0, out: 23\n",
      "v: 150, in: 0, out: 19\n",
      "v: 151, in: 0, out: 20\n",
      "v: 152, in: 0, out: 22\n",
      "v: 153, in: 0, out: 24\n",
      "v: 154, in: 0, out: 29\n",
      "v: 155, in: 0, out: 14\n",
      "v: 156, in: 0, out: 14\n",
      "v: 157, in: 0, out: 22\n",
      "v: 158, in: 0, out: 18\n",
      "v: 159, in: 0, out: 26\n",
      "v: 160, in: 0, out: 11\n",
      "v: 161, in: 0, out: 12\n",
      "v: 162, in: 0, out: 21\n",
      "v: 163, in: 0, out: 21\n",
      "v: 164, in: 0, out: 22\n",
      "v: 165, in: 0, out: 19\n",
      "v: 166, in: 0, out: 18\n",
      "v: 167, in: 0, out: 17\n",
      "v: 168, in: 0, out: 27\n",
      "v: 169, in: 0, out: 26\n",
      "v: 170, in: 0, out: 25\n",
      "v: 171, in: 0, out: 15\n",
      "v: 172, in: 0, out: 25\n",
      "v: 173, in: 0, out: 23\n",
      "v: 174, in: 0, out: 17\n",
      "v: 175, in: 0, out: 20\n",
      "v: 176, in: 0, out: 20\n",
      "v: 177, in: 0, out: 16\n",
      "v: 178, in: 0, out: 22\n",
      "v: 179, in: 0, out: 22\n",
      "v: 180, in: 0, out: 18\n",
      "v: 181, in: 0, out: 21\n",
      "v: 182, in: 0, out: 16\n",
      "v: 183, in: 0, out: 23\n",
      "v: 184, in: 0, out: 23\n",
      "v: 185, in: 0, out: 21\n",
      "v: 186, in: 0, out: 27\n",
      "v: 187, in: 0, out: 19\n",
      "v: 188, in: 0, out: 18\n",
      "v: 189, in: 0, out: 29\n",
      "v: 190, in: 0, out: 10\n",
      "v: 191, in: 0, out: 21\n",
      "v: 192, in: 0, out: 24\n",
      "v: 193, in: 0, out: 16\n",
      "v: 194, in: 0, out: 14\n",
      "v: 195, in: 0, out: 14\n",
      "v: 196, in: 0, out: 17\n",
      "v: 197, in: 0, out: 16\n",
      "v: 198, in: 0, out: 25\n",
      "v: 199, in: 0, out: 22\n",
      "v: 200, in: 0, out: 21\n",
      "v: 201, in: 0, out: 22\n",
      "v: 202, in: 0, out: 13\n",
      "v: 203, in: 0, out: 23\n",
      "v: 204, in: 0, out: 14\n",
      "v: 205, in: 0, out: 20\n",
      "v: 206, in: 0, out: 20\n",
      "v: 207, in: 0, out: 19\n",
      "v: 208, in: 0, out: 27\n",
      "v: 209, in: 0, out: 28\n",
      "v: 210, in: 0, out: 25\n",
      "v: 211, in: 0, out: 21\n",
      "v: 212, in: 0, out: 21\n",
      "v: 213, in: 0, out: 23\n",
      "v: 214, in: 0, out: 22\n",
      "v: 215, in: 0, out: 24\n",
      "v: 216, in: 0, out: 14\n",
      "v: 217, in: 0, out: 17\n",
      "v: 218, in: 0, out: 28\n",
      "v: 219, in: 0, out: 20\n",
      "v: 220, in: 0, out: 26\n",
      "v: 221, in: 0, out: 20\n",
      "v: 222, in: 0, out: 17\n",
      "v: 223, in: 0, out: 17\n",
      "v: 224, in: 0, out: 12\n",
      "v: 225, in: 0, out: 24\n",
      "v: 226, in: 0, out: 18\n",
      "v: 227, in: 0, out: 24\n",
      "v: 228, in: 0, out: 22\n",
      "v: 229, in: 0, out: 21\n",
      "v: 230, in: 0, out: 24\n",
      "v: 231, in: 0, out: 21\n",
      "v: 232, in: 0, out: 22\n",
      "v: 233, in: 0, out: 17\n",
      "v: 234, in: 0, out: 19\n",
      "v: 235, in: 0, out: 28\n",
      "v: 236, in: 0, out: 22\n",
      "v: 237, in: 0, out: 19\n",
      "v: 238, in: 0, out: 30\n",
      "v: 239, in: 0, out: 23\n",
      "v: 240, in: 0, out: 15\n",
      "v: 241, in: 0, out: 23\n",
      "v: 242, in: 0, out: 26\n",
      "v: 243, in: 0, out: 20\n",
      "v: 244, in: 0, out: 24\n",
      "v: 245, in: 0, out: 22\n",
      "v: 246, in: 0, out: 21\n",
      "v: 247, in: 0, out: 18\n",
      "v: 248, in: 0, out: 23\n",
      "v: 249, in: 0, out: 27\n",
      "v: 250, in: 0, out: 19\n",
      "v: 251, in: 0, out: 11\n",
      "v: 252, in: 0, out: 20\n",
      "v: 253, in: 0, out: 20\n",
      "v: 254, in: 0, out: 18\n",
      "v: 255, in: 0, out: 18\n",
      "v: 256, in: 0, out: 24\n",
      "v: 257, in: 0, out: 20\n",
      "v: 258, in: 0, out: 19\n",
      "v: 259, in: 0, out: 25\n",
      "v: 260, in: 0, out: 17\n",
      "v: 261, in: 0, out: 17\n",
      "v: 262, in: 0, out: 22\n",
      "v: 263, in: 0, out: 26\n",
      "v: 264, in: 0, out: 18\n",
      "v: 265, in: 0, out: 18\n",
      "v: 266, in: 0, out: 18\n",
      "v: 267, in: 0, out: 17\n",
      "v: 268, in: 0, out: 20\n",
      "v: 269, in: 0, out: 21\n",
      "v: 270, in: 0, out: 21\n",
      "v: 271, in: 0, out: 16\n",
      "v: 272, in: 0, out: 17\n",
      "v: 273, in: 0, out: 16\n",
      "v: 274, in: 0, out: 24\n",
      "v: 275, in: 0, out: 16\n",
      "v: 276, in: 0, out: 19\n",
      "v: 277, in: 0, out: 29\n",
      "v: 278, in: 0, out: 22\n",
      "v: 279, in: 0, out: 21\n",
      "v: 280, in: 0, out: 20\n",
      "v: 281, in: 0, out: 23\n",
      "v: 282, in: 0, out: 29\n",
      "v: 283, in: 0, out: 16\n",
      "v: 284, in: 0, out: 19\n",
      "v: 285, in: 0, out: 23\n",
      "v: 286, in: 0, out: 23\n",
      "v: 287, in: 0, out: 18\n",
      "v: 288, in: 0, out: 18\n",
      "v: 289, in: 0, out: 14\n",
      "v: 290, in: 0, out: 24\n",
      "v: 291, in: 0, out: 23\n",
      "v: 292, in: 0, out: 20\n",
      "v: 293, in: 0, out: 17\n",
      "v: 294, in: 0, out: 18\n",
      "v: 295, in: 0, out: 14\n",
      "v: 296, in: 0, out: 19\n",
      "v: 297, in: 0, out: 17\n",
      "v: 298, in: 0, out: 16\n",
      "v: 299, in: 0, out: 9\n",
      "v: 300, in: 0, out: 25\n",
      "v: 301, in: 0, out: 24\n",
      "v: 302, in: 0, out: 21\n",
      "v: 303, in: 0, out: 27\n",
      "v: 304, in: 0, out: 21\n",
      "v: 305, in: 0, out: 25\n",
      "v: 306, in: 0, out: 21\n",
      "v: 307, in: 0, out: 25\n",
      "v: 308, in: 0, out: 19\n",
      "v: 309, in: 0, out: 25\n",
      "v: 310, in: 0, out: 22\n",
      "v: 311, in: 0, out: 16\n",
      "v: 312, in: 0, out: 20\n",
      "v: 313, in: 0, out: 25\n",
      "v: 314, in: 0, out: 25\n",
      "v: 315, in: 0, out: 27\n",
      "v: 316, in: 0, out: 23\n",
      "v: 317, in: 0, out: 23\n",
      "v: 318, in: 0, out: 23\n",
      "v: 319, in: 0, out: 12\n",
      "v: 320, in: 0, out: 22\n",
      "v: 321, in: 0, out: 25\n",
      "v: 322, in: 0, out: 20\n",
      "v: 323, in: 0, out: 24\n",
      "v: 324, in: 0, out: 16\n",
      "v: 325, in: 0, out: 16\n",
      "v: 326, in: 0, out: 20\n",
      "v: 327, in: 0, out: 23\n",
      "v: 328, in: 0, out: 22\n",
      "v: 329, in: 0, out: 20\n",
      "v: 330, in: 0, out: 26\n",
      "v: 331, in: 0, out: 25\n",
      "v: 332, in: 0, out: 21\n",
      "v: 333, in: 0, out: 30\n",
      "v: 334, in: 0, out: 24\n",
      "v: 335, in: 0, out: 18\n",
      "v: 336, in: 0, out: 17\n",
      "v: 337, in: 0, out: 27\n",
      "v: 338, in: 0, out: 24\n",
      "v: 339, in: 0, out: 19\n",
      "v: 340, in: 0, out: 27\n",
      "v: 341, in: 0, out: 22\n",
      "v: 342, in: 0, out: 21\n",
      "v: 343, in: 0, out: 17\n",
      "v: 344, in: 0, out: 31\n",
      "v: 345, in: 0, out: 30\n",
      "v: 346, in: 0, out: 20\n",
      "v: 347, in: 0, out: 19\n",
      "v: 348, in: 0, out: 12\n",
      "v: 349, in: 0, out: 29\n",
      "v: 350, in: 0, out: 18\n",
      "v: 351, in: 0, out: 23\n",
      "v: 352, in: 0, out: 18\n",
      "v: 353, in: 0, out: 21\n",
      "v: 354, in: 0, out: 25\n",
      "v: 355, in: 0, out: 16\n",
      "v: 356, in: 0, out: 25\n",
      "v: 357, in: 0, out: 20\n",
      "v: 358, in: 0, out: 12\n",
      "v: 359, in: 0, out: 19\n",
      "v: 360, in: 0, out: 20\n",
      "v: 361, in: 0, out: 20\n",
      "v: 362, in: 0, out: 29\n",
      "v: 363, in: 0, out: 22\n",
      "v: 364, in: 0, out: 24\n",
      "v: 365, in: 0, out: 16\n",
      "v: 366, in: 0, out: 19\n",
      "v: 367, in: 0, out: 23\n",
      "v: 368, in: 0, out: 27\n",
      "v: 369, in: 0, out: 21\n",
      "v: 370, in: 0, out: 22\n",
      "v: 371, in: 0, out: 25\n",
      "v: 372, in: 0, out: 15\n",
      "v: 373, in: 0, out: 22\n",
      "v: 374, in: 0, out: 21\n",
      "v: 375, in: 0, out: 29\n",
      "v: 376, in: 0, out: 20\n",
      "v: 377, in: 0, out: 22\n",
      "v: 378, in: 0, out: 18\n",
      "v: 379, in: 0, out: 24\n",
      "v: 380, in: 0, out: 18\n",
      "v: 381, in: 0, out: 22\n",
      "v: 382, in: 0, out: 26\n",
      "v: 383, in: 0, out: 18\n",
      "v: 384, in: 0, out: 22\n",
      "v: 385, in: 0, out: 24\n",
      "v: 386, in: 0, out: 22\n",
      "v: 387, in: 0, out: 20\n",
      "v: 388, in: 0, out: 22\n",
      "v: 389, in: 0, out: 16\n",
      "v: 390, in: 0, out: 13\n",
      "v: 391, in: 0, out: 18\n",
      "v: 392, in: 0, out: 26\n",
      "v: 393, in: 0, out: 19\n",
      "v: 394, in: 0, out: 23\n",
      "v: 395, in: 0, out: 20\n",
      "v: 396, in: 0, out: 27\n",
      "v: 397, in: 0, out: 32\n",
      "v: 398, in: 0, out: 15\n",
      "v: 399, in: 0, out: 20\n",
      "v: 400, in: 0, out: 26\n",
      "Tot: in: 0.0, out: 20.92\n",
      "edges: 4184 should be 4200.0\n"
     ]
    }
   ],
   "source": [
    "tot_in_count = 0\n",
    "tot_out_count = 0\n",
    "\n",
    "for v in vertices(G)\n",
    "    in_count = 0\n",
    "    out_count = 0\n",
    "    for w in neighbors(G,v)#[100]\n",
    "        if same_cluster(v,w,clusters)\n",
    "            in_count += 1\n",
    "        else\n",
    "            out_count += 1\n",
    "        end\n",
    "    end\n",
    "    tot_in_count += in_count\n",
    "    tot_out_count += out_count\n",
    "#     if in_count != l || out_count != r\n",
    "        println(\"v: $v, in: $(in_count), out: $(out_count)\")\n",
    "#     end\n",
    "#     assert(in_count == l)\n",
    "#     assert(out_count == r)\n",
    "end\n",
    "\n",
    "println(\"Tot: in: $(tot_in_count/length(vertices(G))), out: $(tot_out_count/length(vertices(G)))\")\n",
    "println(\"edges: $(length(collect(edges(G)))) should be $(N*(l+r)/2)\")"
   ]
  },
  {
   "cell_type": "code",
   "execution_count": 39,
   "metadata": {
    "collapsed": false
   },
   "outputs": [
    {
     "name": "stdout",
     "output_type": "stream",
     "text": [
      "15\n"
     ]
    },
    {
     "data": {
      "text/plain": [
       "15-element Array{Any,1}:\n",
       " 1=>2\n",
       " 1=>2\n",
       " 1=>2\n",
       " 1=>2\n",
       " 1=>2\n",
       " 1=>2\n",
       " 1=>2\n",
       " 1=>2\n",
       " 1=>2\n",
       " 1=>2\n",
       " 1=>2\n",
       " 1=>2\n",
       " 1=>2\n",
       " 1=>2\n",
       " 1=>2"
      ]
     },
     "execution_count": 39,
     "metadata": {},
     "output_type": "execute_result"
    }
   ],
   "source": [
    "get_regular_edges_for_supergraph(10,5,2,3)"
   ]
  },
  {
   "cell_type": "markdown",
   "metadata": {},
   "source": [
    "# Specified Degree Distribution"
   ]
  },
  {
   "cell_type": "code",
   "execution_count": 2,
   "metadata": {
    "collapsed": false
   },
   "outputs": [
    {
     "data": {
      "text/plain": [
       "Distributions.Gamma{Float64}(α=0.25, θ=40.0)"
      ]
     },
     "execution_count": 2,
     "metadata": {},
     "output_type": "execute_result"
    }
   ],
   "source": [
    "mu = 10\n",
    "sigma = 20\n",
    "\n",
    "function get_gamma_params(mu,sigma)\n",
    "    k = mu^2/sigma^2\n",
    "    theta = sigma^2/mu\n",
    "    return k,theta\n",
    "end\n",
    "\n",
    "k,theta = get_gamma_params(mu,sigma)\n",
    "\n",
    "d = Gamma(k,theta)"
   ]
  },
  {
   "cell_type": "code",
   "execution_count": 3,
   "metadata": {
    "collapsed": false
   },
   "outputs": [
    {
     "name": "stdout",
     "output_type": "stream",
     "text": [
      "  3.196963 seconds (9.34 M allocations: 290.976 MB, 11.80% gc time)\n"
     ]
    },
    {
     "data": {
      "text/plain": [
       "{2000, 10550} undirected graph"
      ]
     },
     "execution_count": 3,
     "metadata": {},
     "output_type": "execute_result"
    }
   ],
   "source": [
    "@time g= graph_from_gamma_distribution(2000,10,15)"
   ]
  },
  {
   "cell_type": "code",
   "execution_count": 4,
   "metadata": {
    "collapsed": false
   },
   "outputs": [
    {
     "name": "stdout",
     "output_type": "stream",
     "text": [
      "9.955248335183866\n"
     ]
    },
    {
     "data": {
      "image/png": "[encoded data removed]",
      "text/plain": [
       "PyPlot.Figure(PyObject <matplotlib.figure.Figure object at 0x314642b90>)"
      ]
     },
     "metadata": {},
     "output_type": "display_data"
    },
    {
     "name": "stdout",
     "output_type": "stream",
     "text": [
      "19.813793299182752\n"
     ]
    }
   ],
   "source": [
    "samples = rand(d,100000)\n",
    "println(mean(samples))\n",
    "println(std(samples))\n",
    "bins = logspace(log10(minimum(samples)+1e-12),log10(maximum(samples)),100)\n",
    "\n",
    "PyPlot.plt[:hist](samples,bins=bins,normed=true,log=true);\n",
    "xscale(\"log\")"
   ]
  },
  {
   "cell_type": "code",
   "execution_count": 4,
   "metadata": {
    "collapsed": false
   },
   "outputs": [
    {
     "data": {
      "image/png": "[encoded data removed]",
      "text/plain": [
       "PyPlot.Figure(PyObject <matplotlib.figure.Figure object at 0x317f8cb90>)"
      ]
     },
     "metadata": {},
     "output_type": "display_data"
    }
   ],
   "source": [
    "# g= graph_from_degree_distribution(d,10000)\n",
    "g= graph_from_gamma_distribution(2000,mu,sigma)\n",
    "p_k = get_p_k_gamma(sigma,mu,3)\n",
    "ks = degree(g)\n",
    "bins = logspace(log10(minimum(ks))-2,log10(maximum(ks)),100)\n",
    "PyPlot.plt[:hist](rand(d,2000),bins=bins,normed=true,alpha=0.5,log=true);\n",
    "PyPlot.plt[:hist](ks,bins=bins,normed=true,alpha=0.5,log=true);\n",
    "k_range = 1:maximum(ks)\n",
    "plot(k_range,[p_k(_) for _ in k_range])\n",
    "xscale(\"log\")"
   ]
  },
  {
   "cell_type": "code",
   "execution_count": 6,
   "metadata": {
    "collapsed": false
   },
   "outputs": [
    {
     "data": {
      "text/plain": [
       "4-element Array{ASCIIString,1}:\n",
       " \"a\"\n",
       " \"b\"\n",
       " \"a\"\n",
       " \"b\""
      ]
     },
     "execution_count": 6,
     "metadata": {},
     "output_type": "execute_result"
    }
   ],
   "source": [
    "colors = [\"a\",\"b\"]\n",
    "repmat(colors,2)"
   ]
  },
  {
   "cell_type": "code",
   "execution_count": 5,
   "metadata": {
    "collapsed": false
   },
   "outputs": [
    {
     "ename": "LoadError",
     "evalue": "LoadError: UndefVarError: ks not defined\nwhile loading In[5], in expression starting on line 1",
     "output_type": "error",
     "traceback": [
      "LoadError: UndefVarError: ks not defined\nwhile loading In[5], in expression starting on line 1",
      ""
     ]
    }
   ],
   "source": [
    "mean(ks)\n",
    "# sum(ks .== 0)\n",
    "# length(ks)"
   ]
  },
  {
   "cell_type": "code",
   "execution_count": 15,
   "metadata": {
    "collapsed": false
   },
   "outputs": [
    {
     "data": {
      "image/png": "[encoded data removed]",
      "text/plain": [
       "PyPlot.Figure(PyObject <matplotlib.figure.Figure object at 0x31b81add0>)"
      ]
     },
     "metadata": {},
     "output_type": "display_data"
    }
   ],
   "source": [
    "Cs = local_clustering_coefficient(g)\n",
    "bins = logspace(log10(minimum(Cs)+1e-3),log10(maximum(Cs)),100)\n",
    "# PyPlot.plt[:hist](rand(d,2000),bins=bins,normed=true,alpha=0.5,log=true);\n",
    "PyPlot.plt[:hist](Cs,bins=bins,normed=true,alpha=0.5,log=true);\n",
    "xscale(\"log\")"
   ]
  },
  {
   "cell_type": "code",
   "execution_count": 16,
   "metadata": {
    "collapsed": false
   },
   "outputs": [
    {
     "data": {
      "text/plain": [
       "0.004351515151515151"
      ]
     },
     "execution_count": 16,
     "metadata": {},
     "output_type": "execute_result"
    }
   ],
   "source": [
    "mean(Cs)"
   ]
  },
  {
   "cell_type": "code",
   "execution_count": null,
   "metadata": {
    "collapsed": true
   },
   "outputs": [],
   "source": []
  }
 ],
 "metadata": {
  "kernelspec": {
   "display_name": "Julia 0.5.0",
   "language": "julia",
   "name": "julia-0.5"
  },
  "language_info": {
   "file_extension": ".jl",
   "mimetype": "application/julia",
   "name": "julia",
   "version": "0.5.0"
  },
  "latex_envs": {
   "bibliofile": "biblio.bib",
   "cite_by": "apalike",
   "current_citInitial": 1,
   "eqLabelWithNumbers": true,
   "eqNumInitial": 0
  }
 },
 "nbformat": 4,
 "nbformat_minor": 0
}
