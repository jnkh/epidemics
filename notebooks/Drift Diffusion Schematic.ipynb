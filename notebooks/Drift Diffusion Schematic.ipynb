{
 "cells": [
  {
   "cell_type": "code",
   "execution_count": 1,
   "metadata": {
    "collapsed": false
   },
   "outputs": [],
   "source": [
    "from graph_reciprocity import *\n",
    "from nonlinear_selection import *\n",
    "from graph_epidemic import *\n",
    "%load_ext autoreload\n",
    "%autoreload 2"
   ]
  },
  {
   "cell_type": "code",
   "execution_count": 3,
   "metadata": {
    "collapsed": false
   },
   "outputs": [],
   "source": [
    "def plot_schematic(n_n,c_r,N,k_sparse=N-1):\n",
    "    \n",
    "    beta = 4.0/(c_r*n_n)\n",
    "    alpha = (N*beta)/n_n\n",
    "    print N,alpha,beta\n",
    "\n",
    "    y_n, y_minus,y_plus,y_p,critical_determinant = get_parameters(N,alpha,beta)\n",
    "    def f(y):\n",
    "        return alpha*y**2\n",
    "\n",
    "    def s(y):\n",
    "        return f(y)/y - beta\n",
    "\n",
    "    y_range = arange(0,1.2*y_p,0.001)\n",
    "    close(1)\n",
    "    figure(1)\n",
    "    plot(y_range,1.0/abs(N*s(y_range)),'-r',label=r'$\\frac{1}{N|s(y)|}$')\n",
    "    plot(y_range,y_range,'-k',label=r'$y$')\n",
    "    axvline(y_n,linestyle='--',label=r'$y_n$')\n",
    "    axvline(y_p,linestyle='-',label=r'$y_p$')\n",
    "    if y_minus > 0:\n",
    "        axvline(y_minus,linestyle='-.',label=r'$y_-$')\n",
    "        axvline(y_plus,linestyle='-.',label=r'$y_+$')\n",
    "    ylim([0,2*max(y_range)])\n",
    "    legend(prop={'size':20},loc='upper left')\n",
    "    xlabel(r'$y$',size=20)"
   ]
  },
  {
   "cell_type": "code",
   "execution_count": 19,
   "metadata": {
    "collapsed": false
   },
   "outputs": [
    {
     "name": "stdout",
     "output_type": "stream",
     "text": [
      "100 7.8125 0.625\n",
      "y_n = 0.08, y_- = 0.02211145618, y_+ = 0.05788854382, y_p = 0.09366563146, critical determinant = 0.8\n",
      "n_n = 8.0\n"
     ]
    }
   ],
   "source": [
    "def f(y):\n",
    "    return alpha*y**2\n",
    "\n",
    "def s(y):\n",
    "    return f(y)/y - beta\n",
    "\n",
    "\n",
    "def get_y_eff(y,k):\n",
    "    return y*(1 + (1-y)/(y*k))\n",
    "\n",
    "def get_s_eff(y,alpha,beta,k):\n",
    "    return alpha*get_y_eff(y,k) - beta\n",
    "\n",
    "\n",
    "\n",
    "n_n = 8\n",
    "c_r = 0.8\n",
    "N = 100\n",
    "beta = 4/(c_r*n_n)\n",
    "alpha = (N*beta)/n_n\n",
    "print N,alpha,beta\n",
    "\n",
    "y_n, y_minus,y_plus,y_p,critical_determinant = get_parameters(N,alpha,beta)\n",
    "\n"
   ]
  },
  {
   "cell_type": "code",
   "execution_count": 20,
   "metadata": {
    "collapsed": false
   },
   "outputs": [
    {
     "name": "stderr",
     "output_type": "stream",
     "text": [
      "ERROR: Line magic function `%inline` not found.\n",
      "/Users/julian/anaconda/lib/python2.7/site-packages/ipykernel/__main__.py:12: RuntimeWarning: invalid value encountered in divide\n",
      "/Users/julian/anaconda/lib/python2.7/site-packages/ipykernel/__main__.py:17: RuntimeWarning: divide by zero encountered in divide\n"
     ]
    },
    {
     "name": "stdout",
     "output_type": "stream",
     "text": [
      "100 7.8125 0.625\n",
      "y_n = 0.08, y_- = 0.02211145618, y_+ = 0.05788854382, y_p = 0.09366563146, critical determinant = 0.8\n",
      "n_n = 8.0\n"
     ]
    }
   ],
   "source": [
    "%inline\n",
    "plot_schematic(n_n,c_r,N,k_sparse=N-1)\n",
    "show()"
   ]
  },
  {
   "cell_type": "code",
   "execution_count": 10,
   "metadata": {
    "collapsed": false
   },
   "outputs": [],
   "source": [
    "ioff()"
   ]
  },
  {
   "cell_type": "code",
   "execution_count": 13,
   "metadata": {
    "collapsed": false
   },
   "outputs": [],
   "source": [
    "plot(1)\n",
    "show()"
   ]
  },
  {
   "cell_type": "code",
   "execution_count": null,
   "metadata": {
    "collapsed": true
   },
   "outputs": [],
   "source": []
  }
 ],
 "metadata": {
  "kernelspec": {
   "display_name": "Python [default]",
   "language": "python",
   "name": "python2"
  },
  "language_info": {
   "codemirror_mode": {
    "name": "ipython",
    "version": 2
   },
   "file_extension": ".py",
   "mimetype": "text/x-python",
   "name": "python",
   "nbconvert_exporter": "python",
   "pygments_lexer": "ipython2",
   "version": "2.7.12"
  },
  "latex_envs": {
   "LaTeX_envs_menu_present": true,
   "bibliofile": "biblio.bib",
   "cite_by": "apalike",
   "current_citInitial": 1,
   "eqLabelWithNumbers": true,
   "eqNumInitial": 1,
   "labels_anchors": false,
   "latex_user_defs": false,
   "report_style_numbering": false,
   "user_envs_cfg": false
  }
 },
 "nbformat": 4,
 "nbformat_minor": 0
}
