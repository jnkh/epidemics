{
 "cells": [
  {
   "cell_type": "markdown",
   "metadata": {},
   "source": [
    "We imagine a graph with a degree distribution made up as\n",
    "$$P(k') = p_1 \\delta(k_1 - k') + p_2 \\delta(k_2 - k')$$\n",
    ", i.e. only two degrees are allowed, one lower (1) and one higher (2). This means that\n",
    "$$\\bar{k} = p_1 k_1 + p_2 k_2$$\n",
    "and\n",
    "$$Var[k] = p_1 k_1^2 + p_2 k_2^2 - \\bar{k}^2$$\n",
    "\n",
    "In order to find the death and birth rates, we need to find the distribution of $\\tilde{y}_k$, i.e. the value of $y$ as seen by a given node of degree $k$.\n",
    "\n",
    "Now, for a node of degree $k'$, it will have $k_1'$ edges to other nodes of degree $k_1$, and $k_2' = k' - k_1'$ edges to other nodes of degree $k_2$. $k_1'$ is distributed as\n",
    "$$k_1' \\sim Binom(k,p_{1|k})$$\n",
    "where $p_{k''|k}$ is the neighbor degree distribution, and $p_{1|k}$ is the probability that a neighboring node has the lower degree $k_1$. We will assume that $p_{k''|k} = \\frac{k'' p_{k''}}{\\bar{k}}$\n",
    "\n",
    "Given $k_1'$, the number of infecteds seen among those edges leading to other nodes of degree $k_1$ is given by\n",
    "$$i_{1|k} \\sim Binom(k_1',y_1)$$\n",
    "$$i_{2|k} \\sim Binom(k - k_1',y_2)$$\n",
    "where $y_1 = n_1/N_1$ is the fraction of lower degree nodes that are currently infected.\n",
    "\n",
    "Thus we have\n",
    "$\\tilde{y}_k = \\frac{i_{1|k} + i_{2|k}}{k_1' + k_2'} =\\frac{i_{1|k} + i_{2|k}}{k} $\n",
    "We calculate the expectations of $\\tilde{y}_k$ by first computing the expectations conditioned on $k_1'$, and then taking expectations over the distribution of $k_1'$ (Law of Total Expectation).\n",
    "\n",
    "The expectations of $k_1'$ and $k_1'^2$ are \n",
    "$$E[k_1'] = k p_{1|k}$$\n",
    "$$E[k_1'^2] = k^2 p_{1|k}^2 + k p_{1|k} (1 - p_{1|k})$$\n",
    "\n",
    "\n",
    "We thus obtain\n",
    "$$E[i_{1|k} | k_1'] = k_1' y_1$$\n",
    "$$E[i_{1|k}] = k p_{1|k} y_1$$\n",
    "and therefore\n",
    "$$E[\\tilde{y}_k] = p_{1|k} y_1 + p_{2|k} y_2$$\n",
    "\n",
    "Similarly, we have\n",
    "$$E[\\tilde{y}^2_k] =  \\frac{1}{k^2} \\left( k_1'^2 y_1^2 + k_1' y_1 (1- y_1) + 2 y_1 y_2 (k k_1' - k_1'^2) + (k^2 - 2 k k_1' + k_1'^2) y_2^2 + (k - k_1') y_2 (1 - y_2)  \\right)$$\n",
    "where we replace all instances of $k_1'$ and $k_1'^2$ with their expectations to obtain the final expression as a function of only $y_{1/2}$ and $p_{1/2 | k}$.\n"
   ]
  },
  {
   "cell_type": "code",
   "execution_count": 1,
   "metadata": {
    "collapsed": false
   },
   "outputs": [],
   "source": [
    "push!(LOAD_PATH, pwd()*\"/..\")\n",
    "using LightGraphs, Epidemics, GraphGeneration,IM, TwoDegree\n",
    "using GraphGeneration\n",
    "using NLsolve, Dierckx\n",
    "using PyPlot, Distributions\n",
    "using DegreeDistribution"
   ]
  },
  {
   "cell_type": "code",
   "execution_count": 2,
   "metadata": {
    "collapsed": false
   },
   "outputs": [
    {
     "name": "stdout",
     "output_type": "stream",
     "text": [
      "8.265 13.343909652423081\n"
     ]
    }
   ],
   "source": [
    "N = 400\n",
    "kbar = 10\n",
    "sigmak = 15\n",
    "# tdp = compute_two_degree_params(kbar,sigmak)\n",
    "# println(tdp)\n",
    "# compute_k_sigma_k(tdp)\n",
    "g = graph_from_two_degree_distribution(N,kbar,sigmak)\n",
    "# g = graph_from_gamma_distribution(N,kbar,sigmak)\n",
    "dg = degree(g)\n",
    "println(mean(dg), \" \" , std(dg))\n",
    "# println(dg)"
   ]
  },
  {
   "cell_type": "code",
   "execution_count": 3,
   "metadata": {
    "collapsed": false
   },
   "outputs": [
    {
     "data": {
      "text/plain": [
       "99"
      ]
     },
     "execution_count": 3,
     "metadata": {},
     "output_type": "execute_result"
    }
   ],
   "source": [
    "p_1 = 0.5\n",
    "p_2 = 0.5\n",
    "k_1 = 5\n",
    "k_2 = 21\n",
    "tdp = TwoDegreeParams(k_1,k_2,p_1,p_2)\n",
    "N = 99"
   ]
  },
  {
   "cell_type": "code",
   "execution_count": 4,
   "metadata": {
    "collapsed": false
   },
   "outputs": [
    {
     "ename": "LoadError",
     "evalue": "UndefVarError: get_degrees_from_p_k not defined",
     "output_type": "error",
     "traceback": [
      "UndefVarError: get_degrees_from_p_k not defined",
      ""
     ]
    }
   ],
   "source": [
    "g = graph_from_two_degree_distribution(tdp,40)\n",
    "p_k = get_p_k_two_degree(tdp)\n",
    "degrees = get_degrees_from_p_k(p_k,N)"
   ]
  },
  {
   "cell_type": "markdown",
   "metadata": {},
   "source": [
    "## Run a well mixed simulation keeping track of $n_1$ and $n_2$"
   ]
  },
  {
   "cell_type": "code",
   "execution_count": 14,
   "metadata": {
    "collapsed": false
   },
   "outputs": [
    {
     "name": "stdout",
     "output_type": "stream",
     "text": [
      "N=2000, alpha = 0.6666666666666667, beta = 0.06666666666666667\n",
      "20824158\n",
      "GraphGeneration.TwoDegreeParams(3,67,0.890625,0.109375)\n"
     ]
    }
   ],
   "source": [
    "N = 2000\n",
    "k = 10\n",
    "sigmak = 20\n",
    "\n",
    "trials = 100000\n",
    "\n",
    "tdp = compute_two_degree_params(k,sigmak)\n",
    "\n",
    "\n",
    "y_n = 0.1\n",
    "c_r = 0.3#0.18\n",
    "n_n = y_n*N#10#80#y_n*N\n",
    "beta = 4.0/(c_r*n_n)\n",
    "alpha = (N*beta)/n_n\n",
    "# alpha,beta = 0.0,0.0\n",
    "println(\"N=$N, alpha = $alpha, beta = $beta\")\n",
    "\n",
    "im = InfectionModel(x -> 1 + alpha*x , x -> 1 + beta);\n",
    "\n",
    "yy,pp,tuples = get_p_reach_well_mixed_two_degree_simulation(alpha,beta,N,tdp,trials)\n",
    "y_arr,y1_arr,y2_arr = compute_y1_y2_vs_y(tuples,N)\n",
    "\n",
    "# tuples = []\n",
    "\n",
    "# for i = 1:100000\n",
    "#     _,_,tup = get_p_reach_well_mixed_two_degree_simulation(alpha,beta,N,tdp,1)\n",
    "#     push!(tuples,tup[1])\n",
    "# end\n",
    "# y_arr,y1_arr,y2_arr = compute_y1_y2_vs_y(tuples,N)\n",
    "    \n",
    "println(length(tuples))\n",
    "println(tdp)"
   ]
  },
  {
   "cell_type": "code",
   "execution_count": 33,
   "metadata": {
    "collapsed": false
   },
   "outputs": [],
   "source": [
    "min_degree= 3\n",
    "degr_distr = get_p_k_two_degree(compute_two_degree_params(k,sigmak,min_degree))\n",
    "p_k,p_k_neighbor,mean_k = get_p_k_as_vec(degr_distr,N)\n",
    "y_desired_range = logspace(log10(1/N),0,5)\n",
    "y_1_range = zeros(y_desired_range)\n",
    "y_2_range = zeros(y_desired_range)\n",
    "for (i,y_desired_curr) in enumerate(y_desired_range)\n",
    "    y_k_curr = get_y_k_equilibrium(y_desired_curr,N,p_k,p_k_neighbor,alpha,beta)[1:end-1]\n",
    "    y_k_curr = y_k_curr[p_k .> 0]\n",
    "    y_1_range[i] = y_k_curr[1]\n",
    "    y_2_range[i] = y_k_curr[2]\n",
    "end"
   ]
  },
  {
   "cell_type": "code",
   "execution_count": 80,
   "metadata": {
    "collapsed": false
   },
   "outputs": [
    {
     "data": {
      "image/png": "[encoded data removed]",
      "text/plain": [
       "PyPlot.Figure(PyObject <matplotlib.figure.Figure object at 0x32bb30e10>)"
      ]
     },
     "metadata": {},
     "output_type": "display_data"
    }
   ],
   "source": [
    "\n",
    "semilogx(y_desired_range,y_1_range./y_desired_range,\"--b\",label=\"equil. th.\")\n",
    "semilogx(y_desired_range,y_2_range./y_desired_range,\"--g\",label=\"equil. th.\")\n",
    "\n",
    "# semilogx(y_arr,y_1_fn(y_arr)./y_arr,\"b\",label=L\"y_1/y\")\n",
    "# semilogx(y_arr,y_2_fn(y_arr)./y_arr,\"b\",label=L\"y_1/y\")\n",
    "\n",
    "semilogx(y_arr,y1_arr./y_arr,\"b\",label=L\"y_1/y\")\n",
    "plot(y_arr,y2_arr./y_arr,\"g\",label=L\"y_2/y\")\n",
    "axhline(1,color=\"k\",linestyle=\"--\")\n",
    "legend(loc=\"best\")\n",
    "xlabel(L\"y\",size=20)\n",
    "ylabel(L\"\\frac{y_{k}}{y}\",size=20)\n",
    "xlim([1/N,1])\n",
    "# ylim([0.7,1.3])\n",
    "# axvline(3e-3)\n",
    "grid()"
   ]
  },
  {
   "cell_type": "code",
   "execution_count": 28,
   "metadata": {
    "collapsed": false
   },
   "outputs": [
    {
     "data": {
      "text/plain": [
       "(100,5)"
      ]
     },
     "execution_count": 28,
     "metadata": {},
     "output_type": "execute_result"
    }
   ],
   "source": [
    "length(y_desired_range),length(y_2_range)"
   ]
  },
  {
   "cell_type": "code",
   "execution_count": 54,
   "metadata": {
    "collapsed": false
   },
   "outputs": [
    {
     "name": "stderr",
     "output_type": "stream",
     "text": [
      "WARNING: Method definition get_mean_y_k_squared_mod(Any, Any, Any, Any) in module Main at In[52]:17 overwritten at In[54]:17.\n",
      "WARNING: Method definition get_delta_y_k_plus(Any, Any, Any, Any, Any) in module Main at In[52]:28 overwritten at In[54]:28.\n",
      "WARNING: Method definition get_delta_y_k_minus(Any, Any, Any, Any) in module Main at In[52]:32 overwritten at In[54]:32.\n",
      "WARNING: Method definition get_delta_y_plus_mod(Any, Any, Any, Any, Any, Any) in module Main at In[52]:36 overwritten at In[54]:36.\n"
     ]
    },
    {
     "data": {
      "text/plain": [
       "get_delta_y_plus_mod (generic function with 1 method)"
      ]
     },
     "execution_count": 54,
     "metadata": {},
     "output_type": "execute_result"
    }
   ],
   "source": [
    "\n",
    "function get_p_reach_from_delta_y(y_desired_range,delta_y_plus,delta_y_minus)\n",
    "    s = delta_y_plus - delta_y_minus\n",
    "    splus = delta_y_plus + delta_y_minus\n",
    "    \n",
    "    interpolation_order = 3\n",
    "    s_fn(x) = evaluate(Spline1D(y_desired_range,s,k=interpolation_order,bc=\"extrapolate\"),x)\n",
    "    splus_fn(x) = evaluate(Spline1D(y_desired_range,splus,k=interpolation_order,bc=\"extrapolate\"),x)\n",
    "    \n",
    "    dx = 1/N\n",
    "    yy = collect(1/N:dx:1)\n",
    "    pp = P_reach_fast(s_fn,splus_fn,N,1.0/N,yy)\n",
    "    return yy,pp\n",
    "end\n",
    "\n",
    "function get_mean_y_k_squared_mod(k,y1,y2,tdp)\n",
    "    p1k,p2k = TwoDegree.get_p_neighbor(tdp)\n",
    "    mean_k1sq = k^2*p1k^2 + k*p1k*(1-p1k)\n",
    "    mean_k1 = k*p1k\n",
    "    denom = mean_k1sq*y1^2 + mean_k1*y1*(1-y1) +\n",
    "    2*(mean_k1*k - mean_k1sq)*y1*y2 +\n",
    "    (k^2-2*mean_k1*k + mean_k1sq)*y2^2+\n",
    "    (k-mean_k1)*y2*(1-y2)\n",
    "    return denom/k^2\n",
    "end\n",
    "\n",
    "function get_delta_y_plus_mod(y_k,p_k,mean_y_k,N,alpha,tdp)\n",
    "    k_range = get_k_range(N)\n",
    "    ret = 0\n",
    "    for k in k_range\n",
    "        idx1,idx2 = find(p_k .> 0)\n",
    "        y1 = y_k[idx1]\n",
    "        y2 = y_k[idx2]\n",
    "        mean_y_k_squared = get_mean_y_k_squared_mod(k,y1,y2,tdp)\n",
    "        ret += get_delta_y_k_plus(y_k,k,mean_y_k,mean_y_k_squared,alpha)*p_k[k]\n",
    "    end\n",
    "    return ret\n",
    "end\n"
   ]
  },
  {
   "cell_type": "code",
   "execution_count": 78,
   "metadata": {
    "collapsed": false,
    "scrolled": true
   },
   "outputs": [
    {
     "name": "stdout",
     "output_type": "stream",
     "text": [
      "1\n",
      "2\n"
     ]
    },
    {
     "name": "stderr",
     "output_type": "stream",
     "text": [
      "WARNING: Method definition y_1_fn(Any) in module Main at In[76]:26 overwritten at In[78]:26.\n",
      "WARNING: Method definition y_2_fn(Any) in module Main at In[76]:27 overwritten at In[78]:27.\n"
     ]
    },
    {
     "name": "stdout",
     "output_type": "stream",
     "text": [
      "3\n",
      "4\n",
      "5\n",
      "6\n",
      "7\n",
      "8\n",
      "9\n",
      "10\n",
      "11\n",
      "12\n",
      "13\n",
      "14\n",
      "15\n",
      "16\n",
      "17\n",
      "18\n",
      "19\n",
      "20\n",
      "21\n",
      "22\n",
      "23\n",
      "24\n",
      "25\n",
      "26\n",
      "27\n",
      "28\n",
      "29\n",
      "30\n",
      "31\n",
      "32\n",
      "33\n",
      "34\n",
      "35\n",
      "36\n",
      "37\n",
      "38\n",
      "39\n",
      "40\n",
      "41\n",
      "42\n",
      "43\n",
      "44\n",
      "45\n",
      "46\n",
      "47\n",
      "48\n",
      "49\n",
      "50\n",
      "51\n",
      "52\n",
      "53\n",
      "54\n",
      "55\n",
      "56\n",
      "57\n",
      "58\n",
      "59\n",
      "60\n",
      "61\n",
      "62\n",
      "63\n",
      "64\n",
      "65\n",
      "66\n",
      "67\n",
      "68\n",
      "69\n",
      "70\n",
      "71\n",
      "72\n",
      "73\n",
      "74\n",
      "75\n",
      "76\n",
      "77\n",
      "78\n",
      "79\n",
      "80\n",
      "81\n",
      "82\n",
      "83\n",
      "84\n",
      "85\n",
      "86\n",
      "87\n",
      "88\n",
      "89\n",
      "90\n",
      "91\n",
      "92\n",
      "93\n",
      "94\n",
      "95\n",
      "96\n",
      "97\n",
      "98\n",
      "99\n",
      "100\n"
     ]
    },
    {
     "data": {
      "text/plain": [
       "100-element Array{Float64,1}:\n",
       "   0.132572\n",
       "   0.132591\n",
       "   0.132611\n",
       "   0.132633\n",
       "   0.132656\n",
       "   0.132682\n",
       "   0.132709\n",
       "   0.132739\n",
       "   0.13277 \n",
       "   0.132805\n",
       "   0.132842\n",
       "   0.132882\n",
       "   0.132926\n",
       "   ⋮       \n",
       "   0.333317\n",
       "   0.349356\n",
       "   0.366674\n",
       "   0.385374\n",
       "   0.405567\n",
       "   0.42737 \n",
       "   0.450914\n",
       "   0.476337\n",
       "   0.503788\n",
       "   0.533431\n",
       "   0.565438\n",
       " NaN       "
      ]
     },
     "execution_count": 78,
     "metadata": {},
     "output_type": "execute_result"
    }
   ],
   "source": [
    "c_r = 0.3\n",
    "N = 2000\n",
    "y_n = 0.1\n",
    "\n",
    "n_n = Int(N*y_n)#y_n*N\n",
    "beta = 4.0/(c_r*n_n)\n",
    "alpha = (N*beta)/n_n\n",
    "\n",
    "k = 10\n",
    "sigma_k = 20\n",
    "min_degree = 3\n",
    "\n",
    "tdp = compute_two_degree_params(k,sigma_k,min_degree)\n",
    "degr_distr = get_p_k_two_degree(tdp)\n",
    "p_k,p_k_neighbor,mean_k = get_p_k_as_vec(degr_distr,N)\n",
    "\n",
    "y_desired_arr = logspace(log10(1/N),log10(1),100) \n",
    "delta_y_plus = similar(y_desired_arr)\n",
    "delta_y_plus_mod = similar(y_desired_arr)\n",
    "delta_y_minus = similar(y_desired_arr)\n",
    "y_bar = similar(y_desired_arr)\n",
    "y_local = similar(y_desired_arr)\n",
    "\n",
    "\n",
    "interpolation_order = 3\n",
    "y_1_fn(x) = evaluate(Spline1D(y_arr,y1_arr,k=interpolation_order,bc=\"extrapolate\"),x)\n",
    "y_2_fn(x) = evaluate(Spline1D(y_arr,y2_arr,k=interpolation_order,bc=\"extrapolate\"),x)\n",
    " \n",
    "for (i,y_desired) in enumerate(y_desired_arr)\n",
    "    println(i)\n",
    "    y_k = y_desired*ones(N)\n",
    "    y_k[1:end-1][p_k .> 0][1] = y_1_fn(y_desired)\n",
    "    y_k[1:end-1][p_k .> 0][2] = y_2_fn(y_desired)\n",
    "#     y_k = get_y_k_equilibrium(y_desired,N,p_k,p_k_neighbor,alpha,beta)\n",
    "\n",
    "    mean_y_k = get_mean_y_k(y_k,p_k_neighbor,N)\n",
    "    \n",
    "    y_local[i] = mean_y_k\n",
    "    y_bar[i] = get_y_bar(p_k,y_k) \n",
    "    delta_y_plus_mod[i] = get_delta_y_plus_mod(y_k,p_k,mean_y_k,N,alpha,tdp)\n",
    "    delta_y_plus[i] = get_delta_y_plus(y_k,p_k,mean_y_k,N,alpha)\n",
    "    delta_y_minus[i] = get_delta_y_minus(y_k,p_k,mean_y_k,N,beta)\n",
    "end\n",
    "\n",
    "yy1,pp1 = get_p_reach_from_delta_y(y_desired_arr,delta_y_plus,delta_y_minus)\n",
    "s1 = (delta_y_plus-delta_y_minus)./(y_desired_arr.*(1-y_desired_arr))\n",
    "\n",
    "yy2,pp2 = get_p_reach_from_delta_y(y_desired_arr,delta_y_plus_mod,delta_y_minus)\n",
    "s2 = (delta_y_plus_mod-delta_y_minus)./(y_desired_arr.*(1-y_desired_arr))"
   ]
  },
  {
   "cell_type": "code",
   "execution_count": 79,
   "metadata": {
    "collapsed": false
   },
   "outputs": [
    {
     "data": {
      "image/png": "[encoded data removed]",
      "text/plain": [
       "PyPlot.Figure(PyObject <matplotlib.figure.Figure object at 0x332930b90>)"
      ]
     },
     "metadata": {},
     "output_type": "display_data"
    },
    {
     "data": {
      "text/plain": [
       "1-element Array{Any,1}:\n",
       " PyObject <matplotlib.lines.Line2D object at 0x332cb42d0>"
      ]
     },
     "execution_count": 79,
     "metadata": {},
     "output_type": "execute_result"
    }
   ],
   "source": [
    "plot(y_desired_arr,s1)\n",
    "plot(y_desired_arr,s2)"
   ]
  },
  {
   "cell_type": "code",
   "execution_count": 60,
   "metadata": {
    "collapsed": false
   },
   "outputs": [
    {
     "data": {
      "image/png": "[encoded data removed]",
      "text/plain": [
       "PyPlot.Figure(PyObject <matplotlib.figure.Figure object at 0x32c83bd90>)"
      ]
     },
     "metadata": {},
     "output_type": "display_data"
    },
    {
     "data": {
      "text/plain": [
       "PyObject <matplotlib.lines.Line2D object at 0x32b962190>"
      ]
     },
     "execution_count": 60,
     "metadata": {},
     "output_type": "execute_result"
    }
   ],
   "source": [
    "loglog(yy,pp)\n",
    "loglog(yy1,pp1)\n",
    "loglog(yy2,pp2,\"--\")\n",
    "plot(y_arr,y2_arr./y1_arr,label=L\"k_2\")\n",
    "# loglog(yy1,pp1)\n",
    "loglog(yy,1./(N*yy),\"--k\")\n",
    "xlim([1/N,1])\n",
    "axhline(1)"
   ]
  },
  {
   "cell_type": "markdown",
   "metadata": {},
   "source": [
    "Why does it have this low $y$ behavior? It is _not_ just a function of the initial condition (which would be exactly equal)! Can we theoretically predict this $y_{1,2}$ behavior and plug it into the theory?\n",
    "\n",
    "Something like: if we had our infected on the high $k$ nodes, then we would likely infect other nodes (10 times faster!) and thus would leave the state faster. (mean time in the state times the probability of having that combination of k's)\n",
    "\n",
    "Mean time in the state = (birth rate + death rate)\n",
    "\n",
    "$$T = k*p_{birth} + p_{death}$$\n",
    "\n",
    "$$p_{birth} = \\sum_{k} p_{k,neighbor} \\frac{1}{k} (1 + \\frac{1}{k} \\alpha)$$\n",
    "\n",
    "$$p_{death} = (1 + \\beta)$$\n",
    "\n",
    "Thus $T$ drops with higher $k$ and we spend less time, and thus the ensemble average is reduced for those $y$. However, for higher $y$ entropic effects dominate (it is unlikely to have a significant fraction of infecteds in a given state and thus the effect of time in the state is less).\n",
    "\n",
    "Check also whether the higher $y$ part of the solution agrees with the equilibrium theory."
   ]
  },
  {
   "cell_type": "code",
   "execution_count": 57,
   "metadata": {
    "collapsed": false
   },
   "outputs": [
    {
     "data": {
      "text/plain": [
       "17.0"
      ]
     },
     "execution_count": 57,
     "metadata": {},
     "output_type": "execute_result"
    }
   ],
   "source": [
    "k_range = get_k_range(N)\n",
    "k1,k2 = k_range[p_k .> 0]\n",
    "k1,k2\n",
    "\n",
    "(k2 + 1) / (k1 + 1)"
   ]
  },
  {
   "cell_type": "markdown",
   "metadata": {},
   "source": [
    "We see that the two degree simulation captures the dynamics at least qualitatively.\n",
    "\n",
    "\n",
    "Look at the distribution of $n1$ and $n2$ as a function of $y$\n",
    "\n",
    "The probability of having $n_2$ be high is first low (of course, because the first node is likely to be $n_1$, and then rises to be $n_2$).\n",
    "\n",
    "can we use the diffusion equation to find the average $n_1$ and $n_2$ conditioned on reaching that $y$, and then develop an effective $s$ based on those distributions of $n_1$ and $n_2$?\n",
    "\n",
    "How do we maybe solve for the average $n_1$ and $n_2$??\n",
    "\n",
    "\n",
    "Maybe I need to condition on non-extinction but then observe the $y_{1/2}$ distribution for $y$ _below_ the current $y$! Maybe the distribution has equalized out by the time we look at it, but it was uneven before!\n",
    "\n",
    "\n",
    "Other questions\n",
    "- what do we do with this?\n",
    "- Can we solve the 2D diffusion equation to get expressions for p_reach, etc?\n",
    "- What are the orthogonal directions?\n",
    "- Try this on larger simulation data sets, quantitatively"
   ]
  },
  {
   "cell_type": "code",
   "execution_count": null,
   "metadata": {
    "collapsed": true
   },
   "outputs": [],
   "source": []
  }
 ],
 "metadata": {
  "kernelspec": {
   "display_name": "Julia 0.5.0",
   "language": "julia",
   "name": "julia-0.5"
  },
  "language_info": {
   "file_extension": ".jl",
   "mimetype": "application/julia",
   "name": "julia",
   "version": "0.5.0"
  },
  "latex_envs": {
   "LaTeX_envs_menu_present": true,
   "bibliofile": "biblio.bib",
   "cite_by": "apalike",
   "current_citInitial": 1,
   "eqLabelWithNumbers": true,
   "eqNumInitial": 1,
   "labels_anchors": false,
   "latex_user_defs": false,
   "report_style_numbering": false,
   "user_envs_cfg": false
  }
 },
 "nbformat": 4,
 "nbformat_minor": 1
}
