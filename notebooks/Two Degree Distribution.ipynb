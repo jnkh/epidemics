{
 "cells": [
  {
   "cell_type": "code",
   "execution_count": 7,
   "metadata": {
    "collapsed": false
   },
   "outputs": [],
   "source": [
    "push!(LOAD_PATH, pwd()*\"/..\")\n",
    "using LightGraphs, Epidemics, GraphGeneration,IM\n",
    "using GraphGeneration\n",
    "using NLsolve\n",
    "using PyPlot, Distributions"
   ]
  },
  {
   "cell_type": "code",
   "execution_count": 6,
   "metadata": {
    "collapsed": false
   },
   "outputs": [
    {
     "name": "stdout",
     "output_type": "stream",
     "text": [
      "10.02 1.001052078144735\n"
     ]
    }
   ],
   "source": [
    "N = 400\n",
    "kbar = 10\n",
    "sigmak = 0.6\n",
    "# tdp = compute_two_degree_params(kbar,sigmak)\n",
    "# println(tdp)\n",
    "# compute_k_sigma_k(tdp)\n",
    "g = graph_from_two_degree_distribution(N,kbar,sigmak)\n",
    "# g = graph_from_gamma_distribution(N,kbar,sigmak)\n",
    "dg = degree(g)\n",
    "println(mean(dg), \" \" , std(dg))\n",
    "# println(dg)"
   ]
  },
  {
   "cell_type": "markdown",
   "metadata": {},
   "source": [
    "We imagine a graph with a degree distribution made up as\n",
    "$$P(k') = p_1 \\delta(k_1 - k') + p_2 \\delta(k_2 - k')$$\n",
    ", i.e. only two degrees are allowed, one lower (1) and one higher (2). This means that\n",
    "$$\\bar{k} = p_1 k_1 + p_2 k_2$$\n",
    "and\n",
    "$$Var[k] = p_1 k_1^2 + p_2 k_2^2 - \\bar{k}^2$$\n",
    "\n",
    "In order to find the death and birth rates, we need to find the distribution of $\\tilde{y}_k$, i.e. the value of $y$ as seen by a given node of degree $k$.\n",
    "\n",
    "Now, for a node of degree $k'$, it will have $k_1'$ edges to other nodes of degree $k_1$, and $k_2' = k' - k_1'$ edges to other nodes of degree $k_2$. $k_1'$ is distributed as\n",
    "$$k_1' \\sim Binom(k,p_{1|k})$$\n",
    "where $p_{k''|k}$ is the neighbor degree distribution, and $p_{1|k}$ is the probability that a neighboring node has the lower degree $k_1$. We will assume that $p_{k''|k} = \\frac{k'' p_{k''}}{\\bar{k}}$\n",
    "\n",
    "Given $k_1'$, the number of infecteds seen among those edges leading to other nodes of degree $k_1$ is given by\n",
    "$$i_{1|k} \\sim Binom(k_1',y_1)$$\n",
    "$$i_{2|k} \\sim Binom(k - k_1',y_2)$$\n",
    "where $y_1 = n_1/N_1$ is the fraction of lower degree nodes that are currently infected.\n",
    "\n",
    "Thus we have\n",
    "$\\tilde{y}_k = \\frac{i_{1|k} + i_{2|k}}{k_1' + k_2'} =\\frac{i_{1|k} + i_{2|k}}{k} $\n",
    "We calculate the expectations of $\\tilde{y}_k$ by first computing the expectations conditioned on $k_1'$, and then taking expectations over the distribution of $k_1'$ (Law of Total Expectation).\n",
    "\n",
    "The expectations of $k_1'$ and $k_1'^2$ are \n",
    "$$E[k_1'] = k p_{1|k}$$\n",
    "$$E[k_1'^2] = k^2 p_{1|k}^2 + k p_{1|k} (1 - p_{1|k})$$\n",
    "\n",
    "\n",
    "We thus obtain\n",
    "$$E[i_{1|k} | k_1'] = k_1' y_1$$\n",
    "$$E[i_{1|k}] = k p_{1|k} y_1$$\n",
    "and therefore\n",
    "$$E[\\tilde{y}_k] = p_{1|k} y_1 + p_{2|k} y_2$$\n",
    "\n",
    "Similarly, we have\n",
    "$$E[\\tilde{y}^2_k] =  \\frac{1}{k^2} \\left( k_1'^2 y_1^2 + k_1' y_1 (1- y_1) + 2 y_1 y_2 (k k_1' - k_1'^2) + (k^2 - 2 k k_1' + k_1'^2) y_2^2 + (k - k_1') y_2 (1 - y_2)  \\right)$$\n",
    "where we replace all instances of $k_1'$ and $k_1'^2$ with their expectations to obtain the final expression as a function of only $y_{1/2}$ and $p_{1/2 | k}$.\n"
   ]
  },
  {
   "cell_type": "code",
   "execution_count": null,
   "metadata": {
    "collapsed": true
   },
   "outputs": [],
   "source": [
    "function compute_k_sigma_k(tdp::TwoDegreeParams)\n",
    "    p1 = tdp.p1\n",
    "    p2 = tdp.p2\n",
    "    k1 = tdp.k1\n",
    "    k2 = tdp.k2\n",
    "    \n",
    "    k_bar = p1*k1 + p2*k2\n",
    "    sigma_k = (p1*k1^2 + p2*k2^2 - k_bar^2)^(0.5)\n",
    "    println(\"k_bar: $(k_bar), sigma_k: $(sigma_k)\")\n",
    "end"
   ]
  },
  {
   "cell_type": "code",
   "execution_count": 9,
   "metadata": {
    "collapsed": false
   },
   "outputs": [
    {
     "data": {
      "text/plain": [
       "99"
      ]
     },
     "execution_count": 9,
     "metadata": {},
     "output_type": "execute_result"
    }
   ],
   "source": [
    "p_1 = 0.5\n",
    "p_2 = 0.5\n",
    "k_1 = 5\n",
    "k_2 = 21\n",
    "tdp = TwoDegreeParams(k_1,k_2,p_1,p_2)\n",
    "N = 99"
   ]
  },
  {
   "cell_type": "code",
   "execution_count": 10,
   "metadata": {
    "collapsed": false
   },
   "outputs": [
    {
     "name": "stdout",
     "output_type": "stream",
     "text": [
      "k_bar: 13.0, sigma_k: 8.0\n"
     ]
    },
    {
     "ename": "LoadError",
     "evalue": "UndefVarError: Multinomial not defined",
     "output_type": "error",
     "traceback": [
      "UndefVarError: Multinomial not defined",
      "",
      " in get_degrees_from_p_k(::#p_k#1, ::Int64) at ./In[3]:38",
      " in graph_from_two_degree_distribution(::TwoDegreeParams, ::Int64) at ./In[3]:8"
     ]
    }
   ],
   "source": [
    "g = graph_from_two_degree_distribution(tdp,40)\n",
    "p_k = get_p_k_two_degree(p_1,k_1,p_2,k_2)\n",
    "degrees = get_degrees_from_p_k(p_k,N)"
   ]
  },
  {
   "cell_type": "markdown",
   "metadata": {},
   "source": [
    "## Run a well mixed simulation keeping track of $n_1$ and $n_2$"
   ]
  },
  {
   "cell_type": "code",
   "execution_count": 245,
   "metadata": {
    "collapsed": false
   },
   "outputs": [
    {
     "name": "stderr",
     "output_type": "stream",
     "text": [
      "WARNING: Method definition run_epidemic_well_mixed_two_degree(Any, Any, Any, Any) in module Main at In[238]:3 overwritten at In[245]:3.\n",
      "WARNING: Method definition run_epidemic_well_mixed_two_degree(Any, Any, Any, Any, Any) in module Main at In[238]:3 overwritten at In[245]:3.\n",
      "WARNING: Method definition create_tuple(Any, Any, Any, Any, Any) in module Main at In[238]:39 overwritten at In[245]:39.\n",
      "WARNING: Method definition get_p_neighbor(Any) in module Main at In[238]:47 overwritten at In[245]:47.\n",
      "WARNING: Method definition update_n_two_degree(Int64, Int64, Int64, Any, Any, Any, Any) in module Main at In[238]:58 overwritten at In[245]:58.\n",
      "WARNING: Method definition get_mean_y_tilde(Any, Any, Any, Any, Any) in module Main at In[238]:91 overwritten at In[245]:91.\n",
      "WARNING: Method definition get_mean_y_tilde_sq(Any, Any, Any, Any, Any, Any) in module Main at In[238]:98 overwritten at In[245]:98.\n",
      "WARNING: Method definition get_p_reach_well_mixed_two_degree_simulation(Any, Any, Any, Any) in module Main at In[238]:111 overwritten at In[245]:111.\n",
      "WARNING: Method definition get_p_reach_well_mixed_two_degree_simulation(Any, Any, Any, Any, Any) in module Main at In[238]:111 overwritten at In[245]:111.\n",
      "WARNING: Method definition run_epidemics_two_degree(Int64, Any) in module Main at In[238]:117 overwritten at In[245]:117.\n"
     ]
    },
    {
     "data": {
      "text/plain": [
       "run_epidemics_two_degree (generic function with 1 method)"
      ]
     },
     "execution_count": 245,
     "metadata": {},
     "output_type": "execute_result"
    }
   ],
   "source": [
    "### Well Mixed Case ###\n",
    "function run_epidemic_well_mixed_two_degree(N,alpha,beta,tdp,fixation_threshold=1.0)\n",
    "    n1 = 0\n",
    "    n2 = 0\n",
    "    dt = 0.01\n",
    "    if rand() < tdp.p1\n",
    "        n1 = 1\n",
    "    else\n",
    "        n2 = 1\n",
    "    end\n",
    "    infecteds::Array{Float64,1} = []\n",
    "    tuples::Array{Tuple{Float64,Float64,Float64},1} = []\n",
    "    n = n1 + n2\n",
    "    fixed=false\n",
    "    push!(infecteds,n)\n",
    "    push!(tuples,create_tuple(n,n1,n2,N,tdp))\n",
    "\n",
    "\n",
    "    while n > 0\n",
    "        if !(n < N && n < N*fixation_threshold)\n",
    "            fixed = true\n",
    "            break\n",
    "        end\n",
    "        n1,n2 = update_n_two_degree(n1,n2,N,alpha,beta,tdp,dt)\n",
    "        n = n1 + n2\n",
    "        push!(infecteds,n)\n",
    "        push!(tuples,create_tuple(n,n1,n2,N,tdp))\n",
    "    end\n",
    "\n",
    "    size = dt*sum(infecteds)\n",
    "    if fixed\n",
    "        size = Inf\n",
    "    end\n",
    "\n",
    "    return EpidemicRun(infecteds,size,fixed),tuples\n",
    "end\n",
    "\n",
    "function create_tuple(n,n1,n2,N,tpd)\n",
    "    N1 = Int(round(tdp.p1*N))\n",
    "    N2 = N-N1\n",
    "    return (n/N,n1/N1,n2/N2)\n",
    "end\n",
    "\n",
    "\n",
    "\n",
    "function get_p_neighbor(tdp)\n",
    "    p1 = tdp.p1\n",
    "    p2 = tdp.p2\n",
    "    k1 = tdp.k1\n",
    "    k2 = tdp.k2\n",
    "    p1k = k1*p1/(k1*p1 + k2*p2)\n",
    "    p2k = k2*p2/(k1*p1 + k2*p2)\n",
    "    return p1k,p2k\n",
    "end\n",
    "\n",
    "\n",
    "function update_n_two_degree(n1::Int,n2::Int,N::Int,alpha,beta,tdp,dt)\n",
    "    p1 = tdp.p1\n",
    "    p2 = tdp.p2\n",
    "    k1 = tdp.k1\n",
    "    k2 = tdp.k2\n",
    "    N1 = Int(round(tdp.p1*N))\n",
    "    N2 = N-N1\n",
    "    n = n1 + n2\n",
    "    y = n/N\n",
    "    y_tilde = get_mean_y_tilde(n1,n2,N1,N2,tdp)\n",
    "    y_tilde_sq1 = get_mean_y_tilde_sq(k1,n1,n2,N1,N2,tdp)\n",
    "    y_tilde_sq2 = get_mean_y_tilde_sq(k2,n1,n2,N1,N2,tdp)\n",
    "    \n",
    "    \n",
    "    delta_n_plus1 = rand(Binomial(N1-n1,dt*(y_tilde + alpha*y_tilde_sq1)))\n",
    "    delta_n_minus1 = rand(Binomial(n1,dt*(1-y_tilde)*(1 + beta)))\n",
    "    \n",
    "    delta_n_plus2 = rand(Binomial(N2-n2,dt*(y_tilde + alpha*y_tilde_sq2)))\n",
    "    delta_n_minus2 = rand(Binomial(n2,dt*(1-y_tilde)*(1 + beta)))\n",
    "    \n",
    "    n1 = n1 + delta_n_plus1 - delta_n_minus1\n",
    "    n2 = n2 + delta_n_plus2 - delta_n_minus2\n",
    "    \n",
    "    n1 = clamp(n1,0,N1)\n",
    "    n2 = clamp(n2,0,N2)\n",
    "#     y_desired = (n1+n2)/N\n",
    "#     if y_desired > 0.08\n",
    "#         n1 = Int(round(y_desired*N1))\n",
    "#         n2 = Int(round(y_desired*N2))\n",
    "#     end\n",
    "    return n1,n2\n",
    "end\n",
    "\n",
    "function get_mean_y_tilde(n1,n2,N1,N2,tdp)\n",
    "    y1 = n1/N1\n",
    "    y2 = n2/N2\n",
    "    p1k,p2k = get_p_neighbor(tdp)\n",
    "    return p1k*y1 + p2k*y2\n",
    "end\n",
    "\n",
    "function get_mean_y_tilde_sq(k,n1,n2,N1,N2,tdp)\n",
    "    y1 = n1/N1\n",
    "    y2 = n2/N2\n",
    "    p1k,p2k = get_p_neighbor(tdp)\n",
    "    mean_k1sq = k^2*p1k^2 + k*p1k*(1-p1k)\n",
    "    mean_k1 = k*p1k\n",
    "    denom = mean_k1sq*y1^2 + mean_k1*y1*(1-y1) +\n",
    "    2*(mean_k1*k - mean_k1sq)*y1*y2\n",
    "    (k^2-2*mean_k1*k + mean_k1sq)*y2^2+\n",
    "    (k-mean_k1)*y2*(1-y2)\n",
    "    return denom/k^2\n",
    "end\n",
    "    \n",
    "function get_p_reach_well_mixed_two_degree_simulation(alpha,beta,N,tdp,num_runs=10000)\n",
    "    runs,tuples = run_epidemics_two_degree(num_runs, () -> run_epidemic_well_mixed_two_degree(N,alpha,beta,tdp,1.0));\n",
    "    yy,pp = get_p_reach(runs,N)\n",
    "    return yy,pp,tuples\n",
    "end\n",
    "\n",
    "function run_epidemics_two_degree(num_runs::Int,run_epidemic_fn)\n",
    "    runs = EpidemicRun[]\n",
    "    tuples_arr::Array{Array{Tuple{Float64,Float64,Float64},1}} = []\n",
    "\n",
    "    for i in 1:num_runs\n",
    "        run,tuples = run_epidemic_fn()\n",
    "        push!(runs,run)\n",
    "        push!(tuples_arr,tuples)\n",
    "    end\n",
    "    all_tuples = vcat(tuples_arr...)\n",
    "    #get rid of fixed oneus\n",
    "\n",
    "    return runs,all_tuples\n",
    "end\n",
    "\n"
   ]
  },
  {
   "cell_type": "code",
   "execution_count": 246,
   "metadata": {
    "collapsed": false
   },
   "outputs": [
    {
     "name": "stderr",
     "output_type": "stream",
     "text": [
      "WARNING: Method definition compute_y1_y2_vs_y(Any, Any) in module Main at In[239]:2 overwritten at In[246]:2.\n",
      "WARNING: Method definition compute_y1_y2_vs_y(Any, Any, Any) in module Main at In[239]:20 overwritten at In[246]:20.\n",
      "WARNING: Method definition compute_y1_y2_vs_y(Any, Any, Any, Any) in module Main at In[239]:20 overwritten at In[246]:20.\n"
     ]
    },
    {
     "data": {
      "text/plain": [
       "compute_y1_y2_vs_y (generic function with 3 methods)"
      ]
     },
     "execution_count": 246,
     "metadata": {},
     "output_type": "execute_result"
    }
   ],
   "source": [
    "function compute_y1_y2_vs_y(tuples,N)\n",
    "    y_arr = collect(0:1/N:1)\n",
    "    y_count = zeros(N+1)\n",
    "    y1_arr = zeros(N+1) \n",
    "    y2_arr = zeros(N+1) \n",
    "    for tuple in tuples\n",
    "        y = tuple[1]\n",
    "        y1 = tuple[2]\n",
    "        y2 = tuple[3]\n",
    "        idx = 1+Int(round(y*N))\n",
    "        y_count[idx] += 1\n",
    "        y1_arr[idx] += y1\n",
    "        y2_arr[idx] += y2\n",
    "    end\n",
    "    y_count[y_count .== 0] = 1\n",
    "    return y_arr, y1_arr ./ y_count, y2_arr ./y_count\n",
    "end\n",
    "\n",
    "function compute_y1_y2_vs_y(y_0,tuples,N,tol =0)\n",
    "    if tol == 0\n",
    "        tol = 1/N\n",
    "    end\n",
    "    count = 0\n",
    "    y1_tot= 0\n",
    "    y2_tot= 0\n",
    "    for tuple in tuples\n",
    "        y = tuple[1]\n",
    "        y1 = tuple[2]\n",
    "        y2 = tuple[3]\n",
    "        if y_0 - tol <= y <= y_0 + tol\n",
    "            y1_tot += y1\n",
    "            y2_tot += y2\n",
    "            count += 1\n",
    "        end\n",
    "    end\n",
    "    return count,y1_tot/count,y2_tot/count \n",
    "end\n",
    "\n"
   ]
  },
  {
   "cell_type": "code",
   "execution_count": 254,
   "metadata": {
    "collapsed": false
   },
   "outputs": [
    {
     "name": "stdout",
     "output_type": "stream",
     "text": [
      "N=2000, alpha = 0.25, beta = 0.05\n",
      "18685118\n"
     ]
    }
   ],
   "source": [
    "N = 2000\n",
    "k = 10\n",
    "sigmak = 20\n",
    "\n",
    "trials = 100000\n",
    "\n",
    "tdp = compute_two_degree_params(k,sigmak)\n",
    "\n",
    "\n",
    "y_n = 0.2\n",
    "c_r = 0.2#0.18\n",
    "n_n = y_n*N#10#80#y_n*N\n",
    "beta = 4.0/(c_r*n_n)\n",
    "alpha = (N*beta)/n_n\n",
    "# alpha,beta = 0.0,0.0\n",
    "println(\"N=$N, alpha = $alpha, beta = $beta\")\n",
    "\n",
    "# im = InfectionModel(x -> 1 + alpha*x , x -> 1 + beta);\n",
    "\n",
    "yy,pp,tuples = get_p_reach_well_mixed_two_degree_simulation(alpha,beta,N,tdp,trials)\n",
    "println(length(tuples))"
   ]
  },
  {
   "cell_type": "code",
   "execution_count": 255,
   "metadata": {
    "collapsed": false
   },
   "outputs": [
    {
     "data": {
      "text/plain": [
       "([0.0,0.0005,0.001,0.0015,0.002,0.0025,0.003,0.0035,0.004,0.0045  …  0.9955,0.996,0.9965,0.997,0.9975,0.998,0.9985,0.999,0.9995,1.0],[0.0,0.000551156,0.0010628,0.00153953,0.00201327,0.00250302,0.00299694,0.00349019,0.00398653,0.004481  …  0.995182,0.99571,0.996291,0.996818,0.997424,0.997786,0.998352,0.998884,0.999439,1.0],[0.0,8.39792e-5,0.00048925,0.00117855,0.00189207,0.00247541,0.00302492,0.00357979,0.00410951,0.00465448  …  0.998089,0.998356,0.998203,0.998478,0.998115,0.999738,0.9997,0.999941,1.0,1.0])"
      ]
     },
     "execution_count": 255,
     "metadata": {},
     "output_type": "execute_result"
    }
   ],
   "source": [
    "y_arr,y1_arr,y2_arr = compute_y1_y2_vs_y(tuples,N)"
   ]
  },
  {
   "cell_type": "code",
   "execution_count": 256,
   "metadata": {
    "collapsed": false
   },
   "outputs": [
    {
     "data": {
      "text/plain": [
       "(378,0.6993678125064989,0.7027856297262686)"
      ]
     },
     "execution_count": 256,
     "metadata": {},
     "output_type": "execute_result"
    }
   ],
   "source": [
    "compute_y1_y2_vs_y(0.7,tuples,N,5/N)"
   ]
  },
  {
   "cell_type": "code",
   "execution_count": 269,
   "metadata": {
    "collapsed": false
   },
   "outputs": [
    {
     "data": {
      "image/png": "[encoded data removed]",
      "text/plain": [
       "PyPlot.Figure(PyObject <matplotlib.figure.Figure object at 0x3341bd190>)"
      ]
     },
     "metadata": {},
     "output_type": "display_data"
    },
    {
     "data": {
      "text/plain": [
       "PyObject <matplotlib.lines.Line2D object at 0x334bc60d0>"
      ]
     },
     "execution_count": 269,
     "metadata": {},
     "output_type": "execute_result"
    }
   ],
   "source": [
    "semilogx(y_arr,y1_arr./y_arr,label=L\"k_1\")\n",
    "plot(y_arr,y2_arr./y_arr,label=L\"k_2\")\n",
    "axhline(1,color=\"k\",linestyle=\"--\")\n",
    "legend(loc=\"best\")\n",
    "xlabel(L\"y\",size=20)\n",
    "ylabel(L\"y_{1/2}\",size=20)\n",
    "xlim([1/N,1])\n",
    "axvline(3e-3)"
   ]
  },
  {
   "cell_type": "code",
   "execution_count": 273,
   "metadata": {
    "collapsed": false
   },
   "outputs": [
    {
     "data": {
      "image/png": "[encoded data removed]",
      "text/plain": [
       "PyPlot.Figure(PyObject <matplotlib.figure.Figure object at 0x33495e290>)"
      ]
     },
     "metadata": {},
     "output_type": "display_data"
    },
    {
     "data": {
      "text/plain": [
       "PyObject <matplotlib.lines.Line2D object at 0x335c84710>"
      ]
     },
     "execution_count": 273,
     "metadata": {},
     "output_type": "execute_result"
    }
   ],
   "source": [
    "loglog(yy,pp)\n",
    "plot(y_arr,y2_arr./y1_arr,label=L\"k_2\")\n",
    "# loglog(yy1,pp1)\n",
    "loglog(yy,1./(N*yy),\"--k\")\n",
    "xlim([1/N,1])\n",
    "axhline(1)"
   ]
  },
  {
   "cell_type": "markdown",
   "metadata": {},
   "source": [
    "We see that the two degree simulation captures the dynamics at least qualitatively.\n",
    "\n",
    "\n",
    "Look at the distribution of $n1$ and $n2$ as a function of $y$\n",
    "\n",
    "The probability of having $n_2$ be high is first low (of course, because the first node is likely to be $n_1$, and then rises to be $n_2$).\n",
    "\n",
    "can we use the diffusion equation to find the average $n_1$ and $n_2$ conditioned on reaching that $y$, and then develop an effective $s$ based on those distributions of $n_1$ and $n_2$?\n",
    "\n",
    "How do we maybe solve for the average $n_1$ and $n_2$??\n",
    "\n",
    "\n",
    "Maybe I need to condition on non-extinction but then observe the $y_{1/2}$ distribution for $y$ _below_ the current $y$! Maybe the distribution has equalized out by the time we look at it, but it was uneven before!\n",
    "\n",
    "\n",
    "Other questions\n",
    "- what do we do with this?\n",
    "- Can we solve the 2D diffusion equation to get expressions for p_reach, etc?\n",
    "- What are the orthogonal directions?\n",
    "- Try this on larger simulation data sets, quantitatively"
   ]
  },
  {
   "cell_type": "code",
   "execution_count": null,
   "metadata": {
    "collapsed": true
   },
   "outputs": [],
   "source": []
  }
 ],
 "metadata": {
  "kernelspec": {
   "display_name": "Julia 0.5.0",
   "language": "julia",
   "name": "julia-0.5"
  },
  "language_info": {
   "file_extension": ".jl",
   "mimetype": "application/julia",
   "name": "julia",
   "version": "0.5.0"
  },
  "latex_envs": {
   "LaTeX_envs_menu_present": true,
   "bibliofile": "biblio.bib",
   "cite_by": "apalike",
   "current_citInitial": 1,
   "eqLabelWithNumbers": true,
   "eqNumInitial": 1,
   "labels_anchors": false,
   "latex_user_defs": false,
   "report_style_numbering": false,
   "user_envs_cfg": false
  }
 },
 "nbformat": 4,
 "nbformat_minor": 1
}
