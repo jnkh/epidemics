{
 "cells": [
  {
   "cell_type": "code",
   "execution_count": null,
   "metadata": {
    "collapsed": true
   },
   "outputs": [],
   "source": [
    "@everywhere using SIS,IM,PayloadGraph,PyPlot, Epidemics\n",
    "import LightGraphs\n",
    "\n",
    "@everywhere begin\n",
    "\n",
    "k = 10\n",
    "#y_n = 0.1\n",
    "c_r = 0.18\n",
    "N = 1000\n",
    "n_n = 400#y_n*N\n",
    "beta = 4.0/(c_r*n_n)\n",
    "alpha = (N*beta)/n_n\n",
    "println(N, ' ' ,alpha, ' ',beta)\n",
    "\n",
    "im = InfectionModel(x -> 1 + alpha*x , x -> 1 + beta);\n",
    "imk = InfectionModel(x -> 1 + beta + get_s_eff(x,alpha,beta,k) , x -> 1 + beta);\n",
    "\n",
    "y_n, y_minus, y_plus, y_p,critical_determinant = get_parameters(N,alpha,beta)\n",
    "num_trials = 1;regular=false;\n",
    "end"
   ]
  },
  {
   "cell_type": "code",
   "execution_count": null,
   "metadata": {
    "collapsed": true
   },
   "outputs": [],
   "source": [
    "if regular\n",
    "    g = Epidemics.guarantee_connected( () -> LightGraphs.random_regular_graph(N,k))\n",
    "else\n",
    "    g = Epidemics.guarantee_connected( () -> LightGraphs.erdos_renyi(N,1.0*k/(N-1)))\n",
    "end\n",
    "p = create_graph_from_value(g,INFECTED)\n",
    "infecteds = []\n",
    "set_payload(p,1,SUSCEPTIBLE)\n",
    "frac = SIS.get_fraction_of_type(p,INFECTED)\n",
    "push!(infecteds,N*frac)\n",
    "new_types = convert(SharedArray,fill(SUSCEPTIBLE,N))\n",
    "count = 0\n",
    "while p.payload[1] == 0 && count < 10\n",
    "    println(new_types,p)\n",
    "    update_graph(p,im,new_types)\n",
    "    count += 1\n",
    "end"
   ]
  },
  {
   "cell_type": "code",
   "execution_count": null,
   "metadata": {
    "collapsed": true
   },
   "outputs": [],
   "source": [
    "Profile.clear()\n",
    "srand(1)\n",
    "@time sizes,num_fixed,_,runs = \n",
    "    run_epidemics(num_trials,im, (x)\n",
    "    -> run_epidemic_graph(N,k,x,regular,1.0))\n",
    "\n"
   ]
  },
  {
   "cell_type": "code",
   "execution_count": null,
   "metadata": {
    "collapsed": true
   },
   "outputs": [],
   "source": [
    "using ProfileView\n",
    "num_trials = 1\n",
    "procs()"
   ]
  },
  {
   "cell_type": "code",
   "execution_count": null,
   "metadata": {
    "collapsed": true
   },
   "outputs": [],
   "source": [
    "1+1"
   ]
  },
  {
   "cell_type": "code",
   "execution_count": null,
   "metadata": {
    "collapsed": true
   },
   "outputs": [],
   "source": []
  }
 ],
 "metadata": {
  "kernelspec": {
   "display_name": "Julia 0.5.0-dev",
   "language": "julia",
   "name": "julia-0.5"
  }
 },
 "nbformat": 4,
 "nbformat_minor": 0
}
