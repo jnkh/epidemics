{
 "metadata": {
  "name": "",
  "signature": "sha256:1843c42e26ffbc966fc3c0ab9341baa42643c308f98bd64e7316515dd3482a80"
 },
 "nbformat": 3,
 "nbformat_minor": 0,
 "worksheets": [
  {
   "cells": [
    {
     "cell_type": "code",
     "collapsed": false,
     "input": [
      "from graph_reciprocity import *\n",
      "from nonlinear_selection import *\n",
      "from graph_epidemic import *\n",
      "%load_ext autoreload\n",
      "%autoreload 2"
     ],
     "language": "python",
     "metadata": {},
     "outputs": [],
     "prompt_number": 2
    },
    {
     "cell_type": "code",
     "collapsed": false,
     "input": [
      "n_n = 8\n",
      "c_r = 1.2\n",
      "N = 100\n",
      "beta = 4/(c_r*n_n)\n",
      "alpha = (N*beta)/n_n\n",
      "print N,alpha,beta\n",
      "\n",
      "y_n, y_minus,y_plus,y_p,critical_determinant = get_parameters(N,alpha,beta)\n",
      "def f(y):\n",
      "    return alpha*y**2\n",
      "\n",
      "def s(y):\n",
      "    return f(y)/y - beta\n",
      "\n",
      "\n",
      "def get_y_eff(y,k):\n",
      "    return y*(1 + (1-y)/(y*k))\n",
      "\n",
      "def get_s_eff(y,alpha,beta,k):\n",
      "    return alpha*get_y_eff(y,k) - beta\n",
      "\n"
     ],
     "language": "python",
     "metadata": {},
     "outputs": [
      {
       "output_type": "stream",
       "stream": "stdout",
       "text": [
        "100 5.20833333333 0.416666666667\n",
        "y_n = 0.08, y_- = -1, y_+ = -1, y_p = 0.0993295878968, critical determinant = 1.2\n",
        "n_n = 8.0\n"
       ]
      }
     ],
     "prompt_number": 5
    },
    {
     "cell_type": "code",
     "collapsed": false,
     "input": [
      "def plot_schematic(n_n,c_r,N,k_sparse=N-1):\n",
      "    \n",
      "    beta = 4.0/(c_r*n_n)\n",
      "    alpha = (N*beta)/n_n\n",
      "    print N,alpha,beta\n",
      "\n",
      "    y_n, y_minus,y_plus,y_p,critical_determinant = get_parameters(N,alpha,beta)\n",
      "    def f(y):\n",
      "        return alpha*y**2\n",
      "\n",
      "    def s(y):\n",
      "        return f(y)/y - beta\n",
      "\n",
      "    y_range = arange(0,1.2*y_p,0.001)\n",
      "    close(1)\n",
      "    figure(1)\n",
      "    plot(y_range,1.0/abs(N*s(y_range)),'-r',label=r'$\\frac{1}{N|s(y)|}$')\n",
      "    plot(y_range,y_range,'-k',label=r'$y$')\n",
      "    axvline(y_n,linestyle='--',label=r'$y_n$')\n",
      "    axvline(y_p,linestyle='-',label=r'$y_p$')\n",
      "    if y_minus > 0:\n",
      "        axvline(y_minus,linestyle='-.',label=r'$y_-$')\n",
      "        axvline(y_plus,linestyle='-.',label=r'$y_+$')\n",
      "    ylim([0,2*max(y_range)])\n",
      "    legend(prop={'size':20},loc='upper left')\n",
      "    xlabel(r'$y$',size=20)"
     ],
     "language": "python",
     "metadata": {},
     "outputs": [
      {
       "output_type": "stream",
       "stream": "stderr",
       "text": [
        "[autoreload of nonlinear_selection failed: Traceback (most recent call last):\n",
        "  File \"/home/julian/Apps/epd-7.3-1/lib/python2.7/site-packages/IPython/extensions/autoreload.py\", line 247, in check\n",
        "    superreload(m, reload, self.old_objects)\n",
        "NameError: name 'N' is not defined\n",
        "]\n"
       ]
      }
     ],
     "prompt_number": 8
    },
    {
     "cell_type": "code",
     "collapsed": false,
     "input": [
      "plot_schematic(n_n,c_r,N,k_sparse=N-1)"
     ],
     "language": "python",
     "metadata": {},
     "outputs": [
      {
       "output_type": "stream",
       "stream": "stdout",
       "text": [
        "100 5.20833333333 0.416666666667\n",
        "y_n = 0.08, y_- = -1, y_+ = -1, y_p = 0.0993295878968, critical determinant = 1.2\n",
        "n_n = 8.0\n"
       ]
      },
      {
       "output_type": "stream",
       "stream": "stderr",
       "text": [
        "-c:12: RuntimeWarning: invalid value encountered in divide\n"
       ]
      }
     ],
     "prompt_number": 7
    },
    {
     "cell_type": "code",
     "collapsed": false,
     "input": [],
     "language": "python",
     "metadata": {},
     "outputs": []
    }
   ],
   "metadata": {}
  }
 ]
}