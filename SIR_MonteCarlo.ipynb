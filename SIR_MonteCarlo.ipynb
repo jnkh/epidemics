{
 "metadata": {
  "name": "",
  "signature": "sha256:191265baa90767c64120ffdb6eb5fb7ba5e7d19ceab7132ce84417883ef5947b"
 },
 "nbformat": 3,
 "nbformat_minor": 0,
 "worksheets": [
  {
   "cells": [
    {
     "cell_type": "markdown",
     "metadata": {},
     "source": [
      "Our birth process satisfies:\n",
      "$$\\dot{y} = x f(y) - \\beta y$$\n",
      "or\n",
      "$$\\dot{y} = s(y) y, \\; s(y) = \\frac{f(y)}{y} - \\beta$$\n",
      "\n",
      "At any given time, we have $n$ individuals. Within a small time $dt$ Each of these individuals gives birth with probability $(1 + \\frac{f(y)}{y})dt$ and dies with probability $(1 + \\beta)dt$. Thus the net change is $\\Delta n_{+} \\sim Binom(n,(1 + \\frac{f(y)}{y})dt)$ and $\\Delta n_{-} \\sim Binom(n,(1 + \\beta) dt)$. The overall change is then\n",
      "$$\\Delta n = \\Delta n_{+} - \\Delta n_{-}$$\n",
      "\n",
      "If we assume $n \\gg 1$ but both $|1 + \\frac{f(y)}{y}|,|1 + \\beta| \\ll \\frac{1}{dt}$, Then we can approximate this with a poisson distribution:\n",
      "$$\\Delta n_{+} \\sim Poisson(n \\frac{f(y)}{y} dt)$$\n",
      "and\n",
      "$$\\Delta n_{-} \\sim Poisson(n \\beta dt)$$"
     ]
    },
    {
     "cell_type": "markdown",
     "metadata": {},
     "source": [
      "\n",
      "For the random variables $\\Delta n_{\\pm}$ we can then compute the mean and variance. For a binomial random variable with parameters $n$ and $p$, the mean is given by $n p$ and the variance by $n p (1-p)$. For small $p$, these both become $n p$. Thus we have\n",
      "$$E[\\Delta n] = E[\\Delta n_{+}] - E[\\Delta n_{-}] = n (\\frac{f(y)}{y} - \\beta) dt$$\n",
      "and\n",
      "$$Var[\\Delta n] = Var[\\Delta n_{+}] + Var[\\Delta n_{-}] = n (2 + \\frac{f(y)}{y} + \\beta) dt\\;.$$\n",
      "In continuous space this means\n",
      "$$E[\\delta y] = y (\\frac{f(y)}{y} - \\beta) dt \\equiv a(y) dt$$\n",
      "and\n",
      "$$Var[\\delta y] = \\frac{1}{N} y (2 + \\frac{f(y)}{y} + \\beta) dt \\equiv b(y) dt$$\n"
     ]
    },
    {
     "cell_type": "code",
     "collapsed": false,
     "input": [
      "def simulate_trajectory(N,dt,alpha,beta):\n",
      "    ns = [1]\n",
      "    while ns[-1] > 0 and ns[-1] < N:\n",
      "        ns.append(update_n(ns[-1],N,dt,alpha,beta))\n",
      "    return np.array(ns)\n",
      "\n",
      "def update_n(n,N,dt,alpha,beta):\n",
      "    def f(y):\n",
      "        return alpha*y**2\n",
      "    y = 1.0*n/N\n",
      "    delta_n_plus = random.binomial(n,f(y)/y*dt)\n",
      "    delta_n_minus = random.binomial(n,beta*dt)\n",
      "    return n + delta_n_plus - delta_n_minus\n",
      "\n",
      "def simulate_trajectory_adaptive(N,alpha,beta):\n",
      "    ns = [1]\n",
      "    ts = [0]\n",
      "    while ns[-1] > 0 and ns[-1] < N:\n",
      "        n,dt = update_n_adaptive(ns[-1],N,alpha,beta)\n",
      "        ns.append(n)\n",
      "        ts.append(ts[-1]+dt)\n",
      "    return np.array(ns),np.array(ts)\n",
      "\n",
      "def update_n_adaptive(n,N,alpha,beta):\n",
      "    p_desired = 0.1\n",
      "    def f(y):\n",
      "        return alpha*y**2\n",
      "    y = 1.0*n/N\n",
      "    birth_rate = 1.0 + f(y)/y\n",
      "    death_rate= 1.0 + beta\n",
      "    max_rate = np.max([birth_rate,death_rate])\n",
      "    dt = p_desired/max_rate\n",
      "    delta_n_plus = random.binomial(n,(birth_rate)*dt)\n",
      "    delta_n_minus = random.binomial(n,(death_rate)*dt)\n",
      "    return n + delta_n_plus - delta_n_minus,dt\n",
      "    \n",
      "def get_epidemic_size(ns,ts):\n",
      "    return np.sum(ns[:-1]*diff(ts))\n",
      "\n",
      "def run_epidemics(N,alpha,beta,num_trials = 10000,plotting=False):\n",
      "    y_n, y_minus, y_plus, y_p,critical_determinant = get_parameters(N,alpha,beta)\n",
      "    if plotting:\n",
      "        close('all')\n",
      "        figure()\n",
      "        hold(1)\n",
      "    T_ave = 0\n",
      "    fixed = zeros(num_trials)\n",
      "    epidemic_size = zeros(num_trials)\n",
      "    for i in range(num_trials):\n",
      "        ns,ts = simulate_trajectory_adaptive(N,alpha,beta)\n",
      "        fixed[i] = ns[-1] >= N\n",
      "        epidemic_size[i] = get_epidemic_size(ns,ts)\n",
      "        if plotting:\n",
      "            semilogy(ts,1.0*ns/N,'-')\n",
      "        T_ave += ts[-1]\n",
      "    T_ave /= 1.0*num_trials\n",
      "    p_fix = sum(fixed)/num_trials\n",
      "    print 'T_ave = {}, P_fix = {}'.format(T_ave,p_fix)\n",
      "    if plotting:\n",
      "        axhline(y_n,color='k',label=r'$y_n$')\n",
      "        axhline(y_minus,color='b',label=r'$y_-$')\n",
      "        axhline(y_plus,color='b',label=r'$y_+$')\n",
      "        axhline(y_p,color='r',label=r'$y_p$')\n",
      "        legend()\n",
      "        grid()\n",
      "    return epidemic_size,fixed\n",
      "\n",
      "def get_parameters(N,alpha,beta):\n",
      "    critical_determinant = 4*alpha/(N*beta**2)\n",
      "    y_n = beta/alpha\n",
      "    if critical_determinant < 1:\n",
      "        y_minus = beta/(2*alpha)*(1 -  sqrt(1 - critical_determinant))\n",
      "        y_plus = beta/(2*alpha)*(1 +  sqrt(1 - critical_determinant))\n",
      "    else:\n",
      "        y_minus = -1\n",
      "        y_plus = -1\n",
      "    y_p = beta/(2*alpha)*(1 +  sqrt(1 + critical_determinant))\n",
      "    print r'y_n = {}, y_- = {}, y_+ = {}, y_p = {}, critical determinant = {}'.format(y_n,y_minus,y_plus,y_p,critical_determinant)\n",
      "    print r'n_n = {}'.format(y_n*N)\n",
      "    return y_n, y_minus, y_plus, y_p,critical_determinant\n",
      "\n",
      "\n",
      "def P_w_th(w,s):\n",
      "    return exp(-s**2*w/4)*w**(-1.5)/(2*sqrt(pi)*(1 + s))\n",
      "\n",
      "from scipy import integrate\n",
      "\n",
      "def s(y,alpha,beta):\n",
      "    def f(y):\n",
      "        return alpha*y**2\n",
      "    return f(y)/y - beta\n",
      "\n",
      "def P_fix(y0,alpha,beta,N):\n",
      "    def f(y):\n",
      "        return alpha*y**2\n",
      "\n",
      "    def a(y):\n",
      "        return f(y) - beta*y\n",
      "\n",
      "    def b(y):\n",
      "        return 1.0/N*(f(y) + (2 + beta)*y)\n",
      "\n",
      "    def psi(y,a,b):\n",
      "        return exp(-2*integrate.quad(lambda x: a(x)/b(x),0,y)[0])\n",
      "    return integrate.quad(lambda x: psi(x,a,b),0,y0)[0]/integrate.quad(lambda x: psi(x,a,b),0,1)[0]"
     ],
     "language": "python",
     "metadata": {},
     "outputs": [],
     "prompt_number": 207
    },
    {
     "cell_type": "markdown",
     "metadata": {},
     "source": [
      "Pick the parameters $n_n = N y_n$, $c_r \\equiv \\frac{4 \\alpha}{N \\beta^2}$, and $N$. This uniquely determines $\\alpha$ and $\\beta$."
     ]
    },
    {
     "cell_type": "code",
     "collapsed": false,
     "input": [
      "n_n = 10\n",
      "c_r = 15.5\n",
      "N = 1000\n",
      "beta = 4/(c_r*n_n)\n",
      "alpha = (N*beta)/n_n\n",
      "print N,alpha,beta\n",
      "\n",
      "y_n, y_minus,y_plus,y_p,critical_determinant = get_parameters(N,alpha,beta)"
     ],
     "language": "python",
     "metadata": {},
     "outputs": [
      {
       "output_type": "stream",
       "stream": "stdout",
       "text": [
        "1000 2.58064516129 0.0258064516129\n",
        "y_n = 0.01, y_- = -1, y_+ = -1, y_p = 0.0253100960116, critical determinant = 15.5\n",
        "n_n = 10.0\n"
       ]
      }
     ],
     "prompt_number": 214
    },
    {
     "cell_type": "code",
     "collapsed": false,
     "input": [
      "epidemic_sizes,fixed = run_epidemics(N,alpha,beta,num_trials=10000,plotting=0)\n",
      "#print (1.0/N)/y_p\n",
      "print P_fix(1.0/N,alpha,beta,N)"
     ],
     "language": "python",
     "metadata": {},
     "outputs": [
      {
       "output_type": "stream",
       "stream": "stdout",
       "text": [
        "y_n = 0.01, y_- = -1, y_+ = -1, y_p = 0.0253100960116, critical determinant = 15.5\n",
        "n_n = 10.0\n",
        "T_ave = 3.57057615859, P_fix = 0.0269"
       ]
      },
      {
       "output_type": "stream",
       "stream": "stdout",
       "text": [
        "\n",
        "0.0255411265348\n"
       ]
      }
     ],
     "prompt_number": 215
    },
    {
     "cell_type": "code",
     "collapsed": false,
     "input": [
      "hold(1)\n",
      "nbins = 30\n",
      "bins = np.logspace(0,log10(max(epidemic_sizes[fixed == 0])),nbins)\n",
      "hist(epidemic_sizes[fixed == 0],log=True,bins=bins,alpha=0.4,normed=True,label='simulation')\n",
      "xlabel('$w$',size=20)\n",
      "ylabel('$P(w)$',size=20)\n",
      "gca().set_xscale('log')\n",
      "w_range = np.logspace(0,log10(max(epidemic_sizes[fixed == 0])))\n",
      "P_w_th_range = P_w_th(w_range,s(sqrt(w_range)/N,alpha,beta))\n",
      "\n",
      "normed = sum(diff(w_range)*P_w_th_range[:-1])\n",
      "#normed = integrate.quad(lambda x: P_w_th(x,0),min(epidemic_sizes[fixed==0]),max(epidemic_sizes[fixed==0]))[0]\n",
      "plot(w_range,P_w_th_range/normed,label=r'$P(w) \\sim w^{-3/2}$ (theory)')\n",
      "plot(w_range,s(sqrt(w_range)/N,alpha,beta),label=r'$s(\\sqrt{w})$')\n",
      "axvline((2*y_p*N)**2,color = 'k',label=r'$w=4(y_p N)^2$')\n",
      "axvline((2*y_n*N)**2,color = 'k',label=r'$w=4(y_n N)^2$',linestyle='--')\n",
      "grid()\n",
      "if (y_minus > 0):\n",
      "    axvline((2*y_minus*N)**2,color = 'r',label=r'$w=4(y_- N)^2$')\n",
      "legend()"
     ],
     "language": "python",
     "metadata": {},
     "outputs": [
      {
       "metadata": {},
       "output_type": "pyout",
       "prompt_number": 216,
       "text": [
        "<matplotlib.legend.Legend at 0x18a67f10>"
       ]
      }
     ],
     "prompt_number": 216
    },
    {
     "cell_type": "markdown",
     "metadata": {},
     "source": [
      "We plot the theoretical prediction\n",
      "$$P(W = w) = \\frac{ e^{- s^2 w/4} w^{-3/2}}{2 \\sqrt{\\pi} (1 + s)}$$\n",
      "alongside the simulation results. We find that the distribution follows the power law until the epidemics become as large as the selection threshold. The relevant scale is when\n",
      "$\\frac{s^2 w}{4} \\sim 1$ or $w \\sim \\frac{4}{s^2}$. We then find an exponential cutoff."
     ]
    },
    {
     "cell_type": "code",
     "collapsed": false,
     "input": [
      "figure()\n",
      "w_range = np.logspace(0,log10(100*max(epidemic_sizes[fixed == 0])))\n",
      "semilogx(w_range,(s(sqrt(w_range)/N,alpha,beta)),label=r'$s(\\sqrt{w})$')\n"
     ],
     "language": "python",
     "metadata": {},
     "outputs": [
      {
       "metadata": {},
       "output_type": "pyout",
       "prompt_number": 217,
       "text": [
        "[<matplotlib.lines.Line2D at 0x191650d0>]"
       ]
      }
     ],
     "prompt_number": 217
    },
    {
     "cell_type": "markdown",
     "metadata": {},
     "source": [
      "TODO\n",
      "\n",
      "- Look at derivation for $P(W = w)$\n",
      "- Is $W$ actually the total number that have lived? Only if death rate $\\approx 1$\n",
      "- debug $s(w)$\n",
      "- look at datasets\n",
      "- think about graphs\n"
     ]
    },
    {
     "cell_type": "code",
     "collapsed": false,
     "input": [],
     "language": "python",
     "metadata": {},
     "outputs": [],
     "prompt_number": 98
    },
    {
     "cell_type": "code",
     "collapsed": false,
     "input": [
      "N_range = logspace(log10(10),log10(10000),10)\n",
      "P_fix_range = zeros_like(N_range)\n",
      "for i,N_curr in enumerate(N_range):\n",
      "    beta = 4/(c_r*n_n)\n",
      "    alpha = (N_curr*beta)/n_n\n",
      "    P_fix_range[i] = P_fix(1.0/N_curr,alpha,beta,N_curr) \n"
     ],
     "language": "python",
     "metadata": {},
     "outputs": [],
     "prompt_number": 146
    },
    {
     "cell_type": "code",
     "collapsed": false,
     "input": [
      "P_fix_range"
     ],
     "language": "python",
     "metadata": {},
     "outputs": [
      {
       "metadata": {},
       "output_type": "pyout",
       "prompt_number": 147,
       "text": [
        "array([ 0.09164327,  0.03823166,  0.01446392,  0.00502138,  0.00242695,\n",
        "        0.00228419,  0.00228419,  0.00228419,  0.00228419,  0.00228419])"
       ]
      }
     ],
     "prompt_number": 147
    },
    {
     "cell_type": "code",
     "collapsed": false,
     "input": [
      "loglog(N_range,P_fix_range)"
     ],
     "language": "python",
     "metadata": {},
     "outputs": [
      {
       "metadata": {},
       "output_type": "pyout",
       "prompt_number": 150,
       "text": [
        "[<matplotlib.lines.Line2D at 0x7748dd0>]"
       ]
      }
     ],
     "prompt_number": 150
    },
    {
     "cell_type": "code",
     "collapsed": false,
     "input": [],
     "language": "python",
     "metadata": {},
     "outputs": []
    }
   ],
   "metadata": {}
  }
 ]
}