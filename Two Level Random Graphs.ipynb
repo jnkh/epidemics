{
 "cells": [
  {
   "cell_type": "markdown",
   "metadata": {},
   "source": [
    "# Theory\n"
   ]
  },
  {
   "cell_type": "markdown",
   "metadata": {},
   "source": [
    "We imagine a collection of Erdos-Renyi Random Graphs.\n",
    "\n",
    "Want to calculate the probability distribution of the distribution of infecteds $x$ among the different graphs, given the overall fraction of infected $y$.\n",
    "\n",
    "If we let $x_i$ be the fraction of infecteds in subgraph $i$, we expect a universal probability distribution $P(x_i | y)$. Due to symmetry, we further expect $P(x_i | y) = P(x|y)$ to be independent of $i$.\n",
    "\n",
    "If we assume stationarity, we can find an equilibrium distribution $P(x | y)$. I.e. we assume an overal prevalence $y$ of infecteds, and conditioned on this $y$ find which stationary distribution of $x$ emerges.\n",
    "\n",
    "Given $P(x | y)$ we can calculate $<x>$ and $<x^2>$, which gives us an $s_{eff}(x)$ in each of the subgraphs. \n",
    "\n",
    "We expect $x$ to be concentrated as $y$ is small, and then we expect it to gradually spread out as $y$ becomes larger."
   ]
  },
  {
   "cell_type": "markdown",
   "metadata": {},
   "source": [
    "## Stationary Distribution $P(x | y)$\n",
    "\n",
    "Assume we have a regular two-level erdos-renyi graph with N total nodes. There are $n$ subgraphs of $m$ nodes each. Each node has $r$ connections randomly among all other subgraphs and $l$ connections randomly among its own subgraph.\n",
    "\n",
    "We assume that for each individual independently\n",
    "\n",
    "$$P_{death} \\sim N \\bar{y} (1 - y) (1 + \\beta)$$\n",
    "$$P_{birth} \\sim N y (1 - \\bar{y}) (1 + \\alpha y)$$\n",
    "\n",
    "$y$ stands for the local density, whereas $\\bar{y}$ stands for the average density throughout the entire graph.\n",
    "The $y (1 - y)$ terms arise in different ways. In the death process, we require an infected to die ($\\bar{y}$) pick the type (infected or susceptible) from a random neighbor upon death ($1 - y$). For the birth process, we need to be susceptible ($1 - \\bar{y}$) in order to undergo birth in the first place. However we have an independent probability from each neighbor of being infected ($y$). If we want to find the expectation of these quantities, we need\n",
    "\n",
    "$$N_{death} \\sim N \\bar{y} (1 - <y>) (1 + \\beta)$$\n",
    "$$N_{birth} \\sim N (1 - \\bar{y}) (<y> + \\alpha <y^2>)$$\n",
    "\n",
    "per individual, we have\n",
    "\n",
    "$$P_{death} \\sim (1 - <y>) (1 + \\beta)$$\n",
    "$$P_{birth} \\sim (<y> + \\alpha <y^2>)$$\n",
    "\n",
    "Due to the nonlinearity, we need the expectation of $<y^2>$ as well.\n",
    "\n",
    "Now describe our system by a vector $\\vec{a} = (a_0, a_1, ... , a_m)$ Where $a_j$ describes the number of subgraphs with $j$ infecteds. We of course only have $n$ subnodes, which requires\n",
    "$$\\sum_{j = 0}^m a_j = n $$\n",
    "Since we must have $N y$ infecteds total, this requires a normalization\n",
    "$$\\sum_{j = 0}^m j a_j = N y$$\n",
    "\n",
    "We imagine a stationary process where we randomly remove one infected individual and then randomly add one infected invidual. This process should relax to an equilibrium distribution"
   ]
  },
  {
   "cell_type": "markdown",
   "metadata": {},
   "source": [
    "### Transition probabilities\n",
    "\n",
    "Let us consider a node in a subgraph with $j$ total infecteds. This node has degree $r + l$. Let us find out $y$. We know inside the subgraph the prevalence is $\\frac{j}{m}$. Outside, the prevalence is $\\bar{y}$. Thus, we have $y = \\frac{i_r + i_l}{r + l}$, where $i_r$ and $i_l$ are binomially distributed random variables:\n",
    "$$i_l \\sim Binom(l,\\frac{j}{m})$$\n",
    "$$i_r \\sim Binom(r,\\bar{y})$$\n",
    "\n",
    "With means $<i_l> = \\frac{l j}{m}$ and $<i_r> = r \\bar{y}$. Thus we have $$y_{local} = y = \\frac{l \\frac{j}{m} +r \\bar{y}}{l  + r}$$\n",
    "in expectation. If the nodes is itself infected, it is part of the $j$ nodes, so we would really have\n",
    "$$y_{local} = y = \\frac{l \\frac{j-1}{m} +r \\bar{y}}{l  + r}$$ in that case.\n",
    "\n",
    "For $<y^2>$ we have \n",
    "$$<y^2> = \\left< \\frac{i_r^2 + i_r i_l + i_l^2}{(r + l)^2} \\right> = \n",
    "\\frac{<i_r^2> + <i_l^2> + <i_r><i_l>}{(r + l)^2} = \\frac{r \\bar{y} ((r - 1) \\bar{y} + 1) + l \\frac{j}{m}((l - 1) \\frac{j}{m} + 1) + l r \\frac{j}{m} \\bar{y}}{(r + l)^2} $$\n",
    "\n",
    "We have $Var[x] = E[x^2] - E[x]^2$ For the binomial distribution,\n",
    "$E[x^2] = Var[x] + E[x]^2 = n p (1 - p)  + n^2 p^2 = n p ((n - 1) p + 1)$\n",
    "\n",
    "Now consider an individual in a subgraph with $j$ infecteds. If he is infected, his probability of being removed ($a_j -= 1$, $a_{j - 1} += 1$)is\n",
    "\n",
    "$$a_j j <P_{death,j}> =  a_j j (1 - <y_j>) (1 + \\beta)$$\n",
    "\n",
    "If he is susceptible, his probability of being added is\n",
    "\n",
    "$$ a_j (m - j) <P_{birth,j}> = (<y_j> + \\alpha <y_j^2>) $$\n",
    "\n",
    "We develop a markov chain where we apply one birth and one death process simultaneously and then observe the resulting equilibrium distribution."
   ]
  },
  {
   "cell_type": "markdown",
   "metadata": {},
   "source": [
    "## TODO\n",
    "\n",
    "- Run simulations of actual two-level Erdos-Renyi random graphs\n",
    "- Compare these simulations with the stationary process and see if the observed distribution $P(x | y)$ matches."
   ]
  },
  {
   "cell_type": "code",
   "execution_count": 2,
   "metadata": {
    "collapsed": false
   },
   "outputs": [],
   "source": [
    "using StatsBase, PyPlot, Distributions, LightGraphs, TwoLevel"
   ]
  },
  {
   "cell_type": "code",
   "execution_count": 7,
   "metadata": {
    "collapsed": false
   },
   "outputs": [
    {
     "data": {
      "text/plain": [
       "death_get_number_weight (generic function with 1 method)"
      ]
     },
     "execution_count": 7,
     "metadata": {},
     "output_type": "execute_result"
    }
   ],
   "source": [
    "\n",
    "#implement the MCMC exploration of the state space\n",
    "\n",
    "##TODO: successive steps, not same time steps.\n",
    "\n",
    "function run_mcmc_transition(t::TwoLevel,death_fn::Function,birth_fn::Function,plotting=false)\n",
    "    death_probs = zeros(t.m)\n",
    "    birth_probs = zeros(t.m)\n",
    "\n",
    "    #birth\n",
    "    for j = 1:t.m\n",
    "        birth_probs[j] = birth_fn(t,j)\n",
    "    end\n",
    "    \n",
    "    birth_idx = StatsBase.sample(WeightVec(birth_probs))\n",
    "    birth_at(t,birth_idx)\n",
    "    \n",
    "    #death\n",
    "    for j = 1:t.m\n",
    "        death_probs[j] = death_fn(t,j)\n",
    "    end\n",
    "    death_idx = StatsBase.sample(WeightVec(death_probs))\n",
    "    death_at(t,death_idx)\n",
    "    \n",
    "\n",
    "#     semilogy(birth_probs/death_probs)\n",
    "#     println(birth_probs)\n",
    "#     println(death_probs)\n",
    "end\n",
    "\n",
    "function birth_at(t::TwoLevel,idx::Int)\n",
    "    t.a[idx] -= 1\n",
    "    t.a[idx+1] += 1\n",
    "end\n",
    "\n",
    "function death_at(t::TwoLevel,idx::Int)\n",
    "    t.a[idx+1] -= 1\n",
    "    t.a[idx] += 1\n",
    "end\n",
    "\n",
    "function birth_fn(t::TwoLevel,j::Int,alpha=1.0)\n",
    "    number_weight = birth_get_number_weight(t,j)\n",
    "    \n",
    "    y_global = t.i/t.N\n",
    "    y_local = (t.l*j/t.m + r*y_global)/(t.r + t.l)\n",
    "    y_squared_local = (t.r*y_global*((t.r - 1)* y_global + 1) + t.l*j/t.m*((t.l - 1)*j/t.m + 1) + t.l* t.r* j/t.m* y_global)/(t.r + t.l)^2 \n",
    "    \n",
    "    return number_weight*(y_local + alpha*y_squared_local)\n",
    "    \n",
    "end\n",
    "    \n",
    "function death_fn(t::TwoLevel,j::Int,beta=0.1)\n",
    "    number_weight = death_get_number_weight(t,j)\n",
    "    y_global = t.i/t.N\n",
    "    y_local = (t.l*(j-1)/t.m + r*y_global)/(t.r + t.l)\n",
    "    \n",
    "    return number_weight*(1 - y_local)*(1 + beta)\n",
    "    \n",
    "end\n",
    "\n",
    "function birth_get_number_weight(t::TwoLevel,j::Int)\n",
    "    return t.a[j]*(t.m-(j-1))\n",
    "end\n",
    "\n",
    "function death_get_number_weight(t::TwoLevel,j::Int)\n",
    "    return t.a[j+1]*(j)\n",
    "end\n",
    "\n"
   ]
  },
  {
   "cell_type": "code",
   "execution_count": 95,
   "metadata": {
    "collapsed": false
   },
   "outputs": [
    {
     "name": "stdout",
     "output_type": "stream",
     "text": [
      "N=400, alpha = 88.88888888888889, beta = 2.2222222222222223\n"
     ]
    },
    {
     "data": {
      "text/plain": [
       "true"
      ]
     },
     "execution_count": 95,
     "metadata": {},
     "output_type": "execute_result"
    },
    {
     "name": "stdout",
     "output_type": "stream",
     "text": [
      "[0,0,0,0,0,0,0,10,0,0,0,0,0,0,0,0,0,0,0,0,0,0,0,0,0,0,0,0,0,0,0,0,0,0,0,0,0,0,0,0,0] 10\n",
      "0.175\n"
     ]
    }
   ],
   "source": [
    "k = 4\n",
    "#y_n = 0.1\n",
    "c_r = 0.18\n",
    "N = 400\n",
    "n_n = 10#y_n*N\n",
    "beta = 4.0/(c_r*n_n)\n",
    "alpha = (N*beta)/n_n\n",
    "println(\"N=$N, alpha = $alpha, beta = $beta\")\n",
    "\n",
    "\n",
    "#Generate a random startin vector\n",
    "m = 40\n",
    "n = Int(N/m)\n",
    "l = Int(m/2)#internal\n",
    "r = Int(m/2)#2 #external\n",
    "\n",
    "t = TwoLevel(N,m,l,r)\n",
    "\n",
    "y_desired = 0.2\n",
    "#distribute_randomly(t,n)\n",
    "t.a[max(1,Int(round(y_desired*t.m)))] = t.n\n",
    "make_consistent(t)\n",
    "i = get_num_infected(t)\n",
    "println(t.a,\" \", sum(t.a))\n",
    "println(t.i/t.N)\n",
    "is_valid(t)"
   ]
  },
  {
   "cell_type": "code",
   "execution_count": 511,
   "metadata": {
    "collapsed": false
   },
   "outputs": [
    {
     "name": "stdout",
     "output_type": "stream",
     "text": [
      "TwoLevel("
     ]
    },
    {
     "data": {
      "image/png": "[encoded data removed]",
      "text/plain": [
       "PyPlot.Figure(PyObject <matplotlib.figure.Figure object at 0x32a10e190>)"
      ]
     },
     "metadata": {},
     "output_type": "display_data"
    },
    {
     "data": {
      "image/png": "[encoded data removed]",
      "text/plain": [
       "PyPlot.Figure(PyObject <matplotlib.figure.Figure object at 0x325cc0190>)"
      ]
     },
     "metadata": {},
     "output_type": "display_data"
    },
    {
     "name": "stdout",
     "output_type": "stream",
     "text": [
      "[1,1,1,2,0,0,0,1,0,1,0,0,0,1,0,1,0,1,0,0,0,0,0,0,0,0,0,0,0,0,0,0,0,0,0,0,0,0,0,0,0],400,40,10,70,16,20)\n"
     ]
    }
   ],
   "source": [
    "accum = zeros(t.a)\n",
    "dfn(x) = 1\n",
    "bfn(x) = 1\n",
    "plot(t.a)\n",
    "num_trials = 100000\n",
    "for i = 1:num_trials\n",
    "    run_mcmc_transition(t,((x,y) -> death_fn(x,y,beta)),((x,y) -> birth_fn(x,y,alpha)),true)\n",
    "accum += t.a\n",
    "end\n",
    "accum /= num_trials\n",
    "figure()\n",
    "plot(accum,\"r\")\n",
    "# accum *= 0\n",
    "# for i = 1:num_trials\n",
    "#     run_mcmc_transition(t,death_get_number_weight,birth_get_number_weight)\n",
    "# accum += t.a\n",
    "# end\n",
    "# accum /= num_trials\n",
    "# plot(accum,\"g\")\n",
    "# accum *= 0\n",
    "# for i = 1:num_trials\n",
    "#     run_mcmc_transition(t,((x,y) -> death_fn(x,y,beta)),((x,y) -> birth_fn(x,y,alpha)))\n",
    "# accum += t.a\n",
    "# end\n",
    "# accum /= num_trials\n",
    "# plot(accum,\"k\")\n",
    "println(t)\n"
   ]
  },
  {
   "cell_type": "markdown",
   "metadata": {},
   "source": [
    "Simulation Strategy: first burn in the distribution with neutral transition probabilities to sample different starting configurations. Then apply real transition functions to sample the distribution."
   ]
  },
  {
   "cell_type": "markdown",
   "metadata": {},
   "source": [
    "## Graph generation"
   ]
  },
  {
   "cell_type": "markdown",
   "metadata": {},
   "source": [
    "We wish to generate two-level Erdos-Renyi random graphs. The central idea is that each individual subgraph is a simple ER random graph. These can be produced independently. Moreover, we can then view each subgraph as a supernode and produce another ER random graph connecting these super nodes with the appropriate amount of edges. In the final step we then uniformly distribute the edges between the super nodes among the actual nodes that make up the super nodes."
   ]
  },
  {
   "cell_type": "code",
   "execution_count": 5,
   "metadata": {
    "collapsed": false
   },
   "outputs": [],
   "source": [
    "using LightGraphs"
   ]
  },
  {
   "cell_type": "code",
   "execution_count": 98,
   "metadata": {
    "collapsed": false
   },
   "outputs": [
    {
     "data": {
      "text/plain": [
       "sample_in_edges (generic function with 1 method)"
      ]
     },
     "execution_count": 98,
     "metadata": {},
     "output_type": "execute_result"
    }
   ],
   "source": []
  },
  {
   "cell_type": "code",
   "execution_count": 96,
   "metadata": {
    "collapsed": false
   },
   "outputs": [
    {
     "name": "stdout",
     "output_type": "stream",
     "text": [
      "379 "
     ]
    },
    {
     "data": {
      "text/plain": [
       "TwoLevelGraph({400, 7768} undirected graph,TwoLevel([0,0,0,0,0,0,0,10,0,0  …  0,0,0,0,0,0,0,0,0,0],400,40,10,70,20,20),[[1,2,3,4,5,6,7,8,9,10  …  31,32,33,34,35,36,37,38,39,40],[41,42,43,44,45,46,47,48,49,50  …  71,72,73,74,75,76,77,78,79,80],[81,82,83,84,85,86,87,88,89,90  …  111,112,113,114,115,116,117,118,119,120],[121,122,123,124,125,126,127,128,129,130  …  151,152,153,154,155,156,157,158,159,160],[161,162,163,164,165,166,167,168,169,170  …  191,192,193,194,195,196,197,198,199,200],[201,202,203,204,205,206,207,208,209,210  …  231,232,233,234,235,236,237,238,239,240],[241,242,243,244,245,246,247,248,249,250  …  271,272,273,274,275,276,277,278,279,280],[281,282,283,284,285,286,287,288,289,290  …  311,312,313,314,315,316,317,318,319,320],[321,322,323,324,325,326,327,328,329,330  …  351,352,353,354,355,356,357,358,359,360],[361,362,363,364,365,366,367,368,369,370  …  391,392,393,394,395,396,397,398,399,400]])"
      ]
     },
     "execution_count": 96,
     "metadata": {},
     "output_type": "execute_result"
    },
    {
     "name": "stdout",
     "output_type": "stream",
     "text": [
      "780 0.5128205128205128\n",
      "377 780 0.5128205128205128\n",
      "389 780 0.5128205128205128\n",
      "401 780 0.5128205128205128\n",
      "417 780 0.5128205128205128\n",
      "398 780 0.5128205128205128\n",
      "412 780 0.5128205128205128\n",
      "385 780 0.5128205128205128\n",
      "375 780 0.5128205128205128\n",
      "403 780 0.5128205128205128\n"
     ]
    }
   ],
   "source": [
    "TwoLevelGraph(t)"
   ]
  },
  {
   "cell_type": "code",
   "execution_count": 74,
   "metadata": {
    "collapsed": false
   },
   "outputs": [
    {
     "data": {
      "text/plain": [
       "1"
      ]
     },
     "execution_count": 74,
     "metadata": {},
     "output_type": "execute_result"
    }
   ],
   "source": [
    "rand(Binomial(5,0.2))"
   ]
  },
  {
   "cell_type": "code",
   "execution_count": 97,
   "metadata": {
    "collapsed": false
   },
   "outputs": [
    {
     "name": "stdout",
     "output_type": "stream",
     "text": [
      "402 780 0.5128205128205128\n",
      "396 780 0.5128205128205128\n",
      "407 780 0.5128205128205128\n",
      "428 780 0.5128205128205128\n",
      "376 780 0.5128205128205128\n",
      "402 780 0.5128205128205128\n",
      "414 780 0.5128205128205128\n",
      "405 780 0.5128205128205128\n",
      "399 780 0.5128205128205128\n",
      "402 780 0.5128205128205128\n",
      "[36,37,34,44,33,47,41,39,36,36,37,42,40,27,41,39,40,28,40,43,40,34,32,39,38,42,38,36,54,46,41,41,39,36,35,35,35,38,35,33,35,42,29,46,33,44,37,42,47,33,45,42,47,39,32,33,35,36,43,34,41,29,33,35,44,39,47,44,39,39,40,46,42,36,37,35,35,45,38,38,39,28,39,49,35,38,34,49,40,43,45,39,44,41,39,43,40,30,42,41,38,36,35,46,40,40,31,46,39,37,37,36,41,43,40,43,40,44,43,26,26,39,41,45,40,43,46,43,46,46,42,40,40,40,37,48,42,42,44,40,46,41,40,46,47,56,34,44,42,39,38,44,35,42,37,37,34,47,45,34,35,38,37,45,37,36,48,49,48,32,36,38,35,40,42,33,35,30,40,31,41,34,38,31,42,32,44,33,37,39,46,42,32,35,34,36,39,38,37,28,41,37,39,43,35,35,32,37,38,34,43,42,38,38,43,43,35,32,34,43,41,34,33,39,39,38,39,46,46,44,40,37,45,46,45,32,43,43,35,36,35,43,43,47,35,38,47,43,37,47,38,40,37,33,47,48,36,28,44,38,41,44,34,43,43,39,41,41,43,45,42,49,36,38,41,29,47,39,31,31,31,42,35,48,37,43,39,44,47,48,38,44,37,38,38,35,29,34,45,38,54,31,37,40,44,32,38,45,46,41,44,37,33,47,38,28,46,39,37,26,38,47,30,39,26,43,43,42,36,49,36,39,42,41,49,45,34,35,41,43,53,30,37,35,36,46,38,41,46,44,52,46,37,42,35,35,34,39,39,37,37,35,36,41,31,37,33,41,40,41,33,30,41,39,42,40,45,37,42,38,48,35,41,40,32,37,45,36,37,42,40,36,36,42,36,33,43,43,37,30]39.22\n",
      "i: 1, [4,7,8,9,12,15,17,20,21,23,27,28,30,31,33,35,36,39,41,58,63,75,92,111,141,142,158,163,168,215,275,319,330,337,343,385])\n",
      "i: 2, [3,4,9,10,11,15,17,18,19,20,21,22,25,28,29,30,32,34,35,36,40,55,69,71,108,122,123,154,266,277,280,291,296,302,354,363,371])\n",
      "i: 3, [2,4,8,11,12,13,24,25,26,27,31,32,33,34,37,38,40,60,69,94,96,154,160,180,232,242,243,244,288,303,329,352,353,387])\n",
      "i: 4, [1,2,3,5,10,11,12,15,18,19,20,21,24,25,26,27,30,32,33,34,35,38,39,40,54,80,83,115,153,168,189,216,265,270,280,290,333,340,357,358,371,372,382,399])\n",
      "i: 5, [4,6,7,10,13,14,16,18,20,21,23,25,30,32,36,39,55,59,73,79,90,96,111,112,120,182,267,303,326,331,377,390,397])\n",
      "i: 6, [5,7,9,11,12,13,14,15,19,20,22,24,26,28,29,32,33,34,37,38,39,47,72,73,104,114,118,123,126,152,156,169,179,183,191,210,233,242,250,263,272,286,317,340,346,368,383])\n",
      "i: 7, [1,5,6,9,10,11,13,14,19,20,21,23,26,27,29,30,31,33,37,38,39,40,57,86,107,113,128,158,159,183,194,196,200,233,278,286,296,343,346,350,372])\n",
      "i: 8, [1,3,9,11,14,15,18,19,20,21,22,23,24,25,26,27,28,29,31,32,34,35,36,37,40,98,135,136,203,208,228,250,253,317,319,321,377,383,394])\n",
      "i: 9, [1,2,6,7,8,10,12,15,16,19,21,23,24,27,28,29,35,36,37,38,39,40,67,98,101,156,162,183,185,186,214,274,290,330,333,359])\n",
      "i: 10, [2,4,5,7,9,11,12,15,16,17,20,21,24,28,30,31,36,37,38,69,94,104,106,138,169,210,235,242,300,301,314,352,356,370,375,396])\n",
      "i: 11, [2,3,4,6,7,8,10,13,14,15,17,21,25,27,28,31,37,49,57,61,66,73,90,104,113,125,146,152,203,247,266,275,301,314,331,375,396])\n",
      "i: 12, [1,3,4,6,9,10,15,16,17,20,22,24,25,28,29,31,32,33,34,38,46,67,144,155,185,195,208,212,220,229,255,272,302,303,305,316,331,345,348,366,370,388])\n",
      "i: 13, [3,5,6,7,11,17,18,19,21,24,25,27,28,29,30,31,32,33,34,35,37,38,39,68,71,122,145,168,173,174,176,190,192,227,246,255,269,341,346,383])\n",
      "i: 14, [5,6,7,8,11,16,19,21,24,25,27,29,30,32,34,36,37,38,39,72,117,231,247,350,376,386,396])\n",
      "i: 15, [1,2,4,6,8,9,10,11,12,16,17,18,20,22,24,25,27,28,31,38,40,62,76,80,130,131,148,152,171,175,214,224,241,247,263,267,271,314,347,351,398])\n",
      "i: 16, [5,9,10,12,14,15,17,18,19,20,21,22,23,25,26,27,29,30,31,32,35,38,39,47,78,117,139,200,213,227,246,276,284,291,306,309,366,368,375])\n",
      "i: 17, [1,2,10,11,12,13,15,16,20,21,23,24,28,29,30,31,33,35,37,44,65,103,107,135,181,204,211,212,216,223,252,277,283,292,305,306,309,374,377,381])\n",
      "i: 18, [2,4,5,8,13,15,16,19,24,26,27,29,30,35,36,42,51,93,110,119,123,133,158,237,268,314,328,400])\n",
      "i: 19, [2,4,6,7,8,9,13,14,16,18,20,23,24,25,27,29,30,32,33,35,37,39,50,66,80,105,116,142,156,189,210,211,236,256,265,332,366,370,373,384])\n",
      "i: 20, [1,2,4,5,6,7,8,10,12,15,16,17,19,25,26,30,31,35,38,40,46,66,77,81,97,118,119,143,154,167,205,220,236,244,251,266,335,342,346,352,361,362,378])\n",
      "i: 21, [1,2,4,5,7,8,9,10,11,13,14,16,17,22,24,26,27,28,31,32,33,34,37,38,39,42,44,58,70,97,143,211,216,226,252,255,258,314,351,387])\n",
      "i: 22, [2,6,8,12,15,16,21,25,26,27,28,30,31,32,35,39,46,51,88,98,103,155,164,193,226,270,304,306,318,323,333,345,367,396])\n",
      "i: 23, [1,5,7,8,9,16,17,19,24,30,31,32,34,35,36,38,81,107,109,112,113,125,162,177,191,192,220,222,275,299,326,400])\n",
      "i: 24, [3,4,6,8,9,10,12,13,14,15,17,18,19,21,23,26,28,30,31,32,33,37,39,53,59,78,80,97,147,149,172,181,182,209,227,233,264,267,324])\n",
      "i: 25, [2,3,4,5,8,11,12,13,14,15,16,19,20,22,26,29,31,34,35,37,38,39,44,60,76,85,143,146,151,177,205,212,241,245,304,319,352,365])\n",
      "i: 26, [3,4,6,7,8,16,18,20,21,22,24,25,27,29,30,31,32,33,36,37,38,41,44,51,75,86,93,115,122,125,158,160,200,205,227,240,272,309,333,336,371,399])\n",
      "i: 27, [1,3,4,7,8,9,11,13,14,15,16,18,19,21,22,26,28,29,31,32,35,44,56,93,94,101,206,220,222,230,250,265,283,290,305,317,350,389])\n",
      "i: 28, [1,2,6,8,9,10,11,12,13,15,17,21,22,24,27,29,30,31,33,34,35,38,47,89,128,159,179,194,209,226,247,251,255,274,284,391])\n",
      "i: 29, [2,6,7,8,9,12,13,14,16,17,18,19,25,26,27,28,30,31,32,33,34,37,39,47,52,79,80,90,92,97,127,132,146,159,170,174,185,204,212,233,235,257,291,298,307,327,329,334,342,348,350,383,390,396])\n",
      "i: 30, [1,2,4,5,7,10,13,14,16,17,18,19,20,22,23,24,26,28,29,31,37,40,51,69,72,75,81,99,108,111,114,133,138,153,162,174,197,198,216,219,221,284,301,319,340,397])\n",
      "i: 31, [1,3,7,8,10,11,12,13,15,16,17,20,21,22,23,24,25,26,27,28,29,30,34,35,62,69,70,120,128,215,254,258,299,308,322,327,335,349,377,378,381])\n",
      "i: 32, [2,3,4,5,6,8,12,13,14,16,19,21,22,23,24,26,27,29,37,38,39,49,95,114,115,156,159,197,234,244,249,278,289,290,291,314,331,369,375,377,381])\n",
      "i: 33, [1,3,4,6,7,12,13,17,19,21,24,26,28,29,34,36,37,39,40,94,118,141,148,150,165,185,189,196,223,254,263,280,283,310,332,352,356,376,377])\n",
      "i: 34, [2,3,4,6,8,12,13,14,21,23,25,28,29,31,33,35,36,38,40,71,135,151,200,223,224,227,230,256,280,308,313,330,340,365,371,387])\n",
      "i: 35, [1,2,4,8,9,13,16,17,18,19,20,22,23,25,27,28,31,34,39,40,49,52,111,126,129,140,142,146,165,272,275,276,284,297,307])\n",
      "i: 36, [1,2,5,8,9,10,14,18,23,26,33,34,37,43,62,73,94,101,147,187,190,202,204,215,228,248,263,265,285,326,369,374,380,384,395])\n",
      "i: 37, [3,6,7,8,9,10,11,13,14,17,19,21,24,25,26,29,30,32,33,36,62,67,82,90,106,123,161,259,302,309,335,343,356,361,379])\n",
      "i: 38, [3,4,6,7,9,10,12,13,14,15,16,20,21,23,25,26,28,32,34,39,40,42,45,53,116,137,144,168,171,202,212,244,262,297,344,356,377,387])\n",
      "i: 39, [1,4,5,6,7,9,13,14,16,19,21,22,24,25,29,32,33,35,38,53,86,118,123,127,128,154,167,197,238,267,284,307,325,341,342])\n",
      "i: 40, [2,3,4,7,8,9,15,20,30,33,34,35,38,57,78,89,97,113,117,132,156,170,200,259,262,289,290,337,341,361,364,369,391])\n",
      "i: 41, [1,26,44,47,48,49,52,55,57,60,61,63,67,68,70,71,73,75,76,79,84,110,114,151,213,217,246,256,259,264,276,320,340,367,397])\n",
      "i: 42, [18,21,38,43,44,49,50,51,55,57,58,59,60,61,62,65,68,69,70,72,74,75,76,80,87,91,94,111,120,137,149,167,201,229,254,293,318,366,377,381,394,398])\n",
      "i: 43, [36,42,44,48,51,52,53,64,65,66,67,71,72,73,74,77,78,80,81,108,114,120,143,146,159,187,227,237,238])\n",
      "i: 44, [17,21,25,26,27,41,42,43,45,50,51,52,55,58,59,60,61,64,65,66,67,70,72,73,74,75,78,79,80,94,118,132,145,155,163,165,179,225,252,281,310,350,354,379,387,390])\n",
      "i: 45, [38,44,46,47,50,53,54,56,58,60,61,63,65,70,72,76,79,94,102,103,141,158,159,160,181,192,206,255,286,291,344,358,376])\n",
      "i: 46, [12,20,22,45,47,49,51,52,53,54,55,59,60,62,64,66,68,69,72,73,74,77,78,79,98,108,140,143,144,161,174,178,204,218,219,220,228,242,249,275,282,295,329,391])\n",
      "i: 47, [6,16,28,29,41,45,46,49,50,51,53,54,59,60,61,63,66,67,69,70,71,73,77,78,79,80,84,112,171,176,235,273,297,301,336,351,383])\n",
      "i: 48, [41,43,49,51,54,55,58,59,60,61,62,63,64,65,66,67,68,69,71,72,74,75,76,80,114,115,135,144,161,166,198,223,234,247,267,277,289,306,324,331,334,397])\n",
      "i: 49, [11,32,35,41,42,46,47,48,50,52,55,56,59,61,63,64,67,68,69,75,76,77,78,79,81,89,106,116,125,126,136,176,188,189,190,217,226,229,244,252,293,307,312,339,344,367,370])\n",
      "i: 50, [19,42,44,45,47,49,51,52,55,56,57,60,61,64,68,70,71,76,77,78,175,184,215,222,223,237,264,273,282,295,314,342,358])\n",
      "i: 51, [18,22,26,30,42,43,44,46,47,48,50,53,54,55,57,61,65,67,68,71,77,92,136,141,142,154,155,157,216,245,275,292,303,311,346,351,357,362,367,374,381,386,390,394,396])\n",
      "i: 52, [29,35,41,43,44,46,49,50,55,56,57,60,62,64,65,68,69,71,72,73,74,78,91,104,142,162,168,170,210,213,234,241,276,290,312,329,336,349,356,367,375,386])\n",
      "i: 53, [24,38,39,43,45,46,47,51,57,58,59,61,64,65,67,68,69,70,71,72,73,74,75,77,78,79,83,107,113,122,150,188,225,228,234,244,261,285,288,294,301,326,332,349,365,373,383])\n",
      "i: 54, [4,45,46,47,48,51,56,59,61,64,65,67,69,70,72,74,76,77,78,79,86,98,106,116,158,168,178,180,199,219,224,239,262,276,284,299,326,346,377])\n",
      "i: 55, [2,5,41,42,44,46,48,49,50,51,52,56,57,58,60,62,64,65,67,68,71,78,80,146,148,204,244,262,298,351,358,397])\n",
      "i: 56, [27,45,49,50,52,54,55,57,58,59,60,61,62,63,65,66,67,69,71,72,75,78,79,163,210,233,240,255,262,282,353,368,395])\n",
      "i: 57, [7,11,40,41,42,50,51,52,53,55,56,60,61,63,64,68,69,70,71,73,75,77,111,185,199,204,229,251,272,276,285,325,334,346,400])\n",
      "i: 58, [1,21,42,44,45,48,53,55,56,59,64,66,67,69,70,75,76,97,105,118,127,129,154,161,168,171,194,197,232,277,292,306,308,353,371,390])\n",
      "i: 59, [5,24,42,44,46,47,48,49,53,54,56,58,60,63,64,65,67,69,70,72,73,75,77,79,99,123,137,141,153,158,207,227,267,284,285,286,309,311,317,336,359,366,373])\n",
      "i: 60, [3,25,41,42,44,45,46,47,48,50,52,55,56,57,59,65,66,70,71,75,78,80,88,92,132,134,152,201,251,273,294,302,312,388])\n",
      "i: 61, [11,41,42,44,45,47,48,49,50,51,53,54,56,57,62,66,67,68,71,72,73,74,77,78,79,113,119,131,147,164,166,188,191,193,201,230,247,251,284,285,354])\n",
      "i: 62, [15,31,36,37,42,46,48,52,55,56,61,65,66,67,68,70,71,72,75,79,127,149,175,262,276,282,326,365,375])\n",
      "i: 63, [1,41,45,47,48,49,56,57,59,64,70,71,72,74,75,76,78,116,147,167,172,187,194,204,209,261,262,263,282,326,341,363,375])\n",
      "i: 64, [43,44,46,48,49,50,52,53,54,55,57,58,59,63,66,68,70,71,72,73,77,79,89,126,138,152,167,192,216,267,274,312,314,347,388])\n",
      "i: 65, [17,42,43,44,45,48,51,52,53,54,55,56,59,60,62,66,69,71,74,75,77,78,79,85,106,114,142,155,197,217,223,230,249,250,318,319,330,347,349,350,353,369,376,391])\n",
      "i: 66, [11,19,20,43,44,46,47,48,56,58,60,61,62,64,65,67,69,70,71,72,73,76,77,78,128,135,147,168,220,227,243,274,288,302,335,373,379,396,399])\n",
      "i: 67, [9,12,37,41,43,44,47,48,49,51,53,54,55,56,58,59,61,62,66,68,69,71,72,75,101,119,162,167,171,189,260,262,266,271,278,285,293,306,319,326,328,333,340,344,365,391,398])\n",
      "i: 68, [13,41,42,46,48,49,50,51,52,53,55,57,61,62,64,67,69,70,71,73,75,78,104,105,140,150,151,171,177,182,203,214,227,249,259,268,293,310,317,319,341,379,382,394])\n",
      "i: 69, [2,3,10,30,31,42,46,47,48,49,52,53,54,56,57,58,59,65,66,67,68,70,71,72,73,77,79,90,109,153,180,188,272,281,299,314,315,332,399])\n",
      "i: 70, [21,31,41,42,44,45,47,50,53,54,57,58,59,60,62,63,64,66,68,69,71,77,80,125,133,144,146,158,188,197,215,218,247,290,322,330,384,393,398])\n",
      "i: 71, [2,13,34,41,43,47,48,50,51,52,53,55,56,57,60,61,62,63,64,65,66,67,68,69,70,74,75,88,94,127,133,145,148,165,184,191,214,248,252,350])\n",
      "i: 72, [6,14,30,42,43,44,45,46,48,52,53,54,56,59,61,62,63,64,66,67,69,77,78,79,91,95,109,113,114,132,135,175,240,248,253,256,272,288,292,331,335,339,344,353,354,380])\n",
      "i: 73, [5,6,11,36,41,43,44,46,47,52,53,57,59,61,64,66,68,69,74,76,77,79,80,99,103,107,115,139,197,215,225,254,255,257,278,289,311,340,353,364,390,391])\n",
      "i: 74, [42,43,44,46,48,52,53,54,61,63,65,71,73,75,76,78,80,88,90,166,169,182,183,199,202,211,253,257,270,289,300,330,341,348,381,397])\n",
      "i: 75, [1,26,30,41,42,44,48,49,53,56,57,58,59,60,62,63,65,67,68,71,74,79,80,88,89,95,103,141,169,175,179,183,228,243,278,351,360])\n",
      "i: 76, [15,25,41,42,45,48,49,50,54,58,63,66,73,74,77,84,99,114,146,154,172,194,200,243,261,301,319,320,334,340,341,360,369,373,389])\n",
      "i: 77, [20,43,46,47,49,50,51,53,54,57,59,61,64,65,66,69,70,72,73,76,90,91,129,130,168,238,246,248,272,282,341,343,346,355,380])\n",
      "i: 78, [16,24,40,43,44,46,47,49,50,52,53,54,55,56,60,61,63,65,66,68,72,74,79,80,102,123,132,134,165,183,193,196,199,237,255,263,283,295,299,311,329,352,360,385,397])\n",
      "i: 79, [5,29,41,44,45,46,47,49,53,54,56,59,61,62,64,65,69,72,73,75,78,91,98,144,146,160,177,181,218,233,237,255,257,261,286,305,322,323])\n",
      "i: 80, [4,15,19,24,29,42,43,44,47,48,55,60,70,73,74,75,78,83,91,92,128,203,205,210,237,244,246,247,248,275,290,308,317,335,337,345,395,400])\n",
      "i: 81, [20,23,30,43,49,84,87,88,89,92,95,97,100,101,103,107,108,110,111,113,115,116,119,143,144,151,181,201,208,237,249,258,331,352,354,361,378,382,394])\n",
      "i: 82, [37,83,84,89,90,91,95,97,98,99,100,101,102,105,108,109,110,112,114,115,116,120,160,164,211,233,264,280])\n",
      "i: 83, [4,53,80,82,84,88,91,92,93,104,105,106,107,111,112,113,114,116,117,118,120,136,149,154,209,211,227,235,283,294,295,304,316,321,322,333,343,354,371])\n",
      "i: 84, [41,47,76,81,82,83,85,90,91,92,95,98,99,100,101,102,104,105,106,107,109,110,112,113,114,115,118,119,120,130,134,151,154,174,187,201,205,230,240,241,273,284,310,324,330,337,339,360,383])\n",
      "i: 85, [25,65,84,86,87,90,93,94,96,98,100,101,103,105,110,112,116,119,138,146,159,163,175,258,273,275,280,281,287,295,337,346,373,379,388])\n",
      "i: 86, [7,26,39,54,85,87,89,91,92,93,94,95,99,100,102,104,106,108,109,112,113,114,117,118,119,177,185,240,243,247,293,303,304,308,315,330,332,381])\n",
      "i: 87, [42,81,85,86,89,90,91,93,94,99,100,101,103,106,107,109,110,111,113,117,118,119,120,123,124,128,137,181,200,203,212,236,317,353])\n",
      "i: 88, [22,60,71,74,75,81,83,89,91,94,95,98,99,100,101,102,103,104,105,106,107,108,109,111,112,114,115,116,117,120,135,143,144,165,187,196,201,205,215,226,239,241,250,257,272,301,313,325,341])\n",
      "i: 89, [28,40,49,64,75,81,82,86,87,88,90,92,95,96,99,101,103,104,107,108,109,115,116,117,118,119,120,125,130,168,210,224,245,255,269,285,329,352,380,397])\n",
      "i: 90, [5,11,29,37,69,74,77,82,84,85,87,89,91,92,95,96,97,100,101,104,108,110,111,116,117,118,127,140,168,211,214,240,243,244,252,255,270,285,299,350,375,383,389])\n",
      "i: 91, [42,52,72,77,79,80,82,83,84,86,87,88,90,93,94,95,97,101,105,107,108,111,117,141,157,168,209,242,248,256,261,269,270,273,290,291,310,312,327,338,349,353,376,379,399])\n",
      "i: 92, [1,29,51,60,80,81,83,84,86,89,90,93,95,96,97,100,102,104,105,108,109,111,112,113,114,118,122,129,143,169,184,187,237,238,253,265,282,353,354])\n",
      "i: 93, [18,26,27,83,85,86,87,91,92,97,98,99,101,104,105,107,108,109,110,111,112,113,114,115,117,118,119,132,158,159,165,174,194,216,239,252,263,273,287,317,319,337,355,383])\n",
      "i: 94, [3,10,27,33,36,42,44,45,71,85,86,87,88,91,96,99,101,102,104,105,107,109,110,112,114,116,117,118,119,131,156,159,174,179,202,203,207,270,314,377,388])\n",
      "i: 95, [32,72,75,81,82,84,86,88,89,90,91,92,96,97,98,100,102,104,105,107,108,111,118,120,134,166,168,197,221,225,226,244,247,315,323,330,346,359,372])\n",
      "i: 96, [3,5,85,89,90,92,94,95,97,98,99,100,101,102,103,105,106,107,109,110,111,112,115,118,119,135,141,153,183,191,231,240,264,274,310,319,358,364,378,381,392,393,394])\n",
      "i: 97, [20,21,24,29,40,58,81,82,90,91,92,93,95,96,100,101,103,104,108,109,110,111,113,115,117,164,167,174,189,197,214,233,282,286,287,291,301,342,379,387])\n",
      "i: 98, [8,9,22,46,54,79,82,84,85,88,93,95,96,99,104,106,107,109,110,115,116,124,129,133,140,216,228,255,281,381])\n",
      "i: 99, [30,59,73,76,82,84,86,87,88,89,93,94,96,98,100,103,104,105,107,109,110,112,113,115,117,119,147,159,166,177,196,205,220,243,245,249,303,314,349,350,371,392])\n",
      "i: 100, [81,82,84,85,86,87,88,90,92,95,96,97,99,105,106,110,111,115,118,120,126,142,145,162,164,172,183,222,223,243,261,270,278,291,309,331,346,374,386,393,395])\n",
      "i: 101, [9,27,36,67,81,82,84,85,87,88,89,90,91,93,94,96,97,102,104,106,107,108,111,112,113,114,117,118,119,136,138,152,208,259,288,314,342,358])\n",
      "i: 102, [45,78,82,84,86,88,92,94,95,96,101,105,106,107,108,110,111,112,115,119,141,159,176,177,191,198,239,250,256,269,273,361,373,374,390,400])\n",
      "i: 103, [17,22,45,73,75,81,85,87,88,89,96,97,99,104,110,111,112,114,115,116,118,131,158,171,182,229,236,275,277,299,318,330,332,359,374])\n",
      "i: 104, [6,10,11,52,68,83,84,86,88,89,90,92,93,94,95,97,98,99,101,103,106,108,110,111,112,113,117,119,134,163,167,171,173,178,201,206,220,230,235,289,302,314,331,352,388,394])\n",
      "i: 105, [19,58,68,82,83,84,85,88,91,92,93,94,95,96,99,100,102,106,109,111,114,115,117,118,119,148,149,178,212,234,242,260,268,307,310,344,359,369,370,387])\n",
      "i: 106, [10,37,49,54,65,83,84,86,87,88,96,98,100,101,102,104,105,107,109,110,111,112,113,116,117,118,125,145,153,167,168,255,285,292,311,318,353,384,385,397])\n",
      "i: 107, [7,17,23,53,73,81,83,84,87,88,89,91,93,94,95,96,98,99,101,102,106,108,109,111,112,115,139,148,196,266,322])\n",
      "i: 108, [2,30,43,46,81,82,86,88,89,90,91,92,93,95,97,101,102,104,107,109,110,111,113,114,115,118,130,137,178,189,199,201,217,235,247,255,286,294,306,310,320,347,360,373,375,397])\n",
      "i: 109, [23,69,72,82,84,86,87,88,89,92,93,94,96,97,98,99,105,106,107,108,110,111,112,113,114,117,119,128,131,168,190,192,195,249,276,309,346,391,392])\n",
      "i: 110, [18,41,81,82,84,85,87,90,93,94,96,97,98,99,100,102,103,104,106,108,109,111,117,120,155,213,237,239,247,274,285,303,305,307,326,346,351])\n",
      "i: 111, [1,5,30,35,42,57,81,83,87,88,90,91,92,93,95,96,97,100,101,102,103,104,105,106,107,108,109,110,114,115,178,237,277,299,323,326,390])\n",
      "i: 112, [5,23,47,82,83,84,85,86,88,92,93,94,96,99,101,102,103,104,106,107,109,117,118,119,148,158,170,174,190,226,258,321,338,339,356,392])\n",
      "i: 113, [7,11,23,40,53,61,72,81,83,84,86,87,92,93,97,99,101,104,106,108,109,114,116,117,119,120,144,176,183,203,210,227,235,248,263,264,305,308,314,341,390])\n",
      "i: 114, [6,30,32,41,43,48,65,72,76,82,83,84,86,88,92,93,94,101,103,105,108,109,111,113,115,116,118,120,124,146,175,187,203,240,244,255,285,290,306,337,345,350,388])\n",
      "i: 115, [4,26,32,48,73,81,82,84,88,89,93,96,97,98,99,100,102,103,105,107,108,111,114,119,120,171,187,194,196,225,239,256,263,288,293,314,317,357,382,383])\n",
      "i: 116, [19,38,49,54,63,81,82,83,85,88,89,90,94,98,103,106,113,114,117,128,140,142,143,161,186,211,216,224,231,232,243,259,261,265,286,290,291,333,348,373,379,398,399])\n",
      "i: 117, [14,16,40,83,86,87,88,89,90,91,93,94,97,99,101,104,105,106,109,110,112,113,116,138,145,156,198,202,233,236,238,295,298,299,327,335,357,365,387,400])\n",
      "i: 118, [6,20,33,39,44,58,83,84,86,87,89,90,92,93,94,95,96,100,101,103,105,106,108,112,114,119,120,162,183,192,229,230,267,273,276,283,291,299,305,307,354,356,364,366])\n",
      "i: 119, [18,20,61,67,81,84,85,86,87,89,93,94,96,99,101,102,104,105,109,112,113,115,118,125,132,156,168,169,175,190,204,208,211,225,272,312,321,326,338,339,341,349,394])\n",
      "i: 120, [5,31,42,43,82,83,84,87,88,89,95,100,110,113,114,115,118,142,154,155,160,217,241,263,333,334])\n",
      "i: 121, [124,127,128,129,132,135,137,140,141,143,147,148,150,151,153,155,156,159,221,222,230,313,324,327,340,356])\n",
      "i: 122, [2,13,26,53,92,123,124,129,130,131,132,135,137,138,139,140,141,142,145,148,149,150,152,154,155,156,160,161,169,189,227,229,230,232,281,315,327,333,378])\n",
      "i: 123, [2,6,18,37,39,59,78,87,122,124,128,131,132,133,144,145,146,147,151,152,153,154,156,157,158,160,180,214,229,242,246,282,299,300,334,336,339,341,354,370,381])\n",
      "i: 124, [87,98,114,121,122,123,125,130,131,132,135,138,139,140,141,142,144,145,146,147,149,150,152,153,154,155,158,159,160,161,213,217,233,250,261,272,282,287,317,318,328,352,360,362,381])\n",
      "i: 125, [11,23,26,49,70,89,106,119,124,126,127,129,130,133,134,136,138,140,141,143,145,150,152,156,158,159,173,190,211,212,229,251,259,260,279,291,292,348,365,378])\n",
      "i: 126, [6,35,49,64,100,125,127,129,130,131,132,133,134,135,139,140,142,144,146,148,149,152,153,154,157,158,159,161,164,176,189,197,220,226,228,233,249,261,277,322,327,353,393])\n",
      "i: 127, [29,39,58,62,71,90,121,125,126,129,130,131,133,134,138,139,140,141,143,146,147,149,150,151,153,157,158,159,160,175,182,198,201,204,205,218,243,247,256,259,267,274,295,315,349,370])\n",
      "i: 128, [7,28,31,39,66,80,87,109,116,121,123,129,131,132,134,135,138,139,140,141,142,143,144,145,146,147,148,149,151,152,154,155,156,157,160,184,192,264,266,278,312,347,362])\n",
      "i: 129, [35,58,77,92,98,121,122,125,126,127,128,130,132,135,136,139,141,143,144,147,148,149,155,156,157,158,159,160,170,185,197,199,203,211,218,265,276,284,314,343,360,361,367,388,392,399])\n",
      "i: 130, [15,77,84,89,108,122,124,125,126,127,129,131,132,133,135,136,137,140,141,144,148,150,151,155,156,157,158,161,162,188,193,215,220,221,223,235,246,247,268,271,279,294,299,311,331,375])\n",
      "i: 131, [15,61,94,103,109,122,123,124,126,127,128,130,132,133,134,135,136,137,141,145,147,148,151,157,168,190,210,236,264,281,313,316,317,321,327,328,335,359,372,376,381,389])\n",
      "i: 132, [29,40,44,60,72,78,93,119,121,122,123,124,126,128,129,130,131,133,135,136,137,140,142,144,145,148,149,151,152,153,154,158,203,299,343,352,360,363,382,389])\n",
      "i: 133, [18,30,70,71,98,123,125,126,127,130,131,132,137,138,139,141,144,145,147,148,149,150,151,152,153,154,155,157,158,159,177,197,307,335,341,351,355,370,382,384])\n",
      "i: 134, [60,78,84,95,104,125,126,127,128,131,136,139,140,141,142,143,144,145,146,147,149,150,152,154,156,157,158,159,165,183,190,192,289,309,310,365,373,381,382,386])\n",
      "i: 135, [8,17,34,48,66,72,88,96,121,122,124,126,128,129,130,131,132,136,137,138,140,142,144,145,147,148,151,158,160,183,188,209,227,272,279,284,337])\n",
      "i: 136, [8,49,51,83,101,125,129,130,131,132,134,135,137,138,139,140,141,142,143,145,146,147,149,150,151,152,155,158,159,163,167,205,214,216,232,251,265,280,294,295,333,341,363,366,369,373,392,393])\n",
      "i: 137, [38,42,59,87,108,121,122,130,131,132,133,135,136,138,140,141,143,144,145,148,149,150,151,153,155,157,167,184,201,213,228,237,238,254,262,277,292,321,335,347,350,377])\n",
      "i: 138, [10,30,64,85,101,117,122,124,125,127,128,133,135,136,137,139,144,146,147,149,150,152,155,156,167,179,195,199,220,237,289,301,308,321,322,348,352,360,366,376,383,400])\n",
      "i: 139, [16,73,107,122,124,126,127,128,129,133,134,136,138,140,143,144,145,147,149,150,152,153,155,157,159,179,182,221,223,250,253,256,258,260,286,289,295,307,327,330,352,365,387,400])\n",
      "i: 140, [35,46,68,90,98,116,121,122,124,125,126,127,128,130,132,134,135,136,137,139,145,146,150,151,155,158,160,167,188,200,226,237,271,279,289,292,305,318,341,380])\n",
      "i: 141, [1,33,45,51,59,75,91,96,102,121,122,124,125,127,128,129,130,131,133,134,136,137,142,144,146,147,148,151,152,153,154,157,158,159,162,193,196,204,256,262,269,272,319,355,357,382])\n",
      "i: 142, [1,19,35,51,52,65,100,116,120,122,124,126,128,132,134,135,136,141,145,146,147,148,150,151,152,155,159,167,169,180,191,224,233,244,304,307,317,348,359,361,400])\n",
      "i: 143, [20,21,25,43,46,81,88,92,116,121,125,127,128,129,134,136,137,139,144,150,151,152,154,155,156,157,158,160,169,207,208,265,283,288,350,351,356,357,376,396])\n",
      "i: 144, [12,38,46,48,70,79,81,88,113,123,124,126,128,129,130,132,133,134,135,137,138,139,141,143,146,148,150,151,152,153,157,159,186,197,223,230,235,255,283,287,292,293,301,328,340,355])\n",
      "i: 145, [13,44,71,100,106,117,122,123,124,125,128,131,132,133,134,135,136,137,139,140,142,146,149,150,151,154,155,157,158,159,165,166,190,192,211,215,221,273,277,301,323,332,334,344,351,360,385])\n",
      "i: 146, [11,25,29,35,43,55,70,76,79,85,114,123,124,126,127,128,134,136,138,140,141,142,144,145,147,149,150,151,152,153,155,156,157,158,178,181,186,191,215,216,233,235,240,247,274,290,292,296,299,301,311,317,346,349,374,399])\n",
      "i: 147, [24,36,61,63,66,99,121,123,124,127,128,129,131,133,134,135,136,138,139,141,142,146,148,149,151,152,155,174,245,278,292,311,336,369])\n",
      "i: 148, [15,33,55,71,105,107,112,121,122,126,128,129,130,131,132,133,135,137,141,142,144,147,149,150,151,153,154,155,158,182,197,236,260,278,291,295,300,331,344,348,350,360,381,386])\n",
      "i: 149, [24,42,62,83,105,122,124,126,127,128,129,132,133,134,136,137,138,139,145,146,147,148,150,151,152,153,154,157,159,187,196,211,224,227,235,243,263,294,309,339,382,396])\n",
      "i: 150, [33,53,68,121,122,124,125,127,130,133,134,136,137,138,139,140,142,143,144,145,146,148,149,151,157,160,172,173,177,181,182,187,201,224,233,249,266,342,382])\n",
      "i: 151, [25,34,41,68,81,84,121,123,127,128,130,131,132,133,135,136,137,140,141,142,143,144,145,146,147,148,149,150,154,155,177,238,257,301,304,328,363,372])\n",
      "i: 152, [6,11,15,60,64,101,122,123,124,125,126,128,132,133,134,136,138,139,141,142,143,144,146,147,149,157,158,159,217,218,234,250,256,286,303,312,341,342,351,358,369,378,380,399])\n",
      "i: 153, [4,30,59,69,96,106,121,123,124,126,127,132,133,137,139,141,144,146,148,149,154,156,157,159,160,164,194,243,287,297,322,332,346,374,378])\n",
      "i: 154, [2,3,20,39,51,58,76,83,84,120,122,123,124,126,128,132,133,134,141,143,145,148,149,151,153,155,156,157,158,160,169,183,198,247,265,270,277,288,347,362,386,399])\n",
      "i: 155, [12,22,44,51,65,110,120,121,122,124,128,129,130,133,136,137,138,139,140,142,143,145,146,147,148,151,154,159,160,163,220,298,332,350,361,368,394])\n",
      "i: 156, [6,9,19,32,40,94,117,119,121,122,123,125,128,129,130,134,138,143,146,153,154,157,169,175,215,218,230,234,248,276,294,303,312,316,357,376,396])\n",
      "i: 157, [51,91,123,126,127,128,129,130,131,133,134,137,139,141,143,144,145,146,149,150,152,153,154,156,200,221,237,254,270,291,308,324,367,400])\n",
      "i: 158, [1,7,18,26,45,54,59,70,93,103,112,123,124,125,126,127,129,130,132,133,134,135,136,140,141,143,145,146,148,152,154,159,160,168,202,203,211,214,217,251,253,268,272,324,357,359,384])\n",
      "i: 159, [7,28,29,32,43,45,85,93,94,99,102,121,124,125,126,127,129,133,134,136,139,141,142,144,145,149,152,153,155,158,169,179,254,261,262,266,271,294,308,334,336,343,345,365,395])\n",
      "i: 160, [3,26,45,79,82,120,122,123,124,127,128,129,135,140,143,150,153,154,155,158,169,187,195,204,218,238,246,314,322,344,347,362,368,382])\n",
      "i: 161, [37,46,48,58,116,122,124,126,130,164,167,168,169,172,175,177,181,183,187,188,190,191,195,196,199,203,216,218,264,312,319,346,375,378,399])\n",
      "i: 162, [9,23,30,52,67,100,118,130,141,163,164,169,170,171,175,177,178,179,180,181,182,185,189,190,192,194,195,196,200,207,220,263,271,289,340,376,378,398])\n",
      "i: 163, [1,44,56,85,104,136,155,162,164,168,171,172,173,184,185,186,187,191,192,193,194,197,198,200,202,217,218,220,231,234,236,251,253,261,294,366,398])\n",
      "i: 164, [22,61,82,97,100,126,153,161,162,163,165,170,171,172,175,178,179,180,181,184,185,186,187,190,192,193,194,195,198,199,200,215,222,228,234,238,245,252,277,297,299,309,327,329,364])\n",
      "i: 165, [33,35,44,71,78,88,93,134,145,164,166,167,170,173,174,176,178,180,181,183,185,190,192,196,199,203,209,246,259,267,287,292,305,313,372,394,399])\n",
      "i: 166, [48,61,74,95,99,145,165,167,169,171,172,173,174,175,179,182,184,186,188,189,192,193,194,197,198,199,210,244,255,268,301,308,314,341,356,377])\n",
      "i: 167, [20,39,42,63,64,67,97,104,106,136,137,138,140,142,161,165,166,169,170,171,173,174,179,180,181,183,186,187,189,190,191,193,197,198,199,200,203,261,277,297,321,340,346,370,378,390,395,397])\n",
      "i: 168, [1,4,13,38,52,54,58,66,77,89,90,91,95,106,109,119,131,158,161,163,169,174,175,178,179,180,181,182,183,184,185,187,188,189,192,194,195,196,200,242,243,249,253,258,304,336,350,371,377])\n",
      "i: 169, [6,10,74,75,92,119,122,142,143,154,156,159,160,161,162,166,167,168,170,172,175,176,179,181,183,184,187,188,189,195,196,197,198,199,214,234,260,261,269,278,290,292,335,349,352,354,363,393])\n",
      "i: 170, [29,40,52,112,129,162,164,165,167,169,171,172,176,177,180,181,184,188,190,191,196,197,198,213,247,269,295,296,300,340,354,363])\n",
      "i: 171, [15,38,47,58,67,68,103,104,115,162,163,164,166,167,170,173,174,175,177,181,185,187,188,191,197,222,260,276,317,330,334,349,382,387,395,398])\n",
      "i: 172, [24,63,76,100,150,161,163,164,166,169,170,175,176,180,182,184,185,188,189,191,192,193,194,198,205,206,211,224,255,262,269,310,323,330,348,351,361,373])\n",
      "i: 173, [13,104,125,150,163,165,166,167,171,177,178,179,181,184,185,187,188,190,191,192,193,194,195,197,198,199,239,263,283,286,288,298,308,388,399])\n",
      "i: 174, [13,29,30,46,84,93,94,97,112,147,165,166,167,168,171,176,179,181,184,185,187,189,190,192,194,196,197,198,199,237,241,243,245,262,280,304,307,330,352,382])\n",
      "i: 175, [15,50,62,72,75,85,114,119,127,156,161,162,164,166,168,169,171,172,176,177,178,180,182,184,185,187,188,191,198,200,228,247,250,259,266,273,275,304,309,339,381,395])\n",
      "i: 176, [13,47,49,102,113,126,165,169,170,172,174,175,177,178,179,180,181,182,183,185,186,187,191,192,195,198,199,202,211,219,372,395,396])\n",
      "i: 177, [23,25,68,79,86,99,102,133,150,151,161,162,170,171,173,175,176,180,183,184,189,191,193,195,197,201,228,252,256,279,314,321,333,335,391])\n",
      "i: 178, [46,54,104,105,108,111,146,162,164,165,168,173,175,176,179,184,186,187,189,190,195,196,221,330,340,359,383,387,390,394])\n",
      "i: 179, [6,28,44,75,94,138,139,159,162,164,166,167,168,169,173,174,176,178,180,183,184,185,187,189,190,192,193,195,197,199,202,205,222,233,235,270,349,355,361,386])\n",
      "i: 180, [3,54,69,123,142,162,164,165,167,168,170,172,175,176,177,179,185,186,190,191,195,198,200,250,252,264,282,287,327,330,379])\n",
      "i: 181, [17,24,45,79,81,87,146,150,161,162,164,165,167,168,169,170,171,173,174,176,182,186,187,188,191,192,193,194,198,199,204,262,278,301,304,310,312,319,328,353,390])\n",
      "i: 182, [5,24,68,74,103,127,139,148,150,162,166,168,172,175,176,181,186,187,188,190,191,192,195,199,202,216,243,245,287,326,341,351,360,379])\n",
      "i: 183, [6,7,9,74,75,78,96,100,113,118,134,135,154,161,165,167,168,169,176,177,179,184,190,191,192,194,195,196,212,234,236,242,319,348,349,361,373,380])\n",
      "i: 184, [50,71,92,128,137,163,164,166,168,169,170,172,173,174,175,177,178,179,183,186,188,190,191,192,193,197,199,283,322,336,350])\n",
      "i: 185, [9,12,29,33,57,86,129,162,163,164,165,168,171,172,173,174,175,176,179,180,186,189,191,194,195,197,198,199,222,224,225,265,281,290,298,309,349,356,360,378,384,387])\n",
      "i: 186, [9,116,144,146,163,164,166,167,176,178,180,181,182,184,185,187,189,190,191,192,193,196,197,198,233,244,251,307,339,359,365,375])\n",
      "i: 187, [36,43,63,84,88,92,114,115,149,150,160,161,163,164,167,168,169,171,173,174,175,176,178,179,181,182,186,188,189,191,192,195,204,228,238,256,259,272,280,286,290,304,332,334])\n",
      "i: 188, [49,53,61,69,70,130,135,140,161,166,168,169,170,171,172,173,175,181,182,184,187,189,190,191,193,195,198,217,237,248,343,377,392])\n",
      "i: 189, [4,19,33,49,67,97,108,122,126,162,166,167,168,169,172,174,177,178,179,185,186,187,188,191,192,193,197,199,211,241,254,255,294,301,316,364,395])\n",
      "i: 190, [13,36,49,109,112,119,125,131,134,145,161,162,164,165,167,170,173,174,178,179,180,182,183,184,186,188,191,197,234,256,260,283,293,310,318,322,377,382,385])\n",
      "i: 191, [6,23,61,71,96,102,142,146,161,163,167,170,171,172,173,175,176,177,180,181,182,183,184,185,186,187,188,189,190,194,195,201,206,211,224,228,251,257,266,273,282,316,322,330,357,374])\n",
      "i: 192, [13,23,45,64,109,118,128,134,145,162,163,164,165,166,168,172,173,174,176,179,181,182,183,184,186,187,189,197,198,199,213,219,234,235,244,252,258,285,309,328,383,397])\n",
      "i: 193, [22,61,78,130,141,163,164,166,167,172,173,177,179,181,184,186,188,189,194,196,197,199,200,229,234,297,302,314,343,363,379,400])\n",
      "i: 194, [7,28,58,63,76,93,115,153,162,163,164,166,168,172,173,174,181,183,185,191,193,195,196,198,222,249,267,269,274,299,318,331,370,380,394])\n",
      "i: 195, [12,109,138,160,161,162,164,168,169,173,176,177,178,179,180,182,183,185,187,188,191,194,199,200,212,262,270,271,274,296,300,349,351,373])\n",
      "i: 196, [7,33,78,88,99,107,115,141,149,161,162,165,168,169,170,174,178,183,186,193,194,197,220,266,287,304,307,320,334,352,369,375,379,381,387,391])\n",
      "i: 197, [30,32,39,58,65,70,73,95,97,126,129,133,144,148,163,166,167,169,170,171,173,174,177,179,184,185,186,189,190,192,193,196,221,289,324,357,366,374,378])\n",
      "i: 198, [30,48,102,117,127,154,163,164,166,167,169,170,172,173,174,175,176,180,181,185,186,188,192,194,199,200,203,211,212,225,246,280,294,300,306,330,382,387])\n",
      "i: 199, [54,57,74,78,108,129,138,161,164,165,166,167,169,173,174,176,179,181,182,184,185,189,192,193,195,198,211,229,240,269,271,280,289,340,358,368,397])\n",
      "i: 200, [7,16,26,34,40,76,87,140,157,162,163,164,167,168,175,180,193,195,198,219,231,252,256,262,303,311,327,396])\n",
      "i: 201, [42,60,61,81,84,88,104,108,127,137,150,177,191,204,207,208,209,212,215,217,220,221,223,227,228,230,231,233,235,236,239,245,261,273,281,317,329,345,352,355,360])\n",
      "i: 202, [36,38,74,94,117,158,163,176,179,182,203,204,209,210,211,215,217,218,219,220,221,222,225,228,229,230,232,234,235,236,240,250,260,262,338,390,393])\n",
      "i: 203, [8,11,68,80,87,94,113,114,129,132,158,161,165,167,198,202,204,208,211,212,213,224,225,226,227,231,232,233,234,237,238,240,272,298,327,335,370,397,398])\n",
      "i: 204, [17,29,36,46,55,57,63,119,127,141,160,181,187,201,202,203,205,210,211,212,215,218,219,220,221,224,225,226,227,230,232,233,234,235,238,239,240,270,307,334,357,393,398])\n",
      "i: 205, [20,25,26,80,84,88,99,127,136,172,179,204,206,207,210,213,214,216,218,220,221,223,225,230,232,236,239,257,296,303,318,331,334,351,368])\n",
      "i: 206, [27,45,104,172,191,205,207,209,211,212,213,214,215,219,220,222,224,226,228,229,232,233,234,237,238,239,253,271,284,308,314,316,331,347,355])\n",
      "i: 207, [59,94,143,162,201,205,206,209,210,211,213,214,219,220,221,223,226,227,229,230,231,233,237,238,239,240,297,322,333,337,338,396])\n",
      "i: 208, [8,12,81,101,119,143,201,203,209,211,214,215,218,219,220,221,222,223,224,225,226,227,228,229,231,232,234,235,236,237,240,303,305,335,336,342,355])\n",
      "i: 209, [24,28,63,83,91,135,165,201,202,206,207,208,210,212,215,216,219,221,223,224,227,228,229,235,236,237,238,239,240,267,288,289,291,309,315,335,343,379])\n",
      "i: 210, [6,10,19,52,56,80,89,113,131,166,202,204,205,207,209,211,212,215,216,217,220,221,224,228,230,231,236,237,238,255,272,294,341,377])\n",
      "i: 211, [17,19,21,74,82,83,90,116,119,125,129,145,149,158,172,176,189,191,198,199,202,203,204,206,207,208,210,213,214,215,217,221,225,227,228,231,237,299,301,354,362,375,377])\n",
      "i: 212, [12,17,25,29,38,87,105,125,183,195,198,201,203,204,206,209,210,215,216,217,220,222,224,225,228,229,231,232,233,234,238,256,277,280,320,332,334,340,347,356,359,380])\n",
      "i: 213, [16,41,52,110,124,137,170,192,203,205,206,207,211,217,218,219,221,224,225,227,228,229,230,231,232,233,234,235,237,238,239,244,258,270,278,320,345,346])\n",
      "i: 214, [9,15,68,71,90,97,123,136,158,169,205,206,207,208,211,216,219,221,224,225,227,229,230,232,234,236,237,238,239,243,290,292,298,307,317,350,392,398])\n",
      "i: 215, [1,31,36,50,70,73,88,130,145,146,156,164,201,202,204,206,208,209,210,211,212,216,217,218,220,222,224,225,227,228,231,238,240,251,271,273,277,282,312,319,335,388,394])\n",
      "i: 216, [4,17,21,30,51,64,93,98,116,136,146,161,182,205,209,210,212,214,215,217,218,219,220,221,222,223,225,226,227,229,230,231,232,235,238,239,270,287,338,347,364,382,393])\n",
      "i: 217, [41,49,65,108,120,124,152,158,163,188,201,202,210,211,212,213,215,216,220,221,223,224,228,229,230,231,233,235,237,262,281,328,330,333,360])\n",
      "i: 218, [46,70,79,127,129,152,156,160,161,163,202,204,205,208,213,215,216,219,224,226,227,229,230,235,236,252,265,277,318,322,384,387])\n",
      "i: 219, [30,46,54,176,192,200,202,204,206,207,208,209,213,214,216,218,220,223,224,225,227,229,230,232,233,235,237,239,269,274,311,316,324,397])\n",
      "i: 220, [12,20,23,27,46,66,99,104,126,130,138,155,162,163,196,201,202,204,205,206,207,208,210,212,215,216,217,219,225,226,230,231,235,238,240,247,259,305,313,341,357,364,369])\n",
      "i: 221, [30,95,121,130,139,145,157,178,197,201,202,204,205,207,208,209,210,211,213,214,216,217,222,224,226,227,228,231,232,233,234,237,238,239,252,255,293,321,356,379,383])\n",
      "i: 222, [23,27,50,100,121,164,171,179,185,194,202,206,208,212,215,216,221,225,226,227,228,230,231,232,235,239,268,282,286,287,292,300,343,390])\n",
      "i: 223, [17,33,34,48,50,65,100,130,139,144,201,205,207,208,209,216,217,219,224,230,231,232,234,235,236,238,311,327,350,353,380,389,400])\n",
      "i: 224, [15,34,54,89,116,142,149,150,172,185,191,203,204,206,208,209,210,212,213,214,215,217,218,219,221,223,226,228,230,231,232,233,237,239,300,327,332,354,396])\n",
      "i: 225, [44,53,73,95,115,119,185,198,202,203,204,205,208,211,212,213,214,215,216,219,220,222,226,229,231,234,235,237,238,239,254,273,350,362,370,371,374,387,397])\n",
      "i: 226, [21,22,28,49,88,95,112,126,140,203,204,206,207,208,216,218,220,221,222,224,225,227,229,230,231,232,233,236,237,238,257,272,292,305,308,320,358,377])\n",
      "i: 227, [13,16,24,26,34,43,59,66,68,83,113,122,135,149,201,203,204,207,208,209,211,213,214,215,216,218,219,221,222,226,228,229,231,232,235,262,283,382,389])\n",
      "i: 228, [8,36,46,53,75,98,126,137,164,175,177,187,191,201,202,206,208,209,210,211,212,213,215,217,221,222,224,227,229,230,231,233,234,235,238,242,259,275,296,322,326,329,347,349,360,370])\n",
      "i: 229, [12,42,49,57,103,118,122,123,125,193,199,202,206,207,208,209,212,213,214,216,217,218,219,225,226,227,228,230,231,232,233,234,237,239,242,246,256,274,285,346,348,359,374,380,384,393])\n",
      "i: 230, [27,34,61,65,84,104,118,121,122,144,156,201,202,204,205,207,210,213,214,216,217,218,219,220,222,223,224,226,228,229,231,237,240,245,292,293,303,304,307,309,330,332,363,375])\n",
      "i: 231, [14,96,116,163,200,201,203,207,208,210,211,212,213,215,216,217,220,221,222,223,224,225,226,227,228,229,230,234,235,246,260,267,282,291,295,324,327,328,350,360])\n",
      "i: 232, [3,58,116,122,136,202,203,204,205,206,208,212,213,214,216,219,221,222,223,224,226,227,229,237,238,239,251,264,270,284,295,312,321,331,345,355,371])\n",
      "i: 233, [6,7,24,29,56,79,82,97,117,124,126,142,146,150,179,186,201,203,204,206,207,212,213,217,219,221,224,226,228,229,234,236,237,239,240,250,268,284,294,314,316,319,340,356,376])\n",
      "i: 234, [32,48,52,53,105,152,156,163,164,169,183,190,192,193,202,203,204,206,208,212,213,214,221,223,225,228,229,231,233,235,236,238,240,247,281,301,303,306,310,326,327,337,344,346,381,398])\n",
      "i: 235, [10,29,47,83,104,108,113,130,144,146,149,179,192,201,202,204,208,209,213,216,217,218,219,220,222,223,225,227,228,231,234,239,240,255,291,301,328,335,345,348,363,370,377,380,386])\n",
      "i: 236, [19,20,87,103,117,131,148,163,183,201,202,205,208,209,210,214,218,223,226,233,234,237,243,269,279,285,296,321,349,386,393,399])\n",
      "i: 237, [18,43,50,78,79,80,81,92,110,111,137,138,140,157,174,188,203,206,207,208,209,210,211,213,214,217,219,221,224,225,226,229,230,232,233,236,252,280,288,300,311,318,336])\n",
      "i: 238, [39,43,77,92,117,137,151,160,164,187,203,204,206,207,209,210,212,213,214,215,216,220,221,223,225,226,228,232,234,239,240,297,304,312,315,326,348,369,374,377,379,394,400])\n",
      "i: 239, [54,88,93,102,110,115,173,201,204,205,206,207,209,213,214,216,219,221,222,224,225,229,232,233,235,238,251,268,270,320,321,324,352,366,391])\n",
      "i: 240, [26,56,72,84,86,90,96,114,146,199,202,203,204,207,208,209,215,220,230,233,234,235,238,242,265,290,305,322,325,328,352,358,366,374,393,397])\n",
      "i: 241, [15,25,52,84,88,120,174,189,244,247,248,249,252,255,257,260,261,263,267,268,270,271,273,275,276,279,290,294,299,305,361,374,384,396,397])\n",
      "i: 242, [3,6,10,46,91,105,123,168,183,228,229,240,243,244,249,250,251,255,257,258,259,260,261,262,265,268,269,270,272,274,275,276,280,282,336,338,339,345,349,370,381,395,399])\n",
      "i: 243, [3,66,75,76,86,90,99,100,116,127,149,153,168,174,182,214,236,242,244,248,251,252,253,264,265,266,267,271,272,273,274,276,277,278,280,303,308,319,331,336,351,358,399])\n",
      "i: 244, [3,20,32,38,49,53,55,80,90,95,114,142,166,186,192,213,241,242,243,245,250,251,252,255,258,259,260,261,262,264,265,266,267,269,270,272,273,274,275,278,279,280,296,335,386,388,394])\n",
      "i: 245, [25,51,89,99,147,164,174,182,201,230,244,246,247,249,250,253,254,256,258,260,261,263,265,270,272,276,278,279,286,305,326,360,364,376,391])\n",
      "i: 246, [13,16,41,77,80,123,130,160,165,198,229,231,245,247,249,251,252,253,254,255,259,260,262,264,266,268,269,272,273,274,277,278,279,330,333,353,383,398])\n",
      "i: 247, [11,14,15,28,48,61,70,80,86,95,108,110,127,130,146,154,170,175,220,234,241,245,246,249,250,251,253,254,259,260,261,263,266,267,269,270,271,273,277,278,279,280,296,311,320,338,358])\n",
      "i: 248, [36,71,72,77,80,91,113,156,188,241,243,249,251,254,255,258,259,260,261,262,263,264,265,266,267,268,269,271,272,274,275,276,277,280,284,289,292,317,331,332,338,351,369])\n",
      "i: 249, [32,46,65,68,81,99,109,126,150,168,194,241,242,245,246,247,248,250,252,255,256,259,261,263,264,267,268,269,275,276,277,278,279,280,284,290,385])\n",
      "i: 250, [6,8,27,65,88,102,124,139,152,175,180,202,233,242,244,245,247,249,251,252,253,255,256,257,260,261,264,268,270,271,276,277,278,286,312,315,320,328,351,354,357,359,368,376,380,393,396])\n",
      "i: 251, [20,28,57,60,61,125,136,158,163,186,191,215,232,239,242,243,244,246,247,248,250,253,254,255,257,261,265,267,268,271,277,285,338,342,358,383,394,396])\n",
      "i: 252, [17,21,44,49,71,90,93,164,177,180,192,200,218,221,237,241,243,244,246,249,250,253,255,256,257,260,262,264,265,268,269,271,272,273,274,278,285,290,317,358])\n",
      "i: 253, [8,72,74,92,139,158,163,168,206,243,245,246,247,250,251,252,257,258,259,261,264,265,267,268,269,270,271,272,273,274,275,277,278,279,291,324,328])\n",
      "i: 254, [31,33,42,73,137,157,159,189,225,245,246,247,248,251,256,259,261,262,264,265,266,267,269,270,272,274,276,277,278,279,285,308,363])\n",
      "i: 255, [12,13,21,28,45,56,73,78,79,89,90,98,106,108,114,144,166,172,189,210,221,235,241,242,244,246,248,249,250,251,252,256,257,258,260,262,264,265,267,268,271,278,280,315,381,384,396])\n",
      "i: 256, [19,34,41,72,91,102,115,127,139,141,152,177,187,190,200,212,229,245,249,250,252,254,255,257,258,259,260,261,262,263,265,266,267,269,270,271,272,275,278,279,298,323,334,336,352,356,360,378])\n",
      "i: 257, [29,73,74,79,88,151,191,205,226,241,242,250,251,252,253,255,256,258,260,261,263,264,268,269,270,271,273,275,277,286,305,344,346,351,363,400])\n",
      "i: 258, [21,31,81,85,112,139,168,192,213,242,244,245,248,253,255,256,257,259,264,266,267,269,270,275,276,318,325,347])\n",
      "i: 259, [37,40,41,68,101,116,125,127,165,175,187,220,228,242,244,246,247,248,249,253,254,256,258,260,263,264,265,267,269,270,272,273,275,277,279,289,300,301,312,352,364,368,382,383])\n",
      "i: 260, [67,105,125,139,148,169,171,190,202,231,241,242,244,245,246,247,248,250,252,255,256,257,259,265,266,270,271,275,278,280,284,315,318,322,336,340,363,383])\n",
      "i: 261, [53,63,76,79,91,100,116,124,126,159,163,167,169,201,241,242,244,245,247,248,249,250,251,253,254,256,257,262,264,266,267,268,271,272,273,274,277,278,279,305,309])\n",
      "i: 262, [38,40,54,55,56,62,63,67,137,141,159,172,174,181,195,200,202,217,227,242,244,246,248,252,254,255,256,261,265,266,267,268,270,271,272,275,279,336,356,366,373,380,397,400])\n",
      "i: 263, [6,15,33,36,63,78,93,113,115,120,149,162,173,241,245,247,248,249,256,257,259,264,270,271,272,274,275,276,277,278,283,311,373,398])\n",
      "i: 264, [24,41,50,82,96,113,128,131,161,180,232,243,244,246,248,249,250,252,253,254,255,257,258,259,261,263,266,268,270,271,272,273,277,279,283,290,309,320,322,348,367,370,380])\n",
      "i: 265, [4,19,27,36,92,116,129,136,143,154,185,218,240,242,243,244,245,248,251,252,253,254,255,256,259,260,262,266,269,271,274,275,277,278,279,287,300,318,343,348,349,374,387])\n",
      "i: 266, [2,11,20,67,107,128,150,159,175,191,196,243,244,246,247,248,254,256,258,260,261,262,264,265,267,269,270,271,272,273,276,277,278,303,314,336,343,370,383])\n",
      "i: 267, [5,15,24,39,48,59,64,118,127,165,194,209,231,241,243,244,247,248,249,251,253,254,255,256,258,259,261,262,266,268,269,271,272,275,284,309,314,358,363,374,398])\n",
      "i: 268, [18,68,105,130,158,166,222,233,239,241,242,246,248,249,250,251,252,253,255,257,261,262,264,267,269,270,271,273,274,275,278,290,298,299,301,317,325,354,378,380,387])\n",
      "i: 269, [13,89,91,102,141,169,170,172,194,199,219,236,242,244,246,247,248,249,252,253,254,256,257,258,259,265,266,267,268,270,271,272,273,274,277,279,289,308,315,334,335,338,348])\n",
      "i: 270, [4,22,74,90,91,94,100,154,157,179,195,204,213,216,232,239,241,242,244,245,247,250,253,254,256,257,258,259,260,262,263,264,266,268,269,271,277,280,328,335,349,351,359,379,384])\n",
      "i: 271, [15,67,130,140,159,162,195,199,206,215,241,243,247,248,250,251,252,253,255,256,257,260,261,262,263,264,265,266,267,268,269,270,274,275,281,305,311,323,330,339,343,394])\n",
      "i: 272, [6,12,26,35,57,69,72,77,88,119,124,135,141,158,187,203,210,226,242,243,244,245,246,248,252,253,254,256,259,261,262,263,264,266,267,269,277,278,279,289,294,303,310,318,321,346,370,373,389])\n",
      "i: 273, [47,50,60,84,85,91,93,102,118,145,175,191,201,215,225,241,243,244,246,247,252,253,257,259,261,264,266,268,269,274,276,277,279,280,318,362])\n",
      "i: 274, [9,28,64,66,96,110,127,146,194,195,219,229,242,243,244,246,248,252,253,254,261,263,265,268,269,271,273,275,276,277,278,280,354,357,378,384,394,397])\n",
      "i: 275, [1,11,23,35,46,51,80,85,103,175,228,241,242,244,248,249,253,256,257,258,259,260,262,263,265,267,268,271,274,279,280,290,292,310,311,325,335,345,363,383,386])\n",
      "i: 276, [16,35,41,52,54,57,62,109,118,129,156,171,241,242,243,245,248,249,250,254,258,263,266,273,274,277,287,336,359])\n",
      "i: 277, [2,17,48,58,103,111,126,137,145,154,164,167,212,215,218,243,246,247,248,249,250,251,253,254,257,259,261,263,264,265,266,269,270,272,273,274,276,338,341,343,345,358,360,364,371,386,388])\n",
      "i: 278, [7,32,67,73,75,100,128,147,148,169,181,213,243,244,245,246,247,249,250,252,253,254,255,256,260,261,263,265,266,268,272,274,279,280,315,329,364,398,399])\n",
      "i: 279, [125,130,135,140,177,236,241,244,245,246,247,249,253,254,256,259,261,262,264,265,269,272,273,275,278,336,341,361,367,381,395])\n",
      "i: 280, [2,4,33,34,82,85,136,174,187,198,199,212,237,242,243,244,247,248,249,255,260,270,273,274,275,278,293,327,335,358,365])\n",
      "i: 281, [44,69,85,98,122,131,185,201,217,234,271,284,287,288,289,292,295,297,300,301,303,307,308,310,311,313,315,316,319,348,395])\n",
      "i: 282, [46,50,56,62,63,77,92,97,123,124,180,191,215,222,231,242,283,284,289,290,291,295,297,298,299,300,301,302,305,308,309,310,312,314,315,316,320,324,340,341,354,356])\n",
      "i: 283, [17,27,33,78,83,118,143,144,173,184,190,227,263,264,282,284,288,291,292,293,304,305,306,307,311,312,313,314,317,318,320,321,332,333,388])\n",
      "i: 284, [16,28,30,35,39,54,59,61,84,129,135,206,232,233,248,249,260,267,281,282,283,285,290,291,292,295,298,299,300,301,302,304,305,306,307,309,310,312,313,314,315,318,319,320,342,355,389,392])\n",
      "i: 285, [36,53,57,59,61,67,89,90,106,110,114,192,229,236,251,252,254,284,286,287,290,293,294,296,298,300,301,303,305,310,312,316,319,341,354,361,380])\n",
      "i: 286, [6,7,45,59,79,97,108,116,139,152,173,187,222,245,250,257,285,287,289,291,292,293,294,295,299,300,302,304,306,308,309,312,313,314,317,318,319,330,345,355,377,385,390])\n",
      "i: 287, [85,93,97,124,144,153,165,180,182,196,216,222,265,276,281,285,286,289,290,291,293,294,299,300,301,303,306,307,309,310,311,313,317,318,319,320,346,355,375])\n",
      "i: 288, [3,53,66,72,101,115,143,154,173,209,237,281,283,289,291,294,295,298,299,300,301,302,303,304,305,306,307,308,309,311,312,314,315,316,317,320,344,347,353,363,365,368,376,381])\n",
      "i: 289, [32,40,48,73,74,104,134,138,139,140,162,197,199,209,248,259,269,272,281,282,286,287,288,290,292,295,296,299,301,303,304,307,308,309,315,316,317,318,319,320,321,330,335,374,378,389,390])\n",
      "i: 290, [4,9,27,32,40,52,70,80,91,114,116,146,169,185,187,214,240,241,249,252,264,268,275,282,284,285,287,289,291,292,295,296,297,300,301,304,308,310,311,316,317,318,326,330,370,389,392,394])\n",
      "i: 291, [2,16,29,32,45,91,97,100,116,118,125,148,157,209,231,235,253,282,283,284,286,287,288,290,293,294,295,297,301,305,307,308,311,317,359,370,383,391])\n",
      "i: 292, [17,51,58,72,106,125,137,140,144,146,147,165,169,214,222,226,230,248,275,281,283,284,286,289,290,293,295,296,297,300,302,304,305,308,309,311,312,313,314,318,338,366,368,371])\n",
      "i: 293, [42,49,67,68,86,115,144,190,221,230,280,283,285,286,287,291,292,297,298,299,301,304,305,307,308,309,310,311,312,313,314,315,317,318,319,334,375])\n",
      "i: 294, [53,60,83,108,130,136,149,156,159,163,189,198,210,233,241,272,285,286,287,288,291,296,299,301,304,305,307,309,310,312,314,316,317,318,319,332,363,374])\n",
      "i: 295, [46,50,78,83,85,117,127,136,139,148,170,231,232,281,282,284,286,288,289,290,291,292,296,297,298,300,302,304,305,307,308,311,318,320,322,339,378,391])\n",
      "i: 296, [2,7,146,170,195,205,228,236,244,247,285,289,290,292,294,295,297,298,299,300,301,302,303,305,306,307,309,310,311,312,315,318,319,340,363])\n",
      "i: 297, [35,38,47,153,164,167,193,207,238,281,282,290,291,292,293,295,296,300,301,303,304,308,309,310,311,313,315,317,382])\n",
      "i: 298, [29,55,117,155,173,185,203,214,256,268,282,284,285,288,293,295,296,299,304,306,307,309,310,315,316,326,337,344,346,351,362,370,371,398])\n",
      "i: 299, [23,31,54,69,78,90,103,111,117,118,123,130,132,146,164,194,211,241,268,282,284,286,287,288,289,293,294,296,298,300,303,304,305,307,309,310,312,313,315,317,319,329,333,352,360])\n",
      "i: 300, [10,74,123,148,170,195,198,222,224,237,259,265,281,282,284,285,286,287,288,290,292,295,296,297,299,305,306,310,311,315,318,320,325,330,351,352,364,397])\n",
      "i: 301, [10,11,30,47,53,76,88,97,138,144,145,146,151,166,181,189,211,234,235,259,268,281,282,284,285,287,288,289,290,291,293,294,296,297,302,304,306,307,308,311,312,313,314,317,318,319,322,343,356,359,361,367,393,397])\n",
      "i: 302, [2,12,37,60,66,104,193,282,284,286,288,292,295,296,301,305,306,307,308,310,311,312,315,319,321,326,335,337,343,354,359])\n",
      "i: 303, [3,5,12,51,86,99,110,152,156,200,205,208,230,234,243,266,272,281,285,287,288,289,296,297,299,304,310,311,312,314,315,316,318,323,375,379,383])\n",
      "i: 304, [22,25,83,86,142,151,168,174,175,181,187,196,230,238,283,284,286,288,289,290,292,293,294,295,297,298,299,301,303,306,308,310,311,312,313,317,319,322,324,359])\n",
      "i: 305, [12,17,27,79,110,113,118,140,165,208,220,226,240,241,245,257,261,271,282,283,284,285,288,291,292,293,294,295,296,299,300,302,306,309,311,314,315,317,318,319,324,358,360,375])\n",
      "i: 306, [16,17,22,48,58,67,108,114,198,234,283,284,286,287,288,296,298,300,301,302,304,305,307,309,310,311,312,313,316,317,318,338])\n",
      "i: 307, [29,35,39,49,105,110,118,133,139,142,174,186,196,204,214,230,281,283,284,287,288,289,291,293,294,295,296,298,299,301,302,306,308,309,311,312,315,364])\n",
      "i: 308, [31,34,58,80,86,113,138,157,159,166,173,206,226,243,254,269,281,282,286,288,289,290,291,292,293,295,297,301,302,304,307,309,310,311,313,314,315,318,321,335,353,354,361,393,398])\n",
      "i: 309, [16,17,26,37,59,100,109,134,149,164,175,185,192,209,230,261,264,267,282,284,286,287,288,289,292,293,294,296,297,298,299,305,306,307,308,310,311,312,313,314,317,319,331,332,338,390])\n",
      "i: 310, [33,44,68,84,91,96,105,108,134,172,181,190,234,272,275,281,282,284,285,287,290,293,294,296,297,298,299,300,302,303,304,306,308,309,311,317,320,341,348,369,387])\n",
      "i: 311, [51,59,73,78,106,130,146,147,200,219,223,237,247,263,271,275,281,283,287,288,290,291,292,293,295,296,297,300,301,302,303,304,305,306,307,308,309,310,314,315,351,377,392,398])\n",
      "i: 312, [49,52,60,64,91,119,128,152,156,161,181,215,232,238,250,259,282,283,284,285,286,288,292,293,294,296,299,301,302,303,304,306,307,309,317,318,319])\n",
      "i: 313, [34,88,121,131,165,220,281,283,284,286,287,292,293,297,299,301,304,306,308,309,314,316,317,319,320,336,338,354,356,368,370,378,398])\n",
      "i: 314, [10,11,15,18,21,32,50,64,69,94,99,101,104,113,115,129,160,166,177,193,206,233,266,267,282,283,284,286,288,292,293,294,301,303,305,308,309,311,313,315,316,318,320,327,340,356,379])\n",
      "i: 315, [69,86,95,122,127,209,238,250,255,260,269,278,281,282,284,288,289,293,296,297,298,299,300,302,303,305,307,308,311,314,319,320,338,339,340,369,371,392])\n",
      "i: 316, [12,83,131,156,189,191,206,219,233,281,282,285,288,289,290,294,298,303,306,313,314,317,333,338,349,354,383,394])\n",
      "i: 317, [6,8,27,59,68,80,87,93,115,124,131,142,146,171,201,214,248,252,268,283,286,287,288,289,290,291,293,294,297,299,301,304,305,306,309,310,312,313,316,323,328,337,343,347,377,390])\n",
      "i: 318, [22,42,65,103,106,124,140,190,194,205,218,237,258,260,265,272,273,283,284,286,287,289,290,292,293,294,295,296,300,301,303,305,306,308,312,314,319,320,390])\n",
      "i: 319, [1,8,25,30,65,67,68,76,93,96,141,161,181,183,215,233,243,281,284,285,286,287,289,293,294,296,299,301,302,304,305,309,312,313,315,318,334])\n",
      "i: 320, [41,76,108,196,212,213,226,239,247,250,264,282,283,284,287,288,289,295,300,310,313,314,315,318,321,377])\n",
      "i: 321, [8,83,112,119,131,137,138,167,177,221,232,236,239,272,283,289,302,308,320,324,327,328,329,332,335,337,340,341,343,347,348,350,351,353,355,356,359,386])\n",
      "i: 322, [31,70,79,83,107,126,138,153,160,184,190,191,207,218,228,240,260,264,295,301,304,323,324,329,330,331,335,337,338,339,340,341,342,345,348,349,350,352,354,355,356,360,362,372,374,381,396])\n",
      "i: 323, [22,79,95,111,145,172,256,271,303,317,322,324,328,331,332,333,344,345,346,347,351,352,353,354,357,358,360,361,392,400])\n",
      "i: 324, [24,48,84,121,157,158,197,219,231,239,253,282,304,305,321,322,323,325,330,331,332,335,338,339,340,341,344,345,346,347,350,352,353,354,355,358,359,360,400])\n",
      "i: 325, [39,57,88,240,258,268,275,300,324,326,327,330,333,334,336,338,340,341,343,345,350,352,356,359,384,391])\n",
      "i: 326, [5,23,36,53,54,62,63,67,110,111,119,182,228,234,238,245,290,298,302,325,327,329,331,332,333,334,335,339,340,342,344,346,348,349,352,353,354,357,358,359,365,371,384])\n",
      "i: 327, [29,31,91,117,121,122,126,131,139,164,180,200,203,223,224,231,234,280,314,321,325,326,329,330,331,333,334,339,340,341,343,346,347,349,350,351,353,357,358,359,360,386,396])\n",
      "i: 328, [18,67,124,131,144,151,181,192,217,231,235,240,250,253,270,317,321,323,329,331,334,335,338,339,340,341,342,343,344,345,346,347,348,349,351,352,354,355,356,360,384,398])\n",
      "i: 329, [3,29,46,52,78,89,164,201,228,278,299,321,322,326,327,328,330,332,335,336,339,341,343,344,347,348,349,355,356,357,358,359,360,364,369,376])\n",
      "i: 330, [1,9,34,65,70,74,84,86,95,103,139,171,172,174,178,180,191,198,217,230,246,271,286,289,290,300,322,324,325,327,329,331,332,335,336,337,340,341,344,348,350,351,356,357,358,385,389,393,399])\n",
      "i: 331, [5,11,12,32,48,72,81,100,104,130,148,194,205,206,232,243,248,309,322,323,324,326,327,328,330,333,334,335,337,341,345,347,348,351,357,393])\n",
      "i: 332, [19,33,53,69,86,103,145,153,155,187,212,224,230,248,283,294,309,321,323,324,326,329,330,335,336,337,340,342,344,345,348,349,351,352,353,354,358,368,386])\n",
      "i: 333, [4,9,22,26,67,83,116,120,122,136,177,207,217,246,283,299,316,323,325,326,327,331,337,338,339,341,344,345,347,348,349,350,351,352,353,354,355,357,358,359,372,387])\n",
      "i: 334, [29,48,57,76,120,123,145,159,171,187,196,204,205,212,256,269,293,319,325,326,327,328,331,336,339,341,344,345,347,349,350,352,354,356,357,358,359,364,368,375,378])\n",
      "i: 335, [20,31,37,66,72,80,117,131,133,137,169,177,203,208,209,215,235,244,269,270,275,280,289,302,308,321,322,324,326,328,329,330,331,332,336,337,338,340,342,344,345,347,348,351,358,360,368,389,390])\n",
      "i: 336, [26,47,52,59,123,147,159,168,184,208,237,242,243,256,260,262,266,276,279,313,325,329,330,332,334,335,337,338,339,340,341,342,343,345,346,347,349,350,351,352,355,358,359,375,398])\n",
      "i: 337, [1,40,80,84,85,93,114,135,207,234,298,302,317,321,322,330,331,332,333,335,336,340,341,343,344,348,349,350,351,353,355,357,372,385])\n",
      "i: 338, [91,112,119,202,207,216,242,247,248,251,269,277,292,306,309,313,315,316,322,324,325,328,333,335,336,339,344,346,347,349,350,355,356,361,391])\n",
      "i: 339, [49,72,84,112,119,123,149,175,186,242,271,295,315,322,324,326,327,328,329,333,334,336,338,340,343,344,345,347,349,350,352,353,355,357,359,364,366,367,379,392,395])\n",
      "i: 340, [4,6,30,34,41,67,73,76,121,144,162,167,170,178,199,212,233,260,282,296,314,315,321,322,324,325,326,327,328,330,332,335,336,337,339,345,346,350,351,355,358,360,368])\n",
      "i: 341, [13,39,40,63,68,74,76,77,88,113,119,123,133,136,140,152,166,182,210,220,277,279,282,285,310,321,322,324,325,327,328,329,330,331,333,334,336,337,342,346,347,348,351,352,353,354,357,358,359,362,379,388,394])\n",
      "i: 342, [20,29,39,50,97,101,150,152,208,251,284,322,326,328,332,335,336,341,345,346,347,348,350,351,352,355,359,381,385,387])\n",
      "i: 343, [1,7,37,77,83,129,132,159,188,193,209,222,265,266,271,277,301,302,317,321,325,327,328,329,336,337,339,344,350,351,352,354,355,356,358,369,376])\n",
      "i: 344, [38,45,49,67,72,105,145,148,160,234,257,288,298,323,324,326,328,329,330,332,333,334,335,337,338,339,343,346,348,350,351,352,353,357,359])\n",
      "i: 345, [12,22,80,114,159,201,213,232,235,242,275,277,286,322,323,324,325,328,331,332,333,334,335,336,339,340,342,346,349,351,354,355,357,358,359,361])\n",
      "i: 346, [6,7,13,20,51,54,57,77,85,95,100,109,110,146,153,161,167,213,229,234,257,272,287,298,323,324,326,327,328,336,338,340,341,342,344,345,347,349,350,351,352,353,356,357,358,387])\n",
      "i: 347, [15,64,65,108,128,137,154,160,206,212,216,228,258,288,317,321,323,324,327,328,329,331,333,334,335,336,338,339,341,342,346,348,349,351,352,355,362,363])\n",
      "i: 348, [12,29,74,116,125,138,142,148,172,183,229,235,238,264,265,269,281,310,321,322,326,328,329,330,331,332,333,335,337,341,342,344,347,349,350,351,353,355,358,377,380])\n",
      "i: 349, [31,52,53,65,91,99,119,127,146,169,171,179,183,185,195,228,236,242,265,270,316,322,326,327,328,329,332,333,334,336,337,338,339,345,346,347,348,350,351,352,353,354,357,359,362,394])\n",
      "i: 350, [7,14,27,29,44,65,71,90,99,114,137,143,148,155,168,184,214,223,225,231,321,322,324,325,327,330,333,334,336,337,338,339,340,342,343,344,346,348,349,351,357,360,366,394])\n",
      "i: 351, [15,21,47,51,55,75,110,133,143,145,152,172,182,195,205,243,248,250,257,270,298,300,311,321,323,327,328,330,331,332,333,335,336,337,340,341,342,343,344,345,346,347,348,349,350,354,355,371,373,383,387,392])\n",
      "i: 352, [3,10,20,25,33,78,81,89,104,124,132,138,139,169,174,196,201,239,240,256,259,299,300,322,323,324,325,326,328,332,333,334,336,339,341,342,343,344,346,347,349,357,358,359,369,397])\n",
      "i: 353, [3,56,58,65,72,73,87,91,92,106,126,181,223,246,288,308,321,323,324,326,327,332,333,337,339,341,344,346,348,349,354,356,357,359,360,383,389])\n",
      "i: 354, [2,44,61,72,81,83,92,118,123,169,170,211,224,250,268,274,282,285,302,308,313,316,322,323,324,326,328,332,333,334,341,343,345,349,351,353,355,356,358,360,377,378])\n",
      "i: 355, [77,93,133,141,144,179,201,206,208,232,284,286,287,321,322,324,328,329,333,336,337,338,339,340,342,343,345,347,348,351,354,359,360,365,395])\n",
      "i: 356, [10,33,37,38,52,112,118,121,143,166,185,212,221,233,256,262,282,301,313,314,321,322,325,328,329,330,334,338,343,346,353,354,357,376,384])\n",
      "i: 357, [4,51,115,117,141,143,156,158,191,197,204,220,250,274,323,326,327,329,330,331,333,334,337,339,341,344,345,346,349,350,352,353,356,395])\n",
      "i: 358, [4,45,50,55,96,101,152,199,226,240,243,247,251,252,267,277,280,305,323,324,326,327,329,330,332,333,334,335,336,340,341,343,345,346,348,352,354,359,360])\n",
      "i: 359, [9,59,95,103,105,131,142,158,178,186,212,229,250,270,276,291,301,302,304,321,324,325,326,327,329,333,334,336,339,341,342,344,345,349,352,353,355,358,391])\n",
      "i: 360, [75,76,78,84,108,124,129,132,138,145,148,182,185,201,217,228,231,245,256,277,299,305,322,323,324,327,328,329,335,340,350,353,354,355,358,378,387])\n",
      "i: 361, [20,37,40,81,102,129,142,155,172,179,183,241,279,285,301,308,323,338,345,364,367,368,369,372,375,377,380,381,383,387,388,390,391,393,395,396,399])\n",
      "i: 362, [20,51,124,128,154,160,211,225,273,298,322,341,347,349,363,364,369,370,371,375,377,378,379,380,381,382,385,388,389,390,392,394,395,396,400])\n",
      "i: 363, [2,63,132,136,151,169,170,193,230,235,254,257,260,267,275,288,294,296,347,362,364,368,371,372,373,384,385,386,387,391,392,393,394,397,398,400])\n",
      "i: 364, [40,73,96,118,164,189,216,220,245,259,277,278,300,307,329,334,339,361,362,363,365,370,371,372,375,378,379,380,381,384,385,386,387,390,392,393,394,395,398,399,400])\n",
      "i: 365, [25,34,53,62,67,117,125,134,139,159,186,280,288,326,355,364,366,367,370,373,374,376,378,380,381,383,385,390,392,396,399])\n",
      "i: 366, [12,16,19,42,59,118,136,138,163,197,239,240,262,292,339,350,365,367,369,371,372,373,374,375,379,380,382,384,386,388,389,392,393,394,397,398,399])\n",
      "i: 367, [22,41,49,51,52,129,157,264,279,301,339,361,365,366,369,370,371,373,374,379,380,381,383,386,387,389,390,391,393,397,398,399,400])\n",
      "i: 368, [6,16,56,155,160,199,205,250,259,288,292,313,332,334,335,340,361,363,369,371,374,375,378,379,380,381,382,383,384,385,386,387,388,389,391,392,394,395,396,397,400])\n",
      "i: 369, [32,36,40,65,76,105,136,147,152,196,220,238,248,310,315,329,343,352,361,362,366,367,368,370,372,375,376,379,381,383,384,387,388,389,395,396,397,398,399,400])\n",
      "i: 370, [10,12,19,49,105,123,127,133,167,194,203,225,228,235,242,264,266,272,290,291,298,313,362,364,365,367,369,371,372,375,376,377,380,381,384,388,390,391,396,397,398])\n",
      "i: 371, [2,4,26,34,58,83,99,168,225,232,277,292,298,315,326,351,362,363,364,366,367,368,370,373,374,375,377,381,385,387,388,391,397])\n",
      "i: 372, [4,7,95,131,151,165,176,322,333,337,361,363,364,366,369,370,375,376,377,380,382,384,385,388,389,391,392,393,394,398])\n",
      "i: 373, [19,53,59,66,76,85,102,108,116,134,136,172,183,195,262,263,272,351,363,365,366,367,371,377,378,379,381,384,385,387,388,389,390,391,392,393,394,395,397,398,399])\n",
      "i: 374, [17,36,51,100,102,103,146,153,191,197,225,229,238,240,241,265,267,289,294,322,365,366,367,368,371,376,379,381,384,385,387,389,390,392,394,396,397,398,399])\n",
      "i: 375, [10,11,16,32,52,62,63,90,108,130,161,186,196,211,230,287,293,303,305,334,336,361,362,364,366,368,369,370,371,372,376,377,378,380,382,384,385,387,388,391,398,400])\n",
      "i: 376, [14,33,45,65,91,131,138,143,156,162,233,245,250,288,329,343,356,365,369,370,372,374,375,377,378,379,380,381,382,383,385,386,387,389,390,391,392,395,398,399])\n",
      "i: 377, [5,8,17,31,32,33,38,42,54,94,137,166,168,188,190,210,211,226,235,238,286,311,317,320,348,354,361,362,370,371,372,373,375,376,380,381,383,384,388,389,390,391,393,395,397])\n",
      "i: 378, [20,31,81,96,122,125,152,153,161,162,167,185,197,256,268,274,289,295,313,334,354,360,362,364,365,368,373,375,376,379,384,386,387,389,390,395,396])\n",
      "i: 379, [37,44,66,68,85,91,97,116,180,182,193,196,209,221,238,270,303,314,339,341,362,364,366,367,368,369,373,374,376,378,380,383,384,385,387,389,390,392,393,395,397,399])\n",
      "i: 380, [36,72,77,89,140,152,183,194,212,223,229,235,250,262,264,268,285,348,361,362,364,365,366,367,368,370,372,375,376,377,379,385,386,390,391,395,398,400])\n",
      "i: 381, [17,31,32,42,51,74,86,96,98,123,124,131,134,148,175,196,234,242,255,279,288,322,342,361,362,364,365,367,368,369,370,371,373,374,376,377,382,384,386,387,388,391,392,393,394,397,398,399])\n",
      "i: 382, [4,68,81,115,132,133,134,141,149,150,160,171,174,190,198,216,227,259,297,362,366,368,372,375,376,381,385,386,387,388,390,391,392,395,399])\n",
      "i: 383, [6,8,13,29,47,53,84,90,93,115,138,178,192,221,246,251,259,260,266,275,291,303,316,351,353,361,365,367,368,369,376,377,379,384,390,391,392,394,395,396,398])\n",
      "i: 384, [19,36,70,106,133,158,185,218,229,241,255,270,274,325,326,328,356,363,364,366,368,369,370,372,373,374,375,377,378,379,381,383,386,388,390,391,392,393,397,399])\n",
      "i: 385, [1,78,106,145,190,249,286,330,337,342,362,363,364,365,368,371,372,373,374,375,376,379,380,382,386,389,391,394,395,397,398,399])\n",
      "i: 386, [14,51,52,100,134,148,154,179,235,236,244,275,277,321,327,332,363,364,366,367,368,376,378,380,381,382,384,385,387,389,390,391,392,393,396,397,398])\n",
      "i: 387, [3,21,34,38,44,97,105,117,139,171,178,185,196,198,218,225,265,268,310,333,342,346,351,360,361,363,364,367,368,369,371,373,374,375,376,378,379,381,382,386,388,389,391,392,395])\n",
      "i: 388, [12,60,64,85,94,104,114,129,173,215,244,277,283,341,361,362,366,368,369,370,371,372,373,375,377,381,382,384,387,389,390,391,393,394,395,398])\n",
      "i: 389, [27,76,90,131,132,223,227,272,284,289,290,330,335,353,362,366,367,368,369,372,373,374,376,377,378,379,385,386,387,388,390,391,392,393,394,397,399])\n",
      "i: 390, [5,29,44,51,58,73,102,111,113,167,178,181,202,222,286,289,309,317,318,335,361,362,364,365,367,370,373,374,376,377,378,379,380,382,383,384,386,388,389,391,397,400])\n",
      "i: 391, [28,40,46,65,67,73,109,177,196,239,245,291,295,325,338,359,361,363,367,368,370,371,372,373,375,376,377,380,381,382,383,384,385,386,387,388,389,390,394,395])\n",
      "i: 392, [96,99,109,112,129,136,188,214,284,290,311,315,323,339,351,362,363,364,365,366,368,372,373,374,376,379,381,382,383,384,386,387,389,397,398,399])\n",
      "i: 393, [70,96,100,126,136,169,202,204,216,229,236,240,250,301,308,330,331,361,363,364,366,367,372,373,377,379,381,384,386,388,389,394,396,397,399,400])\n",
      "i: 394, [8,42,51,68,81,96,104,119,155,165,178,194,215,238,244,251,271,274,290,316,341,349,350,362,363,364,366,368,372,373,374,381,383,385,388,389,391,393,395,396,398,400])\n",
      "i: 395, [36,56,80,100,159,167,171,175,176,189,242,279,281,339,355,357,361,362,364,368,369,373,376,377,378,379,380,382,383,385,387,388,391,394,399,400])\n",
      "i: 396, [10,11,14,22,29,51,66,143,149,156,176,200,207,224,241,250,251,255,322,327,361,362,365,368,369,370,374,378,383,386,393,394,397])\n",
      "i: 397, [5,30,41,48,55,74,78,89,106,108,167,192,199,203,219,225,240,241,262,274,300,301,352,363,366,367,368,369,370,371,373,374,377,379,381,384,385,386,389,390,392,393,396])\n",
      "i: 398, [15,42,67,70,116,162,163,171,203,204,214,234,246,263,267,278,298,308,311,313,328,336,363,364,366,367,369,370,372,373,374,375,376,380,381,383,385,386,388,392,394,399,400])\n",
      "i: 399, [4,26,66,69,91,116,129,146,152,154,161,165,173,236,242,243,278,330,361,364,365,366,367,369,373,374,376,379,381,382,384,385,389,392,393,395,398])\n",
      "i: 400, [18,23,57,80,102,117,138,139,142,157,193,223,238,257,262,323,324,362,363,364,367,368,369,375,380,390,393,394,395,398])\n"
     ]
    }
   ],
   "source": [
    "cs,_ = make_two_level_random_graph(t)\n",
    "#println(sort(sample_in_edges(cs,11,39)))\n",
    "#println(sample_out_edges(cs,11,40))\n",
    "println(degree(cs),mean(degree(cs)))\n",
    "for i in 1:t.N\n",
    "    println(\"i: $i, $(neighbors(cs,i)))\")\n",
    "end"
   ]
  },
  {
   "cell_type": "code",
   "execution_count": 92,
   "metadata": {
    "collapsed": false
   },
   "outputs": [
    {
     "name": "stdout",
     "output_type": "stream",
     "text": [
      "3 "
     ]
    },
    {
     "data": {
      "text/plain": [
       "({20, 24} undirected graph,[[1,2,3,4],[5,6,7,8],[9,10,11,12],[13,14,15,16],[17,18,19,20]])"
      ]
     },
     "execution_count": 92,
     "metadata": {},
     "output_type": "execute_result"
    },
    {
     "name": "stdout",
     "output_type": "stream",
     "text": [
      "6 0.3333333333333333\n",
      "2 6 0.3333333333333333\n",
      "3 6 0.3333333333333333\n",
      "4 6 0.3333333333333333\n",
      "4 6 0.3333333333333333\n"
     ]
    }
   ],
   "source": [
    "cs = make_two_level_random_graph(t)"
   ]
  },
  {
   "cell_type": "code",
   "execution_count": 142,
   "metadata": {
    "collapsed": false
   },
   "outputs": [
    {
     "data": {
      "text/plain": [
       "1-element Array{Int64,1}:\n",
       " 3"
      ]
     },
     "execution_count": 142,
     "metadata": {},
     "output_type": "execute_result"
    }
   ],
   "source": [
    "intersect([1,2,3],[3,4,5])"
   ]
  },
  {
   "cell_type": "code",
   "execution_count": 90,
   "metadata": {
    "collapsed": false
   },
   "outputs": [
    {
     "data": {
      "text/plain": [
       "2"
      ]
     },
     "execution_count": 90,
     "metadata": {},
     "output_type": "execute_result"
    }
   ],
   "source": [
    "splice!([1,2,3],2)"
   ]
  },
  {
   "cell_type": "markdown",
   "metadata": {},
   "source": [
    "# Questions\n",
    "\n",
    "## What do we do with knowledge of $P(x | y)$? How do we calculate the dynamics from there\n",
    "## Make sure we have factors of $y (1 - y)$ correctly\n",
    "## what are we using as the transition probabilities? Should we just average over all possible values of $i_r$ and $i_l$?\n",
    "\n",
    "\n",
    "# TODO\n",
    "\n",
    "## Have simulations output a detailed history of which node was infected at what time. That can be used to find the prevalence in each community, given the clusters.\n",
    "\n",
    "## Implement a version with binomial sampling of edges intra-nodes and inter-nodes (so the numbers are not exact)"
   ]
  },
  {
   "cell_type": "code",
   "execution_count": null,
   "metadata": {
    "collapsed": true
   },
   "outputs": [],
   "source": []
  },
  {
   "cell_type": "code",
   "execution_count": null,
   "metadata": {
    "collapsed": true
   },
   "outputs": [],
   "source": []
  }
 ],
 "metadata": {
  "kernelspec": {
   "display_name": "Julia 0.4.3",
   "language": "julia",
   "name": "julia-0.4"
  },
  "language_info": {
   "file_extension": ".jl",
   "mimetype": "application/julia",
   "name": "julia",
   "version": "0.4.3"
  }
 },
 "nbformat": 4,
 "nbformat_minor": 0
}
