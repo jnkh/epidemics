{
 "cells": [
  {
   "cell_type": "markdown",
   "metadata": {},
   "source": [
    "# Theory\n"
   ]
  },
  {
   "cell_type": "markdown",
   "metadata": {},
   "source": [
    "We imagine a collection of Erdos-Renyi Random Graphs.\n",
    "\n",
    "Want to calculate the probability distribution of the distribution of infecteds $x$ among the different graphs, given the overall fraction of infected $y$.\n",
    "\n",
    "If we let $x_i$ be the fraction of infecteds in subgraph $i$, we expect a universal probability distribution $P(x_i | y)$. Due to symmetry, we further expect $P(x_i | y) = P(x|y)$ to be independent of $i$.\n",
    "\n",
    "If we assume stationarity, we can find an equilibrium distribution $P(x | y)$. I.e. we assume an overal prevalence $y$ of infecteds, and conditioned on this $y$ find which stationary distribution of $x$ emerges.\n",
    "\n",
    "Given $P(x | y)$ we can calculate $<x>$ and $<x^2>$, which gives us an $s_{eff}(x)$ in each of the subgraphs. \n",
    "\n",
    "We expect $x$ to be concentrated as $y$ is small, and then we expect it to gradually spread out as $y$ becomes larger."
   ]
  },
  {
   "cell_type": "markdown",
   "metadata": {},
   "source": [
    "## Stationary Distribution $P(x | y)$\n",
    "\n",
    "Assume we have a regular two-level erdos-renyi graph with N total nodes. There are $n$ subgraphs of $m$ nodes each. Each node has $r$ connections randomly among all other subgraphs and $l$ connections randomly among its own subgraph.\n",
    "\n",
    "We assume that for each individual independently\n",
    "\n",
    "$$P_{death} \\sim N \\bar{y} (1 - y) (1 + \\beta)$$\n",
    "$$P_{birth} \\sim N y (1 - \\bar{y}) (1 + \\alpha y)$$\n",
    "\n",
    "$y$ stands for the local density, whereas $\\bar{y}$ stands for the average density throughout the entire graph.\n",
    "The $y (1 - y)$ terms arise in different ways. In the death process, we require an infected to die ($\\bar{y}$) pick the type (infected or susceptible) from a random neighbor upon death ($1 - y$). For the birth process, we need to be susceptible ($1 - \\bar{y}$) in order to undergo birth in the first place. However we have an independent probability from each neighbor of being infected ($y$). If we want to find the expectation of these quantities, we need\n",
    "\n",
    "$$N_{death} \\sim N \\bar{y} (1 - <y>) (1 + \\beta)$$\n",
    "$$N_{birth} \\sim N (1 - \\bar{y}) (<y> + \\alpha <y^2>)$$\n",
    "\n",
    "per individual, we have\n",
    "\n",
    "$$P_{death} \\sim (1 - <y>) (1 + \\beta)$$\n",
    "$$P_{birth} \\sim (<y> + \\alpha <y^2>)$$\n",
    "\n",
    "Due to the nonlinearity, we need the expectation of $<y^2>$ as well.\n",
    "\n",
    "Now describe our system by a vector $\\vec{a} = (a_0, a_1, ... , a_m)$ Where $a_j$ describes the number of subgraphs with $j$ infecteds. We of course only have $n$ subnodes, which requires\n",
    "$$\\sum_{j = 0}^m a_j = n $$\n",
    "Since we must have $N y$ infecteds total, this requires a normalization\n",
    "$$\\sum_{j = 0}^m j a_j = N y$$\n",
    "\n",
    "We imagine a stationary process where we randomly remove one infected individual and then randomly add one infected invidual. This process should relax to an equilibrium distribution"
   ]
  },
  {
   "cell_type": "markdown",
   "metadata": {},
   "source": [
    "### Transition probabilities\n",
    "\n",
    "Let us consider a node in a subgraph with $j$ total infecteds. This node has degree $r + l$. Let us find out $y$. We know inside the subgraph the prevalence is $\\frac{j}{m}$. Outside, the prevalence is $\\bar{y}$. Thus, we have $y = \\frac{i_r + i_l}{r + l}$, where $i_r$ and $i_l$ are binomially distributed random variables:\n",
    "$$i_l \\sim Binom(l,\\frac{j}{m})$$\n",
    "$$i_r \\sim Binom(r,\\bar{y})$$\n",
    "\n",
    "With means $<i_l> = \\frac{l j}{m}$ and $<i_r> = r \\bar{y}$. Thus we have $$y_{local} = y = \\frac{l \\frac{j}{m} +r \\bar{y}}{l  + r}$$\n",
    "in expectation. If the nodes is itself infected, it is part of the $j$ nodes, so we would really have\n",
    "$$y_{local} = y = \\frac{l \\frac{j-1}{m} +r \\bar{y}}{l  + r}$$ in that case.\n",
    "\n",
    "For $<y^2>$ we have \n",
    "$$<y^2> = \\left< \\frac{i_r^2 + i_r i_l + i_l^2}{(r + l)^2} \\right> = \n",
    "\\frac{<i_r^2> + <i_l^2> + <i_r><i_l>}{(r + l)^2} = \\frac{r \\bar{y} ((r - 1) \\bar{y} + 1) + l \\frac{j}{m}((l - 1) \\frac{j}{m} + 1) + l r \\frac{j}{m} \\bar{y}}{(r + l)^2} $$\n",
    "\n",
    "We have $Var[x] = E[x^2] - E[x]^2$ For the binomial distribution,\n",
    "$E[x^2] = Var[x] + E[x]^2 = n p (1 - p)  + n^2 p^2 = n p ((n - 1) p + 1)$\n",
    "\n",
    "Now consider an individual in a subgraph with $j$ infecteds. If he is infected, his probability of being removed ($a_j -= 1$, $a_{j - 1} += 1$)is\n",
    "\n",
    "$$a_j j <P_{death,j}> =  a_j j (1 - <y_j>) (1 + \\beta)$$\n",
    "\n",
    "If he is susceptible, his probability of being added is\n",
    "\n",
    "$$ a_j (m - j) <P_{birth,j}> = (<y_j> + \\alpha <y_j^2>) $$\n",
    "\n",
    "We develop a markov chain where we apply one birth and one death process simultaneously and then observe the resulting equilibrium distribution."
   ]
  },
  {
   "cell_type": "markdown",
   "metadata": {},
   "source": [
    "## TODO\n",
    "\n",
    "- Run simulations of actual two-level Erdos-Renyi random graphs\n",
    "- Compare these simulations with the stationary process and see if the observed distribution $P(x | y)$ matches."
   ]
  },
  {
   "cell_type": "code",
   "execution_count": 1,
   "metadata": {
    "collapsed": false
   },
   "outputs": [],
   "source": [
    "push!(LOAD_PATH,pwd())\n",
    "using StatsBase, PyPlot, Distributions, LightGraphs, TwoLevelGraphs"
   ]
  },
  {
   "cell_type": "code",
   "execution_count": 2,
   "metadata": {
    "collapsed": false
   },
   "outputs": [
    {
     "data": {
      "text/plain": [
       "death_get_number_weight (generic function with 1 method)"
      ]
     },
     "execution_count": 2,
     "metadata": {},
     "output_type": "execute_result"
    }
   ],
   "source": [
    "\n",
    "#implement the MCMC exploration of the state space\n",
    "\n",
    "##TODO: successive steps, not same time steps.\n",
    "\n",
    "function run_mcmc_transition(t::TwoLevel,death_fn::Function,birth_fn::Function,plotting=false)\n",
    "    death_probs = zeros(t.m)\n",
    "    birth_probs = zeros(t.m)\n",
    "\n",
    "    #birth\n",
    "    for j = 1:t.m\n",
    "        birth_probs[j] = birth_fn(t,j)\n",
    "    end\n",
    "    \n",
    "    birth_idx = StatsBase.sample(WeightVec(birth_probs))\n",
    "    birth_at(t,birth_idx)\n",
    "    \n",
    "    #death\n",
    "    for j = 1:t.m\n",
    "        death_probs[j] = death_fn(t,j)\n",
    "    end\n",
    "    death_idx = StatsBase.sample(WeightVec(death_probs))\n",
    "    death_at(t,death_idx)\n",
    "    \n",
    "\n",
    "#     semilogy(birth_probs/death_probs)\n",
    "#     println(birth_probs)\n",
    "#     println(death_probs)\n",
    "end\n",
    "\n",
    "function birth_at(t::TwoLevel,idx::Int)\n",
    "    t.a[idx] -= 1\n",
    "    t.a[idx+1] += 1\n",
    "end\n",
    "\n",
    "function death_at(t::TwoLevel,idx::Int)\n",
    "    t.a[idx+1] -= 1\n",
    "    t.a[idx] += 1\n",
    "end\n",
    "\n",
    "function birth_fn(t::TwoLevel,j::Int,alpha=1.0)\n",
    "    number_weight = birth_get_number_weight(t,j)\n",
    "    \n",
    "    y_global = t.i/t.N\n",
    "    y_local = (t.l*j/t.m + r*y_global)/(t.r + t.l)\n",
    "    y_squared_local = (t.r*y_global*((t.r - 1)* y_global + 1) + t.l*j/t.m*((t.l - 1)*j/t.m + 1) + t.l* t.r* j/t.m* y_global)/(t.r + t.l)^2 \n",
    "    \n",
    "    return number_weight*(y_local + alpha*y_squared_local)\n",
    "    \n",
    "end\n",
    "    \n",
    "function death_fn(t::TwoLevel,j::Int,beta=0.1)\n",
    "    number_weight = death_get_number_weight(t,j)\n",
    "    y_global = t.i/t.N\n",
    "    y_local = (t.l*(j-1)/t.m + r*y_global)/(t.r + t.l)\n",
    "    \n",
    "    return number_weight*(1 - y_local)*(1 + beta)\n",
    "    \n",
    "end\n",
    "\n",
    "function birth_get_number_weight(t::TwoLevel,j::Int)\n",
    "    return t.a[j]*(t.m-(j-1))\n",
    "end\n",
    "\n",
    "function death_get_number_weight(t::TwoLevel,j::Int)\n",
    "    return t.a[j+1]*(j)\n",
    "end\n",
    "\n"
   ]
  },
  {
   "cell_type": "code",
   "execution_count": 24,
   "metadata": {
    "collapsed": false
   },
   "outputs": [
    {
     "name": "stdout",
     "output_type": "stream",
     "text": [
      "N=400, alpha = 88.88888888888889, beta = 2.2222222222222223\n"
     ]
    },
    {
     "data": {
      "text/plain": [
       "true"
      ]
     },
     "execution_count": 24,
     "metadata": {},
     "output_type": "execute_result"
    },
    {
     "name": "stdout",
     "output_type": "stream",
     "text": [
      "[0,0,0,10,0,0,0,0,0,0,0,0,0,0,0,0,0,0,0,0,0,0,0,0,0,0,0,0,0,0,0,0,0,0,0,0,0,0,0,0,0] 10\n",
      "0.075\n"
     ]
    }
   ],
   "source": [
    "k = 4\n",
    "#y_n = 0.1\n",
    "c_r = 0.18\n",
    "N = 400\n",
    "n_n = 10#y_n*N\n",
    "beta = 4.0/(c_r*n_n)\n",
    "alpha = (N*beta)/n_n\n",
    "println(\"N=$N, alpha = $alpha, beta = $beta\")\n",
    "\n",
    "\n",
    "#Generate a random startin vector\n",
    "m = 40\n",
    "n = Int(N/m)\n",
    "l = Int(m/2)#internal\n",
    "r = 4#Int(m/2)#2 #external\n",
    "\n",
    "t = TwoLevel(N,m,l,r)\n",
    "\n",
    "y_desired = 0.1\n",
    "#distribute_randomly(t,n)\n",
    "t.a[max(1,Int(round(y_desired*t.m)))] = t.n\n",
    "make_consistent(t)\n",
    "i = get_num_infected(t)\n",
    "println(t.a,\" \", sum(t.a))\n",
    "println(t.i/t.N)\n",
    "is_valid(t)"
   ]
  },
  {
   "cell_type": "code",
   "execution_count": 25,
   "metadata": {
    "collapsed": false
   },
   "outputs": [
    {
     "name": "stdout",
     "output_type": "stream",
     "text": [
      "TwoLevelGraphs."
     ]
    },
    {
     "data": {
      "image/png": "[encoded data removed]",
      "text/plain": [
       "PyPlot.Figure(PyObject <matplotlib.figure.Figure object at 0x313697890>)"
      ]
     },
     "metadata": {},
     "output_type": "display_data"
    },
    {
     "data": {
      "image/png": "[encoded data removed]",
      "text/plain": [
       "PyPlot.Figure(PyObject <matplotlib.figure.Figure object at 0x313a9ec10>)"
      ]
     },
     "metadata": {},
     "output_type": "display_data"
    },
    {
     "name": "stdout",
     "output_type": "stream",
     "text": [
      "TwoLevel([9,0,0,0,0,0,0,0,0,0,0,0,0,0,0,0,0,0,0,0,0,0,0,0,0,0,0,0,0,0,1,0,0,0,0,0,0,0,0,0,0],400,40,10,30,4,20)\n"
     ]
    }
   ],
   "source": [
    "accum = zeros(t.a)\n",
    "dfn(x) = 1\n",
    "bfn(x) = 1\n",
    "plot(t.a)\n",
    "num_trials = 100000\n",
    "for i = 1:num_trials\n",
    "    run_mcmc_transition(t,((x,y) -> death_fn(x,y,beta)),((x,y) -> birth_fn(x,y,alpha)),true)\n",
    "accum += t.a\n",
    "end\n",
    "accum /= num_trials\n",
    "figure()\n",
    "plot(accum,\"r\")\n",
    "# accum *= 0\n",
    "# for i = 1:num_trials\n",
    "#     run_mcmc_transition(t,death_get_number_weight,birth_get_number_weight)\n",
    "# accum += t.a\n",
    "# end\n",
    "# accum /= num_trials\n",
    "# plot(accum,\"g\")\n",
    "# accum *= 0\n",
    "# for i = 1:num_trials\n",
    "#     run_mcmc_transition(t,((x,y) -> death_fn(x,y,beta)),((x,y) -> birth_fn(x,y,alpha)))\n",
    "# accum += t.a\n",
    "# end\n",
    "# accum /= num_trials\n",
    "# plot(accum,\"k\")\n",
    "println(t)\n"
   ]
  },
  {
   "cell_type": "markdown",
   "metadata": {},
   "source": [
    "Simulation Strategy: first burn in the distribution with neutral transition probabilities to sample different starting configurations. Then apply real transition functions to sample the distribution."
   ]
  },
  {
   "cell_type": "markdown",
   "metadata": {},
   "source": [
    "## Graph generation"
   ]
  },
  {
   "cell_type": "markdown",
   "metadata": {},
   "source": [
    "We wish to generate two-level Erdos-Renyi random graphs. The central idea is that each individual subgraph is a simple ER random graph. These can be produced independently. Moreover, we can then view each subgraph as a supernode and produce another ER random graph connecting these super nodes with the appropriate amount of edges. In the final step we then uniformly distribute the edges between the super nodes among the actual nodes that make up the super nodes."
   ]
  },
  {
   "cell_type": "code",
   "execution_count": 16,
   "metadata": {
    "collapsed": false
   },
   "outputs": [
    {
     "name": "stdout",
     "output_type": "stream",
     "text": [
      "{400, 7995} undirected graph\n"
     ]
    },
    {
     "data": {
      "text/plain": [
       "{400, 8000} undirected graph"
      ]
     },
     "execution_count": 16,
     "metadata": {},
     "output_type": "execute_result"
    },
    {
     "name": "stdout",
     "output_type": "stream",
     "text": [
      "  0.015545 seconds (148.29 k allocations: 9.089 MB)\n",
      "  0.007473 seconds (36.15 k allocations: 2.018 MB)\n"
     ]
    }
   ],
   "source": [
    "@time println(TwoLevelGraph(t).g)\n",
    "@time LightGraphs.erdos_renyi(N,Int(N*(l+r)/2))\n"
   ]
  },
  {
   "cell_type": "code",
   "execution_count": 74,
   "metadata": {
    "collapsed": false
   },
   "outputs": [
    {
     "data": {
      "text/plain": [
       "1"
      ]
     },
     "execution_count": 74,
     "metadata": {},
     "output_type": "execute_result"
    }
   ],
   "source": [
    "rand(Binomial(5,0.2))"
   ]
  },
  {
   "cell_type": "code",
   "execution_count": 59,
   "metadata": {
    "collapsed": false
   },
   "outputs": [
    {
     "name": "stdout",
     "output_type": "stream",
     "text": [
      "[38,45,35,42,41,36,36,40,45,41,33,34,50,44,45,43,41,41,48,40,48,35,38,43,40,34,42,45,37,40,42,34,36,35,47,35,34,36,34,36,34,40,35,44,32,41,30,44,40,39,38,47,55,41,42,42,40,36,40,36,47,43,34,39,44,39,35,55,42,40,43,40,38,38,38,29,50,41,28,34,47,38,36,46,39,34,39,43,37,39,30,32,43,37,37,38,33,38,44,44,38,36,37,39,34,42,40,39,45,34,41,42,40,33,40,29,43,39,36,27,38,43,39,37,35,47,41,42,45,51,35,32,43,40,38,42,37,41,38,39,39,40,33,40,41,40,41,42,49,44,35,31,43,32,39,31,43,40,37,29,37,45,31,45,36,39,41,52,41,44,33,41,38,39,35,47,34,32,43,45,44,34,33,42,40,37,37,38,31,39,41,41,43,43,38,33,48,47,36,31,44,40,41,55,33,37,43,46,38,44,36,51,39,46,42,35,40,33,50,31,42,38,41,38,37,35,45,47,50,43,50,37,40,40,39,27,33,47,40,28,42,45,36,43,31,41,44,42,33,40,33,31,35,38,46,43,38,38,50,42,39,38,38,30,42,34,40,33,41,39,41,45,39,36,31,37,41,43,39,26,35,41,36,44,36,43,32,44,44,33,33,44,40,37,48,36,35,30,37,43,38,26,35,44,41,43,45,46,38,44,37,45,40,32,37,33,37,45,36,31,38,39,37,48,35,39,43,54,41,38,37,46,47,42,42,37,41,31,34,40,44,28,35,38,50,39,37,38,30,35,46,40,45,28,44,34,42,48,41,34,31,40,37,40,37,37,36,45,43,42,38,43,42,35,37,39,41,33,40,43,35,39,35,35,36,41,42,38,45,42,50,43,42,33,42,35,44,38,34,27]39.26\n",
      "i: 1, [4,7,8,9,12,15,17,20,21,23,27,28,30,31,33,35,36,39,49,100,117,139,140,141,154,160,162,176,209,232,233,245,264,273,278,301,389,393])\n",
      "i: 2, [3,4,9,10,11,15,17,18,19,20,21,22,25,28,29,30,32,34,35,36,40,41,46,54,65,110,127,129,138,141,152,192,206,219,242,293,310,328,337,341,343,363,365,375,389])\n",
      "i: 3, [2,4,8,11,12,13,24,25,26,27,31,32,33,34,37,38,40,51,88,94,126,130,135,140,154,158,190,198,218,219,231,284,296,383,386])\n",
      "i: 4, [1,2,3,5,10,11,12,15,18,19,20,21,22,24,25,26,27,29,30,32,33,34,35,38,39,40,56,70,115,127,129,180,204,221,248,257,321,329,343,368,371,385])\n",
      "i: 5, [4,6,7,10,13,14,16,18,20,21,23,25,30,32,36,39,42,45,64,108,124,125,130,142,147,180,194,211,213,247,256,280,288,307,316,330,343,347,364,380,385])\n",
      "i: 6, [5,7,9,11,12,13,14,15,19,20,22,24,26,28,29,32,33,34,37,38,39,59,74,167,207,259,276,281,316,347,358,366,386,387,392,396])\n",
      "i: 7, [1,5,6,9,10,11,13,14,19,20,21,23,26,27,29,30,31,33,37,38,39,40,106,109,143,149,185,198,202,219,228,244,322,324,377,395])\n",
      "i: 8, [1,3,9,11,14,15,18,19,20,21,22,23,24,25,26,27,28,29,31,32,34,35,36,37,40,47,104,126,138,183,187,190,260,265,275,276,296,318,328,355])\n",
      "i: 9, [1,2,6,7,8,10,12,15,16,19,21,23,24,27,28,29,35,36,37,38,39,40,65,85,86,106,139,143,172,176,191,192,197,214,221,240,242,265,288,297,322,330,341,355,362])\n",
      "i: 10, [2,4,5,7,9,11,12,15,16,17,20,21,24,28,30,31,36,37,38,44,48,62,90,92,117,143,155,222,229,244,250,256,263,275,281,322,327,345,355,372,398])\n",
      "i: 11, [2,3,4,6,7,8,10,13,14,15,17,21,25,27,28,31,37,61,143,155,168,179,225,247,254,262,272,280,318,322,325,355,392])\n",
      "i: 12, [1,3,4,6,9,10,13,15,16,17,20,22,24,25,28,29,31,32,33,34,38,68,72,79,193,197,212,254,283,292,303,311,346,367])\n",
      "i: 13, [3,5,6,7,11,12,17,18,19,21,24,25,27,28,29,30,31,32,33,34,35,37,38,39,67,93,106,125,128,153,172,194,198,209,215,221,228,234,247,256,261,278,295,306,313,334,346,370,381,388])\n",
      "i: 14, [5,6,7,8,11,16,19,21,22,24,25,27,29,30,32,34,36,37,38,39,82,105,113,120,127,132,142,147,157,186,192,204,213,226,228,253,272,288,308,310,337,340,356,375])\n",
      "i: 15, [1,2,4,6,8,9,10,11,12,16,17,18,20,22,24,25,27,28,31,38,40,60,65,68,70,94,98,105,135,136,151,155,196,255,256,263,266,284,290,294,334,356,358,374,390])\n",
      "i: 16, [5,9,10,12,14,15,17,18,19,20,21,22,23,25,26,27,29,30,31,32,35,38,39,55,56,82,102,117,128,139,159,169,179,198,203,220,235,253,263,371,382,388,391])\n",
      "i: 17, [1,2,10,11,12,13,15,16,20,21,23,24,28,29,30,31,33,35,37,57,65,68,73,103,113,129,131,179,210,211,236,268,270,276,304,328,330,351,353,390,396])\n",
      "i: 18, [2,4,5,8,13,15,16,19,24,26,27,29,30,35,36,46,63,67,81,133,142,143,160,162,179,207,210,213,240,249,258,260,288,304,311,332,358,365,375,393,399])\n",
      "i: 19, [2,4,6,7,8,9,13,14,16,18,20,23,24,25,27,29,30,32,33,35,37,39,62,64,73,88,90,109,138,152,182,184,196,212,214,218,223,227,262,269,323,329,338,351,365,387,395,397])\n",
      "i: 20, [1,2,4,5,6,7,8,10,12,15,16,17,19,25,26,30,31,35,38,40,53,109,111,121,128,136,141,150,151,193,213,235,242,272,286,294,305,313,321,346])\n",
      "i: 21, [1,2,4,5,7,8,9,10,11,13,14,16,17,22,24,26,27,28,31,32,33,34,37,38,39,43,50,59,65,68,76,80,122,127,145,159,171,190,193,200,203,257,295,318,336,350,370,376])\n",
      "i: 22, [2,4,6,8,12,14,15,16,21,25,26,27,28,30,31,32,35,39,65,82,84,133,144,147,158,190,207,256,261,271,352,361,381,387,394])\n",
      "i: 23, [1,5,7,8,9,16,17,19,24,30,31,32,34,35,36,38,54,59,68,71,77,84,98,104,116,137,153,189,197,245,260,263,270,306,308,328,333,382])\n",
      "i: 24, [3,4,6,8,9,10,12,13,14,15,17,18,19,21,23,26,28,30,31,32,33,37,39,58,68,71,73,74,89,140,142,166,188,227,229,267,301,322,334,366,382,393,395])\n",
      "i: 25, [2,3,4,5,8,11,12,13,14,15,16,19,20,22,26,29,31,34,35,37,38,39,77,90,93,127,129,148,151,175,239,244,304,306,331,351,363,373,389,393])\n",
      "i: 26, [3,4,6,7,8,16,18,20,21,22,24,25,27,29,30,31,32,33,36,37,38,42,126,131,136,179,184,195,208,215,341,357,368,385])\n",
      "i: 27, [1,3,4,7,8,9,11,13,14,15,16,18,19,21,22,26,28,29,31,32,35,84,93,120,125,140,159,176,197,202,212,269,276,284,320,328,337,338,372,382,395,396])\n",
      "i: 28, [1,2,6,8,9,10,11,12,13,15,17,21,22,24,27,29,30,31,33,34,35,38,52,80,112,121,132,142,180,184,187,201,221,242,255,263,274,318,332,370,379,381,383,384,397])\n",
      "i: 29, [2,4,6,7,8,9,12,13,14,16,17,18,19,25,26,27,28,30,31,32,33,34,37,39,44,63,97,180,219,237,243,322,328,351,355,370,395])\n",
      "i: 30, [1,2,4,5,7,10,13,14,16,17,18,19,20,22,23,24,26,28,29,31,37,40,48,94,98,125,147,155,180,192,201,256,282,324,339,348,351,365,386,392])\n",
      "i: 31, [1,3,7,8,10,11,12,13,15,16,17,20,21,22,23,24,25,26,27,28,29,30,34,35,47,105,114,115,133,156,171,177,193,229,233,243,270,278,341,344,375,395])\n",
      "i: 32, [2,3,4,5,6,8,12,13,14,16,19,21,22,23,24,26,27,29,37,38,39,41,147,173,180,214,216,219,228,229,279,304,331,371])\n",
      "i: 33, [1,3,4,6,7,12,13,17,19,21,24,26,28,29,34,36,37,39,40,50,54,62,75,82,118,148,149,169,214,222,243,246,254,333,359,368])\n",
      "i: 34, [2,3,4,6,8,12,13,14,21,23,25,28,29,31,33,35,36,38,40,74,102,162,170,173,201,216,268,279,312,325,357,359,360,361,378])\n",
      "i: 35, [1,2,4,8,9,13,16,17,18,19,20,22,23,25,27,28,31,34,39,40,64,67,90,126,159,168,178,182,192,201,203,211,214,257,267,272,282,293,318,329,333,334,338,358,359,377,395])\n",
      "i: 36, [1,2,5,8,9,10,14,18,23,26,33,34,37,44,51,62,71,83,121,122,134,136,144,150,183,196,218,241,250,251,283,326,331,361,395])\n",
      "i: 37, [3,6,7,8,9,10,11,13,14,17,19,21,24,25,26,29,30,32,33,36,46,60,70,112,134,197,258,263,277,282,298,332,375,388])\n",
      "i: 38, [3,4,6,7,9,10,12,13,14,15,16,20,21,23,25,26,28,32,34,39,40,129,184,198,207,212,235,238,239,243,273,277,287,301,307,353])\n",
      "i: 39, [1,4,5,6,7,9,13,14,16,19,21,22,24,25,29,32,33,35,38,61,106,123,132,133,134,177,191,222,243,250,269,273,383,396])\n",
      "i: 40, [2,3,4,7,8,9,15,20,30,33,34,35,38,63,83,93,110,122,131,162,181,189,193,195,205,212,231,236,237,238,241,251,323,359,367,391])\n",
      "i: 41, [2,32,44,47,48,49,52,55,57,60,61,63,67,68,70,71,73,75,76,79,81,121,149,163,202,256,257,273,295,303,357,358,367,382])\n",
      "i: 42, [5,26,43,44,49,50,51,55,57,58,59,60,61,62,65,68,69,70,72,74,75,76,80,117,118,128,135,142,189,191,206,264,276,286,300,307,324,357,362,377])\n",
      "i: 43, [21,42,44,48,51,52,53,64,65,66,67,71,72,73,74,76,77,78,80,97,98,117,118,159,170,199,282,299,301,309,328,334,338,343,376])\n",
      "i: 44, [10,29,36,41,42,43,45,50,51,52,55,58,59,60,61,62,64,65,66,67,69,70,72,73,74,75,78,79,80,123,126,147,153,161,162,181,198,248,281,319,320,340,359,390])\n",
      "i: 45, [5,44,46,47,49,50,53,54,56,58,60,61,63,65,70,72,76,78,79,85,106,145,158,198,255,277,291,307,344,351,391,398])\n",
      "i: 46, [2,18,37,45,47,49,51,52,53,54,55,59,60,62,64,66,68,69,72,73,74,77,78,79,93,152,165,166,218,229,242,247,267,274,277,286,328,329,345,348,392])\n",
      "i: 47, [8,31,41,45,46,49,50,51,53,54,59,60,61,63,66,67,69,70,71,73,77,78,79,80,88,106,182,219,332,389])\n",
      "i: 48, [10,30,41,43,49,51,52,54,55,58,59,60,61,62,63,64,65,66,67,68,69,71,72,74,75,76,77,80,110,131,136,170,178,219,223,279,282,283,288,304,353,358,371,386])\n",
      "i: 49, [1,41,42,45,46,47,48,50,52,55,56,59,61,63,64,67,68,69,75,76,77,78,79,80,91,111,119,120,146,168,182,211,214,273,280,297,345,369,382,400])\n",
      "i: 50, [21,33,42,44,45,47,49,51,52,53,55,56,57,60,61,64,68,70,71,76,77,78,86,113,130,148,203,208,227,230,278,294,307,308,326,359,364,389,398])\n",
      "i: 51, [3,36,42,43,44,46,47,48,50,53,54,55,56,57,61,65,67,68,71,77,123,130,155,161,169,170,172,187,245,285,345,356,383,389,391,395,397,398])\n",
      "i: 52, [28,41,43,44,46,48,49,50,53,55,56,57,60,62,64,65,68,69,71,72,73,74,78,95,102,129,130,147,153,168,198,209,224,227,228,244,301,302,313,318,327,352,355,366,377,380,394])\n",
      "i: 53, [20,43,45,46,47,50,51,52,57,58,59,61,64,65,67,68,69,70,71,72,73,74,75,77,78,79,81,85,105,111,113,123,146,164,166,174,180,194,221,223,226,250,261,272,278,290,308,331,333,334,346,363,387,389,400])\n",
      "i: 54, [2,23,33,45,46,47,48,51,56,59,61,62,64,65,66,67,69,70,72,74,76,77,78,79,83,108,117,119,127,197,205,241,250,273,282,290,291,345,372,374,393])\n",
      "i: 55, [16,41,42,44,46,48,49,50,51,52,56,57,58,60,62,64,65,67,68,71,78,80,102,114,116,125,128,142,153,193,234,238,241,248,302,319,331,339,343,347,382,393])\n",
      "i: 56, [4,16,45,49,50,51,52,54,55,57,58,59,60,61,62,63,65,66,67,69,70,71,72,75,78,79,86,153,174,205,221,253,263,277,293,321,328,333,362,369,382,390])\n",
      "i: 57, [17,41,42,50,51,52,53,55,56,58,60,61,63,64,65,68,69,70,71,73,75,77,81,103,164,180,227,229,285,286,301,302,305,309,311,346,357,365,374,380])\n",
      "i: 58, [24,42,44,45,48,53,55,56,57,59,64,66,67,69,70,75,76,108,116,130,134,153,154,169,197,215,241,247,287,295,316,321,349,373,386,392])\n",
      "i: 59, [6,21,23,42,44,46,47,48,49,53,54,56,58,60,63,64,65,67,69,70,72,73,75,77,79,105,111,123,184,203,219,265,281,284,342,353,366,370,387,397])\n",
      "i: 60, [15,37,41,42,44,45,46,47,48,50,52,55,56,57,59,65,66,70,71,75,78,80,126,129,140,168,179,185,188,196,204,212,286,287,288,291])\n",
      "i: 61, [11,39,41,42,44,45,47,48,49,50,51,53,54,56,57,62,64,66,67,68,71,72,73,74,77,78,79,84,115,120,135,156,167,210,212,215,216,217,234,239,252,257,259,319,331,372,396])\n",
      "i: 62, [10,19,33,36,42,44,46,48,52,54,55,56,61,65,66,67,68,70,71,72,75,79,86,94,97,103,156,184,197,217,231,252,258,259,303,309,321,322,327,342,351,358,367])\n",
      "i: 63, [18,29,40,41,45,47,48,49,56,57,59,64,70,71,72,74,75,76,77,78,80,88,106,130,136,140,200,210,266,272,284,310,351,369])\n",
      "i: 64, [5,19,35,43,44,46,48,49,50,52,53,54,55,57,58,59,61,63,66,68,70,71,72,73,77,79,83,108,120,157,159,172,193,216,238,289,301,325,358])\n",
      "i: 65, [2,9,15,17,21,22,42,43,44,45,48,51,52,53,54,55,56,57,59,60,62,66,69,71,74,75,77,78,79,99,112,142,161,176,200,238,289,300,310,337,338,340,376,380])\n",
      "i: 66, [43,44,46,47,48,54,56,58,60,61,62,64,65,67,69,70,71,72,73,75,76,77,78,128,148,171,174,183,207,227,254,286,296,306,332,335,350,389,392])\n",
      "i: 67, [13,18,35,41,43,44,47,48,49,51,53,54,55,56,58,59,61,62,66,68,69,71,72,75,106,109,113,126,129,140,142,165,282,390,394])\n",
      "i: 68, [12,15,17,21,23,24,41,42,46,48,49,50,51,52,53,55,57,61,62,64,67,69,70,71,73,74,75,78,84,101,107,110,111,114,132,136,192,193,203,212,214,219,223,227,259,271,272,275,302,333,345,351,371,382,386])\n",
      "i: 69, [42,44,46,47,48,49,52,53,54,56,57,58,59,65,66,67,68,70,71,72,73,74,77,79,81,84,99,141,215,248,251,254,265,272,282,297,317,321,341,368,384,391])\n",
      "i: 70, [4,15,37,41,42,44,45,47,50,53,54,56,57,58,59,60,62,63,64,66,68,69,71,77,80,87,97,130,169,176,185,198,217,230,237,251,304,336,368,381])\n",
      "i: 71, [23,24,36,41,43,47,48,50,51,52,53,55,56,57,60,61,62,63,64,65,66,67,68,69,70,74,75,99,101,130,134,169,171,185,196,216,224,227,241,243,263,300,306])\n",
      "i: 72, [12,42,43,44,45,46,48,52,53,54,56,59,61,62,63,64,66,67,69,77,78,79,92,101,109,115,141,157,166,172,178,225,242,245,318,322,332,334,338,388])\n",
      "i: 73, [17,19,24,41,43,44,46,47,52,53,57,59,61,64,66,68,69,74,76,77,79,80,94,117,125,127,140,170,243,257,268,275,307,335,349,357,375,389])\n",
      "i: 74, [6,24,34,42,43,44,46,48,52,53,54,61,63,65,68,69,71,73,75,76,77,78,80,97,164,179,211,212,233,241,254,255,286,324,326,359,360,392])\n",
      "i: 75, [33,41,42,44,48,49,53,56,57,58,59,60,62,63,65,66,67,68,71,74,79,80,98,107,109,149,163,173,179,200,208,235,248,272,285,359,378,380])\n",
      "i: 76, [21,41,42,43,45,48,49,50,54,58,63,66,73,74,77,96,130,137,192,230,270,290,291,302,316,339,371,377,397])\n",
      "i: 77, [23,25,43,46,47,48,49,50,51,53,54,57,59,61,63,64,65,66,69,70,72,73,74,76,81,99,102,149,172,208,213,231,235,239,242,249,253,257,303,305,316,318,319,329,352,359,360,365,366,367])\n",
      "i: 78, [43,44,45,46,47,49,50,52,53,54,55,56,60,61,63,65,66,68,72,74,79,80,103,150,153,167,178,185,199,214,217,227,237,241,262,265,278,280,307,352,378])\n",
      "i: 79, [12,41,44,45,46,47,49,53,54,56,59,61,62,64,65,69,72,73,75,78,126,158,197,217,229,241,282,312])\n",
      "i: 80, [21,28,42,43,44,47,48,49,55,60,63,70,73,74,75,78,106,107,109,122,167,170,184,196,229,233,235,256,272,283,310,337,342,383])\n",
      "i: 81, [18,41,53,57,69,77,84,87,88,89,92,95,97,100,101,103,107,108,110,111,113,115,116,119,146,148,166,175,181,210,213,221,229,230,235,239,248,260,276,331,356,359,370,372,375,396,399])\n",
      "i: 82, [14,16,22,33,83,84,89,90,91,95,97,98,99,100,101,102,105,109,110,112,114,115,116,120,176,192,221,258,263,282,294,307,309,317,318,348,355,388])\n",
      "i: 83, [36,40,54,64,82,84,88,91,92,93,104,105,106,107,111,112,113,114,117,118,120,130,150,174,193,219,221,237,266,330,355,357,362,364,378,392])\n",
      "i: 84, [22,23,27,61,68,69,81,82,83,85,90,91,92,95,98,99,100,101,104,105,106,107,110,112,113,114,115,118,119,120,145,153,210,242,246,267,269,293,296,306,310,312,314,359,380,395])\n",
      "i: 85, [9,45,53,84,86,87,90,93,94,96,98,100,101,103,105,110,112,116,119,124,129,169,171,197,212,243,244,255,258,280,289,295,307,327,331,346,362,365,371])\n",
      "i: 86, [9,50,56,62,85,87,89,91,92,93,94,95,99,100,102,104,106,108,109,112,113,114,117,118,119,126,191,192,193,238,243,321,380,384])\n",
      "i: 87, [70,81,85,86,89,90,91,93,94,99,100,101,103,106,107,109,110,111,113,117,118,119,120,122,131,166,194,224,236,255,259,275,277,282,286,310,369,387,390])\n",
      "i: 88, [3,19,47,63,81,83,89,94,95,98,99,100,101,102,103,104,105,106,107,108,109,111,112,114,115,116,120,125,130,142,148,193,240,267,288,303,313,322,328,372,375,383,391])\n",
      "i: 89, [24,81,82,86,87,88,90,92,95,96,99,101,103,104,107,108,109,115,116,117,118,119,122,135,136,149,163,167,172,197,232,259,281,312,319,321,327])\n",
      "i: 90, [10,19,25,35,82,84,85,87,89,91,92,95,96,97,100,101,104,108,110,111,116,117,118,121,124,132,152,159,209,240,256,257,288,337,353,355,363,367,390])\n",
      "i: 91, [49,82,83,84,86,87,90,93,94,95,97,101,105,107,108,111,117,146,168,181,195,201,230,246,299,303,324,350,357,395])\n",
      "i: 92, [10,72,81,83,84,86,89,90,95,96,97,100,102,104,105,108,109,111,112,113,114,118,146,170,181,188,198,209,234,255,334,350])\n",
      "i: 93, [13,25,27,40,46,83,85,86,87,91,97,98,99,101,104,105,107,108,109,110,111,112,113,114,115,117,118,119,122,138,141,173,194,204,226,234,243,247,272,314,318,356,398])\n",
      "i: 94, [3,15,30,62,73,85,86,87,88,91,96,99,101,104,105,107,109,110,112,114,116,117,118,119,121,162,168,174,177,182,228,268,273,274,307,332,377])\n",
      "i: 95, [52,81,82,84,86,88,89,90,91,92,96,97,98,100,102,104,105,107,108,111,118,120,154,165,166,215,241,242,258,259,265,288,306,373,387,388,391])\n",
      "i: 96, [76,85,89,90,92,94,95,97,98,99,100,101,102,103,105,106,107,109,111,112,115,118,119,123,131,133,151,157,170,188,248,260,278,303,315,368,371,386])\n",
      "i: 97, [29,43,62,70,74,81,82,90,91,92,93,95,96,100,101,103,104,108,109,111,113,115,117,129,208,220,259,296,297,312,327,358,360])\n",
      "i: 98, [15,23,30,43,75,82,84,85,88,93,95,96,99,104,106,107,109,110,115,116,132,134,139,145,150,160,164,172,176,188,217,247,254,265,270,323,392,397])\n",
      "i: 99, [65,69,71,77,82,84,86,87,88,89,93,94,96,98,100,103,104,105,107,109,110,112,113,115,117,119,123,127,130,156,181,183,185,203,231,246,247,251,263,299,319,331,349,380])\n",
      "i: 100, [1,81,82,84,85,86,87,88,90,92,95,96,97,99,105,106,110,111,115,118,120,137,144,149,170,212,224,246,261,266,276,281,295,296,310,316,318,319,320,331,332,334,385,391])\n",
      "i: 101, [68,71,72,81,82,84,85,87,88,89,90,91,93,94,96,97,102,106,107,108,111,112,113,114,117,118,119,128,142,145,227,231,250,268,327,349,367,391])\n",
      "i: 102, [16,34,52,55,77,82,86,88,92,95,96,101,106,107,108,110,111,112,115,119,122,135,191,193,196,199,204,227,238,246,297,341,345,371,379,386])\n",
      "i: 103, [17,57,62,78,81,85,87,88,89,96,97,99,104,110,111,112,114,115,116,118,129,130,164,171,176,188,203,204,206,236,247,293,314,333,337,343,373])\n",
      "i: 104, [8,23,83,84,86,88,89,90,92,93,94,95,97,98,99,103,106,108,110,111,112,113,117,119,141,143,145,177,179,204,215,222,249,306,317,329,334,341,400])\n",
      "i: 105, [14,15,31,53,59,82,83,84,85,88,91,92,93,94,95,96,99,100,106,109,111,114,115,117,118,119,155,191,252,326,366,370,372,376])\n",
      "i: 106, [7,9,13,39,45,47,63,67,80,83,84,86,87,88,96,98,100,101,102,104,105,107,109,110,111,112,113,116,117,118,140,163,185,208,212,239,267,294,333,343,350,370])\n",
      "i: 107, [68,75,80,81,83,84,87,88,89,91,93,94,95,96,98,99,101,102,106,108,109,111,112,115,124,158,159,162,166,168,169,180,237,248,251,263,284,330,352,393])\n",
      "i: 108, [5,54,58,64,81,86,88,89,90,91,92,93,95,97,101,102,104,107,109,110,111,113,115,118,140,147,184,262,287,300,333,344,348,355,356,368,371,378,395])\n",
      "i: 109, [7,19,20,67,72,75,80,82,86,87,88,89,92,93,94,96,97,98,99,105,106,107,108,111,112,113,117,119,133,186,199,212,230,233,248,295,306,315,325,332,333,338,352,376,377])\n",
      "i: 110, [2,40,48,68,81,82,84,85,87,90,93,94,98,99,100,102,103,104,106,108,111,117,183,198,208,224,228,230,252,287,289,295,301,384])\n",
      "i: 111, [20,49,53,59,68,81,83,87,88,90,91,92,93,95,96,97,100,101,102,103,104,105,106,107,108,109,110,114,115,139,157,186,223,224,239,294,317,334,351,355,380])\n",
      "i: 112, [28,37,65,82,83,84,85,86,88,92,93,94,96,99,101,102,103,104,106,107,109,117,118,119,162,168,170,172,178,192,200,210,219,233,234,248,250,338,345,356,364,368])\n",
      "i: 113, [14,17,50,53,67,81,83,84,86,87,92,93,97,99,101,104,106,108,109,114,116,117,119,120,127,134,171,182,204,209,210,218,262,268,269,312,314,351,353,389])\n",
      "i: 114, [31,55,68,82,83,84,86,88,92,93,94,101,103,105,111,113,115,116,118,120,133,154,156,193,205,209,213,219,237,250,271,276,329])\n",
      "i: 115, [4,31,61,72,81,82,84,88,89,93,96,97,98,99,100,102,103,105,107,108,111,114,119,120,136,187,200,210,219,231,242,251,273,277,300,328,330,387,388,400])\n",
      "i: 116, [23,55,58,81,82,85,88,89,90,94,98,103,106,113,114,117,135,151,165,176,280,305,312,332,342,343,345,373,399])\n",
      "i: 117, [1,10,16,42,43,54,73,83,86,87,89,90,91,93,94,97,99,101,104,105,106,109,110,112,113,116,130,140,163,171,176,184,213,230,232,255,302,303,309,320,328,341,358])\n",
      "i: 118, [33,42,43,83,84,86,87,89,90,92,93,94,95,96,100,101,103,105,106,108,112,114,119,120,131,135,144,146,155,204,252,265,291,292,293,346,350,374,377])\n",
      "i: 119, [49,54,81,84,85,86,87,89,93,94,96,99,101,102,104,105,109,112,113,115,118,122,134,138,187,231,238,246,276,347,358,365,368,369,380,391])\n",
      "i: 120, [14,27,49,61,64,82,83,84,87,88,95,100,113,114,115,118,139,166,167,201,231,232,244,265,281,306,371])\n",
      "i: 121, [20,28,36,41,90,94,124,127,128,129,132,135,137,140,141,143,147,148,150,151,153,155,156,159,168,178,186,201,202,217,239,253,274,278,328,336,357,387])\n",
      "i: 122, [21,36,40,80,87,89,93,102,119,123,124,129,130,131,135,137,138,139,140,141,142,145,148,149,150,152,154,155,156,160,170,223,224,230,232,233,257,277,316,332,336,373,376])\n",
      "i: 123, [39,44,51,53,59,96,99,122,124,128,131,132,133,144,145,146,147,151,152,153,154,157,158,160,167,172,180,220,231,245,273,308,309,328,363,376,391,394,397])\n",
      "i: 124, [5,85,90,107,121,122,123,125,130,131,132,135,138,139,140,141,144,145,146,147,150,152,153,154,155,158,159,160,164,203,204,255,265,282,318,335,394])\n",
      "i: 125, [5,13,27,30,55,73,88,124,126,127,130,133,134,136,138,140,141,143,145,150,152,156,159,166,170,179,234,244,262,269,279,385,389,393,400])\n",
      "i: 126, [3,8,26,35,44,60,67,79,86,125,127,129,131,132,133,134,135,139,140,142,144,146,148,149,152,153,154,157,158,159,164,175,196,216,223,271,281,303,307,309,313,321,330,335,340,355,363])\n",
      "i: 127, [2,4,14,21,25,54,73,99,113,121,125,126,129,130,131,133,134,139,140,141,143,146,147,149,150,151,153,157,158,159,160,192,198,211,218,286,296,298,324,332,365])\n",
      "i: 128, [13,16,20,42,55,66,101,121,123,129,131,134,135,138,139,140,141,142,143,144,145,146,147,148,149,151,152,154,155,156,160,166,177,232,239,251,280,297,298,299,351,374])\n",
      "i: 129, [2,4,17,25,38,52,60,67,85,97,103,121,122,126,127,128,130,132,135,136,139,141,143,144,147,148,149,155,156,157,158,159,160,168,218,225,231,263,282,292,328,330,361,376,380])\n",
      "i: 130, [3,5,50,51,52,58,63,70,71,76,83,88,99,103,117,122,124,125,127,129,131,132,135,136,137,140,141,144,148,150,151,156,157,158,169,173,193,207,211,212,230,244,292,306,325,333,335,354,367,383,391])\n",
      "i: 131, [17,26,40,48,87,96,118,122,123,124,126,127,128,130,133,134,135,137,141,145,147,148,151,157,176,297,305,324,328,340,346,357,378,386,390])\n",
      "i: 132, [14,28,39,68,90,98,121,123,124,126,129,130,135,136,137,140,142,144,145,148,149,151,152,153,154,158,177,241,283,299,315,350])\n",
      "i: 133, [18,22,31,39,96,109,114,123,125,126,127,131,137,138,139,141,144,145,147,148,149,150,151,152,153,154,155,157,158,159,175,238,253,255,263,297,298,319,327,330,345,351,400])\n",
      "i: 134, [36,37,39,58,71,98,113,119,125,126,127,128,131,136,139,141,144,145,147,149,150,152,154,156,157,158,159,170,178,201,208,222,242,246,256,257,298,317,352,369])\n",
      "i: 135, [3,15,42,61,89,102,116,118,121,122,124,126,128,129,130,131,132,136,137,138,140,142,144,145,147,148,151,158,160,162,205,224,226,231,242,255,367,384])\n",
      "i: 136, [15,20,26,36,48,63,68,89,115,125,129,130,132,134,135,137,138,139,140,141,142,143,145,146,147,149,151,152,155,158,159,164,185,196,222,227,232,260,270,301,375,377])\n",
      "i: 137, [23,76,100,121,122,130,131,132,133,135,136,140,141,143,144,148,149,150,151,153,155,157,167,168,189,196,230,294,316,323,326,340,356,381,390,394,396])\n",
      "i: 138, [2,8,19,93,119,122,124,125,128,133,135,136,139,144,146,147,149,150,155,156,161,172,180,202,204,239,285,295,297,304,310,335,343,345,352,357,359,363,369,389,391])\n",
      "i: 139, [1,9,16,98,111,120,122,124,126,127,128,129,133,134,136,138,140,143,144,145,147,149,150,152,153,155,157,159,164,179,204,207,227,241,249,259,304,329])\n",
      "i: 140, [1,3,24,27,60,63,67,73,106,108,117,121,122,124,125,126,127,128,130,132,135,136,137,139,145,146,150,151,155,158,160,170,198,231,275,292,300,377,399])\n",
      "i: 141, [1,2,20,69,72,93,104,121,122,124,125,127,128,129,130,131,133,134,136,137,142,146,147,148,151,152,153,154,157,158,159,200,224,241,260,265,282,356,385])\n",
      "i: 142, [5,14,18,24,28,42,55,65,67,88,101,122,126,128,132,135,136,141,145,146,147,148,150,151,152,155,159,163,236,239,247,274,292,294,306,312,322,356,379,382])\n",
      "i: 143, [7,9,10,11,18,104,121,125,127,128,129,136,137,139,144,150,151,152,154,155,156,158,193,197,223,227,298,313,337,341,374,398,400])\n",
      "i: 144, [22,36,100,118,123,124,126,128,129,130,132,133,134,135,137,138,139,143,146,148,150,151,152,153,157,159,170,190,198,215,245,247,249,300,311,336,338,350,373,387])\n",
      "i: 145, [21,45,84,98,101,104,122,123,124,125,128,131,132,133,134,135,136,139,140,142,146,149,151,154,155,157,158,159,165,202,259,276,292,295,326,328,336,354,357,366,388])\n",
      "i: 146, [49,53,81,91,92,118,123,124,126,127,128,136,138,140,141,142,144,145,147,149,150,151,152,153,156,157,158,174,184,218,229,236,243,292,351,378,380,388,399,400])\n",
      "i: 147, [5,14,22,30,32,44,52,108,121,123,124,127,128,129,131,133,134,135,136,138,139,141,142,146,148,149,151,152,155,182,199,215,246,255,298,300,310,328,353,378,384])\n",
      "i: 148, [25,33,50,66,81,88,121,122,126,128,129,130,131,132,133,135,137,141,142,144,147,149,150,151,153,155,158,161,194,198,238,263,272,290,295,309,326,333,338,351,352,359])\n",
      "i: 149, [7,33,41,75,77,89,100,122,126,127,128,129,132,133,134,136,137,138,139,145,146,147,148,150,151,152,153,157,159,168,196,198,222,225,244,269,277,286,323,335,341,344,346,348,354,372,387,388,391])\n",
      "i: 150, [20,36,78,83,98,121,122,124,125,127,130,133,134,137,138,139,140,142,143,144,146,148,149,151,157,160,196,197,211,219,225,258,259,265,285,288,319,331,335,337,339,354,360,363])\n",
      "i: 151, [15,20,25,96,116,121,123,127,128,130,131,132,133,135,136,137,140,141,142,143,144,145,146,147,148,149,150,154,155,184,215,280,286,367,374])\n",
      "i: 152, [2,19,46,90,122,123,124,125,126,128,132,133,134,136,139,141,142,143,144,146,147,149,157,158,159,248,269,281,293,307,310])\n",
      "i: 153, [13,23,44,52,55,56,58,78,84,121,123,124,126,127,132,133,137,139,141,144,146,148,149,154,156,157,159,160,161,162,164,228,269,284,297,304,318,332,334,336,343,371,375])\n",
      "i: 154, [1,3,58,95,114,122,123,124,126,128,132,133,134,141,143,145,151,153,155,156,158,160,176,185,197,200,246,248,277,307,357,376])\n",
      "i: 155, [10,11,15,30,51,105,118,121,122,124,128,129,133,136,137,138,139,140,142,143,145,147,148,151,154,159,160,167,180,191,269,287,313,343,349,353,369,370,400])\n",
      "i: 156, [31,61,62,99,114,121,122,125,128,129,130,134,138,143,146,153,154,157,197,205,213,222,234,236,251,254,316,339,346,384,397])\n",
      "i: 157, [14,64,72,96,111,123,126,127,129,130,131,133,134,137,139,141,144,145,146,149,150,152,153,156,169,178,182,188,193,196,212,229,236,241,278,297,307,308,309,331,332,353,398])\n",
      "i: 158, [3,22,45,79,107,123,124,126,127,129,130,132,133,134,135,136,140,141,143,145,146,148,152,154,159,160,164,180,183,206,208,254,322,347,359,363,375,381,387,390])\n",
      "i: 159, [16,21,27,35,43,64,90,107,121,124,125,126,127,129,133,134,136,139,141,142,144,145,149,152,153,155,158,180,186,195,237,256,305,307,317,329,398])\n",
      "i: 160, [1,18,98,122,123,124,127,128,129,135,140,150,153,154,155,158,197,211,254,270,282,333,339,342,353,386,393,397,398])\n",
      "i: 161, [44,51,65,138,148,153,164,167,168,169,172,175,177,180,181,183,187,188,190,191,193,195,196,199,211,214,222,267,289,299,300,323,325,327,329,359,379])\n",
      "i: 162, [1,18,34,40,44,94,107,112,135,153,163,164,169,170,171,175,177,178,179,180,181,182,185,189,190,192,194,195,196,200,204,233,240,252,267,293,314,323,324,333,354,379,383,394,396])\n",
      "i: 163, [41,75,89,106,117,142,162,164,168,171,172,173,184,185,186,187,191,192,193,194,197,198,200,222,242,259,314,319,368,376,398])\n",
      "i: 164, [53,57,74,98,103,124,126,136,139,153,158,161,162,163,165,170,171,172,175,178,179,180,181,184,185,186,187,190,192,193,194,195,198,199,200,217,227,259,289,291,300,327,367,369,372])\n",
      "i: 165, [46,67,95,116,145,164,166,167,170,173,174,176,178,180,181,183,185,190,192,196,199,201,205,245,251,279,291,299,304,321,325,327,334,356,371,382])\n",
      "i: 166, [24,46,53,72,81,87,95,107,120,125,128,165,167,169,171,172,173,174,175,179,180,182,184,186,188,189,192,193,194,197,198,199,221,224,311,316,348,354,393])\n",
      "i: 167, [6,61,78,80,89,120,123,137,155,161,165,166,169,170,171,173,174,179,180,181,183,186,187,189,190,191,193,197,198,199,200,282,289,296,303,315,328,344,358,367,381])\n",
      "i: 168, [11,35,49,52,60,91,94,107,112,121,129,137,149,161,163,169,171,174,175,178,179,180,181,182,183,184,185,186,187,188,189,191,192,194,195,196,200,208,217,230,276,285,304,322,327,330,342,343,358,360,369,375])\n",
      "i: 169, [16,33,51,58,70,71,85,107,130,157,161,162,166,167,168,170,172,175,176,179,181,183,184,187,188,189,195,196,197,198,199,203,256,274,276,320,333,338,345,369,396])\n",
      "i: 170, [34,43,48,51,73,80,92,96,100,112,122,125,134,140,144,162,164,165,167,169,171,172,175,176,177,180,181,184,188,190,191,196,197,198,215,247,256,261,293,299,337,344,349,350])\n",
      "i: 171, [21,31,66,71,85,103,113,117,162,163,164,166,167,168,170,173,174,175,177,181,185,187,188,191,197,247,254,260,264,276,296,326,356])\n",
      "i: 172, [9,13,51,64,72,77,89,98,112,123,138,161,163,164,166,169,170,175,176,177,180,182,184,185,188,189,191,192,193,194,198,241,281,284,287,315,321,344,346,386,393])\n",
      "i: 173, [32,34,75,93,130,163,165,166,167,171,177,178,179,181,184,185,187,188,189,190,191,192,193,194,195,197,198,199,204,242,243,270,286,303,336,348,371,383])\n",
      "i: 174, [53,56,66,83,94,146,165,166,167,168,171,176,179,181,184,185,187,189,190,192,194,196,197,198,199,207,253,262,275,283,285,323,326,331,355,370,374,378,387])\n",
      "i: 175, [25,81,126,133,161,162,164,166,168,169,170,171,172,176,177,178,180,182,184,185,187,188,191,198,200,212,218,219,256,286,310,319,322,324,337])\n",
      "i: 176, [1,9,27,65,70,82,98,103,116,117,131,154,165,169,170,172,174,175,177,178,179,180,181,182,183,185,186,187,189,191,192,195,198,199,206,215,229,266,274,286,296,303,318,343,344,364,393])\n",
      "i: 177, [31,39,94,104,128,132,161,162,170,171,172,173,175,176,180,181,183,184,188,189,190,191,193,195,197,204,242,250,285,314,354,373,387,393])\n",
      "i: 178, [35,48,72,78,112,121,134,157,162,164,165,168,173,175,176,179,184,186,187,189,190,195,196,219,242,283,287,288,315,316,366,377])\n",
      "i: 179, [11,16,17,18,26,60,74,75,104,125,139,162,164,166,167,168,169,173,174,176,178,180,183,184,185,187,189,190,192,193,195,197,199,231,233,234,243,288,304,344,347,348,376])\n",
      "i: 180, [4,5,28,29,30,32,53,57,107,123,138,155,158,159,161,162,164,165,166,167,168,170,172,175,176,177,179,185,186,190,191,195,198,200,210,218,235,265,269,293,338,361,370,389,396])\n",
      "i: 181, [40,44,81,91,92,99,161,162,164,165,167,168,169,170,171,173,174,176,177,182,186,187,188,191,192,193,194,197,198,199,207,235,239,273,275,283,288,292,323,356,358,359,369,398])\n",
      "i: 182, [19,35,47,49,94,113,147,157,162,166,168,172,175,176,181,186,187,188,190,191,192,195,199,222,259,261,304,313,320,353,361,362,366,372])\n",
      "i: 183, [8,36,66,99,110,158,161,165,167,168,169,176,177,179,184,190,191,192,194,195,196,198,214,215,255,276,279,285,305,312,333,353,358])\n",
      "i: 184, [19,26,28,38,59,62,80,108,117,146,151,163,164,166,168,169,170,172,173,174,175,177,178,179,183,186,188,190,191,192,193,197,199,210,228,248,259,263,291,317,343,362])\n",
      "i: 185, [7,60,70,71,78,99,106,136,154,162,163,164,165,168,171,172,173,174,175,176,179,180,186,189,191,194,195,197,198,199,230,249,254,261,297,311,332,360,377,387])\n",
      "i: 186, [14,109,111,121,159,163,164,166,167,168,176,178,180,181,182,184,185,187,189,190,191,192,193,196,197,198,243,258,260,261,269,276,290,295,347,360,382])\n",
      "i: 187, [8,28,51,115,119,161,163,164,167,168,169,171,173,174,175,176,178,179,181,182,186,188,189,191,192,195,210,217,219,266,278,295,315,318,329,338,398])\n",
      "i: 188, [24,60,92,96,98,103,157,161,166,168,169,170,171,172,173,175,177,181,182,184,187,189,190,191,193,195,198,212,228,270,285,297,299,313,331,387,390,399])\n",
      "i: 189, [23,40,42,137,162,166,167,168,169,172,173,174,176,177,178,179,185,186,187,188,190,191,192,193,197,199,219,255,288,323,378])\n",
      "i: 190, [3,8,21,22,144,161,162,164,165,167,170,173,174,177,178,179,180,182,183,184,186,188,189,191,197,200,201,220,256,262,276,286,295,302,315,321,357,389,392])\n",
      "i: 191, [9,39,42,86,102,105,155,161,163,167,168,170,171,172,173,175,176,177,180,181,182,183,184,185,186,187,188,189,190,194,195,204,208,250,272,300,325,335,344,364,380])\n",
      "i: 192, [2,9,14,30,35,68,76,82,86,112,127,162,163,164,165,166,168,172,173,174,176,179,181,182,183,184,186,187,189,197,198,199,253,255,269,276,311,313,339,374,391])\n",
      "i: 193, [12,20,21,31,40,55,64,68,83,86,88,102,114,130,143,157,161,163,164,166,167,172,173,177,179,181,184,186,188,189,194,196,197,199,200,212,256,258,291,305,339,346,385])\n",
      "i: 194, [5,13,53,87,93,148,162,163,164,166,168,172,173,174,181,183,185,191,193,195,196,198,200,207,215,231,233,234,235,261,268,269,270,303,312,314,316,341,353,354,368,372,380])\n",
      "i: 195, [26,40,91,159,161,162,164,168,169,173,176,177,178,179,180,182,183,185,187,188,191,194,199,200,213,239,244,245,250,257,259,302,324,349,357,363,365,380])\n",
      "i: 196, [15,19,36,60,71,80,102,126,136,137,149,150,157,161,162,165,168,169,170,174,178,183,186,193,194,197,305,307,309,345,365,391,398])\n",
      "i: 197, [9,12,23,27,37,54,58,62,79,85,89,143,150,154,156,160,163,166,167,169,170,171,173,174,177,179,181,184,185,186,189,190,192,193,196,206,212,217,218,219,232,267,274,317,318,348,393,400])\n",
      "i: 198, [3,7,13,16,38,44,45,52,70,92,110,127,140,144,148,149,163,164,166,167,169,170,172,173,174,175,176,180,181,183,185,186,188,192,194,199,200,217,271,292,299,304,325,329,356,360,370])\n",
      "i: 199, [43,78,102,109,147,161,164,165,166,167,169,173,174,176,179,181,182,184,185,189,192,193,195,198,254,262,289,301,308,312,321,348,351,362,383,387])\n",
      "i: 200, [21,63,65,75,112,115,141,154,162,163,164,167,168,175,180,190,193,194,195,198,217,223,226,233,247,276,300,324,332,370,377])\n",
      "i: 201, [28,30,34,35,91,120,121,134,165,190,204,207,208,209,212,215,217,220,221,223,227,228,230,231,233,235,236,239,247,258,262,267,285,297,307,340,350,353,365,369,373,376,390,394])\n",
      "i: 202, [7,27,41,121,138,145,203,204,209,210,211,212,215,217,218,219,220,221,222,225,228,229,230,232,234,235,236,240,250,258,259,269,309,311,322,333,360,363,374,389])\n",
      "i: 203, [16,21,35,50,59,68,99,103,124,169,202,204,208,211,212,213,223,224,225,226,227,231,232,233,234,236,237,238,240,274,286,291,315,318,334,356,360,366,372,392,397])\n",
      "i: 204, [4,14,60,93,102,103,104,113,118,124,138,139,162,173,177,191,201,202,203,205,210,211,212,215,218,219,220,221,222,224,225,226,227,229,230,232,233,234,235,238,239,240,245,256,262,264,265,278,279,334,343,347,350,352,396])\n",
      "i: 205, [40,54,56,114,135,156,165,204,206,207,209,210,213,214,216,218,220,221,223,225,230,232,234,236,238,239,249,258,259,312,351,379,397])\n",
      "i: 206, [2,42,103,158,176,197,205,207,209,210,211,212,213,214,215,219,220,222,224,226,228,229,232,233,234,237,238,239,245,246,255,263,277,278,353,382,397])\n",
      "i: 207, [6,18,22,38,66,130,139,174,181,194,201,205,206,209,210,211,213,214,218,219,220,221,223,226,227,229,230,231,233,237,238,239,240,247,294,295,300,324,328,350,380,390,392])\n",
      "i: 208, [26,50,75,77,97,106,110,134,158,168,191,201,203,209,211,212,214,215,218,219,220,221,222,223,224,225,226,227,228,229,231,232,234,235,236,237,240,275,285,289,300,304,324,333,352,369])\n",
      "i: 209, [1,13,52,90,92,113,114,201,202,205,206,207,208,210,212,215,216,219,221,223,224,227,228,229,235,236,237,238,239,240,242,255,258,292,343,351,355,392])\n",
      "i: 210, [17,18,61,63,81,84,112,113,115,180,184,187,202,204,205,206,207,209,211,212,213,215,216,217,220,221,224,228,230,231,235,236,237,238,248,260,264,284,310,324,327,328,361,373])\n",
      "i: 211, [5,17,35,49,74,127,130,150,160,161,202,203,204,206,207,208,210,212,213,214,215,216,217,221,225,227,228,231,237,258,332,338,344,345,356,379])\n",
      "i: 212, [12,19,27,38,40,60,61,68,74,85,100,106,109,130,157,175,188,193,197,201,202,203,204,206,208,209,210,211,213,215,216,217,220,222,224,225,227,228,229,231,232,233,234,238,282,300,322,331,369,378,379])\n",
      "i: 213, [5,14,18,20,77,81,114,117,156,195,203,205,206,207,210,211,212,217,218,219,221,224,225,227,228,229,230,231,232,233,234,235,237,238,239,276,318,324,339])\n",
      "i: 214, [9,19,32,33,35,49,68,78,161,183,205,206,207,208,211,216,219,220,221,222,223,224,225,226,227,229,230,232,234,236,237,238,239,251,276,277,285,298,310,314,328,344,349,369,370,387])\n",
      "i: 215, [13,26,58,61,69,95,104,144,147,151,170,176,183,194,201,202,204,206,208,209,210,211,212,216,217,218,220,222,224,225,227,228,231,238,240,306,319,330,335,360,380,400])\n",
      "i: 216, [32,34,61,64,71,126,205,209,210,211,212,214,215,217,218,219,220,221,222,223,225,226,227,229,230,231,232,235,238,239,241,248,273,348,358])\n",
      "i: 217, [61,62,70,78,79,98,121,164,168,187,197,198,200,201,202,210,211,212,213,215,216,218,220,221,223,224,225,228,229,230,231,233,235,237,272,284,346,384,393,396])\n",
      "i: 218, [3,19,36,46,113,127,129,146,175,180,197,202,204,205,207,208,213,215,216,217,219,224,226,227,228,229,230,232,235,236,263,271,344])\n",
      "i: 219, [2,3,7,29,32,47,48,59,68,83,112,114,115,150,175,178,187,189,197,202,204,206,207,208,209,213,214,216,218,220,223,224,225,227,229,230,232,233,235,237,239,247,297,303,320,345,353,358,374,382])\n",
      "i: 220, [16,97,123,190,201,202,204,205,206,207,208,210,212,214,215,216,217,219,225,226,230,231,235,238,240,277,325,334,335,350,399])\n",
      "i: 221, [4,9,13,28,53,56,81,82,83,166,201,202,204,205,207,208,209,210,211,213,214,216,217,222,224,226,227,228,231,232,233,234,237,238,239,257,267,277,308,326,363,391])\n",
      "i: 222, [10,33,39,104,134,136,149,156,161,163,182,202,204,206,208,212,214,215,216,221,225,226,227,228,230,231,232,235,239,276,277,312,313,335,353,359,373,377])\n",
      "i: 223, [19,48,53,68,111,122,126,143,200,201,203,205,207,208,209,214,216,217,219,224,228,230,231,232,234,235,236,237,238,240,254,278,283,284,305,307,330,340,341,358,377])\n",
      "i: 224, [52,71,87,100,110,111,122,135,141,166,203,204,206,208,209,210,212,213,214,215,217,218,219,221,223,226,228,230,231,232,233,237,239,288,292,317,371,393])\n",
      "i: 225, [11,72,129,149,150,202,203,204,205,208,211,212,213,214,215,216,217,219,220,222,226,229,230,231,234,235,237,238,239,277,290,302,329,340,355,381,391])\n",
      "i: 226, [14,53,93,135,200,203,204,206,207,208,214,216,218,220,221,222,224,225,227,229,230,231,232,233,235,236,237,238,244,267,305,310,316,361,392])\n",
      "i: 227, [19,24,50,52,57,66,68,71,78,101,102,136,139,143,164,201,203,204,207,208,209,211,212,213,214,215,216,218,219,221,222,226,228,229,231,232,235,284,288,305,313,341,342,360,364])\n",
      "i: 228, [7,13,14,32,52,94,110,153,184,188,201,202,206,208,209,210,211,212,213,215,217,218,221,222,223,224,227,229,230,231,233,234,235,238,261,270,272,275,276,284,306,312,313,314,325,358,360])\n",
      "i: 229, [10,24,31,32,46,57,79,80,81,146,157,176,202,204,206,207,208,209,212,213,214,216,217,218,219,225,226,227,228,230,231,232,233,234,237,239,270,272,277,289,291,306,331,335,340,341,361,362,383,391])\n",
      "i: 230, [50,70,76,81,91,109,110,117,122,130,137,168,185,201,202,204,205,207,210,213,214,216,217,218,219,220,222,223,224,225,226,228,229,231,237,240,243,251,255,333,336,347,395])\n",
      "i: 231, [3,40,62,77,99,101,115,119,120,123,129,135,140,179,194,201,203,207,208,210,211,212,213,215,216,217,220,221,222,223,224,225,226,227,228,229,230,234,235,260,271,274,305,308,317,325,335,348,377,386])\n",
      "i: 232, [1,89,117,120,122,128,136,197,202,203,204,205,206,208,212,213,214,216,218,219,221,222,223,224,226,227,229,237,238,239,241,244,322,327,337,344,388])\n",
      "i: 233, [1,31,74,80,109,112,122,162,179,194,200,201,203,204,206,207,212,213,217,219,221,224,226,228,229,234,236,237,239,240,245,260,274,334,345,360,364,377,396,399])\n",
      "i: 234, [13,55,61,92,93,112,125,156,179,194,202,203,204,205,206,208,212,213,214,221,223,225,228,229,231,233,235,236,237,238,240,261,262,273,315,348,379,384,395,397])\n",
      "i: 235, [16,20,38,75,77,80,81,180,181,194,201,202,204,208,209,210,213,216,217,218,219,220,222,223,225,226,227,228,231,234,239,240,284,287,292,310,314,325,335])\n",
      "i: 236, [17,40,87,103,142,146,156,157,201,202,203,205,208,209,210,214,218,223,226,233,234,237,321,362,380,391,396])\n",
      "i: 237, [29,40,70,78,83,107,114,159,203,206,207,208,209,210,211,213,214,217,219,221,223,224,225,226,229,230,232,233,234,236,242,253,378])\n",
      "i: 238, [38,40,55,64,65,86,102,119,133,148,203,204,205,206,207,209,210,212,213,214,215,216,220,221,223,225,226,228,232,234,239,240,241,251,252,289,290,296,300,304,307,319,334,363,366,370,384])\n",
      "i: 239, [25,38,61,77,81,106,111,121,128,138,142,181,195,201,204,205,206,207,209,213,214,216,219,221,222,224,225,229,232,233,235,238,257,272,292,300,317,339,353,399])\n",
      "i: 240, [9,18,88,90,162,202,203,204,207,208,209,215,220,223,230,233,234,235,238,266,290,309,320,358,362,383,388,393])\n",
      "i: 241, [36,40,54,55,58,71,74,78,79,95,132,139,141,157,172,216,232,238,244,247,248,249,252,255,257,260,261,263,267,268,270,271,273,275,276,279,286,293,310,326,332,372])\n",
      "i: 242, [2,9,20,28,46,72,77,84,95,115,134,135,163,173,177,178,209,237,243,244,249,250,251,255,257,258,259,260,261,262,265,269,270,272,274,275,276,280,299,306,308,334,363,385,386])\n",
      "i: 243, [29,31,33,38,39,71,73,85,86,93,146,173,179,186,230,242,244,248,251,252,253,264,265,266,267,271,272,273,274,277,278,280,291,312,368,396])\n",
      "i: 244, [7,10,25,52,85,120,125,130,149,195,226,232,241,242,243,245,250,251,252,255,258,259,260,261,264,265,266,267,270,272,273,274,275,278,279,280,288,329,332,337,352,355,365])\n",
      "i: 245, [1,23,51,72,123,144,165,195,204,206,233,244,246,247,250,253,254,256,258,260,261,263,265,270,272,276,279,324,356,374,395])\n",
      "i: 246, [33,84,91,99,100,102,119,134,147,154,206,245,247,249,251,252,253,254,255,259,260,262,264,266,268,269,272,273,274,277,278,279,285,325,326,330,337,347,356,370,400])\n",
      "i: 247, [5,11,13,46,58,93,98,99,103,142,144,170,171,200,201,207,219,241,245,246,249,250,251,253,254,259,260,261,263,266,267,269,270,271,273,277,278,279,280,289,316,318,323,378])\n",
      "i: 248, [4,44,55,69,75,81,96,107,109,112,152,154,184,210,216,241,243,249,254,255,258,259,260,261,262,263,264,265,266,267,268,269,271,272,274,275,276,280,308,357,375,387])\n",
      "i: 249, [18,77,104,139,144,185,205,241,242,246,247,248,250,252,255,256,259,261,263,264,267,268,269,275,276,277,278,279,346,347,365,376,385])\n",
      "i: 250, [10,36,39,53,54,101,112,114,177,191,195,202,242,244,245,247,249,251,252,255,256,257,260,261,264,268,270,271,276,277,278,283,285,295,317,337,353,385,388,390])\n",
      "i: 251, [36,40,69,70,99,107,115,128,156,165,214,230,238,242,243,244,246,247,250,253,254,255,257,261,265,267,268,271,277,293,351,360,395])\n",
      "i: 252, [61,62,105,110,118,162,238,241,243,244,246,249,250,255,256,257,260,262,264,265,268,269,271,272,273,274,278,344,350,353,362])\n",
      "i: 253, [14,16,56,77,121,133,174,192,237,243,245,246,247,251,257,258,259,261,264,265,267,268,270,271,272,273,274,275,277,278,279,291,298,316,382])\n",
      "i: 254, [11,12,33,66,69,74,98,156,158,160,171,185,199,223,245,246,247,248,251,256,259,261,264,265,267,269,270,272,274,276,277,278,279,292,315,319,320,341])\n",
      "i: 255, [15,28,45,74,85,87,92,117,124,133,135,147,183,189,192,206,209,230,241,242,244,246,248,249,250,251,252,256,257,258,260,262,264,265,267,268,271,278,280,298,305,309,315,320,323,385])\n",
      "i: 256, [5,10,13,15,22,30,41,80,90,134,159,169,170,175,190,193,204,245,249,250,252,254,255,257,258,259,260,261,262,263,265,266,267,271,272,275,278,279,281,351,370,373,390])\n",
      "i: 257, [4,21,35,41,61,73,77,90,122,134,195,221,239,241,242,250,251,252,253,255,256,260,261,263,264,268,269,271,273,275,277,317,320,323,335,340,358,395])\n",
      "i: 258, [18,37,62,82,85,95,150,186,193,201,202,205,209,211,242,244,245,248,253,255,256,259,264,266,267,269,270,275,276,283,293,299,317,320,324,352,365,399])\n",
      "i: 259, [6,61,62,68,87,89,95,97,139,145,150,163,164,182,184,195,202,205,242,244,246,247,248,249,253,254,256,258,260,263,264,265,267,269,270,272,273,275,277,279,298,299,319,331,336,350,394,396,397,400])\n",
      "i: 260, [8,18,23,81,96,136,141,171,186,210,231,233,241,242,244,245,246,247,248,250,252,255,256,257,259,265,266,270,271,275,278,280,305,307,324,327,328,329,345,353,376,382])\n",
      "i: 261, [13,22,53,100,170,182,185,186,194,228,234,241,242,244,245,247,248,249,250,251,253,254,256,257,262,266,267,268,271,272,273,274,277,278,279,302,309,331,396])\n",
      "i: 262, [11,19,78,108,113,125,174,190,199,201,204,234,242,246,248,252,255,256,261,266,267,268,270,271,272,275,279,300,307,312,315,336,356,358,368,377,386,397])\n",
      "i: 263, [10,15,16,23,28,37,56,71,82,99,107,129,133,148,184,206,218,241,245,247,248,249,256,257,259,264,270,271,272,274,275,276,278,289,313,325,358,366])\n",
      "i: 264, [1,42,171,204,210,243,244,246,248,249,250,252,253,254,255,257,258,259,263,266,268,270,271,272,273,277,279,290,306,315])\n",
      "i: 265, [8,9,59,69,78,95,98,118,120,124,141,150,180,204,242,243,244,245,248,251,252,253,254,255,256,259,260,266,269,271,274,275,277,278,279,308,313,340,342,343,397,399])\n",
      "i: 266, [15,63,83,100,176,187,240,243,244,246,247,248,256,258,260,261,262,264,265,267,269,270,271,272,273,276,277,278,294,297,337,347,372,393])\n",
      "i: 267, [24,35,46,84,88,106,161,162,197,201,221,226,241,243,244,247,248,249,251,253,254,255,256,258,259,261,262,266,268,269,271,272,275,312,313,341,342,366,368,383])\n",
      "i: 268, [17,34,73,94,101,113,194,241,246,248,249,250,251,252,253,255,257,261,262,264,267,269,270,271,273,275,278,282,285,293,371,372,382])\n",
      "i: 269, [19,27,39,84,113,125,149,152,153,155,180,186,192,194,202,242,246,247,248,249,252,254,257,258,259,265,266,267,268,271,272,273,277,279,286,303,308,309,310,313,357])\n",
      "i: 270, [17,23,31,76,98,136,160,173,188,194,228,229,241,242,244,245,247,250,253,254,258,259,260,262,263,264,266,268,271,277,284,332,339,361,379,390,391,395,396])\n",
      "i: 271, [22,68,114,126,198,218,231,241,243,247,248,250,251,252,253,255,256,257,260,261,262,263,264,265,266,267,268,269,270,274,275,281,290,300,308,318,327,345,347,356,395])\n",
      "i: 272, [11,14,20,35,53,63,68,69,75,80,93,148,191,217,228,229,239,242,243,244,245,246,248,252,253,254,256,259,261,262,263,264,266,267,269,277,278,279,301,310,332,335,336,360,380])\n",
      "i: 273, [1,38,39,41,49,54,94,115,123,181,216,234,241,243,244,246,247,252,253,257,259,261,264,266,268,269,274,276,277,279,280,295,308,322,332,336,364,379,393])\n",
      "i: 274, [28,46,94,121,142,169,176,197,203,231,233,242,243,244,246,248,252,253,254,261,263,265,271,273,275,276,278,280,283,294,321,323,333,368,378,389])\n",
      "i: 275, [8,10,68,73,87,140,174,181,208,228,241,242,244,248,249,253,256,257,258,259,260,262,263,265,267,268,271,274,279,280,316])\n",
      "i: 276, [6,8,17,27,42,81,100,114,119,145,168,169,171,183,186,190,192,200,213,214,222,228,241,242,245,248,249,250,254,258,263,266,273,274,277,309,356])\n",
      "i: 277, [37,38,45,46,56,87,115,122,149,154,206,214,220,221,222,225,229,243,246,247,249,250,251,253,254,257,259,261,264,265,266,269,270,272,273,276,310,321,342,348,369])\n",
      "i: 278, [1,13,31,50,53,78,96,121,157,187,204,206,223,243,244,246,247,249,250,252,253,254,255,256,260,261,263,265,266,268,272,274,279,280,309,311,317,318,328,345,348,360,366])\n",
      "i: 279, [32,34,48,125,165,183,204,241,244,245,246,247,249,253,254,256,259,261,262,264,265,269,272,273,275,278,288,294,303,308,310,312,320,325,338,366,385,394,397])\n",
      "i: 280, [5,11,49,78,85,116,128,151,242,243,244,247,248,255,260,273,274,275,278,290,292,326,345,355,363,396])\n",
      "i: 281, [6,10,44,59,89,100,120,126,152,172,256,271,284,287,288,289,292,295,297,300,301,303,307,308,310,311,313,315,316,319,326,329,391,392,399])\n",
      "i: 282, [30,35,37,43,48,54,67,69,79,82,87,124,129,141,160,167,212,268,283,284,289,290,291,295,297,298,299,300,301,302,305,309,310,312,314,315,316,320,326,328,337])\n",
      "i: 283, [12,36,48,80,132,174,178,181,223,250,258,274,282,284,288,291,292,293,304,305,306,307,311,312,313,314,317,318,320,324,340,345,346,350,355,389])\n",
      "i: 284, [3,15,27,59,63,107,153,172,210,217,223,227,228,235,270,281,282,283,285,290,291,292,295,298,299,300,301,304,305,306,307,310,312,313,314,315,318,319,320,337,338,362,380,395])\n",
      "i: 285, [51,57,75,138,150,168,174,177,183,188,201,208,214,246,250,268,284,286,287,290,293,294,296,298,300,301,303,305,310,312,316,319,328,333,346,352])\n",
      "i: 286, [20,42,46,57,60,66,74,87,127,149,151,173,175,176,190,203,241,269,285,287,289,291,292,293,294,295,299,300,302,304,306,308,309,312,313,314,317,318,319,321,336,340,348])\n",
      "i: 287, [38,58,60,108,110,155,172,178,235,281,285,286,289,290,291,293,294,299,300,301,303,306,307,309,310,311,313,317,318,319,320,359])\n",
      "i: 288, [5,9,14,18,48,60,88,90,95,150,178,179,181,189,224,227,244,279,281,283,289,294,295,298,299,300,301,302,303,304,305,306,307,308,309,311,312,314,315,316,320,334,340,342])\n",
      "i: 289, [64,65,85,110,161,164,167,199,208,229,238,247,263,281,282,286,287,288,290,292,295,296,299,301,303,304,307,308,309,315,316,317,318,319,329,335,340,343,353,371,378,383,399,400])\n",
      "i: 290, [15,53,54,76,148,186,225,238,240,264,271,280,282,284,285,287,289,291,292,295,296,297,300,301,304,308,310,311,316,317,318,336,382])\n",
      "i: 291, [45,54,60,76,118,164,165,184,193,203,229,243,253,282,283,284,286,287,290,293,294,295,297,301,305,307,308,311,317,333,345,351,386])\n",
      "i: 292, [12,118,129,130,140,142,145,146,181,198,209,224,235,239,254,280,281,283,284,286,289,290,295,296,297,300,302,304,305,308,309,311,312,313,314,318,321,327,340,363,367,372,392,394])\n",
      "i: 293, [2,35,56,84,103,118,152,162,170,180,241,251,258,268,283,285,286,287,291,297,298,299,301,304,305,307,308,310,311,312,313,314,315,317,318,319,354,363,373,392])\n",
      "i: 294, [15,20,50,82,106,111,137,142,207,266,274,279,285,286,287,288,291,296,299,301,304,305,307,309,310,312,314,316,317,318,319,324,326,335,352,353,395])\n",
      "i: 295, [13,21,41,58,85,100,109,110,138,145,148,186,187,190,207,250,273,281,282,284,286,288,289,290,291,292,296,297,298,300,302,304,305,307,308,311,318,320,329,335,337,345,354,358,359,370,379,390])\n",
      "i: 296, [3,8,66,84,97,100,127,167,171,176,238,285,289,290,292,294,295,297,298,299,300,301,302,303,305,306,307,311,312,315,318,319,337,353,371,381])\n",
      "i: 297, [9,49,69,97,102,128,131,133,138,153,157,185,188,201,219,266,281,282,290,291,292,293,295,296,300,301,303,304,308,309,311,313,315,317,360])\n",
      "i: 298, [37,127,128,133,134,143,147,214,253,255,259,282,284,285,288,293,295,296,299,304,306,307,309,310,315,316,331,360,370,381])\n",
      "i: 299, [43,91,99,128,132,161,165,170,188,198,242,258,259,282,284,286,287,288,289,293,294,296,298,300,303,304,305,307,309,310,312,313,315,317,319,345,378])\n",
      "i: 300, [42,65,71,108,115,140,144,147,161,164,191,200,207,208,212,238,239,262,271,281,282,284,285,286,287,288,290,292,295,296,297,299,305,306,310,311,315,318,320,322,325,330,375])\n",
      "i: 301, [1,24,38,43,52,57,64,110,136,199,272,281,282,284,285,287,288,289,290,291,293,294,296,297,302,306,307,308,311,312,313,314,317,318,319,325,364,389])\n",
      "i: 302, [52,55,57,68,76,117,190,195,225,261,282,286,288,292,295,296,301,306,307,308,310,311,312,315,319,357])\n",
      "i: 303, [12,41,62,77,88,91,96,117,126,167,173,176,194,219,269,279,281,285,287,288,289,296,297,299,304,310,311,312,314,315,316,318,357,360,380])\n",
      "i: 304, [17,18,25,32,48,70,138,139,153,165,168,179,182,198,208,238,283,284,286,288,289,290,292,293,294,295,297,298,299,303,306,308,310,311,312,313,317,319,324,346,358,362,368,386])\n",
      "i: 305, [20,57,77,116,131,159,183,193,196,223,226,227,231,255,260,282,283,284,285,288,291,292,293,294,295,296,299,300,306,309,311,314,315,317,318,319,323,351,352,362,388])\n",
      "i: 306, [13,23,25,66,71,84,95,104,109,120,130,142,215,228,229,242,264,283,284,286,287,288,296,298,300,301,302,304,305,307,309,310,311,312,313,316,317,318,341,344,377,379,397])\n",
      "i: 307, [5,38,42,45,50,73,78,82,85,94,126,152,154,157,159,196,201,223,238,260,262,281,283,284,287,288,289,291,293,294,295,296,298,299,301,302,306,308,309,311,312,315,334,343,378])\n",
      "i: 308, [14,23,50,53,123,157,199,221,231,242,248,265,269,271,273,279,281,286,288,289,290,291,292,293,295,297,301,302,304,307,309,310,311,313,315,318,323,325,328,341,345,349,354,362,368,385])\n",
      "i: 309, [43,57,62,82,117,123,126,148,157,196,202,240,255,261,269,276,278,282,286,287,288,289,292,294,297,298,299,305,306,307,308,311,312,313,317,319,372,393])\n",
      "i: 310, [2,14,63,65,80,84,87,100,138,147,152,175,210,214,226,235,241,269,272,277,279,281,282,284,285,287,290,293,294,298,299,300,302,303,304,306,308,311,317,348,349,355,363,365])\n",
      "i: 311, [12,18,57,144,166,185,192,202,278,281,283,287,288,290,291,292,293,295,296,297,300,301,302,303,304,305,306,307,308,309,310,314,315,352,357,359,379])\n",
      "i: 312, [34,79,84,89,97,113,116,142,183,194,199,205,222,228,243,262,267,279,282,283,284,285,286,288,292,293,294,296,299,301,302,303,304,306,307,309,317,318,319,330,337,342,345,363,392])\n",
      "i: 313, [13,20,52,88,126,143,155,182,188,192,222,227,228,263,265,267,269,281,283,284,286,287,292,293,297,299,301,304,306,308,309,314,316,317,319,320,329,340,394,398])\n",
      "i: 314, [84,93,103,113,162,163,177,194,214,228,235,282,283,284,286,288,292,293,294,301,303,305,311,313,315,316,318,320,326,373,379,397])\n",
      "i: 315, [96,109,132,167,172,178,187,190,203,234,254,255,262,264,281,282,284,288,289,293,296,297,298,299,300,302,303,305,307,308,311,314,319,320,370,371,393])\n",
      "i: 316, [5,6,58,76,77,100,122,137,156,166,178,194,226,247,253,275,281,282,285,288,289,290,294,298,303,306,313,314,317,340,386,388,398])\n",
      "i: 317, [69,82,104,111,134,159,184,197,224,231,239,250,257,258,278,283,286,287,289,290,291,293,294,297,299,301,304,305,306,309,310,312,313,316,335,341,379])\n",
      "i: 318, [8,11,21,28,35,52,72,77,82,93,100,124,153,176,187,197,203,213,247,271,278,283,284,286,287,289,290,292,293,294,295,296,300,301,303,305,306,308,312,314,319,320,388,390,397])\n",
      "i: 319, [44,55,61,77,89,99,100,133,150,163,175,215,238,254,259,281,284,285,286,287,289,293,294,296,299,301,302,304,305,309,312,313,315,318,374,392])\n",
      "i: 320, [27,44,100,117,169,182,219,240,254,255,257,258,279,282,283,284,287,288,295,300,313,314,315,318,362,364,365,371,372,373,394])\n",
      "i: 321, [4,20,56,58,62,69,86,89,126,165,172,190,199,236,274,277,286,292,324,327,328,329,332,335,337,340,341,343,347,348,350,351,353,355,356,359,373,379])\n",
      "i: 322, [7,9,10,11,24,29,62,72,88,142,158,168,175,202,212,232,273,300,323,324,329,330,331,335,337,338,339,340,341,342,345,349,350,352,354,355,356,360,361])\n",
      "i: 323, [19,40,98,137,149,161,162,174,181,189,247,255,257,274,305,308,322,324,328,331,332,333,344,345,346,347,351,352,353,354,357,358,360,376,391,392,393])\n",
      "i: 324, [7,30,42,74,91,127,131,162,175,195,200,207,208,210,213,245,258,260,283,294,304,321,322,323,325,330,331,332,335,338,339,340,341,344,345,346,347,350,352,353,354,355,358,359,360,369,375,387])\n",
      "i: 325, [11,34,64,109,130,161,165,191,198,220,228,231,235,246,263,279,300,301,308,324,326,327,330,333,334,336,338,340,341,343,345,350,352,356,359])\n",
      "i: 326, [36,50,74,105,137,145,148,171,174,221,241,246,280,281,282,294,314,325,327,329,331,332,333,334,335,339,342,344,346,348,349,352,353,354,357,358,359,385,386])\n",
      "i: 327, [10,52,62,85,89,97,101,133,161,164,165,168,210,232,260,271,292,321,325,326,329,330,331,333,334,339,340,341,343,346,347,349,350,351,353,357,358,359,360,362,377,391,399])\n",
      "i: 328, [2,8,17,23,27,29,43,46,56,88,115,117,121,123,129,131,145,147,167,207,210,214,260,278,282,285,308,321,323,329,334,335,338,339,340,341,342,343,344,345,346,347,348,349,351,352,354,355,356,360,371,373,380,382])\n",
      "i: 329, [4,19,35,46,77,104,114,139,159,161,187,198,225,244,260,281,289,295,313,321,322,326,327,328,330,332,335,336,339,341,343,344,347,348,349,355,356,357,358,359,369])\n",
      "i: 330, [5,9,17,83,107,115,126,129,133,168,215,223,246,300,312,322,324,325,327,329,331,332,335,336,337,340,341,344,348,350,351,356,357,358,361,368,374,396])\n",
      "i: 331, [25,32,36,53,55,61,81,85,99,100,150,157,174,188,212,229,259,261,298,322,323,324,326,327,330,333,334,335,337,341,345,347,348,351,357,391,398])\n",
      "i: 332, [18,28,37,47,66,72,94,100,109,116,122,127,153,157,185,200,211,241,244,270,272,273,321,323,324,326,329,330,335,336,337,340,342,344,345,348,349,351,352,353,354,358,364,368,375,390])\n",
      "i: 333, [23,33,35,53,56,68,103,106,108,109,130,148,160,162,169,183,202,208,230,274,285,291,323,325,326,327,331,337,338,339,341,344,345,347,348,350,351,352,353,354,355,357,358,359,362,372,384])\n",
      "i: 334, [13,15,24,35,43,53,72,92,100,104,111,153,165,203,204,220,233,238,242,288,307,325,326,327,328,331,336,339,341,344,345,347,349,350,352,354,356,357,358,359,368,377])\n",
      "i: 335, [66,73,124,126,130,138,149,150,191,215,220,222,229,231,235,257,272,289,294,295,317,321,322,324,326,328,329,330,331,332,336,337,338,340,342,344,345,347,348,351,358,360])\n",
      "i: 336, [21,70,121,122,144,145,153,173,230,259,262,272,273,286,290,325,329,330,332,334,335,337,338,339,340,341,342,343,345,346,347,351,352,355,358,359,383])\n",
      "i: 337, [2,14,27,65,80,90,103,143,150,170,175,232,244,246,250,266,282,284,295,296,312,321,322,330,331,332,333,335,336,340,341,343,344,348,349,351,353,355,357,383,390])\n",
      "i: 338, [19,27,35,43,65,72,109,112,144,148,169,180,187,211,279,284,322,324,325,328,333,335,336,339,344,346,347,349,350,355,356])\n",
      "i: 339, [30,55,76,150,156,160,192,193,213,239,270,322,324,326,327,328,329,333,334,336,338,340,343,344,345,347,349,350,352,353,355,357,359,365])\n",
      "i: 340, [14,44,65,126,131,137,201,223,225,229,257,265,283,286,288,289,292,313,316,321,322,324,325,327,328,330,332,335,336,337,339,345,346,350,351,355,358,360,380,389])\n",
      "i: 341, [2,9,26,31,69,102,104,117,143,149,194,223,227,229,254,267,306,308,317,321,322,324,325,327,328,329,330,331,333,334,336,337,342,346,347,348,351,352,353,354,357,358,359,383])\n",
      "i: 342, [59,62,80,116,160,168,227,265,267,277,288,312,322,326,328,332,335,336,341,346,347,348,350,351,352,355,359,369])\n",
      "i: 343, [2,4,5,43,55,103,106,116,138,153,155,168,176,184,204,209,265,289,307,321,325,327,328,329,336,337,339,344,350,351,352,354,355,356,358])\n",
      "i: 344, [31,45,108,149,167,170,172,176,179,191,211,214,218,232,252,306,323,324,326,328,329,330,332,333,334,335,337,338,339,343,346,348,350,351,352,353,357,359])\n",
      "i: 345, [10,46,49,51,54,68,102,112,116,133,138,169,196,211,219,233,260,271,278,280,283,291,295,299,308,312,322,323,324,325,328,331,332,333,334,335,336,339,340,346,349,351,354,355,357,358,359,364,370,389])\n",
      "i: 346, [12,13,20,53,57,85,118,131,149,156,172,193,217,249,283,285,304,323,324,326,327,328,336,338,340,341,342,344,345,347,349,350,351,352,353,356,357,358,366])\n",
      "i: 347, [5,6,55,119,158,179,186,204,230,246,249,266,271,321,323,324,327,328,329,331,333,334,335,336,338,339,341,342,346,348,349,351,352,355,370,383,391])\n",
      "i: 348, [30,46,82,108,149,166,173,179,197,199,216,231,234,277,278,286,310,321,326,328,329,330,331,332,333,335,337,341,342,344,347,349,350,351,353,355,358,397])\n",
      "i: 349, [58,73,99,101,155,170,195,214,308,310,322,326,327,328,329,332,334,337,338,339,345,346,347,348,351,352,353,357,359,393])\n",
      "i: 350, [21,66,91,92,106,118,132,144,170,201,204,207,220,252,259,283,321,322,324,325,327,330,333,334,338,339,340,342,343,344,346,348,351,357,372])\n",
      "i: 351, [17,19,25,29,30,45,62,63,68,111,113,128,133,146,148,199,205,209,251,256,291,305,321,323,327,328,330,331,332,333,335,336,337,340,341,342,343,344,345,346,347,348,349,350,354,355])\n",
      "i: 352, [22,52,77,78,107,109,134,138,148,204,208,244,258,285,294,305,311,322,323,324,325,326,328,332,333,334,336,339,341,342,343,344,346,347,349,357,358,359,379,384])\n",
      "i: 353, [17,38,48,59,90,113,147,155,157,160,182,183,194,201,206,219,222,239,250,252,260,289,294,296,321,323,324,326,327,332,333,337,339,341,344,346,348,349,354,356,357,359,360,364,365])\n",
      "i: 354, [130,145,149,150,162,166,177,194,293,295,308,322,323,324,326,328,332,333,334,341,343,345,351,353,355,356,358,360])\n",
      "i: 355, [8,9,10,11,29,52,82,83,90,108,111,126,174,209,225,244,280,283,310,321,322,324,328,329,333,336,337,338,339,340,342,343,345,347,348,351,354,359,360,372,376,382,392,396])\n",
      "i: 356, [14,15,51,81,93,108,112,137,141,142,165,171,181,198,203,211,245,246,262,271,276,321,322,325,328,329,330,334,338,343,346,353,354,357])\n",
      "i: 357, [26,34,41,42,57,73,83,91,121,131,138,145,154,190,195,248,269,302,303,311,323,326,327,329,330,331,333,334,337,339,341,344,345,346,349,350,352,353,356,367,389,399])\n",
      "i: 358, [6,15,18,35,41,48,62,64,97,117,119,167,168,181,183,216,219,223,228,240,257,262,263,295,304,323,324,326,327,329,330,332,333,334,335,336,340,341,343,345,346,348,352,354,359,360,361,392])\n",
      "i: 359, [33,34,35,40,44,50,74,75,77,81,84,138,148,158,161,181,222,287,295,311,321,324,325,326,327,329,333,334,336,339,341,342,344,345,349,352,353,355,358,372,387])\n",
      "i: 360, [34,74,77,97,150,168,185,186,198,202,203,215,227,228,233,251,272,278,297,298,303,322,323,324,327,328,335,340,353,354,355,358,382,397])\n",
      "i: 361, [22,34,36,129,180,182,210,226,229,270,322,330,358,364,367,368,369,372,375,377,380,381,383,387,388,390,391,393,395,396,399])\n",
      "i: 362, [9,42,56,83,85,182,184,199,229,236,240,252,284,304,305,308,320,327,333,363,364,369,370,371,375,377,378,379,380,381,382,385,388,389,390,392,394,395,396,400])\n",
      "i: 363, [2,25,53,90,123,126,138,150,158,195,202,221,238,242,280,292,293,310,312,362,364,368,371,372,373,384,385,386,387,391,392,393,394,396,397,398,400])\n",
      "i: 364, [5,50,83,112,176,191,227,233,273,301,320,332,345,353,361,362,363,365,370,371,372,375,378,379,380,381,382,384,385,386,387,389,390,392,393,394,395,398,399,400])\n",
      "i: 365, [2,18,19,30,57,77,85,119,127,195,196,201,244,249,258,310,320,339,353,364,366,367,369,370,373,374,376,378,380,381,383,385,390,392,396,398,399])\n",
      "i: 366, [6,24,52,59,77,105,145,178,182,203,238,263,267,278,279,346,365,367,369,371,372,373,374,375,379,380,382,384,386,388,389,392,393,394,397,398,399])\n",
      "i: 367, [12,40,41,62,77,90,101,130,135,151,164,167,292,357,361,365,366,369,370,371,373,374,379,380,381,383,386,387,389,390,391,393,397,398,399,400])\n",
      "i: 368, [4,26,33,69,70,96,108,112,119,163,194,243,262,267,274,304,308,330,332,334,361,363,369,371,374,375,378,379,380,381,382,383,384,385,386,387,388,389,391,392,394,395,396,397,400])\n",
      "i: 369, [49,56,63,87,119,134,138,155,164,168,169,181,201,208,212,214,277,324,329,342,361,362,365,366,367,368,370,372,375,376,379,381,383,384,387,388,389,395,396,397,398,399,400])\n",
      "i: 370, [13,21,28,29,59,81,105,106,155,174,180,198,200,214,238,246,256,295,298,315,345,347,362,364,365,367,369,371,372,373,375,376,377,380,381,384,388,390,391,396,397,398])\n",
      "i: 371, [4,16,32,48,68,76,85,96,102,108,120,153,165,173,224,268,289,296,315,320,328,362,363,364,366,367,368,370,373,374,375,377,381,385,387,388,391,397])\n",
      "i: 372, [10,27,54,61,81,88,105,149,164,182,194,203,241,266,268,292,309,320,333,350,355,359,361,363,364,366,369,370,373,375,376,377,380,382,384,385,388,389,391,392,393,394,398])\n",
      "i: 373, [25,58,95,103,116,122,144,177,201,210,222,256,293,314,320,321,328,363,365,366,367,370,371,372,377,378,379,381,384,385,387,388,389,390,391,392,393,394,395,397,398,399])\n",
      "i: 374, [15,54,57,118,128,143,151,174,192,202,219,245,319,330,365,366,367,368,371,376,379,381,382,384,385,386,387,389,390,392,394,396,397,398,399])\n",
      "i: 375, [2,14,18,31,37,73,81,88,136,153,158,168,248,300,324,332,361,362,364,366,368,369,370,371,372,376,377,378,380,382,384,385,387,388,391,398,400])\n",
      "i: 376, [21,43,65,105,109,122,123,129,154,163,179,201,249,260,323,355,365,369,370,372,374,375,377,378,379,380,381,382,383,385,386,387,389,390,391,392,395,398,399])\n",
      "i: 377, [7,35,42,52,76,94,109,118,136,140,178,185,200,222,223,231,233,262,306,327,334,361,362,370,371,372,373,375,376,378,380,381,383,384,388,389,390,391,393,395,397])\n",
      "i: 378, [34,75,78,83,108,131,146,147,174,189,212,237,247,274,289,299,307,362,364,365,368,373,375,376,377,379,384,386,387,389,390,395,396])\n",
      "i: 379, [28,102,142,161,162,205,211,212,234,270,273,295,306,311,314,317,321,352,362,364,366,367,368,369,373,374,376,378,380,383,384,385,387,389,390,392,393,395,397,399])\n",
      "i: 380, [5,52,57,65,75,84,86,99,111,119,129,146,191,194,195,207,215,236,272,284,303,328,340,361,362,364,365,366,367,368,370,372,375,376,377,379,385,386,390,391,395,398,400])\n",
      "i: 381, [13,22,28,70,137,158,167,225,296,298,361,362,364,365,367,368,369,370,371,373,374,376,377,382,384,386,387,388,391,392,393,394,397,398,399])\n",
      "i: 382, [16,23,24,27,41,49,55,56,68,142,165,186,206,219,253,260,268,290,328,355,360,362,364,366,368,372,374,375,376,381,385,386,387,388,390,391,392,395,399])\n",
      "i: 383, [3,28,39,51,80,88,130,162,173,199,229,240,267,289,336,337,341,347,361,365,367,368,369,376,377,379,384,390,391,392,394,395,396,397,398])\n",
      "i: 384, [28,69,86,110,135,147,156,217,234,238,333,352,363,364,366,368,369,370,372,373,374,375,377,378,379,381,383,386,388,390,391,392,393,397,399])\n",
      "i: 385, [4,5,26,100,125,141,193,242,249,250,255,279,308,326,362,363,364,365,368,371,372,373,374,375,376,379,380,382,386,389,391,394,395,397,398,399])\n",
      "i: 386, [3,6,30,48,58,68,96,102,131,160,172,231,242,262,291,304,316,326,363,364,366,367,368,374,376,378,380,381,382,384,385,387,389,390,391,392,393,395,396,397,398])\n",
      "i: 387, [6,19,22,53,59,87,95,115,121,144,149,158,174,177,185,188,199,214,248,324,359,361,363,364,367,368,369,371,373,374,375,376,378,379,381,382,386,388,389,391,392,395])\n",
      "i: 388, [13,16,37,72,82,95,115,145,146,149,232,240,250,305,316,318,361,362,366,368,369,370,371,372,373,375,377,381,382,384,387,389,390,391,393,394,395,398])\n",
      "i: 389, [1,2,25,47,50,51,53,66,73,113,125,138,180,190,202,274,283,301,340,345,357,362,364,366,367,368,369,372,373,374,376,377,378,379,385,386,387,388,390,391,392,393,394,397,399])\n",
      "i: 390, [15,17,44,56,67,87,90,131,137,158,188,201,207,250,256,270,295,318,332,337,361,362,364,365,367,370,373,374,376,377,378,379,380,382,383,384,386,388,389,391,397,400])\n",
      "i: 391, [16,40,45,51,69,88,95,100,101,119,123,130,138,149,192,196,221,225,229,236,270,281,323,327,331,347,361,363,367,368,370,371,372,373,375,376,377,380,381,382,383,384,385,386,387,388,389,390,394,395])\n",
      "i: 392, [6,11,30,46,58,66,74,83,98,190,203,207,209,226,281,292,293,312,319,323,355,358,362,363,364,365,366,368,372,373,374,376,379,381,382,383,384,386,387,389,397,398,399])\n",
      "i: 393, [1,18,24,25,54,55,107,125,160,166,172,176,177,197,217,224,240,266,273,309,315,323,349,361,363,364,366,367,372,373,377,379,381,384,386,388,389,394,396,397,399,400])\n",
      "i: 394, [22,52,67,123,124,137,162,201,259,279,292,313,320,362,363,364,366,368,372,373,374,381,383,385,388,389,391,393,395,396,397,398,400])\n",
      "i: 395, [7,19,24,27,29,31,35,36,51,84,91,108,230,234,245,251,257,270,271,284,294,361,362,364,368,369,373,376,377,378,379,380,382,383,385,386,387,388,391,394,399,400])\n",
      "i: 396, [6,17,27,39,61,81,137,162,169,180,204,217,233,236,243,259,261,270,280,330,355,361,362,363,365,368,369,370,374,378,383,386,393,394,397])\n",
      "i: 397, [19,28,51,59,76,98,123,156,160,203,205,206,234,259,262,265,279,306,314,318,348,360,363,366,367,368,369,370,371,373,374,377,379,381,383,384,385,386,389,390,392,393,394,396])\n",
      "i: 398, [10,45,50,51,93,143,157,159,160,163,181,187,196,313,316,331,363,364,365,366,367,369,370,372,373,374,375,376,380,381,383,385,386,388,392,394,399,400])\n",
      "i: 399, [18,81,116,140,146,188,220,233,239,258,265,281,289,327,357,361,364,365,366,367,369,373,374,376,379,381,382,384,385,389,392,393,395,398])\n",
      "i: 400, [49,53,104,115,125,133,143,146,155,197,215,246,259,289,362,363,364,367,368,369,375,380,390,393,394,395,398])\n"
     ]
    }
   ],
   "source": [
    "cs,_ = make_two_level_random_graph(t)\n",
    "#println(sort(sample_in_edges(cs,11,39)))\n",
    "#println(sample_out_edges(cs,11,40))\n",
    "println(degree(cs),mean(degree(cs)))\n",
    "for i in 1:t.N\n",
    "    println(\"i: $i, $(neighbors(cs,i)))\")\n",
    "end"
   ]
  },
  {
   "cell_type": "code",
   "execution_count": 92,
   "metadata": {
    "collapsed": false
   },
   "outputs": [
    {
     "name": "stdout",
     "output_type": "stream",
     "text": [
      "3 "
     ]
    },
    {
     "data": {
      "text/plain": [
       "({20, 24} undirected graph,[[1,2,3,4],[5,6,7,8],[9,10,11,12],[13,14,15,16],[17,18,19,20]])"
      ]
     },
     "execution_count": 92,
     "metadata": {},
     "output_type": "execute_result"
    },
    {
     "name": "stdout",
     "output_type": "stream",
     "text": [
      "6 0.3333333333333333\n",
      "2 6 0.3333333333333333\n",
      "3 6 0.3333333333333333\n",
      "4 6 0.3333333333333333\n",
      "4 6 0.3333333333333333\n"
     ]
    }
   ],
   "source": [
    "cs = make_two_level_random_graph(t)"
   ]
  },
  {
   "cell_type": "code",
   "execution_count": 142,
   "metadata": {
    "collapsed": false
   },
   "outputs": [
    {
     "data": {
      "text/plain": [
       "1-element Array{Int64,1}:\n",
       " 3"
      ]
     },
     "execution_count": 142,
     "metadata": {},
     "output_type": "execute_result"
    }
   ],
   "source": [
    "intersect([1,2,3],[3,4,5])"
   ]
  },
  {
   "cell_type": "code",
   "execution_count": 90,
   "metadata": {
    "collapsed": false
   },
   "outputs": [
    {
     "data": {
      "text/plain": [
       "2"
      ]
     },
     "execution_count": 90,
     "metadata": {},
     "output_type": "execute_result"
    }
   ],
   "source": [
    "splice!([1,2,3],2)"
   ]
  },
  {
   "cell_type": "markdown",
   "metadata": {},
   "source": [
    "# Questions\n",
    "\n",
    "## What do we do with knowledge of $P(x | y)$? How do we calculate the dynamics from there\n",
    "## Make sure we have factors of $y (1 - y)$ correctly\n",
    "## what are we using as the transition probabilities? Should we just average over all possible values of $i_r$ and $i_l$?\n",
    "\n",
    "\n",
    "# TODO\n",
    "\n",
    "## Have simulations output a detailed history of which node was infected at what time. That can be used to find the prevalence in each community, given the clusters.\n",
    "\n",
    "## Implement a version with binomial sampling of edges intra-nodes and inter-nodes (so the numbers are not exact)"
   ]
  },
  {
   "cell_type": "code",
   "execution_count": null,
   "metadata": {
    "collapsed": true
   },
   "outputs": [],
   "source": []
  },
  {
   "cell_type": "code",
   "execution_count": null,
   "metadata": {
    "collapsed": true
   },
   "outputs": [],
   "source": []
  }
 ],
 "metadata": {
  "kernelspec": {
   "display_name": "Julia 0.4.3",
   "language": "julia",
   "name": "julia-0.4"
  },
  "language_info": {
   "file_extension": ".jl",
   "mimetype": "application/julia",
   "name": "julia",
   "version": "0.4.3"
  }
 },
 "nbformat": 4,
 "nbformat_minor": 0
}
