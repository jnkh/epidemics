{
 "cells": [
  {
   "cell_type": "markdown",
   "metadata": {},
   "source": [
    "# Theory\n"
   ]
  },
  {
   "cell_type": "markdown",
   "metadata": {},
   "source": [
    "We imagine a collection of Erdos-Renyi Random Graphs.\n",
    "\n",
    "Want to calculate the probability distribution of the distribution of infecteds $x$ among the different graphs, given the overall fraction of infected $y$.\n",
    "\n",
    "If we let $x_i$ be the fraction of infecteds in subgraph $i$, we expect a universal probability distribution $P(x_i | y)$. Due to symmetry, we further expect $P(x_i | y) = P(x|y)$ to be independent of $i$.\n",
    "\n",
    "If we assume stationarity, we can find an equilibrium distribution $P(x | y)$. I.e. we assume an overal prevalence $y$ of infecteds, and conditioned on this $y$ find which stationary distribution of $x$ emerges.\n",
    "\n",
    "Given $P(x | y)$ we can calculate $<x>$ and $<x^2>$, which gives us an $s_{eff}(x)$ in each of the subgraphs. \n",
    "\n",
    "We expect $x$ to be concentrated as $y$ is small, and then we expect it to gradually spread out as $y$ becomes larger."
   ]
  },
  {
   "cell_type": "markdown",
   "metadata": {},
   "source": [
    "## Stationary Distribution $P(x | y)$\n",
    "\n",
    "Assume we have a regular two-level erdos-renyi graph with N total nodes. There are $n$ subgraphs of $m$ nodes each. Each node has $r$ connections randomly among all other subgraphs and $l$ connections randomly among its own subgraph.\n",
    "\n",
    "We assume that for each individual independently\n",
    "\n",
    "$$P_{death} \\sim N \\bar{y} (1 - y) (1 + \\beta)$$\n",
    "$$P_{birth} \\sim N y (1 - \\bar{y}) (1 + \\alpha y)$$\n",
    "\n",
    "$y$ stands for the local density, whereas $\\bar{y}$ stands for the average density throughout the entire graph.\n",
    "The $y (1 - y)$ terms arise in different ways. In the death process, we require an infected to die ($\\bar{y}$) pick the type (infected or susceptible) from a random neighbor upon death ($1 - y$). For the birth process, we need to be susceptible ($1 - \\bar{y}$) in order to undergo birth in the first place. However we have an independent probability from each neighbor of being infected ($y$). If we want to find the expectation of these quantities, we need\n",
    "\n",
    "$$N_{death} \\sim N \\bar{y} (1 - <y>) (1 + \\beta)$$\n",
    "$$N_{birth} \\sim N (1 - \\bar{y}) (<y> + \\alpha <y^2>)$$\n",
    "\n",
    "per individual, we have\n",
    "\n",
    "$$P_{death} \\sim (1 - <y>) (1 + \\beta)$$\n",
    "$$P_{birth} \\sim (<y> + \\alpha <y^2>)$$\n",
    "\n",
    "Due to the nonlinearity, we need the expectation of $<y^2>$ as well.\n",
    "\n",
    "Now describe our system by a vector $\\vec{a} = (a_0, a_1, ... , a_m)$ Where $a_j$ describes the number of subgraphs with $j$ infecteds. We of course only have $n$ subnodes, which requires\n",
    "$$\\sum_{j = 0}^m a_j = n $$\n",
    "Since we must have $N y$ infecteds total, this requires a normalization\n",
    "$$\\sum_{j = 0}^m j a_j = N y$$\n",
    "\n",
    "We imagine a stationary process where we randomly remove one infected individual and then randomly add one infected invidual. This process should relax to an equilibrium distribution"
   ]
  },
  {
   "cell_type": "markdown",
   "metadata": {},
   "source": [
    "### Transition probabilities\n",
    "\n",
    "Let us consider a node in a subgraph with $j$ total infecteds. This node has degree $r + l$. Let us find out $y$. We know inside the subgraph the prevalence is $\\frac{j}{m}$. Outside, the prevalence is $\\bar{y}$. Thus, we have $y = \\frac{i_r + i_l}{r + l}$, where $i_r$ and $i_l$ are binomially distributed random variables:\n",
    "$$i_l \\sim Binom(l,\\frac{j}{m})$$\n",
    "$$i_r \\sim Binom(r,\\bar{y})$$\n",
    "\n",
    "With means $<i_l> = \\frac{l j}{m}$ and $<i_r> = r \\bar{y}$. Thus we have $$y_{local} = y = \\frac{l \\frac{j}{m} +r \\bar{y}}{l  + r}$$\n",
    "in expectation. If the nodes is itself infected, it is part of the $j$ nodes, so we would really have\n",
    "$$y_{local} = y = \\frac{l \\frac{j-1}{m} +r \\bar{y}}{l  + r}$$ in that case.\n",
    "\n",
    "For $<y^2>$ we have \n",
    "$$<y^2> = \\left< \\frac{i_r^2 + i_r i_l + i_l^2}{(r + l)^2} \\right> = \n",
    "\\frac{<i_r^2> + <i_l^2> + 2<i_r><i_l>}{(r + l)^2} = \\frac{r \\bar{y} ((r - 1) \\bar{y} + 1) + l \\frac{j}{m}((l - 1) \\frac{j}{m} + 1) + 2 l r \\frac{j}{m} \\bar{y}}{(r + l)^2} $$\n",
    "\n",
    "We have $Var[x] = E[x^2] - E[x]^2$ For the binomial distribution,\n",
    "$E[x^2] = Var[x] + E[x]^2 = n p (1 - p)  + n^2 p^2 = n p ((n - 1) p + 1)$\n",
    "\n",
    "Now consider an individual in a subgraph with $j$ infecteds. If he is infected, his probability of being removed ($a_j -= 1$, $a_{j - 1} += 1$)is\n",
    "\n",
    "$$a_j j <P_{death,j}> =  a_j j (1 - <y_j>) (1 + \\beta)$$\n",
    "\n",
    "If he is susceptible, his probability of being added is\n",
    "\n",
    "$$ a_j (m - j) <P_{birth,j}> = (<y_j> + \\alpha <y_j^2>) $$\n",
    "\n",
    "We develop a markov chain where we apply one birth and one death process simultaneously and then observe the resulting equilibrium distribution."
   ]
  },
  {
   "cell_type": "markdown",
   "metadata": {},
   "source": [
    "## Calculation of an effective theory\n",
    "\n",
    "Using the expressions for the *steady state values* of $<y>$ and $<y^2>$ as a function of $j$, we can calculate the overall values of $<y>_{inf}$, $<y>_{susc}$ and $<y^2>_{susc}$. This allows us to run a mean field simulation of the dynamics. \n",
    "\n",
    "We expect this simulation to be accurate: \n",
    "\n",
    "- below the neutral selection threshold, we are dominated by diffusive behavior. This means the time scale on which $y$ changes is long compared to the time we spend at any given $y$, so we expect to be close to the steady state distribution over nodes.\n",
    "\n",
    "- above the neutral selection threshold, the epidemic fixes quickly and spends little time, so the effect on the overall results is very small."
   ]
  },
  {
   "cell_type": "code",
   "execution_count": 1,
   "metadata": {
    "collapsed": false
   },
   "outputs": [
    {
     "name": "stderr",
     "output_type": "stream",
     "text": [
      "Vendor:  Continuum Analytics, Inc.\n",
      "Package: mkl\n",
      "Message: trial mode expires in 26 days\n"
     ]
    }
   ],
   "source": [
    "push!(LOAD_PATH,pwd())\n",
    "using StatsBase, PyPlot, Distributions, LightGraphs, TwoLevelGraphs"
   ]
  },
  {
   "cell_type": "code",
   "execution_count": 2,
   "metadata": {
    "collapsed": false
   },
   "outputs": [
    {
     "name": "stdout",
     "output_type": "stream",
     "text": [
      "N=400, alpha = 88.88888888888889, beta = 2.2222222222222223\n",
      "0.0"
     ]
    }
   ],
   "source": [
    "k = 4\n",
    "#y_n = 0.1\n",
    "c_r = 0.18\n",
    "N = 400#100000#400\n",
    "n_n = 10#10#y_n*N\n",
    "beta = 4.0/(c_r*n_n)\n",
    "alpha = (N*beta)/n_n\n",
    "println(\"N=$N, alpha = $alpha, beta = $beta\")\n",
    "\n",
    "\n",
    "#Generate a random startin vector\n",
    "m = 20 #40\n",
    "n = Int(N/m)\n",
    "l = Int(m/2)#internal\n",
    "r = 2#Int(m/2)#2 #external\n",
    "\n",
    "y_desired = 0.0012\n",
    "\n",
    "\n",
    "t = TwoLevel(N,m,l,r)\n",
    "#distribute_randomly(t,n)\n",
    "adjust_infecteds(t,y_desired)\n",
    "make_consistent(t)\n",
    "assert(is_valid(t))\n",
    "println(t.i/t.N)"
   ]
  },
  {
   "cell_type": "code",
   "execution_count": 3,
   "metadata": {
    "collapsed": false
   },
   "outputs": [
    {
     "data": {
      "text/plain": [
       "21-element Array{Number,1}:\n",
       " 20\n",
       "  0\n",
       "  0\n",
       "  0\n",
       "  0\n",
       "  0\n",
       "  0\n",
       "  0\n",
       "  0\n",
       "  0\n",
       "  0\n",
       "  0\n",
       "  0\n",
       "  0\n",
       "  0\n",
       "  0\n",
       "  0\n",
       "  0\n",
       "  0\n",
       "  0\n",
       "  0"
      ]
     },
     "execution_count": 3,
     "metadata": {},
     "output_type": "execute_result"
    },
    {
     "name": "stdout",
     "output_type": "stream",
     "text": [
      "\n"
     ]
    }
   ],
   "source": [
    "num_trials = 1000_000\n",
    "#accum = get_stationary_distribution(N,m,l,r,y_desired,((x,y) -> death_fn(x,y,beta)),((x,y) -> birth_fn(x,y,alpha)),num_trials)\n",
    "equilibrium_distribution = get_stationary_distribution_nonlinear_theory(N,m,l,r,y_desired,alpha,beta)[:];;\n",
    "#figure()\n",
    "#semilogy(accum,\"r\")"
   ]
  },
  {
   "cell_type": "code",
   "execution_count": 25,
   "metadata": {
    "collapsed": false
   },
   "outputs": [
    {
     "data": {
      "image/png": "[encoded data removed]",
      "text/plain": [
       "PyPlot.Figure(PyObject <matplotlib.figure.Figure object at 0x31a33fb10>)"
      ]
     },
     "metadata": {},
     "output_type": "display_data"
    },
    {
     "data": {
      "text/plain": [
       "1-element Array{Any,1}:\n",
       " PyObject <matplotlib.lines.Line2D object at 0x31d9ef810>"
      ]
     },
     "execution_count": 25,
     "metadata": {},
     "output_type": "execute_result"
    }
   ],
   "source": [
    "semilogy(equilibrium_distribution,\"b\")\n",
    "# semilogy(equilibrium_distribution1,\"--b\")\n",
    "\n",
    "#semilogy(accum,\"r\")\n",
    "# semilogy(accum1,\"--r\")\n",
    "\n",
    "# semilogy(equilibrium_distribution./equilibrium_distribution1,\"g\")\n",
    "#semilogy(transition_matrix*accum,\"g\")"
   ]
  },
  {
   "cell_type": "code",
   "execution_count": 5,
   "metadata": {
    "collapsed": false
   },
   "outputs": [
    {
     "name": "stdout",
     "output_type": "stream",
     "text": [
      "0.4965590960337027 0.8\n",
      "20.000000000000004 20\n",
      "0.8"
     ]
    }
   ],
   "source": [
    "println(sum([(j-1)*equilibrium_distribution[j] for j = 1:length(equilibrium_distribution)])/t.N,\" \",t.i/t.N)\n",
    "println(sum(equilibrium_distribution),\" \", t.n)\n",
    "\n",
    "println(sum([(j-1)*accum[j] for j = 1:length(accum)])/t.N, \" \" , t.i/t.N)\n",
    "println(sum(accum), \" \" , t.n)"
   ]
  },
  {
   "cell_type": "markdown",
   "metadata": {},
   "source": [
    "## Solve the below subject to positivity constraint \n",
    "\n",
    "We can compute the flow of infecteds up and down. This should sum up to zero. We find that in the transition matrix method this is not true, but that a stationary solution does have the property that the infected flow is zero. However, the infected value reached is not equal to the original infected value. "
   ]
  },
  {
   "cell_type": "code",
   "execution_count": 10,
   "metadata": {
    "collapsed": false
   },
   "outputs": [],
   "source": [
    "#Pkg.add(\"JuMP\")\n",
    "using JuMP"
   ]
  },
  {
   "cell_type": "code",
   "execution_count": 20,
   "metadata": {
    "collapsed": false
   },
   "outputs": [
    {
     "data": {
      "text/plain": [
       "21-element Array{Float64,1}:\n",
       " 10.1019  \n",
       "  4.02517 \n",
       " -0.441752\n",
       " -3.47549 \n",
       " -5.25267 \n",
       " -5.9499  \n",
       " -5.7438  \n",
       " -4.811   \n",
       " -3.32811 \n",
       " -1.47175 \n",
       "  0.581459\n",
       "  2.6549  \n",
       "  4.57196 \n",
       "  6.15601 \n",
       "  7.23043 \n",
       "  7.61862 \n",
       "  7.14394 \n",
       "  5.62978 \n",
       "  2.89952 \n",
       " -1.22345 \n",
       " -6.91576 "
      ]
     },
     "execution_count": 20,
     "metadata": {},
     "output_type": "execute_result"
    }
   ],
   "source": [
    "A = [net_flow_vec(m) net_infected_vec(t) net_total_vec(t)]'\n",
    "b = [0; y_desired; t.n]\n",
    "#println(A,\" \", b)\n",
    "accum_th = A\\b"
   ]
  },
  {
   "cell_type": "code",
   "execution_count": 24,
   "metadata": {
    "collapsed": false
   },
   "outputs": [
    {
     "name": "stdout",
     "output_type": "stream",
     "text": [
      "This is Ipopt version 3.12.4, running with linear solver mumps.\n",
      "NOTE: Other linear solvers might be more efficient (see Ipopt documentation).\n",
      "\n",
      "Number of nonzeros in equality constraint Jacobian...:       42\n",
      "Number of nonzeros in inequality constraint Jacobian.:        0\n",
      "Number of nonzeros in Lagrangian Hessian.............:      400\n",
      "\n",
      "Total number of variables............................:       21\n",
      "                     variables with only lower bounds:       21\n",
      "                variables with lower and upper bounds:        0\n",
      "                     variables with only upper bounds:        0\n",
      "Total number of equality constraints.................:        2\n",
      "Total number of inequality constraints...............:        0\n",
      "        inequality constraints with only lower bounds:        0\n",
      "   inequality constraints with lower and upper bounds:        0\n",
      "        inequality constraints with only upper bounds:        0\n",
      "\n",
      "iter    objective    inf_pr   inf_du lg(mu)  ||d||  lg(rg) alpha_du alpha_pr  ls\n",
      "   0 -8.3724292e-03 1.98e+01 7.78e-03  -1.0 0.00e+00    -  0.00e+00 0.00e+00   0\n",
      "   1 -5.5000058e-01 3.55e-15 8.43e+01  -1.0 9.42e-01    -  1.16e-02 1.00e+00f  1\n",
      "   2 -5.5066384e-01 7.11e-15 7.38e+01  -1.0 2.71e-01    -  1.00e+00 1.25e-01f  4\n",
      "   3 -5.5052205e-01 7.11e-15 1.00e-06  -1.0 6.86e-03    -  1.00e+00 1.00e+00f  1\n",
      "   4 -5.5102674e-01 3.55e-15 1.76e-04  -2.5 2.66e-02    -  9.98e-01 1.00e+00f  1\n",
      "   5 -5.6992190e-01 7.11e-15 1.95e-03  -3.8 2.13e+00    -  3.84e-01 1.00e+00f  1\n",
      "   6 -5.8212639e-01 3.55e-15 6.46e-04  -3.8 2.15e+00    -  5.55e-01 1.00e+00f  1\n",
      "   7 -5.8933555e-01 5.00e-17 1.70e-05  -5.7 9.72e+00    -  9.70e-01 1.00e+00f  1\n",
      "   8 -5.9041181e-01 7.11e-15 1.84e-11  -5.7 1.42e+00    -  1.00e+00 1.00e+00f  1\n",
      "   9 -5.9046370e-01 1.07e-14 8.23e-09  -8.6 8.64e-02    -  9.96e-01 1.00e+00f  1\n",
      "\n",
      "Number of Iterations....: 9\n",
      "\n",
      "                                   (scaled)                 (unscaled)\n",
      "Objective...............:  -5.9046370373543000e-01   -5.9046370373543000e-01\n",
      "Dual infeasibility......:   8.2304822887624418e-09    8.2304822887624418e-09\n",
      "Constraint violation....:   1.0658141036401503e-14    1.0658141036401503e-14\n",
      "Complementarity.........:   8.8843252376836535e-09    8.8843252376836535e-09\n",
      "Overall NLP error.......:   8.8843252376836535e-09    8.8843252376836535e-09\n",
      "\n",
      "\n",
      "Number of objective function evaluations             = 13\n",
      "Number of objective gradient evaluations             = 10\n",
      "Number of equality constraint evaluations            = 13\n",
      "Number of inequality constraint evaluations          = 0\n",
      "Number of equality constraint Jacobian evaluations   = 10\n",
      "Number of inequality constraint Jacobian evaluations = 0\n",
      "Number of Lagrangian Hessian evaluations             = 9\n",
      "Total CPU secs in IPOPT (w/o function evaluations)   =      0.006\n",
      "Total CPU secs in NLP function evaluations           =      0.069\n",
      "\n",
      "EXIT: Optimal Solution Found.\n"
     ]
    },
    {
     "data": {
      "text/plain": [
       "21-element Array{Float64,1}:\n",
       "  4.60179   \n",
       "  3.21969e-6\n",
       "  1.75467e-6\n",
       "  1.34743e-6\n",
       "  1.19325e-6\n",
       "  1.15085e-6\n",
       "  1.18221e-6\n",
       "  1.28237e-6\n",
       "  1.46742e-6\n",
       "  1.7807e-6 \n",
       "  2.32086e-6\n",
       "  3.33054e-6\n",
       "  5.52961e-6\n",
       "  1.19058e-5\n",
       "  4.88602e-5\n",
       " 15.398     \n",
       "  8.72257e-5\n",
       "  1.15587e-5\n",
       "  4.29882e-6\n",
       "  2.1795e-6 \n",
       "  1.29158e-6"
      ]
     },
     "execution_count": 24,
     "metadata": {},
     "output_type": "execute_result"
    }
   ],
   "source": [
    "#Pkg.add(\"Ipopt\")\n",
    "jmp = Model()\n",
    "@defVar(jmp, x[1:(t.m + 1)] >= 0)\n",
    "@addConstraint(jmp,dot(x,net_flow_vec(m))==0)\n",
    "@addConstraint(jmp,dot(x,net_total_vec(t))==t.m)\n",
    "@setObjective(jmp,:Min, (dot(x,net_infected_vec(t))-y_desired)^2)\n",
    "#@setObjective(jmp,:Min, sum((A*x - b).^2))\n",
    "status = solve(jmp)\n",
    "accum_jmp = getValue(x)\n",
    "A*accum_jmp, b"
   ]
  },
  {
   "cell_type": "code",
   "execution_count": 143,
   "metadata": {
    "collapsed": false
   },
   "outputs": [
    {
     "name": "stdout",
     "output_type": "stream",
     "text": [
      "0.7999656683753871\n",
      "total_change: -3.4331624612950216e-5\n",
      "ratio: 0.9999999999993943\n",
      "0.5322159896512499\n",
      "total_change: -0.2677840103487499\n",
      "ratio: 0.9999999999999992\n",
      "0.5008074038959861\n",
      "total_change: -0.2991925961040103\n",
      "ratio: 0.9999999999999878\n",
      "0.49706524012884706\n",
      "total_change: -0.30293475987115337\n",
      "ratio: 1.0000000000000013\n",
      "0.4966193980858247\n",
      "total_change: -0.30338060191418015\n",
      "ratio: 1.000000000000016\n",
      "0.49656628042542345\n",
      "total_change: -0.30343371957458193\n",
      "ratio: 1.0000000000000175\n",
      "0.49655995198275454\n",
      "total_change: -0.3034400480172524\n",
      "ratio: 1.0000000000000226\n",
      "0.4965591980115454\n",
      "total_change: -0.3034408019884586\n",
      "ratio: 1.0000000000000129\n",
      "0.49655910818335003\n",
      "total_change: -0.30344089181665507\n",
      "ratio: 1.0000000000000167\n",
      "0.4965590974812166"
     ]
    },
    {
     "data": {
      "text/plain": [
       "21-element Array{Any,1}:\n",
       " 0.170432\n",
       " 0.43996 \n",
       " 0.711325\n",
       " 0.932403\n",
       " 1.08994 \n",
       " 1.19055 \n",
       " 1.24737 \n",
       " 1.27349 \n",
       " 1.27944 \n",
       " 1.27268 \n",
       " 1.25787 \n",
       " 1.23728 \n",
       " 1.21111 \n",
       " 1.1777  \n",
       " 1.13346 \n",
       " 1.07284 \n",
       " 0.98815 \n",
       " 0.869855\n",
       " 0.707818\n",
       " 0.495406\n",
       " 0.240921"
      ]
     },
     "execution_count": 143,
     "metadata": {},
     "output_type": "execute_result"
    },
    {
     "name": "stdout",
     "output_type": "stream",
     "text": [
      "\n",
      "total_change: -0.3034409025187934\n",
      "ratio: 1.0000000000000329\n"
     ]
    }
   ],
   "source": [
    "accum_eq = propagate_in_time(m,accum,10000) "
   ]
  },
  {
   "cell_type": "markdown",
   "metadata": {},
   "source": [
    "Simulation Strategy: first burn in the distribution with neutral transition probabilities to sample different starting configurations. Then apply real transition functions to sample the distribution."
   ]
  },
  {
   "cell_type": "markdown",
   "metadata": {},
   "source": [
    "## Transition Matrix"
   ]
  },
  {
   "cell_type": "markdown",
   "metadata": {},
   "source": [
    "$$da_j/dt = - a_j P_{j\\to j-1} - a_j P_{j\\to j+1} + a_{j+1} P_{j+1 \\to j} + a_{j-1} P_{j-1 \\to j}$$\n"
   ]
  },
  {
   "cell_type": "code",
   "execution_count": 2,
   "metadata": {
    "collapsed": false
   },
   "outputs": [
    {
     "ename": "LoadError",
     "evalue": "LoadError: UndefVarError: generate_transition_matrix not defined\nwhile loading In[2], in expression starting on line 1",
     "output_type": "error",
     "traceback": [
      "LoadError: UndefVarError: generate_transition_matrix not defined\nwhile loading In[2], in expression starting on line 1",
      ""
     ]
    }
   ],
   "source": [
    "transition_matrix = generate_transition_matrix(t,alpha,beta)\n",
    "sum(transition_matrix,2)\n",
    "\n",
    "\n",
    "equilibrium_distribution = nullspace(transition_matrix)\n",
    "# equilibrium_distribution1 *= t.n/sum(equilibrium_distribution)"
   ]
  },
  {
   "cell_type": "markdown",
   "metadata": {},
   "source": [
    "## Graph generation"
   ]
  },
  {
   "cell_type": "markdown",
   "metadata": {},
   "source": [
    "We wish to generate two-level Erdos-Renyi random graphs. The central idea is that each individual subgraph is a simple ER random graph. These can be produced independently. Moreover, we can then view each subgraph as a supernode and produce another ER random graph connecting these super nodes with the appropriate amount of edges. In the final step we then uniformly distribute the edges between the super nodes among the actual nodes that make up the super nodes."
   ]
  },
  {
   "cell_type": "markdown",
   "metadata": {},
   "source": [
    "## Overall distribution\n",
    "\n",
    "We want to find out which effective $y$ and $y^2$ arise from a given $\\vec{a}$ vector\n",
    "\n",
    "What is the expected value of $y$ that a randomly chosen node will see?\n",
    "\n"
   ]
  },
  {
   "cell_type": "code",
   "execution_count": 4,
   "metadata": {
    "collapsed": false
   },
   "outputs": [
    {
     "data": {
      "text/plain": [
       "(Spline1D(knots=[0.00248087,0.0174848 … 0.977497,0.992496] (99 elements), k=2, extrapolation=\"extrapolate\", residual=0.0),Spline1D(knots=[0.00248087,0.0174848 … 0.977497,0.992496] (99 elements), k=2, extrapolation=\"extrapolate\", residual=0.0),Spline1D(knots=[0.00248087,0.0174848 … 0.977497,0.992496] (99 elements), k=2, extrapolation=\"extrapolate\", residual=0.0),Spline1D(knots=[0.00248087,0.0174848 … 0.977497,0.992496] (99 elements), k=2, extrapolation=\"extrapolate\", residual=0.0))"
      ]
     },
     "execution_count": 4,
     "metadata": {},
     "output_type": "execute_result"
    }
   ],
   "source": [
    "y_inf_interp,y_sq_inf_interp,y_susc_interp,y_sq_susc_interp = get_interpolations(t,alpha,beta)"
   ]
  },
  {
   "cell_type": "code",
   "execution_count": 5,
   "metadata": {
    "collapsed": false
   },
   "outputs": [],
   "source": [
    "using JLD\n",
    "JLD.save(\"../data/interpolations.jld\",\"y_inf_interp\",y_inf_interp,\"y_sq_inf_interp\",y_sq_inf_interp,\n",
    "\"y_susc_interp\",y_susc_interp,\"y_sq_susc_interp\",y_sq_susc_interp)"
   ]
  },
  {
   "cell_type": "code",
   "execution_count": 8,
   "metadata": {
    "collapsed": false
   },
   "outputs": [
    {
     "data": {
      "image/png": "[encoded data removed]",
      "text/plain": [
       "PyPlot.Figure(PyObject <matplotlib.figure.Figure object at 0x310f897d0>)"
      ]
     },
     "metadata": {},
     "output_type": "display_data"
    },
    {
     "data": {
      "text/plain": [
       "(0,1)"
      ]
     },
     "execution_count": 8,
     "metadata": {},
     "output_type": "execute_result"
    }
   ],
   "source": [
    "using Dierckx\n",
    "yy = 0:0.001:1\n",
    "\n",
    "plot(yy,evaluate(y_inf_interp,yy),\"r\",label=L\"y_{inf}\")\n",
    "plot(yy,yy,\"--r\")\n",
    "\n",
    "plot(yy,evaluate(y_sq_inf_interp,yy),\"b\",label=L\"y_{inf}^{2}\")\n",
    "plot(yy,yy.^2,\"--b\")\n",
    "\n",
    "plot(yy,evaluate(y_susc_interp,yy),\"-.r\",label=L\"y_{susc}\")\n",
    "plot(yy,yy,\"--r\")\n",
    "\n",
    "plot(yy,evaluate(y_sq_susc_interp,yy),\"-.b\",label=L\"y_{susc}^2\")\n",
    "plot(yy,yy.^2,\"--b\")\n",
    "\n",
    "legend(loc=\"upper left\")\n",
    "\n",
    "xlim([0,0.05])\n",
    "ylim([0,1])"
   ]
  },
  {
   "cell_type": "code",
   "execution_count": 33,
   "metadata": {
    "collapsed": false
   },
   "outputs": [],
   "source": [
    "y_desired_range = 0:0.01:1\n",
    "y_actual_range = zeros(y_desired_range)\n",
    "for (i,y_desired) in enumerate(y_desired_range)\n",
    "    equilibrium_distribution = get_stationary_distribution_theory(N,m,l,r,y_desired,alpha,beta)[:];\n",
    "    y_actual_range[i] = dot(net_infected_vec(t),equilibrium_distribution)\n",
    "end\n",
    "    \n"
   ]
  },
  {
   "cell_type": "code",
   "execution_count": 57,
   "metadata": {
    "collapsed": false
   },
   "outputs": [
    {
     "data": {
      "image/png": "[encoded data removed]",
      "text/plain": [
       "PyPlot.Figure(PyObject <matplotlib.figure.Figure object at 0x3221d66d0>)"
      ]
     },
     "metadata": {},
     "output_type": "display_data"
    }
   ],
   "source": [
    "plot(y_desired_range,y_actual_range)\n",
    "plot(y_desired_range,y_desired_range)\n",
    "axvline(0.545)\n",
    "grid()"
   ]
  },
  {
   "cell_type": "markdown",
   "metadata": {
    "collapsed": false
   },
   "source": [
    "$$N_{death} \\sim N \\bar{y} (1 - <y>) (1 + \\beta)$$\n",
    "$$N_{birth} \\sim N (1 - \\bar{y}) (<y> + \\alpha <y^2>)$$\n",
    "\n",
    "Thus\n",
    "\n",
    "$$N dy = \\sim N ((1 - \\bar{y}) (<y>_{susc} + \\alpha <y^2>_{susc}) - \\bar{y} (1 - <y>_{inf}) (1 + \\beta)) dt$$\n",
    "\n",
    "$$ N \\frac{dy}{dt} = s(y) \\bar{y}$$\n",
    "\n",
    "Thus\n",
    "\n",
    "$$s(y) = \\frac{1 - \\bar{y}}{\\bar{y}} (<y>_{susc} + \\alpha <y^2>_{susc}) - (1 - <y>_{inf}) (1 + \\beta)$$"
   ]
  },
  {
   "cell_type": "code",
   "execution_count": null,
   "metadata": {
    "collapsed": false
   },
   "outputs": [],
   "source": []
  },
  {
   "cell_type": "markdown",
   "metadata": {},
   "source": [
    "# Questions\n",
    "\n",
    "\n",
    "## Shouldn't we divide by $k_{local}$ in algorithm, as opposed to $k$?\n",
    "\n",
    "# TODO\n",
    "\n",
    "\n",
    "## Compute the expectations of $y$ and $y^2$ given an $P(x | y)$. Compute the average $y^2$ that a node sees.\n",
    "\n",
    "How to compute the expected $y$? Do we have one for susceptibles and infecteds? Do we have them seperately? How do we then compute s_{eff}(y)? Subtract birth from death rate? Make sure to distinguish $\\bar{y}$ and $y$ in the formulas!.\n",
    "\n",
    "compare with actual graph data using s_eff(y,y_squared)\n",
    "\n",
    "## Try experiments (comparing mcmc and real graph $a$ distributions) using more reasonable parameters (larger $n_n$).\n",
    "\n",
    "## Make sure equilibrium distribution returns the correct total number of infecteds!\n",
    "\n",
    "\n",
    "## Try running well mixed model with interpolation functions from the transition matrix method!"
   ]
  },
  {
   "cell_type": "code",
   "execution_count": 141,
   "metadata": {
    "collapsed": false
   },
   "outputs": [
    {
     "data": {
      "text/plain": [
       "get_stationary_distribution_from_matrix (generic function with 1 method)"
      ]
     },
     "execution_count": 141,
     "metadata": {},
     "output_type": "execute_result"
    }
   ],
   "source": [
    "# function propagate_in_time(transition,arr,time = 1)\n",
    "#     dt = 0.05\n",
    "#     timesteps = round(Int,time/dt)\n",
    "#     change = similar(arr)\n",
    "#     total_change = 0.0\n",
    "#     infected_begin = get_frac_infected(arr,t.N)\n",
    "#     for i = 1:timesteps\n",
    "#         total_change += dt*(get_flow_up(transition,arr) - get_flow_down(transition,arr))/t.N\n",
    "#         arr += dt*transition*arr\n",
    "#         if i % round(Int,timesteps/10) == 1\n",
    "#             infected_curr = get_frac_infected(arr,t.N)\n",
    "#             println(infected_curr)\n",
    "#             println(\"total_change: $(total_change)\")\n",
    "#             println(\"ratio: $(total_change/(infected_curr-infected_begin))\")\n",
    "            \n",
    "# #             println(\"change up: $(get_flow_up(transition,arr))\")\n",
    "# #             println(\"change down: $(get_flow_down(transition,arr))\")\n",
    "            \n",
    "#         end\n",
    "#     end\n",
    "#     return arr\n",
    "# end\n",
    "\n",
    "\n",
    "# function get_frac_infected(arr::Array{Any,1},N::Int)\n",
    "#     y = collect(0:(length(arr)-1))\n",
    "#     return sum(arr .* y)/N\n",
    "# end\n",
    "\n",
    "# function get_frac_infected(arr,t::TwoLevelGraphs.TwoLevel)\n",
    "#     y = collect(0:(length(arr)-1))\n",
    "#     return sum(arr .* y)/t.N\n",
    "# end\n",
    "\n",
    "# function get_upper_diagonal(arr::Array{Float64,2})\n",
    "#     assert(size(arr,1) == size(arr,2))\n",
    "#     ret = zeros(size(arr,1)-1)\n",
    "#     for i = 1:length(ret)\n",
    "#         ret[i] = arr[i,i+1]\n",
    "#     end\n",
    "#     ret\n",
    "# end\n",
    "\n",
    "# function get_lower_diagonal(arr::Array{Float64,2})\n",
    "#     assert(size(arr,1) == size(arr,2))\n",
    "#     ret = zeros(size(arr,1)-1)\n",
    "#     for i = 1:length(ret)\n",
    "#         ret[i] = arr[i+1,i]\n",
    "#     end\n",
    "#     ret\n",
    "# end\n",
    "\n",
    "# function get_flow_down(transition,arr)\n",
    "#     return sum(get_upper_diagonal(transition) .* arr[2:end])\n",
    "# end\n",
    "\n",
    "\n",
    "# function get_flow_up(transition,arr)\n",
    "#     return sum(get_lower_diagonal(transition) .* arr[1:end-1])\n",
    "# end\n",
    "\n",
    "# function get_flow_vecs(transition)\n",
    "#     flow_down_vec = [[0];get_upper_diagonal(transition)]\n",
    "#     flow_up_vec = [get_lower_diagonal(transition);[0]]\n",
    "#     return flow_down_vec,flow_up_vec\n",
    "# end\n",
    "\n",
    "# function net_flow_vec(transition)\n",
    "#     flow_down_vec,flow_up_vec = get_flow_vecs(transition)\n",
    "#     net_flow_vec = (flow_up_vec - flow_down_vec)\n",
    "#     return net_flow_vec\n",
    "# end\n",
    "\n",
    "# function net_infected_vec(t)\n",
    "#     return collect(0:t.m)/t.N\n",
    "# end\n",
    "\n",
    "# function net_total_vec(t)\n",
    "#     return ones(t.m + 1)\n",
    "# end\n",
    "\n",
    "# function compute_gamma(transition,arr)\n",
    "#     return get_flow_down(transition,arr)/get_flow_up(transition,arr)\n",
    "# end\n",
    "\n",
    "# function get_stationary_distribution_from_matrix(t::TwoLevel,transition_matrix)\n",
    "#   equilibrium_distribution = nullspace(transition_matrix)\n",
    "#   if size(equilibrium_distribution)[2] > 1 println(\"PROBLEM: $(size(equilibrium_distribution)[2]) SOLUTIONS\"); end\n",
    "#   equilibrium_distribution = equilibrium_distribution[:,end]\n",
    "#   equilibrium_distribution *= t.n/sum(equilibrium_distribution)\n",
    "#   return equilibrium_distribution\n",
    "# end\n",
    "\n",
    "# function binary_search_transition_matrix(f_out,y_target)\n",
    "#     tol = 1e-4\n",
    "#     max_iter = 1000\n",
    "#     x_upper = guarantee_upper_bound(f_out,y_target)\n",
    "#     x_lower = guarantee_lower_bound(f_out,y_target)\n",
    "#     y_upper = f_out(x_upper) \n",
    "#     y_lower = f_out(x_lower) \n",
    "    \n",
    "#     iter = 1\n",
    "#     while y_upper - y_lower > tol && iter < max_iter\n",
    "#         x_mid = (x_upper + x_lower)/2\n",
    "#         y_mid = f_out(x_mid)\n",
    "#         if y_mid > y_target\n",
    "#             x_upper = x_mid\n",
    "#             y_upper = y_mid\n",
    "#         elseif y_mid < y_target\n",
    "#             x_lower = x_mid\n",
    "#             y_lower = y_mid\n",
    "#         else\n",
    "#             return x_mid\n",
    "#         end\n",
    "#         iter +=1 \n",
    "#     end\n",
    "#     if iter >= max_iter\n",
    "#         println(\"WARNING: no convergence in transition matrix method. Aborting binary search.\")\n",
    "#     end\n",
    "#     return (x_upper+x_lower)/2\n",
    "# end\n",
    "\n",
    "# function guarantee_upper_bound(f_out,y_target)\n",
    "#     x_0 = 1.0\n",
    "#     while f_out(x_0) <= y_target\n",
    "#         x_0 *= 2\n",
    "#     end\n",
    "#     x_0\n",
    "# end\n",
    "\n",
    "# function guarantee_lower_bound(f_out,y_target)\n",
    "#     x_0 = 1.0\n",
    "#     while f_out(x_0) >= y_target\n",
    "#         x_0 /= 2\n",
    "#     end\n",
    "#     x_0\n",
    "# end\n",
    "    \n",
    "\n",
    "# function get_y_out(t,alpha,beta,gamma)\n",
    "#     transition = generate_transition_matrix(t,alpha,beta,gamma)\n",
    "#     arr = get_stationary_distribution_from_matrix(t,transition)\n",
    "#     gamma_out = compute_gamma(transition,arr)\n",
    "#     y_out = get_frac_infected(arr,t)\n",
    "#     y_out\n",
    "# end\n",
    "\n",
    "# f_out(x) = get_y_out(t,alpha,beta,x)\n",
    "\n",
    "# function get_stationary_distribution_nonlinear_theory(t,alpha,beta,y_desired)\n",
    "#     f_out(x) = get_y_out(t,alpha,beta,x)\n",
    "#     gamma = binary_search_transition_matrix(f_out,y_desired)\n",
    "#     transition = generate_transition_matrix(t,alpha,beta,gamma)\n",
    "#     arr = get_stationary_distribution_from_matrix(t,transition)\n",
    "#     arr\n",
    "# end"
   ]
  },
  {
   "cell_type": "code",
   "execution_count": null,
   "metadata": {
    "collapsed": false
   },
   "outputs": [],
   "source": [
    "# function set_y(t::TwoLevel,y_desired::AbstractFloat)\n",
    "#     adjust_infecteds(t,y_desired)\n",
    "#     make_consistent(t)\n",
    "# end    \n",
    "\n",
    "# function get_interpolations(t::TwoLevel,alpha,beta)\n",
    "#     y_range = 0:0.05:1.0\n",
    "#     y_real_range = zeros(y_range)\n",
    "\n",
    "#     y_eff_range_inf = zeros(y_range)\n",
    "#     y_sq_eff_range_inf = zeros(y_range)\n",
    "\n",
    "#     y_eff_range_susc = zeros(y_range)\n",
    "#     y_sq_eff_range_susc = zeros(y_range)\n",
    "\n",
    "\n",
    "#     for (i,y_desired) in enumerate(y_range)\n",
    "#         set_y(t,y_desired)\n",
    "#         accum = get_stationary_distribution(t.N,t.m,t.l,t.r,y_desired,((x,y) -> death_fn(x,y,beta)),((x,y) -> birth_fn(x,y,alpha)))\n",
    "#         t.a = accum\n",
    "#         y_eff_range_inf[i] = compute_mean_y_local(t,false)\n",
    "#         y_sq_eff_range_inf[i] = compute_mean_y_squared_local(t,false)\n",
    "#         y_eff_range_susc[i] = compute_mean_y_local(t,true)\n",
    "#         y_sq_eff_range_susc[i] = compute_mean_y_squared_local(t,true)\n",
    "#         y_real_range[i] = sum(t.a .*collect(0:t.m))/t.N#get_num_infected(t)/t.N\n",
    "#     end\n",
    "\n",
    "#     #yy = collect(0:0.01:1)\n",
    "\n",
    "#     y_inf_interp = CoordInterpGrid(y_range,y_eff_range_inf,BCnearest,InterpQuadratic)\n",
    "#     y_susc_interp = CoordInterpGrid(y_range,y_eff_range_susc,BCnearest,InterpQuadratic)\n",
    "#     y_sq_inf_interp = CoordInterpGrid(y_range,y_sq_eff_range_inf,BCnearest,InterpQuadratic)\n",
    "#     y_sq_susc_interp = CoordInterpGrid(y_range,y_sq_eff_range_susc,BCnearest,InterpQuadratic)\n",
    "#     #plot(y_real_range,y_eff_range_susc)\n",
    "#     #plot(yy,y_susc_interp[yy])\n",
    "#     return y_inf_interp,y_sq_inf_interp,y_susc_interp,y_sq_susc_interp\n",
    "# end\n",
    "\n",
    "# function get_s_effective(y,y_susc,y_sq_susc,y_inf,y_sq_inf,alpha,beta)\n",
    "#     return (1-y)/y*(y_susc + alpha* y_sq_susc) - (1 - y_inf)*(1 + beta)\n",
    "# end"
   ]
  },
  {
   "cell_type": "code",
   "execution_count": null,
   "metadata": {
    "collapsed": true
   },
   "outputs": [],
   "source": []
  },
  {
   "cell_type": "code",
   "execution_count": null,
   "metadata": {
    "collapsed": false
   },
   "outputs": [],
   "source": [
    "# function generate_transition_matrix(t::TwoLevel,alpha,beta)\n",
    "#     p_plus_arr = zeros(t.m+1)\n",
    "#     p_minus_arr = zeros(t.m+1)\n",
    "\n",
    "#     for idx = 1:(t.m + 1)\n",
    "#         j = idx-1\n",
    "#         p_plus_arr[idx] = p_j_plus(t,j,alpha)\n",
    "#         p_minus_arr[idx] = p_j_minus(t,j,beta)\n",
    "#     end\n",
    "\n",
    "# #     gamma = sum(p_plus_arr)/sum(p_minus_arr)\n",
    "# #     p_minus_arr *= gamma\n",
    "    \n",
    "#     p_minus_arr /= sum(p_minus_arr)\n",
    "#     p_plus_arr /= sum(p_plus_arr)\n",
    "    \n",
    "    \n",
    "    \n",
    "#     println(\"gamma = $gamma\")\n",
    "\n",
    "#     transition_matrix = zeros(t.m+1,t.m+1)\n",
    "#     for row = 1:(t.m+1)\n",
    "#         for col = 1:(t.m+1)\n",
    "#             if row == col\n",
    "#                 transition_matrix[row,col] = -p_minus_arr[row] - p_plus_arr[row]\n",
    "#             elseif row+1 == col\n",
    "#                 transition_matrix[row,col] += p_minus_arr[row+1]\n",
    "#             elseif row-1 == col\n",
    "#                 transition_matrix[row,col] += p_plus_arr[row-1]\n",
    "#             end\n",
    "#         end\n",
    "#     end\n",
    "#     return transition_matrix\n",
    "# end\n",
    "# transition_matrix = generate_transition_matrix(t,alpha,beta)\n",
    "#sum(transition_matrix,1)\n",
    "\n",
    "\n",
    "# equilibrium_distribution1 = nullspace(transition_matrix)\n",
    "# equilibrium_distribution1 *= t.n/sum(equilibrium_distribution)\n"
   ]
  }
 ],
 "metadata": {
  "kernelspec": {
   "display_name": "Julia 0.4.3",
   "language": "julia",
   "name": "julia-0.4"
  },
  "language_info": {
   "file_extension": ".jl",
   "mimetype": "application/julia",
   "name": "julia",
   "version": "0.4.3"
  }
 },
 "nbformat": 4,
 "nbformat_minor": 0
}
