{
 "metadata": {
  "name": "",
  "signature": "sha256:e32bacf418c13e483eed91b88c7a51867ed6a9b1ee04da9bb93e1601850fadf3"
 },
 "nbformat": 3,
 "nbformat_minor": 0,
 "worksheets": [
  {
   "cells": [
    {
     "cell_type": "code",
     "collapsed": false,
     "input": [
      "import pandas as pd\n",
      "import os"
     ],
     "language": "python",
     "metadata": {},
     "outputs": [],
     "prompt_number": 1
    },
    {
     "cell_type": "code",
     "collapsed": false,
     "input": [
      "path = '../data/'\n",
      "foldernames = ['080327','0222']\n",
      "filenames = ['0','1','2','3','4']\n",
      "df_list = []\n",
      "for folder in foldernames:\n",
      "    for name in filenames:\n",
      "        full_name = path+folder + '/' + name + '.txt'\n",
      "        if os.path.isfile(full_name):\n",
      "            df = pd.read_csv(full_name,sep='\\t',header=0,names = ['id','uploader','age','category','length','views'],usecols=[0,1,2,3,4,5])\n",
      "            df_list.append(df)\n",
      "df = pd.concat(df_list)\n",
      "views = array(df['views'])"
     ],
     "language": "python",
     "metadata": {},
     "outputs": [],
     "prompt_number": 2
    },
    {
     "cell_type": "code",
     "collapsed": false,
     "input": [
      "figure(2)\n",
      "nums,bins,_ = hist(views[~ isnan(views)][:-1],bins=np.logspace(0,log10(max(views)),200),log=True,normed=True)\n",
      "gca().set_xscale(\"log\")\n",
      "plot(bins,1e1*(1.0*bins/bins[1])**(-3.0/2))"
     ],
     "language": "python",
     "metadata": {},
     "outputs": [
      {
       "metadata": {},
       "output_type": "pyout",
       "prompt_number": 21,
       "text": [
        "[<matplotlib.lines.Line2D at 0x1c381090>]"
       ]
      }
     ],
     "prompt_number": 21
    },
    {
     "cell_type": "code",
     "collapsed": false,
     "input": [
      "close(1)\n",
      "figure(1)\n",
      "views1 = views[~ isnan(views)]\n",
      "views1 = views1[views1<1e7]\n",
      "nums,bins,_ = hist(views1,bins=np.linspace(0,max(views1),1000),log=True,normed=True,label='youtube views')\n",
      "gca().set_xscale(\"log\")\n",
      "plot(bins,0.5*sqrt(nums[0]*nums[1])*(1.0*bins/bins[1])**(-1.5),label=r'$v^{-2.3}$')\n",
      "xlabel('views ($v$)',size=20)\n",
      "ylabel('frequency')\n",
      "legend(prop={'size':20})"
     ],
     "language": "python",
     "metadata": {},
     "outputs": [
      {
       "metadata": {},
       "output_type": "pyout",
       "prompt_number": 16,
       "text": [
        "<matplotlib.legend.Legend at 0x18a26f50>"
       ]
      }
     ],
     "prompt_number": 16
    },
    {
     "cell_type": "code",
     "collapsed": false,
     "input": [
      "nums,bins,_ = hist(views[~isnan(views)],bins=100,log=True)\n",
      "plot(bins,nums[1]*(1.0*bins/bins[1])**(-4.0/2))"
     ],
     "language": "python",
     "metadata": {},
     "outputs": [
      {
       "metadata": {},
       "output_type": "pyout",
       "prompt_number": 113,
       "text": [
        "[<matplotlib.lines.Line2D at 0x179e35d0>]"
       ]
      }
     ],
     "prompt_number": 113
    },
    {
     "cell_type": "code",
     "collapsed": false,
     "input": [
      "len(views)"
     ],
     "language": "python",
     "metadata": {},
     "outputs": [
      {
       "metadata": {},
       "output_type": "pyout",
       "prompt_number": 137,
       "text": [
        "1059357"
       ]
      }
     ],
     "prompt_number": 137
    },
    {
     "cell_type": "code",
     "collapsed": false,
     "input": [
      "df['views'][df['category']]"
     ],
     "language": "python",
     "metadata": {},
     "outputs": [
      {
       "metadata": {},
       "output_type": "pyout",
       "prompt_number": 22,
       "text": [
        "0                    Comedy\n",
        "1           News & Politics\n",
        "2                     Music\n",
        "3           News & Politics\n",
        "4                    Comedy\n",
        "5                    Comedy\n",
        "6           News & Politics\n",
        "7      Science & Technology\n",
        "8                    Comedy\n",
        "9             Entertainment\n",
        "10    Nonprofits & Activism\n",
        "11     Science & Technology\n",
        "12     Science & Technology\n",
        "13                    Music\n",
        "14           People & Blogs\n",
        "...\n",
        "514113              Music\n",
        "514114              Music\n",
        "514115              Music\n",
        "514116             Sports\n",
        "514117             Sports\n",
        "514118             Sports\n",
        "514119             Sports\n",
        "514120      Entertainment\n",
        "514121    News & Politics\n",
        "514122    News & Politics\n",
        "514123    News & Politics\n",
        "514124    News & Politics\n",
        "514125    News & Politics\n",
        "514126              Music\n",
        "514127    News & Politics\n",
        "Name: category, Length: 1059357, dtype: object"
       ]
      }
     ],
     "prompt_number": 22
    },
    {
     "cell_type": "code",
     "collapsed": false,
     "input": [],
     "language": "python",
     "metadata": {},
     "outputs": []
    }
   ],
   "metadata": {}
  }
 ]
}