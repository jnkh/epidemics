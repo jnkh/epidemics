{
 "cells": [
  {
   "cell_type": "markdown",
   "metadata": {},
   "source": [
    "# Theory\n"
   ]
  },
  {
   "cell_type": "markdown",
   "metadata": {},
   "source": [
    "We imagine a collection of Erdos-Renyi Random Graphs.\n",
    "\n",
    "Want to calculate the probability distribution of the distribution of infecteds $x$ among the different graphs, given the overall fraction of infected $y$.\n",
    "\n",
    "If we let $x_i$ be the fraction of infecteds in subgraph $i$, we expect a universal probability distribution $P(x_i | y)$. Due to symmetry, we further expect $P(x_i | y) = P(x|y)$ to be independent of $i$.\n",
    "\n",
    "If we assume stationarity, we can find an equilibrium distribution $P(x | y)$. I.e. we assume an overal prevalence $y$ of infecteds, and conditioned on this $y$ find which stationary distribution of $x$ emerges.\n",
    "\n",
    "Given $P(x | y)$ we can calculate $<x>$ and $<x^2>$, which gives us an $s_{eff}(x)$ in each of the subgraphs. \n",
    "\n",
    "We expect $x$ to be concentrated as $y$ is small, and then we expect it to gradually spread out as $y$ becomes larger."
   ]
  },
  {
   "cell_type": "markdown",
   "metadata": {},
   "source": [
    "## Stationary Distribution $P(x | y)$\n",
    "\n",
    "Assume we have a regular two-level erdos-renyi graph with N total nodes. There are $n$ subgraphs of $m$ nodes each. Each node has $r$ connections randomly among all other subgraphs and $l$ connections randomly among its own subgraph.\n",
    "\n",
    "We assume that for each individual independently\n",
    "\n",
    "$$P_{death} \\sim N \\bar{y} (1 - y) (1 + \\beta)$$\n",
    "$$P_{birth} \\sim N y (1 - \\bar{y}) (1 + \\alpha y)$$\n",
    "\n",
    "$y$ stands for the local density, whereas $\\bar{y}$ stands for the average density throughout the entire graph.\n",
    "The $y (1 - y)$ terms arise in different ways. In the death process, we require an infected to die ($\\bar{y}$) pick the type (infected or susceptible) from a random neighbor upon death ($1 - y$). For the birth process, we need to be susceptible ($1 - \\bar{y}$) in order to undergo birth in the first place. However we have an independent probability from each neighbor of being infected ($y$). If we want to find the expectation of these quantities, we need\n",
    "\n",
    "$$N_{death} \\sim N \\bar{y} (1 - <y>) (1 + \\beta)$$\n",
    "$$N_{birth} \\sim N (1 - \\bar{y}) (<y> + \\alpha <y^2>)$$\n",
    "\n",
    "per individual, we have\n",
    "\n",
    "$$P_{death} \\sim (1 - <y>) (1 + \\beta)$$\n",
    "$$P_{birth} \\sim (<y> + \\alpha <y^2>)$$\n",
    "\n",
    "Due to the nonlinearity, we need the expectation of $<y^2>$ as well.\n",
    "\n",
    "Now describe our system by a vector $\\vec{a} = (a_0, a_1, ... , a_m)$ Where $a_j$ describes the number of subgraphs with $j$ infecteds. We of course only have $n$ subnodes, which requires\n",
    "$$\\sum_{j = 0}^m a_j = n $$\n",
    "Since we must have $N y$ infecteds total, this requires a normalization\n",
    "$$\\sum_{j = 0}^m j a_j = N y$$\n",
    "\n",
    "We imagine a stationary process where we randomly remove one infected individual and then randomly add one infected invidual. This process should relax to an equilibrium distribution"
   ]
  },
  {
   "cell_type": "markdown",
   "metadata": {},
   "source": [
    "### Transition probabilities\n",
    "\n",
    "Let us consider a node in a subgraph with $j$ total infecteds. This node has degree $r + l$. Let us find out $y$. We know inside the subgraph the prevalence is $\\frac{j}{m}$. Outside, the prevalence is $\\bar{y}$. Thus, we have $y = \\frac{i_r + i_l}{r + l}$, where $i_r$ and $i_l$ are binomially distributed random variables:\n",
    "$$i_l \\sim Binom(l,\\frac{j}{m})$$\n",
    "$$i_r \\sim Binom(r,\\bar{y})$$\n",
    "\n",
    "With means $<i_l> = \\frac{l j}{m}$ and $<i_r> = r \\bar{y}$. Thus we have $$y_{local} = y = \\frac{l \\frac{j}{m} +r \\bar{y}}{l  + r}$$\n",
    "in expectation. If the nodes is itself infected, it is part of the $j$ nodes, so we would really have\n",
    "$$y_{local} = y = \\frac{l \\frac{j-1}{m} +r \\bar{y}}{l  + r}$$ in that case.\n",
    "\n",
    "For $<y^2>$ we have \n",
    "$$<y^2> = \\left< \\frac{i_r^2 + i_r i_l + i_l^2}{(r + l)^2} \\right> = \n",
    "\\frac{<i_r^2> + <i_l^2> + <i_r><i_l>}{(r + l)^2} = \\frac{r \\bar{y} ((r - 1) \\bar{y} + 1) + l \\frac{j}{m}((l - 1) \\frac{j}{m} + 1) + l r \\frac{j}{m} \\bar{y}}{(r + l)^2} $$\n",
    "\n",
    "We have $Var[x] = E[x^2] - E[x]^2$ For the binomial distribution,\n",
    "$E[x^2] = Var[x] + E[x]^2 = n p (1 - p)  + n^2 p^2 = n p ((n - 1) p + 1)$\n",
    "\n",
    "Now consider an individual in a subgraph with $j$ infecteds. If he is infected, his probability of being removed ($a_j -= 1$, $a_{j - 1} += 1$)is\n",
    "\n",
    "$$a_j j <P_{death,j}> =  a_j j (1 - <y_j>) (1 + \\beta)$$\n",
    "\n",
    "If he is susceptible, his probability of being added is\n",
    "\n",
    "$$ a_j (m - j) <P_{birth,j}> = (<y_j> + \\alpha <y_j^2>) $$\n",
    "\n",
    "We develop a markov chain where we apply one birth and one death process simultaneously and then observe the resulting equilibrium distribution."
   ]
  },
  {
   "cell_type": "markdown",
   "metadata": {},
   "source": [
    "## TODO\n",
    "\n",
    "- Run simulations of actual two-level Erdos-Renyi random graphs\n",
    "- Compare these simulations with the stationary process and see if the observed distribution $P(x | y)$ matches."
   ]
  },
  {
   "cell_type": "code",
   "execution_count": 2,
   "metadata": {
    "collapsed": false
   },
   "outputs": [],
   "source": [
    "using StatsBase, PyPlot, Distributions, LightGraphs"
   ]
  },
  {
   "cell_type": "code",
   "execution_count": 7,
   "metadata": {
    "collapsed": false
   },
   "outputs": [
    {
     "data": {
      "text/plain": [
       "death_get_number_weight (generic function with 1 method)"
      ]
     },
     "execution_count": 7,
     "metadata": {},
     "output_type": "execute_result"
    }
   ],
   "source": [
    "type TwoLevel\n",
    "    a::Array{Int,1} #number communities with [idx] infected nodes\n",
    "    N::Int #total number of nodes\n",
    "    m::Int #number of nodes per community\n",
    "    n::Int #number of communities\n",
    "    i::Int #total number of infecteds\n",
    "    r::Int #outside connections\n",
    "    l::Int #internal connections\n",
    "    \n",
    "end\n",
    "    \n",
    "function TwoLevel(N::Int,m::Int)\n",
    "    a = zeros(Int,m+1)\n",
    "    n = Int(N/m)\n",
    "    l = Int(m/2)\n",
    "    r = Int(m/2)\n",
    "    i = 0\n",
    "    return TwoLevel(a,N,m,n,i,r,l)\n",
    "end\n",
    "\n",
    "\n",
    "function TwoLevel(N::Int,m::Int,l::Int,r::Int)\n",
    "    a = zeros(Int,m+1)\n",
    "    n = Int(N/m)\n",
    "    i = 0\n",
    "    return TwoLevel(a,N,m,n,i,r,l)\n",
    "end\n",
    "\n",
    "\n",
    "\n",
    "function is_valid(t::TwoLevel)\n",
    "    #check normalization\n",
    "    valid = true\n",
    "    valid = valid && sum(t.a) == t.n\n",
    "    valid = valid && sum(t.a .*collect(0:t.m)) == t.i\n",
    "    return valid\n",
    "end\n",
    "\n",
    "function get_num_infected(t::TwoLevel)\n",
    "    return sum(t.a .* collect(0:t.m))\n",
    "end\n",
    "\n",
    "function distribute_randomly(t::TwoLevel,n::Int)\n",
    "    indeces = rand(1:length(t.a),n)\n",
    "    for idx in indeces\n",
    "        t.a[idx] +=1\n",
    "    end\n",
    "    t.n = sum(t.a)\n",
    "    t.i = get_num_infected(t)\n",
    "end\n",
    "\n",
    "function make_consistent(t::TwoLevel)\n",
    "    t.n = sum(t.a)\n",
    "    t.i = get_num_infected(t)\n",
    "end\n",
    "\n",
    "#implement the MCMC exploration of the state space\n",
    "\n",
    "##TODO: successive steps, not same time steps.\n",
    "\n",
    "function run_mcmc_transition(t::TwoLevel,death_fn::Function,birth_fn::Function,plotting=false)\n",
    "    death_probs = zeros(t.m)\n",
    "    birth_probs = zeros(t.m)\n",
    "\n",
    "    #birth\n",
    "    for j = 1:t.m\n",
    "        birth_probs[j] = birth_fn(t,j)\n",
    "    end\n",
    "    \n",
    "    birth_idx = StatsBase.sample(WeightVec(birth_probs))\n",
    "    birth_at(t,birth_idx)\n",
    "    \n",
    "    #death\n",
    "    for j = 1:t.m\n",
    "        death_probs[j] = death_fn(t,j)\n",
    "    end\n",
    "    death_idx = StatsBase.sample(WeightVec(death_probs))\n",
    "    death_at(t,death_idx)\n",
    "    \n",
    "\n",
    "#     semilogy(birth_probs/death_probs)\n",
    "#     println(birth_probs)\n",
    "#     println(death_probs)\n",
    "end\n",
    "\n",
    "function birth_at(t::TwoLevel,idx::Int)\n",
    "    t.a[idx] -= 1\n",
    "    t.a[idx+1] += 1\n",
    "end\n",
    "\n",
    "function death_at(t::TwoLevel,idx::Int)\n",
    "    t.a[idx+1] -= 1\n",
    "    t.a[idx] += 1\n",
    "end\n",
    "\n",
    "function birth_fn(t::TwoLevel,j::Int,alpha=1.0)\n",
    "    number_weight = birth_get_number_weight(t,j)\n",
    "    \n",
    "    y_global = t.i/t.N\n",
    "    y_local = (t.l*j/t.m + r*y_global)/(t.r + t.l)\n",
    "    y_squared_local = (t.r*y_global*((t.r - 1)* y_global + 1) + t.l*j/t.m*((t.l - 1)*j/t.m + 1) + t.l* t.r* j/t.m* y_global)/(t.r + t.l)^2 \n",
    "    \n",
    "    return number_weight*(y_local + alpha*y_squared_local)\n",
    "    \n",
    "end\n",
    "    \n",
    "function death_fn(t::TwoLevel,j::Int,beta=0.1)\n",
    "    number_weight = death_get_number_weight(t,j)\n",
    "    y_global = t.i/t.N\n",
    "    y_local = (t.l*(j-1)/t.m + r*y_global)/(t.r + t.l)\n",
    "    \n",
    "    return number_weight*(1 - y_local)*(1 + beta)\n",
    "    \n",
    "end\n",
    "\n",
    "function birth_get_number_weight(t::TwoLevel,j::Int)\n",
    "    return t.a[j]*(t.m-(j-1))\n",
    "end\n",
    "\n",
    "function death_get_number_weight(t::TwoLevel,j::Int)\n",
    "    return t.a[j+1]*(j)\n",
    "end\n",
    "\n"
   ]
  },
  {
   "cell_type": "code",
   "execution_count": 88,
   "metadata": {
    "collapsed": false
   },
   "outputs": [
    {
     "name": "stdout",
     "output_type": "stream",
     "text": [
      "N=20, alpha = 4.444444444444445, beta = 2.2222222222222223\n"
     ]
    },
    {
     "data": {
      "text/plain": [
       "true"
      ]
     },
     "execution_count": 88,
     "metadata": {},
     "output_type": "execute_result"
    },
    {
     "name": "stdout",
     "output_type": "stream",
     "text": [
      "[5,0,0,0,0] 5\n",
      "0.0\n"
     ]
    }
   ],
   "source": [
    "k = 4\n",
    "#y_n = 0.1\n",
    "c_r = 0.18\n",
    "N = 20#400\n",
    "n_n = 10#y_n*N\n",
    "beta = 4.0/(c_r*n_n)\n",
    "alpha = (N*beta)/n_n\n",
    "println(\"N=$N, alpha = $alpha, beta = $beta\")\n",
    "\n",
    "\n",
    "#Generate a random startin vector\n",
    "m = 4#40\n",
    "n = Int(N/m)\n",
    "l = 1#Int(m/2)#internal\n",
    "r = 1#Int(m/2)#2 #external\n",
    "\n",
    "t = TwoLevel(N,m,l,r)\n",
    "\n",
    "y_desired = 0.2\n",
    "#distribute_randomly(t,n)\n",
    "t.a[max(1,Int(round(y_desired*t.m)))] = t.n\n",
    "make_consistent(t)\n",
    "i = get_num_infected(t)\n",
    "println(t.a,\" \", sum(t.a))\n",
    "println(t.i/t.N)\n",
    "is_valid(t)"
   ]
  },
  {
   "cell_type": "code",
   "execution_count": 511,
   "metadata": {
    "collapsed": false
   },
   "outputs": [
    {
     "name": "stdout",
     "output_type": "stream",
     "text": [
      "TwoLevel("
     ]
    },
    {
     "data": {
      "image/png": "[encoded data removed]",
      "text/plain": [
       "PyPlot.Figure(PyObject <matplotlib.figure.Figure object at 0x32a10e190>)"
      ]
     },
     "metadata": {},
     "output_type": "display_data"
    },
    {
     "data": {
      "image/png": "[encoded data removed]",
      "text/plain": [
       "PyPlot.Figure(PyObject <matplotlib.figure.Figure object at 0x325cc0190>)"
      ]
     },
     "metadata": {},
     "output_type": "display_data"
    },
    {
     "name": "stdout",
     "output_type": "stream",
     "text": [
      "[1,1,1,2,0,0,0,1,0,1,0,0,0,1,0,1,0,1,0,0,0,0,0,0,0,0,0,0,0,0,0,0,0,0,0,0,0,0,0,0,0],400,40,10,70,16,20)\n"
     ]
    }
   ],
   "source": [
    "accum = zeros(t.a)\n",
    "dfn(x) = 1\n",
    "bfn(x) = 1\n",
    "plot(t.a)\n",
    "num_trials = 100000\n",
    "for i = 1:num_trials\n",
    "    run_mcmc_transition(t,((x,y) -> death_fn(x,y,beta)),((x,y) -> birth_fn(x,y,alpha)),true)\n",
    "accum += t.a\n",
    "end\n",
    "accum /= num_trials\n",
    "figure()\n",
    "plot(accum,\"r\")\n",
    "# accum *= 0\n",
    "# for i = 1:num_trials\n",
    "#     run_mcmc_transition(t,death_get_number_weight,birth_get_number_weight)\n",
    "# accum += t.a\n",
    "# end\n",
    "# accum /= num_trials\n",
    "# plot(accum,\"g\")\n",
    "# accum *= 0\n",
    "# for i = 1:num_trials\n",
    "#     run_mcmc_transition(t,((x,y) -> death_fn(x,y,beta)),((x,y) -> birth_fn(x,y,alpha)))\n",
    "# accum += t.a\n",
    "# end\n",
    "# accum /= num_trials\n",
    "# plot(accum,\"k\")\n",
    "println(t)\n"
   ]
  },
  {
   "cell_type": "markdown",
   "metadata": {},
   "source": [
    "Simulation Strategy: first burn in the distribution with neutral transition probabilities to sample different starting configurations. Then apply real transition functions to sample the distribution."
   ]
  },
  {
   "cell_type": "markdown",
   "metadata": {},
   "source": [
    "## Graph generation"
   ]
  },
  {
   "cell_type": "markdown",
   "metadata": {},
   "source": [
    "We wish to generate two-level Erdos-Renyi random graphs. The central idea is that each individual subgraph is a simple ER random graph. These can be produced independently. Moreover, we can then view each subgraph as a supernode and produce another ER random graph connecting these super nodes with the appropriate amount of edges. In the final step we then uniformly distribute the edges between the super nodes among the actual nodes that make up the super nodes."
   ]
  },
  {
   "cell_type": "code",
   "execution_count": 5,
   "metadata": {
    "collapsed": false
   },
   "outputs": [],
   "source": [
    "using LightGraphs"
   ]
  },
  {
   "cell_type": "code",
   "execution_count": 90,
   "metadata": {
    "collapsed": false
   },
   "outputs": [
    {
     "data": {
      "text/plain": [
       "sample_in_edges (generic function with 1 method)"
      ]
     },
     "execution_count": 90,
     "metadata": {},
     "output_type": "execute_result"
    }
   ],
   "source": [
    "type TwoLevelGraph\n",
    "    g::LightGraphs.Graph\n",
    "    t::TwoLevel\n",
    "    clusters::Array{Array{Int,1},1}\n",
    "end\n",
    "\n",
    "function TwoLevelGraph(t::TwoLevel)\n",
    "    g,clusters = make_two_level_random_graph(t)\n",
    "    return TwoLevelGraph(g,t,clusters)\n",
    "end\n",
    "\n",
    "#This only works in an unbiased way if the subgraphs have the same sizes.\n",
    "function make_two_level_random_graph(t::TwoLevel)\n",
    "    g = LightGraphs.Graph(t.N)\n",
    "    \n",
    "    ##produce clusters\n",
    "    clusters = [Int[] for _ in 1:t.n]\n",
    "    node_idx = 1\n",
    "    for clust = 1:n\n",
    "        for idx = 1:m\n",
    "            push!(clusters[clust],node_idx)\n",
    "            node_idx += 1\n",
    "        end\n",
    "    end\n",
    "    \n",
    "    #get intra-cluster edges\n",
    "    edges = []\n",
    "    for clust in clusters\n",
    "        edges = vcat(edges,get_edges_for_subgraph(clust,num_internal_edges(clust,t)))\n",
    "    end\n",
    "    \n",
    "    #get between-cluster edges\n",
    "    edges = vcat(edges,get_edges_for_supergraph(clusters,num_external_edges(clusters,t)))\n",
    "\n",
    "    for e in edges\n",
    "        add_edge!(g,e)\n",
    "    end\n",
    "#     end\n",
    "    return g,clusters\n",
    "end\n",
    "\n",
    "function get_edges_for_supergraph(clusters::Array{Array{Int,1},1},num_edges::Int)\n",
    "    possible_edges = []\n",
    "    for i = 1:length(clusters)\n",
    "        for j = i+1:length(clusters)\n",
    "            push!(possible_edges,Pair(i,j))\n",
    "        end\n",
    "    end\n",
    "    super_edges = sample(possible_edges,num_edges)\n",
    "    edges = []\n",
    "    for se in super_edges\n",
    "        e = Pair(sample(clusters[se[1]]),sample(clusters[se[2]]))\n",
    "        push!(edges,e)\n",
    "    end\n",
    "    return edges\n",
    "end\n",
    "    \n",
    "    \n",
    "function num_internal_edges(cluster::Array{Int,1},t::TwoLevel)\n",
    "    num_desired = Int(length(cluster)*t.l/2)\n",
    "    num_trials = Int(length(cluster)*(length(cluster) - 1)/2)\n",
    "    total_edges = rand(Binomial(num_trials,num_desired/num_trials))\n",
    "    println(total_edges, \" \",num_trials, \" \", num_desired/num_trials)\n",
    "    #total_edges = num_desired #size of cluster times number of internal edges per node\n",
    "    return total_edges\n",
    "end\n",
    "\n",
    "function num_external_edges(clusters::Array{Array{Int,1},1},t::TwoLevel)\n",
    "    num_desired = Int(t.N*t.r/2)\n",
    "    num_trials = Int(t.N*(t.N-1)/2)\n",
    "    total_edges = rand(Binomial(num_trials,num_desired/num_trials))\n",
    "    #total_edges = num_desired\n",
    "    return total_edges\n",
    "end\n",
    "\n",
    "function get_edges_for_subgraph(cluster::Array{Int,1},num_edges::Int)\n",
    "    g = LightGraphs.erdos_renyi(length(cluster),num_edges)\n",
    "    edges = collect(LightGraphs.edges(g))\n",
    "    new_edges = copy(edges)\n",
    "    for (i,e) in enumerate(edges)\n",
    "        new_edges[i] = Pair(cluster[e[1]],cluster[e[2]])\n",
    "    end\n",
    "    return new_edges\n",
    "end\n",
    "\n",
    "function get_edges_for_subgraph(cluster::Array{Int,1},p_edges::Float64)\n",
    "    g = LightGraphs.erdos_renyi(length(cluster),p_edges)\n",
    "    edges = collect(LightGraphs.edges(g))\n",
    "    new_edges = copy(edges)\n",
    "    for (i,e) in enumerate(edges)\n",
    "        new_edges[i] = Pair(cluster[e[1]],cluster[e[2]])\n",
    "    end\n",
    "    return new_edges\n",
    "end\n",
    "\n",
    "function get_in_degree(clusters::Array{Array{Int,1},1},node::Int,g::LightGraphs.Graph)\n",
    "    cluster_idx = get_cluster_idx(clusters,node)\n",
    "    neighbors = neighbors(g,node)\n",
    "    in_nodes = get_in_nodes(clusters,node)\n",
    "    return length(intersect(neighbors,in_nodes))\n",
    "end\n",
    "\n",
    "function get_out_degree(clusters::Array{Array{Int,1},1},node::Int,g::LightGraphs.Graph)\n",
    "    cluster_idx = get_cluster_idx(clusters,node)\n",
    "    neighbors = neighbors(g,node)\n",
    "    out_nodes = get_out_nodes(clusters,node)\n",
    "    return length(intersect(neighbors,out_nodes))\n",
    "end\n",
    "\n",
    "function get_cluster_idx(clusters::Array{Array{Int,1},1},node::Int)\n",
    "    return filter(x -> node in clusters[x],[idx for idx in 1:length(clusters)])[1]\n",
    "end\n",
    "\n",
    "\n",
    "        \n",
    "function get_in_nodes(clusters::Array{Array{Int,1},1},node::Int)\n",
    "    cluster_idx = get_cluster_idx(clusters,node)   \n",
    "    to_sample = copy(clusters[cluster_idx])\n",
    "    self_idx = findfirst(to_sample,node)\n",
    "    splice!(to_sample,self_idx)\n",
    "    return to_sample\n",
    "end\n",
    "\n",
    "function get_out_nodes(clusters::Array{Array{Int,1},1},node::Int)\n",
    "    cluster_idx = get_cluster_idx(clusters,node)   \n",
    "    clusters = copy(clusters)\n",
    "    splice!(clusters,cluster_idx)\n",
    "    to_sample = vcat(clusters...)\n",
    "    return to_sample\n",
    "end\n",
    "\n",
    "\n",
    "function sample_out_edges(clusters::Array{Array{Int,1},1},node::Int,num::Int)\n",
    "    to_sample = get_out_nodes(clusters,node)\n",
    "    return sample(to_sample,num,replace=false)\n",
    "end\n",
    "\n",
    "function sample_in_edges(clusters::Array{Array{Int,1},1},node::Int,num::Int)\n",
    "    to_sample = get_in_nodes(clusters,node)\n",
    "    return sample(to_sample,num,replace=false)\n",
    "end"
   ]
  },
  {
   "cell_type": "code",
   "execution_count": 65,
   "metadata": {
    "collapsed": false
   },
   "outputs": [
    {
     "data": {
      "text/plain": [
       "TwoLevelGraph({20, 20} undirected graph,TwoLevel([10,0,0],20,2,10,0,1,1),[[1,2],[3,4],[5,6],[7,8],[9,10],[11,12],[13,14],[15,16],[17,18],[19,20]])"
      ]
     },
     "execution_count": 65,
     "metadata": {},
     "output_type": "execute_result"
    }
   ],
   "source": [
    "TwoLevelGraph(t)"
   ]
  },
  {
   "cell_type": "code",
   "execution_count": 74,
   "metadata": {
    "collapsed": false
   },
   "outputs": [
    {
     "data": {
      "text/plain": [
       "1"
      ]
     },
     "execution_count": 74,
     "metadata": {},
     "output_type": "execute_result"
    }
   ],
   "source": [
    "rand(Binomial(5,0.2))"
   ]
  },
  {
   "cell_type": "code",
   "execution_count": 94,
   "metadata": {
    "collapsed": false
   },
   "outputs": [
    {
     "name": "stdout",
     "output_type": "stream",
     "text": [
      "0 6 0.3333333333333333\n",
      "3 6 0.3333333333333333\n",
      "3 6 0.3333333333333333\n",
      "3 6 0.3333333333333333\n",
      "2 6 0.3333333333333333\n",
      "[1,1,1,1,3,1,4,2,3,4,1,3,3,2,1,3,3,2,2,1]2.1\n",
      "i: 1, [5])\n",
      "i: 2, [10])\n",
      "i: 3, [13])\n",
      "i: 4, [10])\n",
      "i: 5, [1,7,8])\n",
      "i: 6, [8])\n",
      "i: 7, [5,9,14,19])\n",
      "i: 8, [5,6])\n",
      "i: 9, [7,11,12])\n",
      "i: 10, [2,4,12,18])\n",
      "i: 11, [9])\n",
      "i: 12, [9,10,18])\n",
      "i: 13, [3,15,16])\n",
      "i: 14, [7,16])\n",
      "i: 15, [13])\n",
      "i: 16, [13,14,17])\n",
      "i: 17, [16,19,20])\n",
      "i: 18, [10,12])\n",
      "i: 19, [7,17])\n",
      "i: 20, [17])\n"
     ]
    }
   ],
   "source": [
    "cs,_ = make_two_level_random_graph(t)\n",
    "#println(sort(sample_in_edges(cs,11,39)))\n",
    "#println(sample_out_edges(cs,11,40))\n",
    "println(degree(cs),mean(degree(cs)))\n",
    "for i in 1:t.N\n",
    "    println(\"i: $i, $(neighbors(cs,i)))\")\n",
    "end"
   ]
  },
  {
   "cell_type": "code",
   "execution_count": 92,
   "metadata": {
    "collapsed": false
   },
   "outputs": [
    {
     "name": "stdout",
     "output_type": "stream",
     "text": [
      "3 "
     ]
    },
    {
     "data": {
      "text/plain": [
       "({20, 24} undirected graph,[[1,2,3,4],[5,6,7,8],[9,10,11,12],[13,14,15,16],[17,18,19,20]])"
      ]
     },
     "execution_count": 92,
     "metadata": {},
     "output_type": "execute_result"
    },
    {
     "name": "stdout",
     "output_type": "stream",
     "text": [
      "6 0.3333333333333333\n",
      "2 6 0.3333333333333333\n",
      "3 6 0.3333333333333333\n",
      "4 6 0.3333333333333333\n",
      "4 6 0.3333333333333333\n"
     ]
    }
   ],
   "source": [
    "cs = make_two_level_random_graph(t)"
   ]
  },
  {
   "cell_type": "code",
   "execution_count": 142,
   "metadata": {
    "collapsed": false
   },
   "outputs": [
    {
     "data": {
      "text/plain": [
       "1-element Array{Int64,1}:\n",
       " 3"
      ]
     },
     "execution_count": 142,
     "metadata": {},
     "output_type": "execute_result"
    }
   ],
   "source": [
    "intersect([1,2,3],[3,4,5])"
   ]
  },
  {
   "cell_type": "code",
   "execution_count": 90,
   "metadata": {
    "collapsed": false
   },
   "outputs": [
    {
     "data": {
      "text/plain": [
       "2"
      ]
     },
     "execution_count": 90,
     "metadata": {},
     "output_type": "execute_result"
    }
   ],
   "source": [
    "splice!([1,2,3],2)"
   ]
  },
  {
   "cell_type": "markdown",
   "metadata": {},
   "source": [
    "# Questions\n",
    "\n",
    "## What do we do with knowledge of $P(x | y)$? How do we calculate the dynamics from there\n",
    "## Make sure we have factors of $y (1 - y)$ correctly\n",
    "## what are we using as the transition probabilities? Should we just average over all possible values of $i_r$ and $i_l$?\n",
    "\n",
    "\n",
    "# TODO\n",
    "\n",
    "## Have simulations output a detailed history of which node was infected at what time. That can be used to find the prevalence in each community, given the clusters.\n",
    "\n",
    "## Implement a version with binomial sampling of edges intra-nodes and inter-nodes (so the numbers are not exact)"
   ]
  },
  {
   "cell_type": "code",
   "execution_count": null,
   "metadata": {
    "collapsed": true
   },
   "outputs": [],
   "source": []
  },
  {
   "cell_type": "code",
   "execution_count": null,
   "metadata": {
    "collapsed": true
   },
   "outputs": [],
   "source": []
  }
 ],
 "metadata": {
  "kernelspec": {
   "display_name": "Julia 0.4.3",
   "language": "julia",
   "name": "julia-0.4"
  },
  "language_info": {
   "file_extension": ".jl",
   "mimetype": "application/julia",
   "name": "julia",
   "version": "0.4.3"
  }
 },
 "nbformat": 4,
 "nbformat_minor": 0
}
