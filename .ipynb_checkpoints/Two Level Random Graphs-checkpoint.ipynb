{
 "cells": [
  {
   "cell_type": "markdown",
   "metadata": {},
   "source": [
    "# Theory\n"
   ]
  },
  {
   "cell_type": "markdown",
   "metadata": {},
   "source": [
    "We imagine a collection of Erdos-Renyi Random Graphs.\n",
    "\n",
    "Want to calculate the probability distribution of the distribution of infecteds $x$ among the different graphs, given the overall fraction of infected $y$.\n",
    "\n",
    "If we let $x_i$ be the fraction of infecteds in subgraph $i$, we expect a universal probability distribution $P(x_i | y)$. Due to symmetry, we further expect $P(x_i | y) = P(x|y)$ to be independent of $i$.\n",
    "\n",
    "If we assume stationarity, we can find an equilibrium distribution $P(x | y)$. I.e. we assume an overal prevalence $y$ of infecteds, and conditioned on this $y$ find which stationary distribution of $x$ emerges.\n",
    "\n",
    "Given $P(x | y)$ we can calculate $<x>$ and $<x^2>$, which gives us an $s_{eff}(x)$ in each of the subgraphs. \n",
    "\n",
    "We expect $x$ to be concentrated as $y$ is small, and then we expect it to gradually spread out as $y$ becomes larger."
   ]
  },
  {
   "cell_type": "markdown",
   "metadata": {},
   "source": [
    "## Stationary Distribution $P(x | y)$\n",
    "\n",
    "Assume we have a regular two-level erdos-renyi graph with N total nodes. There are $n$ subgraphs of $m$ nodes each. Each node has $r$ connections randomly among all other subgraphs and $l$ connections randomly among its own subgraph.\n",
    "\n",
    "We assume that for each individual independently\n",
    "\n",
    "$$P_{death} \\sim N \\bar{y} (1 - y) (1 + \\beta)$$\n",
    "$$P_{birth} \\sim N y (1 - \\bar{y}) (1 + \\alpha y)$$\n",
    "\n",
    "$y$ stands for the local density, whereas $\\bar{y}$ stands for the average density throughout the entire graph.\n",
    "The $y (1 - y)$ terms arise in different ways. In the death process, we require an infected to die ($\\bar{y}$) pick the type (infected or susceptible) from a random neighbor upon death ($1 - y$). For the birth process, we need to be susceptible ($1 - \\bar{y}$) in order to undergo birth in the first place. However we have an independent probability from each neighbor of being infected ($y$). If we want to find the expectation of these quantities, we need\n",
    "\n",
    "$$N_{death} \\sim N \\bar{y} (1 - <y>) (1 + \\beta)$$\n",
    "$$N_{birth} \\sim N (1 - \\bar{y}) (<y> + \\alpha <y^2>)$$\n",
    "\n",
    "per individual, we have\n",
    "\n",
    "$$P_{death} \\sim (1 - <y>) (1 + \\beta)$$\n",
    "$$P_{birth} \\sim (<y> + \\alpha <y^2>)$$\n",
    "\n",
    "Due to the nonlinearity, we need the expectation of $<y^2>$ as well.\n",
    "\n",
    "Now describe our system by a vector $\\vec{a} = (a_0, a_1, ... , a_m)$ Where $a_j$ describes the number of subgraphs with $j$ infecteds. We of course only have $n$ subnodes, which requires\n",
    "$$\\sum_{j = 0}^m a_j = n $$\n",
    "Since we must have $N y$ infecteds total, this requires a normalization\n",
    "$$\\sum_{j = 0}^m j a_j = N y$$\n",
    "\n",
    "We imagine a stationary process where we randomly remove one infected individual and then randomly add one infected invidual. This process should relax to an equilibrium distribution"
   ]
  },
  {
   "cell_type": "markdown",
   "metadata": {},
   "source": [
    "### Transition probabilities\n",
    "\n",
    "Let us consider a node in a subgraph with $j$ total infecteds. This node has degree $r + l$. Let us find out $y$. We know inside the subgraph the prevalence is $\\frac{j}{m}$. Outside, the prevalence is $\\bar{y}$. Thus, we have $y = \\frac{i_r + i_l}{r + l}$, where $i_r$ and $i_l$ are binomially distributed random variables:\n",
    "$$i_l \\sim Binom(l,\\frac{j}{m})$$\n",
    "$$i_r \\sim Binom(r,\\bar{y})$$\n",
    "\n",
    "With means $<i_l> = \\frac{l j}{m}$ and $<i_r> = r \\bar{y}$. Thus we have $$y_{local} = y = \\frac{l \\frac{j}{m} +r \\bar{y}}{l  + r}$$\n",
    "in expectation. If the nodes is itself infected, it is part of the $j$ nodes, so we would really have\n",
    "$$y_{local} = y = \\frac{l \\frac{j-1}{m} +r \\bar{y}}{l  + r}$$ in that case.\n",
    "\n",
    "For $<y^2>$ we have \n",
    "$$<y^2> = \\left< \\frac{i_r^2 + i_r i_l + i_l^2}{(r + l)^2} \\right> = \n",
    "\\frac{<i_r^2> + <i_l^2> + <i_r><i_l>}{(r + l)^2} = \\frac{r \\bar{y} ((r - 1) \\bar{y} + 1) + l \\frac{j}{m}((l - 1) \\frac{j}{m} + 1) + l r \\frac{j}{m} \\bar{y}}{(r + l)^2} $$\n",
    "\n",
    "We have $Var[x] = E[x^2] - E[x]^2$ For the binomial distribution,\n",
    "$E[x^2] = Var[x] + E[x]^2 = n p (1 - p)  + n^2 p^2 = n p ((n - 1) p + 1)$\n",
    "\n",
    "Now consider an individual in a subgraph with $j$ infecteds. If he is infected, his probability of being removed ($a_j -= 1$, $a_{j - 1} += 1$)is\n",
    "\n",
    "$$a_j j <P_{death,j}> =  a_j j (1 - <y_j>) (1 + \\beta)$$\n",
    "\n",
    "If he is susceptible, his probability of being added is\n",
    "\n",
    "$$ a_j (m - j) <P_{birth,j}> = (<y_j> + \\alpha <y_j^2>) $$\n",
    "\n",
    "We develop a markov chain where we apply one birth and one death process simultaneously and then observe the resulting equilibrium distribution."
   ]
  },
  {
   "cell_type": "markdown",
   "metadata": {},
   "source": [
    "## TODO\n",
    "\n",
    "- Run simulations of actual two-level Erdos-Renyi random graphs\n",
    "- Compare these simulations with the stationary process and see if the observed distribution $P(x | y)$ matches."
   ]
  },
  {
   "cell_type": "code",
   "execution_count": 2,
   "metadata": {
    "collapsed": false
   },
   "outputs": [],
   "source": [
    "push!(LOAD_PATH,pwd())\n",
    "using StatsBase, PyPlot, Distributions, LightGraphs, TwoLevelGraphs"
   ]
  },
  {
   "cell_type": "code",
   "execution_count": 3,
   "metadata": {
    "collapsed": false
   },
   "outputs": [
    {
     "data": {
      "text/plain": [
       "death_get_number_weight (generic function with 1 method)"
      ]
     },
     "execution_count": 3,
     "metadata": {},
     "output_type": "execute_result"
    }
   ],
   "source": [
    "\n",
    "#implement the MCMC exploration of the state space\n",
    "\n",
    "##TODO: successive steps, not same time steps.\n",
    "\n",
    "function run_mcmc_transition(t::TwoLevel,death_fn::Function,birth_fn::Function,plotting=false)\n",
    "    death_probs = zeros(t.m)\n",
    "    birth_probs = zeros(t.m)\n",
    "\n",
    "    #birth\n",
    "    for j = 1:t.m\n",
    "        birth_probs[j] = birth_fn(t,j)\n",
    "    end\n",
    "    \n",
    "    birth_idx = StatsBase.sample(WeightVec(birth_probs))\n",
    "    birth_at(t,birth_idx)\n",
    "    \n",
    "    #death\n",
    "    for j = 1:t.m\n",
    "        death_probs[j] = death_fn(t,j)\n",
    "    end\n",
    "    death_idx = StatsBase.sample(WeightVec(death_probs))\n",
    "    death_at(t,death_idx)\n",
    "    \n",
    "\n",
    "#     semilogy(birth_probs/death_probs)\n",
    "#     println(birth_probs)\n",
    "#     println(death_probs)\n",
    "end\n",
    "\n",
    "function birth_at(t::TwoLevel,idx::Int)\n",
    "    t.a[idx] -= 1\n",
    "    t.a[idx+1] += 1\n",
    "end\n",
    "\n",
    "function death_at(t::TwoLevel,idx::Int)\n",
    "    t.a[idx+1] -= 1\n",
    "    t.a[idx] += 1\n",
    "end\n",
    "\n",
    "function birth_fn(t::TwoLevel,j::Int,alpha=1.0)\n",
    "    number_weight = birth_get_number_weight(t,j)\n",
    "    \n",
    "    y_global = t.i/t.N\n",
    "    y_local = (t.l*j/t.m + r*y_global)/(t.r + t.l)\n",
    "    y_squared_local = (t.r*y_global*((t.r - 1)* y_global + 1) + t.l*j/t.m*((t.l - 1)*j/t.m + 1) + t.l* t.r* j/t.m* y_global)/(t.r + t.l)^2 \n",
    "    \n",
    "    return number_weight*(y_local + alpha*y_squared_local)\n",
    "    \n",
    "end\n",
    "    \n",
    "function death_fn(t::TwoLevel,j::Int,beta=0.1)\n",
    "    number_weight = death_get_number_weight(t,j)\n",
    "    y_global = t.i/t.N\n",
    "    y_local = (t.l*(j-1)/t.m + r*y_global)/(t.r + t.l)\n",
    "    \n",
    "    return number_weight*(1 - y_local)*(1 + beta)\n",
    "    \n",
    "end\n",
    "\n",
    "function birth_get_number_weight(t::TwoLevel,j::Int)\n",
    "    return t.a[j]*(t.m-(j-1))\n",
    "end\n",
    "\n",
    "function death_get_number_weight(t::TwoLevel,j::Int)\n",
    "    return t.a[j+1]*(j)\n",
    "end\n",
    "\n"
   ]
  },
  {
   "cell_type": "code",
   "execution_count": 4,
   "metadata": {
    "collapsed": false
   },
   "outputs": [
    {
     "name": "stdout",
     "output_type": "stream",
     "text": [
      "N=400, alpha = 88.88888888888889, beta = 2.2222222222222223\n",
      "[0,0,0,0,0,0,0,10,0,0,0,0,0,0,0,0,0,0,0,0,0,0,0,0,0,0,0,0,0,0,0,0,0,0,0,0,0,0,0,0,0] 10\n",
      "0.175"
     ]
    },
    {
     "data": {
      "text/plain": [
       "true"
      ]
     },
     "execution_count": 4,
     "metadata": {},
     "output_type": "execute_result"
    },
    {
     "name": "stdout",
     "output_type": "stream",
     "text": [
      "\n"
     ]
    }
   ],
   "source": [
    "k = 4\n",
    "#y_n = 0.1\n",
    "c_r = 0.18\n",
    "N = 400\n",
    "n_n = 10#y_n*N\n",
    "beta = 4.0/(c_r*n_n)\n",
    "alpha = (N*beta)/n_n\n",
    "println(\"N=$N, alpha = $alpha, beta = $beta\")\n",
    "\n",
    "\n",
    "#Generate a random startin vector\n",
    "m = 40\n",
    "n = Int(N/m)\n",
    "l = Int(m/2)#internal\n",
    "r = Int(m/2)#2 #external\n",
    "\n",
    "t = TwoLevel(N,m,l,r)\n",
    "\n",
    "y_desired = 0.2\n",
    "#distribute_randomly(t,n)\n",
    "t.a[max(1,Int(round(y_desired*t.m)))] = t.n\n",
    "make_consistent(t)\n",
    "i = get_num_infected(t)\n",
    "println(t.a,\" \", sum(t.a))\n",
    "println(t.i/t.N)\n",
    "is_valid(t)"
   ]
  },
  {
   "cell_type": "code",
   "execution_count": 511,
   "metadata": {
    "collapsed": false
   },
   "outputs": [
    {
     "name": "stdout",
     "output_type": "stream",
     "text": [
      "TwoLevel("
     ]
    },
    {
     "data": {
      "image/png": "[encoded data removed]",
      "text/plain": [
       "PyPlot.Figure(PyObject <matplotlib.figure.Figure object at 0x32a10e190>)"
      ]
     },
     "metadata": {},
     "output_type": "display_data"
    },
    {
     "data": {
      "image/png": "[encoded data removed]",
      "text/plain": [
       "PyPlot.Figure(PyObject <matplotlib.figure.Figure object at 0x325cc0190>)"
      ]
     },
     "metadata": {},
     "output_type": "display_data"
    },
    {
     "name": "stdout",
     "output_type": "stream",
     "text": [
      "[1,1,1,2,0,0,0,1,0,1,0,0,0,1,0,1,0,1,0,0,0,0,0,0,0,0,0,0,0,0,0,0,0,0,0,0,0,0,0,0,0],400,40,10,70,16,20)\n"
     ]
    }
   ],
   "source": [
    "accum = zeros(t.a)\n",
    "dfn(x) = 1\n",
    "bfn(x) = 1\n",
    "plot(t.a)\n",
    "num_trials = 100000\n",
    "for i = 1:num_trials\n",
    "    run_mcmc_transition(t,((x,y) -> death_fn(x,y,beta)),((x,y) -> birth_fn(x,y,alpha)),true)\n",
    "accum += t.a\n",
    "end\n",
    "accum /= num_trials\n",
    "figure()\n",
    "plot(accum,\"r\")\n",
    "# accum *= 0\n",
    "# for i = 1:num_trials\n",
    "#     run_mcmc_transition(t,death_get_number_weight,birth_get_number_weight)\n",
    "# accum += t.a\n",
    "# end\n",
    "# accum /= num_trials\n",
    "# plot(accum,\"g\")\n",
    "# accum *= 0\n",
    "# for i = 1:num_trials\n",
    "#     run_mcmc_transition(t,((x,y) -> death_fn(x,y,beta)),((x,y) -> birth_fn(x,y,alpha)))\n",
    "# accum += t.a\n",
    "# end\n",
    "# accum /= num_trials\n",
    "# plot(accum,\"k\")\n",
    "println(t)\n"
   ]
  },
  {
   "cell_type": "markdown",
   "metadata": {},
   "source": [
    "Simulation Strategy: first burn in the distribution with neutral transition probabilities to sample different starting configurations. Then apply real transition functions to sample the distribution."
   ]
  },
  {
   "cell_type": "markdown",
   "metadata": {},
   "source": [
    "## Graph generation"
   ]
  },
  {
   "cell_type": "markdown",
   "metadata": {},
   "source": [
    "We wish to generate two-level Erdos-Renyi random graphs. The central idea is that each individual subgraph is a simple ER random graph. These can be produced independently. Moreover, we can then view each subgraph as a supernode and produce another ER random graph connecting these super nodes with the appropriate amount of edges. In the final step we then uniformly distribute the edges between the super nodes among the actual nodes that make up the super nodes."
   ]
  },
  {
   "cell_type": "code",
   "execution_count": 10,
   "metadata": {
    "collapsed": false
   },
   "outputs": [
    {
     "ename": "LoadError",
     "evalue": "LoadError: UndefVarError: neighborsTwoLevelGraph not defined\nwhile loading In[10], in expression starting on line 1",
     "output_type": "error",
     "traceback": [
      "LoadError: UndefVarError: neighborsTwoLevelGraph not defined\nwhile loading In[10], in expression starting on line 1",
      ""
     ]
    }
   ],
   "source": [
    "TwoLevelGraph(t).g"
   ]
  },
  {
   "cell_type": "code",
   "execution_count": 74,
   "metadata": {
    "collapsed": false
   },
   "outputs": [
    {
     "data": {
      "text/plain": [
       "1"
      ]
     },
     "execution_count": 74,
     "metadata": {},
     "output_type": "execute_result"
    }
   ],
   "source": [
    "rand(Binomial(5,0.2))"
   ]
  },
  {
   "cell_type": "code",
   "execution_count": 9,
   "metadata": {
    "collapsed": false
   },
   "outputs": [
    {
     "name": "stdout",
     "output_type": "stream",
     "text": [
      "[43,44,36,44,37,51,40,45,38,39,35,42,40,37,45,41,45,27,39,42,45,32,37,41,38,31,43,34,40,39,40,37,35,38,45,28,40,40,38,26,43,36,44,47,42,45,42,37,47,37,39,34,42,38,47,43,36,29,46,48,39,28,38,36,44,40,44,46,45,40,44,42,39,40,39,34,41,50,42,42,32,43,37,48,25,42,42,49,41,44,43,37,44,38,37,49,38,30,39,40,41,36,40,37,41,40,37,30,46,43,42,44,32,43,38,30,40,44,44,36,35,39,32,43,38,39,37,39,34,34,37,36,44,46,45,42,49,33,42,40,43,33,34,40,34,44,52,38,47,41,47,40,33,40,35,37,34,43,45,34,38,44,45,47,37,44,43,45,37,41,30,39,40,36,42,40,34,39,48,40,37,36,36,40,33,44,37,50,38,33,37,44,36,39,46,32,38,45,35,39,34,41,35,43,38,37,42,46,38,48,31,38,39,35,47,37,42,37,43,45,42,28,31,40,37,38,39,46,51,43,41,41,46,42,36,27,47,36,34,32,36,47,37,43,44,41,48,47,43,45,47,37,50,37,39,48,37,35,37,43,39,37,36,38,49,44,36,45,43,47,54,42,50,39,42,35,35,37,36,37,37,44,39,42,30,42,37,39,43,39,32,35,40,34,38,36,36,37,46,46,44,32,35,43,41,37,40,44,45,45,43,43,36,39,46,38,39,49,29,26,45,39,35,40,33,48,38,45,41,42,43,37,42,31,37,44,35,36,40,45,48,41,37,46,49,45,41,33,40,41,39,38,35,37,44,34,38,37,37,30,44,33,40,46,37,48,42,42,47,32,35,45,45,38,41,48,41,35,40,36,46,36,38,38,45,40,41,40,47,36,38,43,35,34,31,27,38,44,30,31]39.74\n",
      "i: 1, [4,7,8,9,12,15,17,20,21,23,27,28,30,31,33,35,36,39,75,82,97,124,127,152,158,160,167,173,175,237,250,251,252,256,260,267,306,311,321,330,370,372,388])\n",
      "i: 2, [3,4,9,10,11,15,17,18,19,20,21,22,25,29,30,32,34,35,36,40,59,60,73,79,82,86,89,92,120,127,133,155,181,199,259,260,261,265,309,314,346,368,375,393])\n",
      "i: 3, [2,4,8,11,12,13,24,25,26,27,31,32,33,34,37,38,40,50,74,88,125,139,148,150,165,187,203,214,236,269,275,310,321,377,381,398])\n",
      "i: 4, [1,2,3,5,10,11,12,15,18,19,20,21,24,25,26,27,30,32,33,34,35,38,39,40,47,60,64,65,76,113,115,139,154,159,163,194,200,201,320,330,337,359,385,391])\n",
      "i: 5, [4,6,7,10,13,14,16,18,20,21,23,25,30,32,36,39,53,87,103,106,112,117,131,133,164,188,229,239,240,262,284,337,339,342,373,381,398])\n",
      "i: 6, [5,7,9,11,12,13,14,15,19,20,22,24,26,28,29,32,33,34,37,38,39,60,69,80,82,88,98,105,114,146,148,184,186,190,201,230,254,262,272,287,290,299,307,308,312,322,328,331,336,354,375])\n",
      "i: 7, [1,5,6,9,10,11,13,14,19,20,21,23,26,27,29,30,31,33,37,38,39,40,46,67,95,102,140,164,170,176,203,242,256,269,279,330,341,344,374,378])\n",
      "i: 8, [1,3,9,14,15,18,19,20,21,22,23,24,25,26,27,28,29,31,32,34,35,36,40,46,47,65,74,82,84,105,117,134,135,137,247,250,308,312,315,320,321,338,369,371,398])\n",
      "i: 9, [1,2,6,7,8,10,12,15,16,19,21,23,24,27,28,29,35,36,37,38,39,117,147,149,162,205,212,230,267,315,318,324,359,361,375,377,381,389])\n",
      "i: 10, [2,4,5,7,9,11,12,15,16,17,20,21,24,28,30,31,36,37,38,73,84,88,90,108,134,158,174,180,194,230,233,247,249,260,307,324,327,328,399])\n",
      "i: 11, [2,3,4,6,7,10,13,14,15,17,21,25,27,28,31,37,41,46,106,126,136,160,170,195,199,200,217,235,237,340,362,372,385,393,400])\n",
      "i: 12, [1,3,4,6,9,10,15,16,17,20,22,24,25,28,29,31,32,33,34,38,48,52,56,77,118,120,180,189,190,204,212,260,261,262,284,287,295,311,331,346,349,385])\n",
      "i: 13, [3,5,6,7,11,17,18,19,21,24,25,27,28,29,30,31,32,33,34,35,37,38,39,62,94,107,114,193,205,206,231,237,242,247,280,286,373,378,379,398])\n",
      "i: 14, [5,6,7,8,11,16,19,21,24,25,27,29,30,32,34,36,37,38,39,51,74,79,85,96,100,111,124,134,164,180,240,272,275,295,309,363,383])\n",
      "i: 15, [1,2,4,6,8,9,10,11,12,16,17,18,20,22,24,25,27,28,31,38,40,41,43,44,51,90,95,103,111,120,122,194,202,204,205,276,280,305,314,316,318,321,332,343,374])\n",
      "i: 16, [5,9,10,12,14,15,17,18,19,20,21,22,23,25,26,27,29,31,32,35,38,39,46,49,80,106,179,186,188,208,233,247,265,276,293,357,361,362,364,378,388])\n",
      "i: 17, [1,2,10,11,12,13,15,16,20,21,23,24,28,29,30,31,33,35,37,56,74,84,93,107,120,137,164,168,170,185,198,224,234,242,282,284,285,301,309,326,341,356,360,369,385])\n",
      "i: 18, [2,4,5,8,13,15,16,19,24,26,27,29,30,35,36,54,63,109,131,186,195,198,272,289,332,356,394])\n",
      "i: 19, [2,4,6,7,8,9,13,14,16,18,20,23,24,25,27,29,30,32,33,35,37,39,43,77,130,138,146,173,178,214,266,274,275,292,357,368,376,390,393])\n",
      "i: 20, [1,2,4,5,6,7,8,10,12,15,16,17,19,25,26,30,31,35,38,40,84,111,116,131,143,178,201,209,228,229,231,237,291,293,316,321,333,350,355,372,379,389])\n",
      "i: 21, [1,2,4,5,7,8,9,10,11,13,14,16,17,22,26,27,28,31,32,33,34,37,38,39,44,60,109,117,121,153,179,187,207,209,244,263,270,282,297,303,331,345,363,372,385])\n",
      "i: 22, [2,6,8,12,15,16,21,26,27,28,30,31,32,35,39,121,134,137,159,163,192,233,256,283,295,296,323,324,325,369,370,374])\n",
      "i: 23, [1,5,7,8,9,16,17,19,24,30,31,32,34,35,36,38,48,49,51,53,55,56,118,136,142,183,247,253,266,268,290,311,312,339,365,378,400])\n",
      "i: 24, [3,4,6,8,9,10,12,13,14,15,17,18,19,23,26,28,30,31,32,33,37,39,53,99,103,122,151,180,186,252,256,259,268,276,282,287,292,310,344,366,390])\n",
      "i: 25, [2,3,4,5,8,11,12,13,14,15,16,19,20,26,29,31,34,35,37,38,39,81,83,106,109,120,138,154,173,209,215,225,230,282,287,336,373,376])\n",
      "i: 26, [3,4,6,7,8,16,18,20,21,22,24,25,27,29,30,31,32,33,36,37,38,48,59,72,76,139,266,311,328,331,351])\n",
      "i: 27, [1,3,4,7,8,9,11,13,14,15,16,18,19,21,22,26,28,29,31,32,35,69,100,104,117,120,131,132,135,197,205,212,240,245,251,254,293,297,303,315,369,378,400])\n",
      "i: 28, [1,6,8,9,10,11,12,13,15,17,21,22,24,27,29,30,31,33,35,38,41,118,178,200,202,225,253,286,292,332,333,349,378,393])\n",
      "i: 29, [2,6,7,8,9,12,13,14,16,17,18,19,25,26,27,28,31,32,33,37,39,63,81,104,110,148,149,184,196,210,225,227,246,256,262,268,318,323,380,381])\n",
      "i: 30, [1,2,4,5,7,10,13,14,17,18,19,20,22,23,24,26,28,31,37,60,66,76,80,121,141,164,199,206,215,219,232,233,236,247,253,301,309,371,395])\n",
      "i: 31, [1,3,7,8,10,11,12,13,15,16,17,20,21,22,23,24,25,26,27,28,29,30,34,35,46,49,58,92,131,142,150,161,165,166,175,241,274,310,336,357])\n",
      "i: 32, [2,3,4,5,6,8,12,13,14,16,19,21,22,23,24,26,27,29,37,38,39,45,62,69,96,110,137,139,154,184,200,212,238,296,377,381,392])\n",
      "i: 33, [1,3,4,6,7,12,13,17,19,21,24,26,28,29,34,36,37,39,40,50,61,84,125,132,165,200,216,227,255,269,306,321,366,371,400])\n",
      "i: 34, [2,3,4,6,8,12,13,14,21,23,25,31,33,35,36,38,40,41,55,66,69,78,90,105,120,149,151,164,166,195,231,234,256,313,366,369,397,399])\n",
      "i: 35, [1,2,4,8,9,13,16,17,18,19,20,22,23,25,27,28,31,34,39,40,63,81,92,107,140,156,164,175,197,207,218,223,232,233,243,289,297,304,320,339,367,374,387,392,400])\n",
      "i: 36, [1,2,5,8,9,10,14,18,23,26,33,34,37,44,86,115,120,209,231,234,245,258,308,310,332,336,343,352])\n",
      "i: 37, [3,6,7,9,10,11,13,14,17,19,21,24,25,26,29,30,32,33,36,67,77,103,122,178,189,197,204,210,219,257,261,268,292,316,317,338,364,379,380,387])\n",
      "i: 38, [3,4,6,7,9,10,12,13,14,15,16,20,21,23,25,26,28,32,34,39,40,52,76,93,102,113,135,142,146,147,154,258,259,306,308,316,319,323,340,389])\n",
      "i: 39, [1,4,5,6,7,9,13,14,16,19,21,22,24,25,29,32,33,35,38,65,150,154,157,159,182,186,226,244,250,272,299,340,345,372,374,385,389,394])\n",
      "i: 40, [2,3,4,7,8,15,20,33,34,35,38,69,95,121,147,179,212,227,242,243,244,302,327,333,335,354])\n",
      "i: 41, [11,15,28,34,44,47,48,49,52,55,57,60,61,63,67,68,70,71,73,75,76,79,84,89,116,135,156,164,165,184,192,231,240,242,262,267,268,294,321,324,331,350,385])\n",
      "i: 42, [43,44,49,50,51,55,57,58,59,60,61,62,65,68,69,70,72,74,75,76,80,105,106,128,143,158,168,179,212,217,228,262,271,297,309,322])\n",
      "i: 43, [15,19,42,44,48,51,52,53,64,65,66,67,71,72,73,74,77,78,80,89,94,109,126,134,135,140,182,190,227,230,259,267,271,284,293,299,311,319,326,334,339,341,346,388])\n",
      "i: 44, [15,21,36,41,42,43,45,50,51,52,55,58,59,60,61,64,65,66,67,70,72,73,74,75,78,79,80,111,135,145,152,162,167,171,172,190,199,233,251,284,300,311,318,355,361,378,390])\n",
      "i: 45, [32,44,46,47,50,53,54,56,58,60,61,63,65,70,72,76,79,82,88,99,122,132,136,138,139,151,161,191,198,217,221,224,226,235,250,266,272,275,284,325,351,364])\n",
      "i: 46, [7,8,11,16,31,45,47,49,51,52,53,54,55,59,60,62,64,66,68,69,72,73,74,77,78,79,86,121,126,151,171,175,180,183,195,206,216,230,303,316,317,333,359,375,381])\n",
      "i: 47, [4,8,41,45,46,49,50,51,53,54,59,60,61,63,66,67,69,70,71,73,77,78,79,80,84,95,100,104,143,146,167,215,249,257,263,273,280,290,330,360,379,395])\n",
      "i: 48, [12,23,26,41,43,49,51,54,55,58,59,60,61,62,63,64,65,66,67,68,69,71,72,74,75,76,80,141,207,216,221,275,277,304,359,375,388])\n",
      "i: 49, [16,23,31,41,42,46,47,48,50,52,55,56,59,61,63,64,67,68,69,75,76,77,78,79,80,84,87,114,137,139,141,148,161,211,223,246,248,296,298,331,345,347,356,372,374,375,393])\n",
      "i: 50, [3,33,42,44,45,47,49,51,52,55,56,57,60,61,64,68,70,71,76,77,78,114,128,129,137,138,148,164,187,188,273,290,310,368,370,371,386])\n",
      "i: 51, [14,15,23,42,43,44,46,47,48,50,53,54,55,57,61,65,67,68,71,77,84,117,128,130,146,152,165,172,196,201,250,264,267,280,290,304,315,322,374])\n",
      "i: 52, [12,38,41,43,44,46,49,50,55,56,57,60,62,64,65,68,69,71,72,73,74,78,86,106,128,170,177,228,306,318,345,368,377,381])\n",
      "i: 53, [5,23,24,43,45,46,47,51,57,58,59,61,64,65,67,68,69,70,71,72,73,74,75,77,78,79,106,140,141,147,157,170,195,308,339,344,348,360,366,379,382,396])\n",
      "i: 54, [18,45,46,47,48,51,56,59,61,64,65,67,69,70,72,74,76,77,78,79,85,106,107,113,171,174,193,207,250,256,296,309,316,331,343,346,347,356])\n",
      "i: 55, [23,34,41,42,44,46,48,49,50,51,52,56,57,58,60,62,64,65,67,68,71,78,80,83,91,98,100,110,113,133,138,165,166,170,213,247,260,271,275,286,311,375,385,388,391,396,397])\n",
      "i: 56, [12,17,23,45,49,50,52,54,55,57,58,59,60,61,62,63,65,66,67,69,71,72,75,78,79,83,98,114,161,162,163,186,200,204,207,214,224,271,305,342,344,372,397])\n",
      "i: 57, [41,42,50,51,52,53,55,56,60,61,63,64,68,69,70,71,73,75,77,81,133,147,197,207,239,240,278,288,300,321,323,362,364,366,374,398])\n",
      "i: 58, [31,42,44,45,48,53,55,56,59,64,66,67,69,70,75,76,94,105,119,137,205,210,258,273,295,310,316,328,365])\n",
      "i: 59, [2,26,42,44,46,47,48,49,53,54,56,58,60,63,64,65,67,69,70,72,73,75,77,79,95,109,112,118,136,140,148,155,170,179,186,192,226,229,235,282,285,308,321,332,346,358])\n",
      "i: 60, [2,4,6,21,30,41,42,44,45,46,47,48,50,52,55,56,57,59,65,66,70,71,75,78,80,96,112,115,129,146,200,214,215,229,231,266,271,279,280,284,288,296,298,312,317,322,357,362])\n",
      "i: 61, [33,41,42,44,45,47,48,49,50,51,53,54,56,57,62,66,67,68,71,72,73,74,77,78,79,102,103,125,131,148,170,228,282,308,310,316,330,353,384])\n",
      "i: 62, [13,32,42,46,48,52,55,56,61,65,66,67,68,70,71,72,75,79,99,167,178,201,220,271,275,300,320,340])\n",
      "i: 63, [18,29,35,41,45,47,48,49,56,57,59,64,70,71,72,74,75,76,78,87,120,130,162,175,179,208,231,234,237,257,286,290,298,300,321,342,361,372])\n",
      "i: 64, [4,43,44,46,48,49,50,52,53,54,55,57,58,59,63,66,68,70,71,72,73,77,79,117,131,135,136,159,163,166,169,239,312,318,336,339])\n",
      "i: 65, [4,8,39,42,43,44,45,48,51,52,53,54,55,56,59,60,62,66,69,71,74,75,77,78,79,88,95,109,124,129,160,188,239,250,268,278,300,303,307,318,321,326,332,364])\n",
      "i: 66, [30,34,43,44,46,47,48,56,58,60,61,62,64,65,67,69,70,71,72,73,76,77,78,104,149,187,212,225,246,248,276,280,287,291,305,312,356,361,377,400])\n",
      "i: 67, [7,37,41,43,44,47,48,49,51,53,54,55,56,58,59,61,62,66,68,69,71,72,75,98,111,122,123,150,165,175,216,232,253,265,276,281,283,299,314,344,363,379,385,394])\n",
      "i: 68, [41,42,46,48,49,50,51,52,53,55,57,61,62,64,67,69,70,71,73,75,78,96,110,122,125,149,156,160,163,166,203,220,232,233,237,250,251,259,281,287,298,300,320,326,356,363])\n",
      "i: 69, [6,27,32,34,40,42,46,47,48,49,52,53,54,56,57,58,59,65,66,67,68,70,71,72,73,74,77,79,115,121,151,169,178,197,201,236,263,273,322,347,348,352,378,391,398])\n",
      "i: 70, [41,42,44,45,47,50,53,54,57,58,59,60,62,63,64,66,68,69,71,77,80,83,91,102,114,138,152,153,157,159,161,170,264,273,316,345,348,359,392,394])\n",
      "i: 71, [41,43,47,48,50,51,52,53,55,56,57,60,61,62,63,64,65,66,67,68,69,70,74,75,92,100,118,123,135,155,157,198,200,203,237,266,281,309,318,338,355,360,386,400])\n",
      "i: 72, [26,42,43,44,45,46,48,52,53,54,56,59,61,62,63,64,66,67,69,77,78,79,113,115,132,156,180,203,221,229,241,268,279,289,294,307,313,334,342,344,377,387])\n",
      "i: 73, [2,10,41,43,44,46,47,52,53,57,59,61,64,66,68,69,74,76,77,79,80,123,156,181,189,226,259,262,268,271,280,303,309,321,326,363,376,387,390])\n",
      "i: 74, [3,8,14,17,42,43,44,46,48,52,53,54,61,63,65,69,71,73,75,76,78,80,106,129,140,146,156,217,220,222,227,234,260,280,296,307,312,329,356,368])\n",
      "i: 75, [1,41,42,44,48,49,53,56,57,58,59,60,62,63,65,67,68,71,74,79,80,89,109,130,135,170,171,214,218,222,243,256,263,316,322,328,357,373,397])\n",
      "i: 76, [4,26,30,38,41,42,45,48,49,50,54,58,63,66,73,74,77,97,109,123,149,202,254,255,311,333,338,342,364,367,369,383,386,392])\n",
      "i: 77, [12,19,37,43,46,47,49,50,51,53,54,57,59,61,64,65,66,69,70,72,73,76,82,94,96,102,150,160,184,250,303,309,310,317,325,344,353,357,358,386,397])\n",
      "i: 78, [34,43,44,46,47,49,50,52,53,54,55,56,60,61,63,65,66,68,72,74,79,80,89,109,118,125,138,152,165,173,186,187,205,207,255,271,283,291,294,302,326,328,330,336,345,363,372,377,379,392])\n",
      "i: 79, [2,14,41,44,45,46,47,49,53,54,56,59,61,62,64,65,69,72,73,75,78,115,116,118,119,146,149,176,198,211,215,217,263,269,271,321,336,350,354,358,365,387])\n",
      "i: 80, [6,16,30,42,43,44,47,48,49,55,60,70,73,74,75,78,87,88,109,114,147,153,162,189,197,225,246,251,254,257,270,283,317,331,343,354,357,359,361,362,369,392])\n",
      "i: 81, [25,29,35,57,84,87,88,89,92,95,97,100,101,103,107,108,110,111,113,115,116,119,128,154,158,168,169,195,202,215,235,372])\n",
      "i: 82, [1,2,6,8,45,77,83,84,89,90,91,95,97,98,99,100,101,102,105,108,109,110,112,114,115,116,120,126,245,256,264,283,288,299,311,331,341,364,367,370,376,382,389])\n",
      "i: 83, [25,55,56,70,82,84,88,91,92,93,104,105,106,107,111,112,113,114,117,118,120,143,144,147,180,201,214,222,263,274,288,313,324,328,346,376,383])\n",
      "i: 84, [8,10,17,20,33,41,47,49,51,81,82,83,85,90,91,92,95,98,99,100,101,104,105,106,107,110,112,113,114,115,118,119,120,178,188,193,239,246,269,286,304,312,333,340,341,353,372,400])\n",
      "i: 85, [14,54,84,86,87,90,93,94,96,98,100,101,103,105,110,112,116,119,201,266,271,309,376,388,394])\n",
      "i: 86, [2,36,46,52,85,87,89,91,92,93,94,95,99,100,102,104,106,108,109,112,113,114,117,118,119,151,174,177,241,243,250,255,262,266,267,273,274,291,318,351,357,358])\n",
      "i: 87, [5,49,63,80,81,85,86,89,90,91,93,94,99,100,101,103,106,107,109,110,111,113,117,118,119,120,152,162,182,197,209,244,253,254,271,290,306,339,365,378,392,398])\n",
      "i: 88, [3,6,10,45,65,80,81,83,89,91,94,95,98,99,100,101,102,103,104,105,106,107,108,109,111,112,114,115,116,120,147,160,163,182,198,200,204,245,255,271,275,290,306,315,320,330,346,347,357])\n",
      "i: 89, [2,41,43,75,78,81,82,86,87,88,90,92,95,96,99,101,103,104,107,108,109,115,116,117,118,119,120,128,132,159,179,193,194,218,223,231,251,283,315,320,386])\n",
      "i: 90, [10,15,34,82,84,85,87,89,91,92,95,96,97,100,101,104,108,110,111,116,117,118,123,125,130,131,140,141,144,149,156,165,191,196,211,213,251,271,309,310,322,350,354,387])\n",
      "i: 91, [55,70,82,83,84,86,87,88,90,93,94,95,97,101,105,107,108,111,117,122,126,137,151,157,161,186,187,193,201,206,210,215,237,238,239,289,306,307,344,346,350,355,398])\n",
      "i: 92, [2,31,35,71,81,83,84,86,89,90,95,96,97,100,102,104,105,108,109,111,112,113,114,118,133,134,184,198,229,234,241,304,326,332,350,393,395])\n",
      "i: 93, [17,38,83,85,86,87,91,97,98,99,101,104,105,107,108,109,110,111,112,113,114,115,117,118,119,130,132,144,153,156,164,184,195,198,226,268,272,286,315,334,340,366,391,400])\n",
      "i: 94, [13,43,58,77,85,86,87,88,91,96,99,101,104,105,107,109,110,112,114,116,117,118,119,138,160,172,182,200,202,248,262,272,278,298,300,336,366,382])\n",
      "i: 95, [7,15,40,47,59,65,81,82,84,86,88,89,90,91,92,96,97,98,100,102,104,105,107,108,111,118,120,121,175,218,243,264,340,360,361,367,369])\n",
      "i: 96, [14,32,60,68,77,85,89,90,92,94,95,97,98,99,100,101,102,103,105,106,107,109,110,111,112,115,118,119,124,133,147,165,166,179,184,191,210,221,231,232,258,264,297,299,304,317,325,359,398])\n",
      "i: 97, [1,76,81,82,90,91,92,93,95,96,100,101,103,104,108,109,110,111,113,115,117,142,143,162,178,195,217,221,226,227,243,274,276,314,372,379,380,397])\n",
      "i: 98, [6,55,56,67,82,84,85,88,93,95,96,99,104,106,107,109,110,115,116,123,124,175,245,246,257,261,286,326,361,388])\n",
      "i: 99, [24,45,62,82,84,86,87,88,89,93,94,96,98,100,103,104,105,107,109,110,112,113,115,117,119,133,149,211,228,253,266,273,305,322,329,366,372,388,392])\n",
      "i: 100, [14,27,47,55,71,81,82,84,85,86,87,88,90,92,95,96,97,99,105,106,110,111,115,118,120,125,126,132,141,166,173,194,254,281,290,299,351,355,381,382])\n",
      "i: 101, [81,82,84,85,87,88,89,90,91,93,94,96,97,102,106,107,108,111,112,113,114,117,118,119,131,150,206,224,236,245,253,260,262,267,270,276,312,324,367,368,376])\n",
      "i: 102, [7,38,61,70,77,82,86,88,92,95,96,101,105,106,107,108,110,111,112,115,119,131,167,198,208,216,226,241,249,266,274,281,291,302,375,388])\n",
      "i: 103, [5,15,24,37,61,81,85,87,88,89,96,97,99,104,110,111,112,114,115,116,118,121,139,211,213,215,247,260,264,265,270,293,294,297,306,312,321,354,356,370])\n",
      "i: 104, [27,29,47,66,83,84,86,88,89,90,92,93,94,95,97,98,99,103,106,108,110,111,112,113,117,119,125,128,146,195,251,255,263,315,338,353,354])\n",
      "i: 105, [6,8,34,42,58,82,83,84,85,88,91,92,93,94,95,96,99,100,102,106,109,111,114,115,117,118,119,156,247,250,252,269,271,278,282,306,323,355,382,383,390])\n",
      "i: 106, [5,11,16,25,42,52,53,54,74,83,84,86,87,88,96,98,100,101,102,104,105,107,109,110,111,112,113,116,117,118,139,204,228,247,260,275,288,305,326,347])\n",
      "i: 107, [13,17,35,54,81,83,84,87,88,89,91,93,94,95,96,98,99,101,102,106,108,109,111,112,115,128,159,176,181,189,256,271,352,366,369,386,392])\n",
      "i: 108, [10,81,82,86,88,89,90,91,92,93,95,97,101,102,104,107,109,110,111,113,115,118,209,233,237,241,304,343,362,384])\n",
      "i: 109, [18,21,25,43,59,65,75,76,78,80,82,86,87,88,89,92,93,94,96,97,98,99,105,106,107,108,110,111,112,113,114,117,119,132,162,197,223,236,243,246,335,352,366,372,373,383])\n",
      "i: 110, [29,32,55,68,81,82,84,85,87,90,93,94,96,97,98,99,100,102,103,104,106,108,109,111,117,120,151,169,182,193,194,198,217,219,223,245,258,290,310,314,317,321,344])\n",
      "i: 111, [14,15,20,44,67,81,83,87,88,90,91,92,93,95,96,97,100,101,102,103,104,105,106,107,108,109,110,114,115,163,176,185,194,228,238,257,285,294,311,366,372,376])\n",
      "i: 112, [5,59,60,82,83,84,85,86,88,92,93,94,96,99,101,102,103,104,106,107,109,117,118,119,122,158,173,175,190,192,264,266,268,273,276,279,302,350,359,366,369,382,393,397])\n",
      "i: 113, [4,38,54,55,72,81,83,84,86,87,92,93,97,99,101,104,106,108,109,114,116,117,119,120,160,203,224,253,292,294,301,302])\n",
      "i: 114, [6,13,49,50,56,70,80,82,83,84,86,88,92,93,94,101,103,105,109,111,113,115,116,118,120,151,176,228,230,240,244,264,281,294,297,312,316,331,338,343,350,376,391])\n",
      "i: 115, [4,36,60,69,72,79,81,82,84,88,89,93,96,97,98,99,100,102,103,105,107,108,111,114,119,120,188,232,252,273,278,283,300,303,324,334,360,389])\n",
      "i: 116, [20,41,79,81,82,85,88,89,90,94,98,103,106,113,114,117,158,185,202,210,234,269,273,280,281,282,298,360,389,398])\n",
      "i: 117, [5,8,9,21,27,51,64,83,86,87,89,90,91,93,94,97,99,101,104,105,106,109,110,112,113,116,134,139,151,228,246,269,274,352,361,365,371,388,395,400])\n",
      "i: 118, [12,23,28,59,71,78,79,83,84,86,87,89,90,92,93,94,95,96,100,101,103,105,106,108,112,114,119,120,147,158,160,182,187,199,209,210,228,235,262,263,276,277,281,299])\n",
      "i: 119, [58,79,81,84,85,86,87,89,93,94,96,99,101,102,104,105,109,112,113,115,118,124,135,145,148,165,168,174,192,195,197,220,241,243,265,270,274,307,317,320,321,332,377,399])\n",
      "i: 120, [2,12,15,17,25,27,34,36,63,82,83,84,87,88,89,95,100,110,113,114,115,118,144,162,201,207,215,236,247,308,350,351,361,366,367,394])\n",
      "i: 121, [21,22,30,40,46,69,95,103,124,127,128,129,132,135,137,140,141,143,147,148,150,151,153,155,156,159,188,194,200,228,258,293,324,326,328])\n",
      "i: 122, [15,24,37,45,67,68,91,112,123,124,129,130,131,135,137,138,139,140,141,142,145,149,150,152,154,155,156,160,210,223,226,255,262,277,298,300,308,367,368])\n",
      "i: 123, [67,71,73,76,90,98,122,124,128,131,132,133,144,145,146,147,151,152,153,154,157,158,160,210,253,275,291,359,361,376,383,398])\n",
      "i: 124, [1,14,65,96,98,119,121,122,123,125,130,131,132,135,138,139,140,141,144,145,146,147,150,152,153,154,155,158,159,160,163,177,210,214,222,258,267,290,294,295,342,376,390])\n",
      "i: 125, [3,33,61,68,78,90,100,104,124,126,127,130,133,134,136,138,140,141,143,145,150,152,156,159,164,165,219,241,269,293,299,301,312,326,334,345,358,398])\n",
      "i: 126, [11,43,46,82,91,100,125,127,129,131,132,133,134,135,139,140,142,144,146,148,149,152,153,154,157,158,159,176,217,242,254,289,320,322,326,330,339,363,384])\n",
      "i: 127, [1,2,121,125,126,129,130,131,133,134,139,140,141,143,146,147,149,150,151,153,157,158,159,160,163,166,198,258,288,327,332,347,359,390,391,392,393])\n",
      "i: 128, [42,50,51,52,81,89,104,107,121,123,129,131,134,135,138,139,140,141,142,143,144,145,146,147,148,149,151,152,154,155,156,160,167,188,203,229,238,260,322])\n",
      "i: 129, [50,60,65,74,121,122,126,127,128,130,132,135,136,139,141,143,144,147,148,149,155,156,157,158,159,178,191,209,247,249,257,275,305,330])\n",
      "i: 130, [19,51,63,75,90,93,122,124,125,127,129,131,132,135,136,137,140,141,144,148,150,151,156,157,158,227,240,263,284,286,290,320,342,384])\n",
      "i: 131, [5,18,20,27,31,61,64,90,101,102,122,123,124,126,127,128,130,133,134,135,137,141,145,147,148,151,157,161,190,195,212,220,225,227,236,241,309])\n",
      "i: 132, [27,33,45,72,89,93,100,109,121,123,124,126,129,130,135,136,137,140,142,144,145,148,149,151,152,153,154,158,168,188,194,202,229,242,366,380])\n",
      "i: 133, [2,5,55,57,92,96,99,123,125,126,127,131,137,138,139,141,144,145,147,148,149,150,151,152,153,154,155,157,158,159,165,170,174,180,183,188,233,234,238,311,365,374,378,389])\n",
      "i: 134, [8,10,14,22,43,92,117,125,126,127,128,131,136,139,141,144,145,147,149,150,152,154,156,157,158,159,166,176,193,195,202,220,242,247,248,270,293,326,330,348,360,366,368,378,394,395])\n",
      "i: 135, [8,27,38,41,43,44,64,71,75,119,121,122,124,126,128,129,130,131,132,136,137,138,140,142,144,145,147,148,151,158,160,166,170,182,189,244,253,270,278,297,302,315,381,382,399])\n",
      "i: 136, [11,23,45,59,64,125,129,130,132,134,135,137,138,139,140,141,142,143,145,146,147,149,151,152,155,158,159,168,207,213,218,249,253,268,271,279,291,321,323,351,388,393])\n",
      "i: 137, [8,17,22,32,49,50,58,91,121,122,130,131,132,133,135,136,140,141,143,144,148,149,150,151,153,155,157,162,170,175,179,180,181,208,213,234,256,269,273,274,278,314,343,354,356,361,366,394,397])\n",
      "i: 138, [19,25,45,50,55,70,78,94,122,124,125,128,133,135,136,139,144,146,147,149,150,155,156,179,197,199,207,208,218,224,265,271,355])\n",
      "i: 139, [3,4,26,32,45,49,103,106,117,122,124,126,127,128,129,133,134,136,138,140,143,144,145,147,149,150,152,153,155,157,159,164,166,169,186,247,257,279,287,298,340,400])\n",
      "i: 140, [7,35,43,53,59,74,90,121,122,124,125,126,127,128,130,132,135,136,137,139,145,146,150,151,155,158,160,166,213,222,244,247,253,264,271,272,282,286,327,355])\n",
      "i: 141, [30,48,49,53,90,100,121,122,124,125,127,128,129,130,131,133,134,136,137,142,146,147,148,151,152,153,154,157,158,159,163,172,174,205,219,239,263,275,301,327,343,376,398])\n",
      "i: 142, [23,31,38,97,122,126,128,132,135,136,141,146,147,148,150,151,152,155,159,178,183,210,241,265,274,298,307,312,331,343,344,352,393])\n",
      "i: 143, [20,42,47,83,97,121,125,127,128,129,136,137,139,144,150,151,152,154,155,156,158,161,170,217,219,220,238,264,267,285,326,360,378,382])\n",
      "i: 144, [83,90,93,120,123,124,126,128,129,130,132,133,134,135,137,138,139,143,146,148,150,151,152,153,157,159,172,217,218,226,245,246,272,275,319,326,327,357,371,384])\n",
      "i: 145, [44,119,122,123,124,125,128,131,132,133,134,135,136,139,140,146,149,151,154,155,157,158,159,180,194,207,234,281,282,296,333,334,335,339])\n",
      "i: 146, [6,19,38,47,51,60,74,79,104,123,124,126,127,128,136,138,140,141,142,144,145,147,149,150,151,152,153,156,157,158,167,170,171,178,180,240,250,278,331,344,355,365,366,390])\n",
      "i: 147, [9,38,40,53,57,80,83,88,96,118,121,123,124,127,128,129,131,133,134,135,136,138,139,141,142,146,148,149,151,152,155,174,189,213,214,216,232,244,249,274,278,281,289,297,309,314,321,342,362,380,386,396])\n",
      "i: 148, [3,6,29,49,50,59,61,119,121,126,128,129,130,131,132,133,135,137,141,142,144,147,149,150,151,153,155,158,197,219,242,253,278,281,316,354,370,376])\n",
      "i: 149, [9,29,34,66,68,76,79,90,99,122,126,127,128,129,132,133,134,136,137,138,139,145,146,147,148,150,151,152,153,157,159,164,182,192,195,216,220,229,253,265,288,310,327,329,338,369,384])\n",
      "i: 150, [3,31,39,67,77,101,121,122,124,125,127,130,133,134,137,138,139,140,142,143,144,146,148,149,151,157,160,163,167,168,186,218,244,265,270,274,280,283,318,339,377])\n",
      "i: 151, [24,34,45,46,69,86,91,110,114,117,121,123,127,128,130,131,132,133,135,136,137,140,141,142,143,144,145,146,147,148,149,150,154,155,162,179,188,189,192,206,208,227,270,326,351,364,385])\n",
      "i: 152, [1,44,51,70,78,87,122,123,124,125,126,128,132,133,134,136,139,141,142,143,144,146,147,149,157,158,159,170,174,205,229,245,265,283,284,314,347,355,386,392])\n",
      "i: 153, [21,70,80,93,121,123,124,126,127,132,133,137,139,141,144,146,148,149,154,156,157,159,160,183,234,257,277,288,312,313,326,329,381])\n",
      "i: 154, [4,25,32,38,39,81,122,123,124,126,128,132,133,134,141,143,145,151,153,155,156,158,160,169,171,180,196,207,215,224,292,304,305,308,309,350,358,365,378,389])\n",
      "i: 155, [2,59,71,121,122,124,128,129,133,136,137,138,139,140,142,143,145,147,148,151,154,159,160,208,217,218,232,240,262,269,285,298,308,329,340])\n",
      "i: 156, [35,41,68,72,73,74,90,93,105,121,122,125,128,129,130,134,138,143,146,153,154,157,194,221,229,235,242,251,292,307,326,328,358,364,366,370,373])\n",
      "i: 157, [39,53,70,71,91,123,126,127,129,130,131,133,134,137,139,141,144,145,146,149,150,152,153,156,169,199,206,267,287,288,305,338,345,374])\n",
      "i: 158, [1,10,42,81,112,116,118,123,124,126,127,129,130,132,133,134,135,136,140,141,143,145,146,148,152,154,159,160,200,222,228,230,235,265,267,268,286,295,303,329,344,354,388])\n",
      "i: 159, [4,22,39,64,70,89,107,121,124,125,126,127,129,133,134,136,139,141,142,144,145,149,152,153,155,158,204,218,224,226,233,235,238,254,288,304,316,330,332,337,338,362,366,382,396])\n",
      "i: 160, [1,11,65,68,77,88,94,113,118,122,123,124,127,128,135,140,150,153,154,155,158,167,184,197,217,228,246,253,285,297,302,317,339,353])\n",
      "i: 161, [31,45,49,56,70,91,131,143,164,167,168,169,172,175,177,180,181,183,187,188,190,191,193,195,196,199,209,213,267,309,322,325,330,343,352,354,389,397])\n",
      "i: 162, [9,44,56,63,80,87,97,109,120,137,151,163,164,169,170,171,175,177,178,179,180,181,182,185,188,189,190,192,194,195,196,200,215,230,232,243,245,248,253,303,308,341,352,373])\n",
      "i: 163, [4,22,56,64,68,88,111,124,127,141,150,162,164,168,171,172,173,184,185,186,187,191,192,193,194,197,198,200,211,221,233,244,259,269,283,289,299,312,321,327,343,349,356,364,398])\n",
      "i: 164, [5,7,14,17,30,34,35,41,50,93,125,139,149,161,162,163,165,170,171,172,175,178,179,180,181,184,185,186,187,190,192,193,194,195,198,199,200,233,261,282,313,321,331,336,356,367,398])\n",
      "i: 165, [3,31,33,41,51,55,67,78,90,96,119,125,133,164,166,167,170,173,174,176,178,180,181,183,185,190,192,196,199,204,245,301,308,327,346,375,387])\n",
      "i: 166, [31,34,55,64,68,96,100,127,134,135,139,140,165,167,169,171,172,173,174,175,179,180,182,184,186,188,189,192,193,194,197,198,199,216,231,238,242,256,270,284,305,347,356,373])\n",
      "i: 167, [1,44,47,62,102,128,146,150,160,161,165,166,169,170,171,173,174,179,180,181,183,186,187,189,190,191,193,197,198,199,200,237,256,278,289,300,306,337,359,368,371,376,389])\n",
      "i: 168, [17,42,81,119,132,136,150,161,163,169,171,174,175,178,179,180,181,182,183,184,185,186,187,188,189,191,192,194,195,196,200,202,217,235,260,276,290,318,348,367,379,384,386,392,400])\n",
      "i: 169, [64,69,81,110,139,154,157,161,162,166,167,168,170,172,175,176,179,181,183,184,187,188,189,195,196,197,198,199,208,260,266,316,329,343,353,382,391])\n",
      "i: 170, [7,11,17,52,53,55,59,61,70,75,133,135,137,143,146,152,162,164,165,167,169,171,172,175,176,177,180,181,184,188,190,191,196,197,198,235,273,282,286,295,355])\n",
      "i: 171, [44,46,54,75,146,154,162,163,164,166,167,168,170,173,174,175,177,181,185,187,188,191,197,211,241,242,293,298,335,340])\n",
      "i: 172, [44,51,94,141,144,161,163,164,166,169,170,175,176,177,180,182,184,185,188,189,191,192,193,194,198,222,232,245,256,262,263,282,293,300,302,326,338,356,372])\n",
      "i: 173, [1,19,25,78,100,112,163,165,166,167,171,177,178,179,181,184,185,187,188,189,190,191,192,193,194,195,197,198,199,212,218,225,275,308,313,315,344,358,378,383])\n",
      "i: 174, [10,54,86,119,133,141,147,152,165,166,167,168,171,176,179,181,184,185,187,189,190,192,194,196,197,198,199,272,289,296,308,314,330,342,380,385])\n",
      "i: 175, [1,31,35,46,63,67,95,98,112,137,161,162,164,166,168,169,170,171,172,176,177,178,180,182,184,185,187,188,191,198,200,206,230,243,248,258,268,281,293,315,321,347])\n",
      "i: 176, [7,79,107,111,114,126,134,165,169,170,172,174,175,177,178,179,180,181,182,183,185,186,187,189,191,192,195,198,199,201,208,237,251,259,261,299,301,333,342,382])\n",
      "i: 177, [52,86,124,161,162,170,171,172,173,175,176,180,181,183,184,188,189,190,191,193,195,197,218,225,249,270,295,297,307,324,346,383,386,392])\n",
      "i: 178, [19,20,28,37,62,69,84,97,129,142,146,162,164,165,168,173,175,176,179,184,186,187,189,190,195,196,213,223,244,248,256,258,272,298,338,342,361,396,400])\n",
      "i: 179, [16,21,40,42,59,63,89,96,137,138,151,162,164,166,167,168,169,173,174,176,178,180,183,184,185,187,189,190,192,193,195,197,199,217,226,233,247,248,253,270,307,319,341,350,377,381,395,396])\n",
      "i: 180, [10,12,14,24,46,72,83,133,137,145,146,154,161,162,164,165,166,167,168,170,172,175,176,177,179,185,186,190,191,195,198,200,214,253,264,288,346,353,364,368])\n",
      "i: 181, [2,73,107,137,161,162,164,165,167,168,169,170,171,173,174,176,177,182,186,187,188,191,192,193,194,197,198,199,208,272,298,323,329,375,377,391,399])\n",
      "i: 182, [39,43,87,88,94,110,118,135,149,162,166,168,172,175,176,181,186,187,188,190,191,192,195,199,206,216,220,259,266,271,273,285,303,331,334,353])\n",
      "i: 183, [23,46,133,142,153,161,165,167,168,169,176,177,179,184,190,191,192,194,195,196,198,202,206,211,215,238,252,260,315,316,341,350,352,353,360,368])\n",
      "i: 184, [6,29,32,41,77,92,93,96,160,163,164,166,168,169,170,172,173,174,175,177,178,179,183,186,188,190,191,192,193,197,199,229,263,297,335,337,357,363,364,370])\n",
      "i: 185, [17,111,116,162,163,164,165,168,171,172,173,174,175,176,179,180,186,189,191,194,195,197,198,199,237,243,247,261,272,275,310,314,376])\n",
      "i: 186, [6,16,18,24,39,56,59,78,91,139,150,163,164,166,167,168,176,178,180,181,182,184,185,187,189,190,191,192,193,196,197,198,209,210,215,218,249,256,291,305,338,341,360,382])\n",
      "i: 187, [3,21,50,66,78,91,118,161,163,164,167,168,169,171,173,174,175,176,178,179,181,182,186,188,189,191,192,195,217,224,239,276,279,280,343,363,399])\n",
      "i: 188, [5,16,50,65,84,115,121,128,132,133,151,161,162,166,168,169,170,171,172,173,175,177,181,182,184,187,189,190,191,193,195,198,217,226,242,251,252,256,265,284,295,304,324,336,345,357,358,384,385,386])\n",
      "i: 189, [12,37,73,80,107,135,147,151,162,166,167,168,169,172,173,174,176,177,178,179,185,186,187,188,190,191,192,193,197,199,244,269,270,297,305,331,358,389])\n",
      "i: 190, [6,12,43,44,112,131,161,162,164,165,167,170,173,174,177,178,179,180,182,183,184,186,188,189,191,197,200,234,251,260,269,273,397])\n",
      "i: 191, [45,90,96,129,161,163,167,168,170,171,172,173,175,176,177,180,181,182,183,184,185,186,187,188,189,190,194,195,208,234,252,308,313,340,342,344,355])\n",
      "i: 192, [22,41,59,112,119,149,151,162,163,164,165,166,168,172,173,174,176,179,181,182,183,184,186,187,189,197,198,199,218,224,230,240,246,261,265,317,325,340,345,347,366,381,386,390])\n",
      "i: 193, [13,54,84,89,91,110,134,161,163,164,166,167,172,173,177,179,181,184,186,188,189,194,196,197,199,200,215,231,259,273,310,315,333,336,362,373])\n",
      "i: 194, [4,10,15,89,100,110,111,121,132,145,156,162,163,164,166,168,172,173,174,181,183,185,191,193,195,196,198,200,205,247,275,277,283,310,328,340,343,380,395])\n",
      "i: 195, [11,18,34,46,53,81,93,97,104,119,131,134,149,161,162,164,168,169,173,176,177,178,179,180,182,183,185,187,188,191,194,199,200,205,228,243,248,273,275,280,289,303,340,353,354,369])\n",
      "i: 196, [29,51,90,154,161,162,165,168,169,170,174,178,183,186,193,194,197,225,232,237,260,263,265,333,338,342,363,370,374,384,393,394])\n",
      "i: 197, [27,35,37,57,69,80,87,109,119,138,148,160,163,166,167,169,170,171,173,174,177,179,181,184,185,186,189,190,192,193,196,219,232,266,301,328,380,385])\n",
      "i: 198, [17,18,45,71,79,88,92,93,102,110,127,163,164,166,167,169,170,172,173,174,175,176,180,181,183,185,186,188,192,194,199,200,203,207,220,224,249,251,255,260,281,336,361,373,380])\n",
      "i: 199, [2,11,30,44,118,138,157,161,164,165,166,167,169,173,174,176,179,181,182,184,185,189,192,193,195,198,219,233,237,249,308,318,337,363,399])\n",
      "i: 200, [4,11,28,32,33,56,60,71,88,94,121,158,162,163,164,167,168,175,180,190,193,194,195,198,214,223,242,252,261,300,335,341,342,346,351,363,367,375,397])\n",
      "i: 201, [4,6,20,51,62,69,83,85,91,120,176,204,207,208,209,212,215,217,220,221,223,227,228,230,231,233,235,236,239,297,319,323,334,396])\n",
      "i: 202, [15,28,76,81,94,116,132,134,168,183,203,204,209,210,211,215,217,218,219,220,221,222,225,228,229,230,232,234,235,236,240,243,248,267,270,281,305,331,363,385,388])\n",
      "i: 203, [3,7,68,71,72,113,128,198,202,204,208,211,212,213,224,225,226,227,231,232,233,234,237,238,240,273,291,292,294,315,318,325,367,392,398])\n",
      "i: 204, [12,15,37,56,88,106,159,165,201,202,203,205,210,211,212,215,218,219,220,221,224,225,226,227,229,230,232,233,234,235,238,239,240,251,264,270,287,292,315,331,362,382,397])\n",
      "i: 205, [9,13,15,27,58,78,141,152,194,195,204,206,207,210,213,214,216,218,220,221,223,225,230,232,236,239,243,245,249,253,276,299,343,345,346,364,380,391])\n",
      "i: 206, [13,30,46,91,101,151,157,175,182,183,205,207,209,211,212,213,214,215,219,220,222,224,226,228,229,232,233,234,237,238,239,285,304,315,327,340,365])\n",
      "i: 207, [21,35,48,54,56,57,78,120,136,138,145,154,198,201,205,206,209,210,211,213,214,219,220,221,223,226,227,229,230,231,233,237,238,239,240,242,246,261,333,335,345,365])\n",
      "i: 208, [16,63,102,137,138,151,155,169,176,181,191,201,203,209,211,214,215,218,219,220,221,222,223,224,225,226,227,228,229,231,232,234,235,236,237,240,244,293,294,297,316,317,319,355,365,380])\n",
      "i: 209, [20,21,25,36,87,108,118,129,161,186,201,202,206,207,208,210,212,215,216,219,221,223,224,227,228,229,235,236,237,238,239,240,249,266,303,350,383,389])\n",
      "i: 210, [29,37,58,91,96,116,118,122,123,124,142,186,202,204,205,207,209,211,212,215,216,217,220,221,224,228,230,231,236,237,238,242,252,265,280,285,290,297,314,318,322,324,340,350,356,361,369,381])\n",
      "i: 211, [49,79,90,99,103,163,171,183,202,203,204,206,207,208,210,213,214,215,217,221,225,227,228,231,237,250,310,337,385,386,396])\n",
      "i: 212, [9,12,27,32,40,42,66,131,173,201,203,204,206,209,210,213,215,216,217,220,222,224,225,228,229,231,232,233,234,238,248,250,280,299,306,321,338,396])\n",
      "i: 213, [55,90,103,136,137,140,147,161,178,203,205,206,207,211,212,217,218,219,221,224,225,227,228,229,230,231,232,233,234,235,237,238,239,253,306,321,323,346,369])\n",
      "i: 214, [3,19,56,60,75,83,124,147,180,200,205,206,207,208,211,216,219,221,224,225,227,229,230,232,234,236,237,238,239,254,289,347,388,391,394])\n",
      "i: 215, [25,30,47,60,79,81,91,103,120,154,162,183,186,193,201,202,204,206,208,209,210,211,212,216,217,218,220,222,224,225,227,228,231,238,240,251,253,254,258,260,279,303,317,343,348,366,388])\n",
      "i: 216, [33,46,48,67,102,147,149,166,182,205,209,210,212,214,215,217,218,219,220,221,222,223,225,226,227,229,230,231,232,235,238,239,293,299,353,378,397])\n",
      "i: 217, [11,42,45,74,79,97,110,126,143,144,155,160,168,179,187,188,201,202,210,211,212,213,215,216,220,221,223,224,228,229,230,231,233,235,237,275,290,301,305,319,363,388])\n",
      "i: 218, [35,75,89,95,136,138,144,150,155,159,173,177,186,192,202,204,205,208,213,215,216,219,224,226,227,229,230,235,236,251,256,272,308,324,349,367,394])\n",
      "i: 219, [30,37,110,125,141,143,148,197,199,202,204,206,207,208,209,213,214,216,218,220,223,224,225,227,229,230,232,233,235,237,239,250,251,276,279,282,315,327,348,349,356,365,389])\n",
      "i: 220, [62,68,74,119,131,134,143,149,182,198,201,202,204,205,206,207,208,210,212,215,216,217,219,225,226,230,231,235,238,240,253,272,278,282,283,299,318,339,345,363,369,370,381,388,398])\n",
      "i: 221, [45,48,72,96,97,156,163,201,202,204,205,207,208,209,210,211,213,214,216,217,222,224,226,227,228,231,232,233,234,237,238,239,303,317,326,331,346,348,363,371,372,386])\n",
      "i: 222, [74,75,83,124,140,158,172,202,206,208,212,215,216,221,225,226,227,228,230,231,232,235,239,248,265,267,285,383])\n",
      "i: 223, [35,49,89,109,110,122,178,200,201,205,207,208,209,216,217,219,224,230,231,232,234,235,236,238,256,271,277,294,317,323,352])\n",
      "i: 224, [17,45,56,101,113,138,154,159,187,192,198,203,204,206,208,209,210,212,213,214,215,217,218,219,221,223,226,228,230,231,232,233,237,239,241,278,352,390,396,398])\n",
      "i: 225, [25,28,29,66,80,131,173,177,196,202,203,204,205,208,211,212,213,214,215,216,219,220,222,226,229,231,234,235,237,238,239,317,336,344,349,351,355])\n",
      "i: 226, [39,45,59,73,93,97,102,122,144,159,179,188,203,204,206,207,208,216,218,220,221,222,224,225,227,229,230,231,232,233,236,237,238,254,325,333,369,381])\n",
      "i: 227, [29,33,40,43,74,97,130,131,151,201,203,204,207,208,209,211,213,214,215,216,218,219,221,222,226,228,229,231,232,235,250,257,310,323,336,341,348,355,376])\n",
      "i: 228, [20,42,52,61,99,106,111,114,117,118,121,158,160,195,201,202,206,208,209,210,211,212,213,215,217,221,222,224,227,229,230,231,233,234,235,238,253,255,282,287,299,300,304,308,314,377])\n",
      "i: 229, [5,20,59,60,72,92,128,132,149,152,156,184,202,204,206,207,208,209,212,213,214,216,217,218,219,225,226,227,228,230,231,232,233,234,237,239,250,254,256,276,290,293,302,308,321,330,331,335,337,386,390])\n",
      "i: 230, [6,9,10,25,43,46,114,158,162,175,192,201,202,204,205,207,210,213,214,216,217,218,219,220,222,223,224,226,228,229,231,237,240,246,248,260,268,274,280,300,385,387,396])\n",
      "i: 231, [13,20,34,36,41,60,63,89,96,166,193,201,203,207,208,210,211,212,213,215,216,217,220,221,222,223,224,225,226,227,228,229,230,234,235,273,274,320,359,367,385])\n",
      "i: 232, [30,35,67,68,96,115,147,155,162,172,196,197,202,203,204,205,206,208,212,213,214,216,219,221,222,223,224,226,227,229,237,238,239,260,269,273,295,304,369,389,400])\n",
      "i: 233, [10,16,22,30,35,44,68,108,133,159,163,164,179,199,201,203,204,206,207,212,213,217,219,221,224,226,228,229,234,236,237,239,240,242,268,284,318,329,330,338,345,354,382,387,388,392])\n",
      "i: 234, [17,34,36,63,74,92,116,133,137,145,153,190,191,202,203,204,206,208,212,213,214,221,223,225,228,229,231,233,235,236,238,240,250,256,259,262,263,276,278,318,323,384])\n",
      "i: 235, [11,45,59,81,118,156,158,159,168,170,201,202,204,208,209,213,216,217,218,219,220,222,223,225,227,228,231,234,239,240,253,260,296,306,333,342])\n",
      "i: 236, [3,30,69,101,109,120,131,201,202,205,208,209,210,214,218,223,226,233,234,237,245,246,283,287,309,376,383])\n",
      "i: 237, [1,11,13,20,63,68,71,91,108,167,176,185,196,199,203,206,207,208,209,210,211,213,214,217,219,221,224,225,226,229,230,232,233,236,242,255,280,313,333,345,347,350,352,364,371,373,376])\n",
      "i: 238, [32,91,111,128,133,143,159,166,183,203,204,206,207,209,210,212,213,214,215,216,220,221,223,225,226,228,232,234,239,240,247,296,298,299,356,365])\n",
      "i: 239, [5,57,64,65,84,91,141,187,201,204,205,206,207,209,213,214,216,219,221,222,224,225,229,232,233,235,238,257,283,299,301,307,346,354])\n",
      "i: 240, [5,14,27,41,57,114,130,146,155,192,202,203,204,207,208,209,215,220,230,233,234,235,238,245,265,304,305,331,342,344,361,369])\n",
      "i: 241, [31,72,86,92,102,108,119,125,131,142,171,224,244,247,248,249,252,255,257,260,261,263,267,268,270,271,273,275,276,279,289,331,342,351,360,371])\n",
      "i: 242, [7,13,17,40,41,126,132,134,148,156,166,171,188,200,207,210,233,237,243,244,249,250,251,255,257,258,259,260,261,262,265,268,269,270,272,274,275,276,280,288,289,295,300,335,336,381,383])\n",
      "i: 243, [35,40,75,86,95,97,109,119,162,175,185,195,202,205,242,244,248,251,252,253,264,265,266,267,271,272,273,274,277,278,280,298,299,309,342,353,369])\n",
      "i: 244, [21,39,40,87,114,135,140,147,150,163,178,189,208,241,242,243,245,250,251,252,255,258,259,260,261,264,265,266,267,270,272,273,274,275,278,279,280,286,329,333,383,384,387])\n",
      "i: 245, [27,36,82,88,98,101,110,144,152,162,165,172,205,236,240,244,246,247,250,253,254,256,258,260,261,263,265,270,272,276,279,282,288,289,328,345,351,365,372,373,376,378,379,392])\n",
      "i: 246, [29,49,66,80,84,98,109,117,144,160,192,207,230,236,245,247,249,251,252,253,254,255,259,260,262,264,266,268,269,272,273,274,277,278,279,301,306,343,352,394,399])\n",
      "i: 247, [8,10,13,16,23,30,55,103,105,106,120,129,134,139,140,179,185,194,238,241,245,246,249,250,251,253,254,259,260,261,263,266,267,269,270,271,273,277,278,279,280,288,316,341,357,360,381,387])\n",
      "i: 248, [49,66,94,134,162,175,178,179,195,202,212,222,230,241,243,249,251,254,255,258,259,260,261,262,263,264,265,266,267,268,269,271,272,274,275,276,280,281,287,292,294,298,325,328,340,355,376])\n",
      "i: 249, [10,47,102,129,136,147,177,186,198,199,205,209,241,242,246,247,248,250,252,255,256,259,261,263,264,267,268,269,275,276,277,278,279,280,281,303,328,332,340,356,357,380,382])\n",
      "i: 250, [1,8,39,45,51,54,65,68,77,86,105,146,211,212,219,227,229,234,242,244,245,247,249,251,252,255,256,257,260,261,264,268,270,271,276,277,278,300,313,333,352,369,379,383,399])\n",
      "i: 251, [1,27,44,68,80,89,90,104,156,176,188,190,198,204,215,218,219,242,243,244,246,247,248,250,253,254,255,257,261,265,267,268,271,277,281,283,289,307,312,318,330,347,348,369,382,383,389])\n",
      "i: 252, [1,24,105,115,183,188,191,200,210,241,243,244,246,249,250,255,256,257,260,262,264,265,268,269,271,272,273,274,278,285,317,329,347,355,371,384,400])\n",
      "i: 253, [23,28,30,67,87,99,101,113,123,135,136,140,148,149,160,162,179,180,205,213,215,220,228,235,243,245,246,247,251,257,258,259,261,264,265,267,268,269,270,271,272,273,274,275,277,278,279,322,349,374])\n",
      "i: 254, [6,27,76,80,87,100,126,159,214,215,226,229,245,246,247,248,251,256,259,261,264,265,267,269,270,272,274,276,277,278,279,311,314,344,349,351,357])\n",
      "i: 255, [33,76,78,86,88,104,122,198,228,237,241,242,244,246,248,249,250,251,252,256,257,258,260,262,264,265,267,268,271,278,280,287,295,312,318,321,342,365,399])\n",
      "i: 256, [1,7,22,24,29,34,54,75,82,107,137,166,167,172,178,186,188,218,223,229,234,245,249,250,252,254,255,257,258,259,260,261,262,263,265,266,267,269,271,272,275,278,279,327,358,367,378,390])\n",
      "i: 257, [37,47,63,80,98,111,129,139,153,227,239,241,242,250,251,252,253,255,256,260,261,263,264,268,269,270,271,273,275,277,286,290,307,343,345,353,376])\n",
      "i: 258, [36,38,58,96,110,121,124,127,175,178,215,242,244,245,248,253,255,256,259,264,266,267,269,270,275,276,281,290,319,322,337,339,341,369,379])\n",
      "i: 259, [2,24,38,43,68,73,163,176,182,193,234,242,244,246,247,248,249,253,254,256,258,260,263,264,265,267,269,270,272,273,275,277,279,291,305,329,398])\n",
      "i: 260, [1,2,10,12,55,74,101,103,106,128,168,169,183,190,196,198,215,230,232,235,241,242,244,245,246,247,248,250,252,255,256,257,259,265,266,270,271,275,278,280,305,339,377])\n",
      "i: 261, [2,12,37,98,164,176,185,192,200,207,241,242,244,245,247,248,249,250,251,253,254,256,257,262,266,267,268,271,272,273,274,277,278,279,299,302,345,346,386])\n",
      "i: 262, [5,6,12,29,41,42,73,86,94,101,118,122,155,172,234,242,246,248,252,255,256,261,265,266,267,268,270,271,272,275,279,289,325,327,345,356,392])\n",
      "i: 263, [21,47,69,75,79,83,104,118,130,141,172,184,196,234,241,245,247,248,249,256,257,259,264,270,271,272,274,275,276,278,309,319,328,345,385,391])\n",
      "i: 264, [51,70,82,95,96,103,112,114,140,143,180,204,243,244,246,248,249,250,252,253,254,255,257,258,259,263,266,268,270,271,272,273,277,279,316,364,379,389])\n",
      "i: 265, [2,16,67,103,119,138,142,149,150,152,158,188,192,196,210,222,240,242,243,244,245,248,251,252,253,254,255,256,259,260,262,266,269,271,274,275,277,278,279,286,292,315,318,322,325,327,361,364,371])\n",
      "i: 266, [19,23,26,45,60,71,85,86,99,102,112,169,182,197,209,243,244,246,247,248,256,258,260,261,262,264,265,267,269,270,271,272,273,276,277,278,282,314,318,322,326,357,384,390])\n",
      "i: 267, [1,9,41,43,51,86,101,124,143,157,158,161,202,222,241,243,244,247,248,249,251,253,254,255,256,258,259,261,262,266,268,269,271,272,275,375])\n",
      "i: 268, [23,24,29,37,41,65,72,73,93,112,136,158,175,230,233,241,242,246,248,249,250,251,252,253,255,257,261,262,264,267,269,270,271,273,275,278,301,323,339,349,355,364,368,375,385])\n",
      "i: 269, [3,7,33,79,84,105,116,117,125,137,155,163,189,190,232,242,246,247,248,249,252,253,254,256,257,258,259,265,266,267,268,270,271,272,273,277,279,293,314,330,345,363,385])\n",
      "i: 270, [21,80,101,103,119,134,135,150,151,166,177,179,189,202,204,241,242,244,245,247,250,253,254,257,258,259,260,262,263,264,266,268,269,271,277,280,282,286,311,324,333,349,365,370,375,391,397])\n",
      "i: 271, [42,43,55,56,60,62,73,78,79,85,87,88,90,105,107,136,138,140,182,223,241,243,247,248,250,251,252,253,255,256,257,260,261,262,263,264,265,266,267,268,269,270,274,275,282,293,300,318,330,346,367,380,394,398])\n",
      "i: 272, [6,14,18,39,45,93,94,140,144,174,178,181,185,218,220,242,243,244,245,246,248,252,253,254,256,259,261,262,263,264,266,267,269,277,278,279,291,303,337,340,361,387])\n",
      "i: 273, [47,50,58,69,70,86,99,112,115,116,137,170,182,190,193,195,203,231,232,241,243,244,246,247,252,253,257,259,261,264,266,268,269,274,276,277,279,280,289,295,302,310,318,342,358,359,374,387,391,395])\n",
      "i: 274, [19,31,83,86,97,102,117,119,137,142,147,150,230,231,242,243,244,246,248,252,253,254,261,263,265,271,273,275,276,278,280,282,315,328,335,344,372,381,391])\n",
      "i: 275, [3,14,19,45,48,55,62,88,106,123,129,141,144,173,185,194,195,217,241,242,244,248,249,253,256,257,258,259,260,262,263,265,267,268,271,274,279,280,281,341,370,382])\n",
      "i: 276, [15,16,24,66,67,97,101,112,118,168,187,205,219,229,234,241,242,245,248,249,250,254,258,263,266,273,274,277,284,302,315,358,361,375,383])\n",
      "i: 277, [48,118,122,153,194,223,243,246,247,249,250,251,253,254,257,259,261,264,265,266,269,270,272,273,276,300,302,305,313,323,336,362,367,370,374])\n",
      "i: 278, [57,65,94,105,115,135,137,146,147,148,167,220,224,234,243,244,246,247,249,250,252,253,254,255,256,260,261,263,265,266,268,272,274,279,280,313,364])\n",
      "i: 279, [7,60,72,112,136,139,187,215,219,241,244,245,246,247,249,253,254,256,259,261,262,264,265,269,272,273,275,278,289,292,326,332,354,366,376,377])\n",
      "i: 280, [13,15,47,51,60,66,73,74,116,150,187,195,210,212,230,237,242,243,244,247,248,249,255,260,270,273,274,275,278,283,299,329,356,365,366,369,388])\n",
      "i: 281, [67,68,71,100,102,114,116,118,145,147,148,175,198,202,248,249,251,258,275,284,287,288,289,292,295,297,300,301,303,307,308,310,311,313,315,316,319])\n",
      "i: 282, [17,21,24,25,59,61,105,116,140,145,164,170,172,219,220,228,245,266,270,271,274,283,284,289,290,291,295,297,298,299,300,301,302,305,308,309,310,312,314,315,316,320,369,376])\n",
      "i: 283, [22,67,78,80,82,89,115,150,152,163,194,220,236,239,251,280,282,284,288,291,292,293,304,305,306,307,311,312,313,314,317,318,320,323,362,364,373,374,387])\n",
      "i: 284, [5,12,17,43,44,45,60,130,152,166,188,233,276,281,282,283,285,290,291,292,295,298,299,300,301,304,305,306,307,310,312,313,314,315,318,319,320,334,360,384,389,392])\n",
      "i: 285, [17,59,111,143,155,160,182,206,210,222,252,284,286,287,290,293,294,296,298,300,301,303,305,310,312,316,319,344,383,389])\n",
      "i: 286, [13,28,55,63,84,93,98,130,140,158,170,244,257,265,270,285,287,289,291,292,293,294,295,299,300,302,304,306,308,309,312,313,314,317,318,319,323,338,340,348,365,397])\n",
      "i: 287, [6,12,24,25,66,68,139,157,204,228,236,248,255,281,285,286,289,290,291,293,294,299,300,301,303,306,307,309,310,311,313,317,318,319,320,346,349])\n",
      "i: 288, [57,60,82,83,106,127,149,153,157,159,180,242,245,247,281,283,289,291,294,295,298,299,300,301,302,303,304,305,306,307,308,309,311,312,314,315,316,320,373])\n",
      "i: 289, [18,35,72,91,126,147,163,167,174,195,214,241,242,245,251,262,273,279,281,282,286,287,288,290,292,295,296,299,301,303,304,307,308,309,315,316,317,318,319,320,328,346,355])\n",
      "i: 290, [6,23,47,50,51,63,87,88,100,110,124,130,168,210,217,229,257,258,282,284,285,287,289,291,292,295,296,297,300,301,304,308,310,311,316,317,318,326,369])\n",
      "i: 291, [20,66,78,86,102,123,136,186,203,259,272,282,283,284,286,287,288,290,293,294,295,297,301,305,307,308,311,317,330,332,357,373])\n",
      "i: 292, [19,24,28,37,113,154,156,203,204,248,265,279,281,283,284,286,289,290,295,296,297,300,302,304,305,308,309,311,312,313,314,318,333,339,386])\n",
      "i: 293, [16,20,27,43,103,121,125,134,171,172,175,208,216,229,269,271,283,285,286,287,291,297,298,299,301,304,305,307,308,309,310,311,312,313,314,315,317,318,319,372])\n",
      "i: 294, [41,72,78,103,111,113,114,124,203,208,223,248,285,286,287,288,291,296,299,301,304,305,307,309,310,312,314,316,317,318,319,331,345,396])\n",
      "i: 295, [12,14,22,58,124,158,170,177,188,232,242,255,273,281,282,284,286,288,289,290,291,292,296,297,298,300,302,304,305,307,308,311,318,320,350,371,377,386])\n",
      "i: 296, [22,32,49,54,60,74,145,174,235,238,285,289,290,292,294,295,297,298,299,300,301,302,303,305,306,307,309,310,311,312,315,318,319,345,364,385])\n",
      "i: 297, [21,27,35,42,96,103,114,135,147,160,177,184,189,201,208,210,281,282,290,291,292,293,295,296,300,301,303,304,308,309,310,311,313,315,317,325])\n",
      "i: 298, [49,60,63,68,94,116,122,139,142,155,171,178,181,238,243,248,282,284,285,288,293,295,296,299,304,306,307,309,310,315,316,332,335,346,350,376,396])\n",
      "i: 299, [6,39,43,67,82,96,100,118,125,163,176,205,212,216,220,228,238,239,243,261,280,282,284,286,287,288,289,293,294,296,298,300,303,304,305,307,309,310,312,313,315,317,319,359,361,379])\n",
      "i: 300, [44,57,62,63,65,68,94,115,122,167,172,200,228,230,242,250,271,277,281,282,284,285,286,287,288,290,292,295,296,297,299,305,306,310,311,315,318,320,325,341,345,351,361,378,381,383])\n",
      "i: 301, [17,30,113,125,141,165,176,197,217,239,246,268,281,282,284,285,287,288,289,290,291,293,294,296,297,302,304,306,307,308,311,312,313,314,317,318,319,321,332,334,360,361,381,387])\n",
      "i: 302, [40,78,102,112,113,135,160,172,229,261,273,276,277,282,286,288,292,295,296,301,305,306,307,308,310,311,312,315,319,345,375,400])\n",
      "i: 303, [21,27,46,65,73,77,115,158,162,182,195,209,215,221,249,272,281,285,287,288,289,296,297,299,304,310,311,312,314,315,316,318,325,335,347])\n",
      "i: 304, [35,48,51,84,92,96,108,154,159,188,206,228,232,240,283,284,286,288,289,290,292,293,294,295,297,298,299,301,303,306,308,310,311,312,313,317,319,345,351,352,368,371,387])\n",
      "i: 305, [15,56,66,99,106,129,154,157,166,186,189,202,217,240,259,260,277,282,283,284,285,288,291,292,293,294,295,296,299,300,302,306,309,311,314,315,317,318,319,341,380])\n",
      "i: 306, [1,33,38,52,87,88,91,103,105,167,212,213,235,246,283,284,286,287,288,296,298,300,301,302,304,305,307,309,310,311,312,313,316,317,318,364,389])\n",
      "i: 307, [6,10,65,72,74,91,119,142,156,177,179,239,251,257,281,283,284,287,288,289,291,293,294,295,296,298,299,301,302,306,308,309,311,312,315,355,375,377,389,392])\n",
      "i: 308, [6,8,36,38,53,59,61,120,122,154,155,162,165,173,174,191,199,218,228,229,281,282,286,288,289,290,291,292,293,295,297,301,302,304,307,309,310,311,313,315,318,336,355,367])\n",
      "i: 309, [2,14,17,30,42,54,71,73,77,85,90,131,147,154,161,236,243,263,282,286,287,288,289,292,293,294,296,297,298,299,305,306,307,308,310,311,312,313,314,317,319,342,375,377,387])\n",
      "i: 310, [3,24,31,36,50,58,61,77,90,110,149,185,193,194,211,227,273,281,282,284,285,287,290,293,294,296,297,298,299,300,302,303,304,306,308,309,311,317,320,325,328,338,378,380,398])\n",
      "i: 311, [1,12,23,26,43,44,55,76,82,111,133,254,270,281,283,287,288,290,291,292,293,295,296,297,300,301,302,303,304,305,306,307,308,309,310,314,315,329,337,338,363,372,394])\n",
      "i: 312, [6,8,23,60,64,66,74,84,101,103,114,125,142,153,163,251,255,282,283,284,285,286,288,292,293,294,296,299,301,302,303,304,306,307,309,317,318,319,324,335,349,381,384])\n",
      "i: 313, [34,72,83,153,164,173,191,237,250,277,278,281,283,284,286,287,292,293,297,299,301,304,306,308,309,314,316,317,319,320,328,334,336,341,365,373])\n",
      "i: 314, [2,15,67,97,110,137,147,152,174,185,210,228,254,266,269,282,283,284,286,288,292,293,294,301,303,305,309,311,313,315,316,318,320,335,338,340,341,372,377])\n",
      "i: 315, [8,9,27,51,88,89,93,104,135,173,175,183,193,203,204,206,219,265,274,276,281,282,284,288,289,293,296,297,298,299,300,302,303,305,307,308,311,314,319,320,341,352,356,363,368,373])\n",
      "i: 316, [15,20,37,38,46,54,58,61,70,75,114,148,159,169,183,208,247,264,281,282,285,288,289,290,294,298,303,306,313,314,317,325,329,340,353,359,393,400])\n",
      "i: 317, [37,46,60,77,80,96,110,119,160,192,208,215,221,223,225,252,283,286,287,289,290,291,293,294,297,299,301,304,305,306,309,310,312,313,316,353,382,385,393])\n",
      "i: 318, [9,15,29,44,52,64,65,71,86,150,168,199,203,210,220,233,234,251,255,265,266,271,273,283,284,286,287,289,290,292,293,294,295,296,300,301,303,305,306,308,312,314,319,320,337,338,340,344,361])\n",
      "i: 319, [38,43,144,179,201,208,217,258,263,281,284,285,286,287,289,293,294,296,299,301,302,304,305,309,312,313,315,318,363])\n",
      "i: 320, [4,8,35,62,68,88,89,119,126,130,231,282,283,284,287,288,289,295,300,310,313,314,315,318,374,394])\n",
      "i: 321, [1,3,8,15,20,33,41,57,59,63,65,73,79,103,110,119,136,147,163,164,175,212,213,229,255,301,324,327,328,329,332,335,337,340,341,343,347,348,350,351,353,355,356,359,395])\n",
      "i: 322, [6,42,51,60,69,75,90,99,126,128,161,210,253,258,265,266,323,324,329,330,331,335,337,338,339,340,341,342,345,348,349,350,352,354,355,356,360,374,396])\n",
      "i: 323, [22,29,38,57,105,136,181,201,213,223,227,234,268,277,283,286,322,324,328,331,332,333,344,345,346,347,351,352,353,354,357,358,360,361,367])\n",
      "i: 324, [9,10,22,41,83,101,115,121,177,188,210,218,270,312,321,322,323,325,330,331,332,335,338,339,340,341,344,345,346,347,350,352,353,354,355,358,359,360,362,376])\n",
      "i: 325, [22,45,77,96,161,192,203,226,248,262,265,297,300,303,310,316,324,326,327,330,333,334,336,338,340,341,343,345,350,352,356,359,393])\n",
      "i: 326, [17,43,65,68,73,78,92,98,106,121,125,126,134,143,144,151,153,156,172,221,266,279,290,325,327,329,331,332,333,334,335,339,340,342,344,346,348,349,352,353,354,357,358,359,377,383,389,397])\n",
      "i: 327, [10,40,127,140,141,144,149,163,165,206,219,256,262,265,321,325,326,329,330,331,333,334,339,340,341,343,346,347,349,350,351,353,357,358,359,360,373,385])\n",
      "i: 328, [6,10,26,58,75,78,83,121,156,194,197,245,248,249,263,274,289,310,313,321,323,329,331,334,335,338,339,340,341,342,343,344,345,346,347,348,349,351,352,354,355,356,357,360,372])\n",
      "i: 329, [74,99,149,153,155,158,169,181,233,244,252,259,280,311,316,321,322,326,327,328,330,332,335,336,339,341,343,344,347,348,349,355,356,357,358,359,360,363,376,379,390])\n",
      "i: 330, [1,4,7,47,61,78,88,126,129,134,159,161,174,229,233,251,269,271,291,322,324,325,327,329,331,332,335,336,337,340,341,344,348,350,351,356,357,358,371,389,398,400])\n",
      "i: 331, [6,12,21,26,41,49,54,80,82,114,142,146,164,182,189,202,204,221,229,240,241,294,322,323,324,326,327,328,330,333,334,335,337,341,345,347,348,351,357,375,382,383,397])\n",
      "i: 332, [15,18,28,36,59,65,92,119,127,159,249,279,291,298,301,321,323,324,326,329,330,335,336,337,340,342,344,345,348,349,351,352,353,354,358,377,397])\n",
      "i: 333, [20,28,40,46,76,84,145,176,193,196,207,226,235,237,244,250,270,292,323,325,326,327,331,337,338,339,341,344,345,347,348,349,350,351,352,353,354,355,357,358,359,369])\n",
      "i: 334, [43,72,93,115,125,145,182,201,284,301,313,325,326,327,328,331,336,339,341,344,345,347,349,350,352,354,356,357,358,359,365])\n",
      "i: 335, [40,109,145,171,184,200,207,229,242,274,298,303,312,314,321,322,324,326,328,329,330,331,332,336,337,338,340,342,344,345,347,348,351,358,360,380,394])\n",
      "i: 336, [6,25,31,36,64,78,79,94,164,188,193,198,225,227,242,277,308,313,325,329,330,332,334,335,337,338,339,340,341,342,343,345,346,347,349,350,351,352,355,358,359,375,388,398])\n",
      "i: 337, [4,5,159,167,184,199,211,229,258,272,311,318,321,322,330,331,332,333,335,336,340,341,343,344,348,349,350,351,353,355,357,361,377,387,393])\n",
      "i: 338, [8,37,71,76,104,114,149,157,159,172,178,186,196,212,233,286,310,311,314,318,322,324,325,328,333,335,336,339,344,346,347,349,350,355,356,382])\n",
      "i: 339, [5,23,35,43,53,64,87,126,145,150,160,220,258,260,268,292,322,324,326,327,328,329,333,334,336,338,340,343,344,345,347,349,350,352,353,355,357,359,364,368])\n",
      "i: 340, [11,38,39,62,84,93,95,139,155,171,191,192,194,195,206,210,248,249,272,286,314,316,318,321,322,324,325,326,327,328,330,332,335,336,337,339,345,346,350,351,355,358,360,373,382])\n",
      "i: 341, [7,17,43,82,84,162,179,183,186,200,227,247,258,275,300,305,313,314,315,321,322,324,325,327,328,329,330,331,333,334,336,337,342,344,346,347,348,351,352,353,354,357,358,359,366,371,377,387])\n",
      "i: 342, [5,56,63,72,76,124,130,147,174,176,178,191,196,200,235,240,241,243,255,273,309,322,326,328,332,335,336,341,345,346,347,348,350,351,352,355,359,365,367,372,373])\n",
      "i: 343, [15,36,54,80,108,114,137,141,142,161,163,169,187,194,205,215,246,257,321,325,327,328,329,336,337,339,344,350,351,352,354,355,356,358,366,379,390])\n",
      "i: 344, [7,24,53,56,67,72,77,91,110,142,146,158,173,191,225,240,254,274,285,318,323,324,326,328,329,330,332,333,334,335,337,338,339,341,343,346,348,350,351,352,353,357,359,368,393,395])\n",
      "i: 345, [21,39,49,52,70,78,125,157,188,192,205,207,220,233,237,245,257,261,262,263,269,294,296,300,302,304,322,323,324,325,328,331,332,333,334,335,336,339,340,342,346,349,351,354,355,357,358,359,361])\n",
      "i: 346, [2,12,43,54,59,83,88,91,165,177,180,200,205,213,221,239,261,271,287,289,298,323,324,326,327,328,336,338,340,341,342,344,345,347,349,350,351,352,353,356,357,358,373,389,392])\n",
      "i: 347, [49,54,69,88,106,127,152,166,175,192,214,237,251,252,303,321,323,324,327,328,329,331,333,334,335,336,338,339,341,342,346,348,349,351,352,355,363,368,374,384,387])\n",
      "i: 348, [53,69,70,134,168,215,219,221,227,251,286,321,322,326,328,329,330,331,332,333,335,337,341,342,344,347,349,350,351,353,354,355,358])\n",
      "i: 349, [12,28,163,218,219,225,253,254,268,270,287,312,322,326,327,328,329,332,333,334,336,337,338,339,345,346,347,348,350,351,352,353,354,357,359,366,386,389,392,395])\n",
      "i: 350, [20,41,79,90,91,92,112,114,120,154,179,183,209,210,237,295,298,321,322,324,325,327,330,333,334,336,337,338,339,340,342,343,344,346,348,349,351,357,360,368,385])\n",
      "i: 351, [26,45,86,100,120,136,151,200,225,241,245,254,300,304,321,323,327,328,330,331,332,333,335,336,337,340,341,342,343,344,345,346,347,348,349,350,354,355,373])\n",
      "i: 352, [36,69,107,109,117,142,161,162,183,223,224,237,246,250,304,315,322,323,324,325,326,328,332,333,334,336,339,341,342,343,344,346,347,349,357,358,359,381])\n",
      "i: 353, [61,77,84,104,160,169,180,182,183,195,216,243,257,316,317,321,323,324,326,327,332,333,337,339,341,344,346,348,349,354,356,357,359,360,383])\n",
      "i: 354, [6,40,79,80,90,103,104,137,148,158,161,195,233,239,279,322,323,324,326,328,332,333,334,341,343,345,348,349,351,353,355,356,358,360,366,379,397])\n",
      "i: 355, [20,44,71,91,100,105,138,140,146,152,170,191,208,225,227,248,252,268,289,307,308,321,322,324,328,329,333,336,337,338,339,340,342,343,345,347,348,351,354,359,360,371,379,383])\n",
      "i: 356, [17,18,49,54,66,68,74,103,137,163,164,166,172,210,219,238,249,262,280,315,321,322,325,328,329,330,334,338,343,346,353,354,357,394])\n",
      "i: 357, [16,19,31,60,75,77,80,86,88,144,184,188,247,249,254,266,291,323,326,327,328,329,330,331,333,334,337,339,341,344,345,346,349,350,352,353,356,399])\n",
      "i: 358, [59,77,79,86,125,154,156,173,188,189,256,273,276,323,324,326,327,329,330,332,333,334,335,336,340,341,343,345,346,348,352,354,359,360,367,392,400])\n",
      "i: 359, [4,9,46,48,70,80,96,112,123,127,167,231,273,299,316,321,324,325,326,327,329,333,334,336,339,341,342,344,345,349,352,353,355,358,371,372,378])\n",
      "i: 360, [17,47,53,71,95,115,116,134,143,183,186,241,247,284,301,322,323,324,327,328,329,335,340,350,353,354,355,358,363,374])\n",
      "i: 361, [9,16,44,63,66,80,95,98,117,120,123,137,178,198,210,240,265,272,276,299,300,301,318,323,337,345,364,367,368,369,372,375,377,380,381,383,387,388,390,391,393,395,396,399])\n",
      "i: 362, [11,16,57,60,80,108,147,159,193,204,277,283,324,363,364,369,370,371,375,377,378,379,380,381,382,385,389,390,392,394,395,396,400])\n",
      "i: 363, [14,21,67,68,73,78,126,184,187,196,199,200,202,217,220,221,269,311,315,319,329,347,360,362,364,368,371,372,373,384,385,386,387,391,392,393,394,397,398,400])\n",
      "i: 364, [16,37,45,57,65,76,82,151,156,163,180,184,205,237,264,265,268,278,283,296,306,339,361,362,363,365,370,371,372,375,378,379,380,381,384,385,386,387,390,392,393,394,395,398,399,400])\n",
      "i: 365, [23,58,79,87,117,133,146,154,206,207,208,219,238,245,255,270,280,286,313,334,342,364,366,367,370,373,374,376,378,380,381,383,385,390,392,396,399])\n",
      "i: 366, [24,33,34,53,57,93,94,99,107,109,111,112,120,132,134,137,146,156,159,192,215,279,280,341,343,349,354,365,367,369,371,372,373,374,375,379,380,382,384,386,388,389,392,393,394,397,398,399])\n",
      "i: 367, [35,76,82,95,101,120,122,164,168,200,203,218,231,256,271,277,308,323,342,358,361,365,366,369,370,371,373,374,379,380,381,383,386,387,389,390,391,393,397,398,399,400])\n",
      "i: 368, [2,19,50,52,74,101,122,134,167,180,183,268,304,315,339,344,347,350,361,363,369,371,374,375,378,379,380,381,382,383,384,385,386,387,388,389,391,392,394,395,396,400])\n",
      "i: 369, [8,17,22,27,34,76,80,95,107,112,149,195,210,213,220,226,232,240,243,250,251,258,280,282,290,333,361,362,366,367,368,370,372,375,376,379,381,383,384,387,388,389,395,396,397,398,399])\n",
      "i: 370, [1,22,50,82,103,148,156,184,196,220,270,275,277,362,364,365,367,369,371,372,375,376,377,380,381,384,388,390,391,396,397,398])\n",
      "i: 371, [8,30,33,50,117,144,167,221,237,241,252,265,295,304,330,341,355,359,362,363,364,366,367,368,370,373,374,375,377,381,385,387,388,391,397])\n",
      "i: 372, [1,11,20,21,39,49,56,63,78,81,84,97,99,109,111,172,221,245,274,293,311,314,328,342,359,361,363,364,366,369,370,375,376,377,380,382,384,385,388,389,391,392,393,394,398])\n",
      "i: 373, [5,13,25,75,109,156,162,166,193,198,237,245,283,288,291,313,315,327,340,342,346,351,363,365,366,367,371,377,378,379,381,384,385,387,388,389,390,391,392,393,394,395,397,398,399])\n",
      "i: 374, [7,15,22,35,39,49,51,57,133,157,196,253,273,277,283,320,322,347,360,365,366,367,368,371,376,379,381,384,385,387,389,390,392,394,396,397,398,399])\n",
      "i: 375, [2,6,9,46,48,49,55,102,165,181,200,267,268,270,276,302,307,309,331,336,361,362,364,366,368,369,370,371,372,376,377,378,380,382,384,385,387,388,391,398,400])\n",
      "i: 376, [19,25,73,82,83,85,101,111,114,123,124,141,148,167,185,227,236,237,245,248,257,279,282,298,324,329,365,369,370,372,374,375,377,378,379,380,381,382,383,385,386,387,389,391,392,395,398,399])\n",
      "i: 377, [3,9,32,52,66,72,78,119,150,179,181,228,260,279,295,307,309,314,326,332,337,341,361,362,370,371,372,373,375,376,380,381,383,384,388,389,390,391,393,395,397])\n",
      "i: 378, [7,13,16,23,27,28,44,69,87,133,134,143,154,173,216,245,256,300,310,359,362,364,365,368,373,375,376,379,384,386,387,389,390,395,396])\n",
      "i: 379, [13,20,37,47,53,67,78,97,168,245,250,258,264,299,329,343,354,355,362,364,366,367,368,369,373,374,376,378,380,383,384,385,387,389,390,392,393,395,397,399])\n",
      "i: 380, [29,37,97,132,147,174,194,197,198,205,208,249,271,305,310,335,361,362,364,365,366,367,368,370,372,375,376,377,379,385,386,390,391,395,398,400])\n",
      "i: 381, [3,5,9,29,32,46,52,100,135,153,179,192,210,220,226,242,247,274,300,301,312,352,361,362,364,365,367,368,369,370,371,373,374,376,377,382,386,387,388,391,392,393,394,397,398,399])\n",
      "i: 382, [53,82,94,100,105,112,135,143,159,169,176,186,204,233,249,251,275,317,331,338,340,362,366,368,372,375,376,381,386,387,388,390,391,392,395,399])\n",
      "i: 383, [14,76,83,105,109,123,173,177,209,222,236,242,244,250,251,276,285,300,326,331,353,355,361,365,367,368,369,376,377,379,384,390,391,392,394,395,396,398])\n",
      "i: 384, [61,108,126,130,144,149,168,188,196,234,244,252,266,284,312,347,363,364,366,368,369,370,372,373,374,375,377,378,379,383,386,388,390,391,392,393,397,399])\n",
      "i: 385, [4,11,12,17,21,39,41,55,67,151,174,188,197,202,211,230,231,263,268,269,296,317,327,350,362,363,364,365,368,371,372,373,374,375,376,379,380,386,389,391,394,395,397,398,399])\n",
      "i: 386, [50,71,76,77,89,107,147,152,168,177,188,192,211,221,229,261,292,295,349,363,364,366,367,368,376,378,380,381,382,384,385,387,389,390,391,392,393,396,397,398])\n",
      "i: 387, [35,37,72,73,79,90,165,230,233,244,247,272,273,283,301,304,309,337,341,347,361,363,364,367,368,369,371,373,374,375,376,378,379,381,382,386,388,389,391,392,395])\n",
      "i: 388, [1,16,43,48,55,85,98,99,102,117,136,158,202,214,215,217,220,233,280,336,361,366,368,369,370,371,372,373,375,377,381,382,384,387,389,390,391,393,395,398])\n",
      "i: 389, [9,20,38,39,82,115,116,133,154,161,167,189,209,219,232,251,264,284,285,306,307,326,330,346,349,362,366,367,368,369,372,373,374,376,377,378,379,385,386,387,388,390,391,392,393,397,399])\n",
      "i: 390, [19,24,44,73,105,124,127,146,192,224,229,256,266,329,343,361,362,364,365,367,370,373,374,377,378,379,380,382,383,384,386,388,389,391,397,400])\n",
      "i: 391, [4,55,69,93,114,127,169,181,205,214,263,270,273,274,361,363,367,368,370,371,372,373,375,376,377,380,381,382,383,384,385,386,387,388,389,390,394,395])\n",
      "i: 392, [32,35,70,76,78,80,87,99,107,127,152,168,177,203,233,245,262,284,307,346,349,358,362,363,364,365,366,368,372,373,374,376,379,381,382,383,384,386,387,389,397,398,399])\n",
      "i: 393, [2,11,19,28,49,92,112,127,136,142,196,316,317,325,337,344,361,363,364,366,367,372,373,377,379,381,384,386,388,389,394,396,397,399,400])\n",
      "i: 394, [18,39,67,70,85,120,134,137,196,214,218,246,271,311,320,335,356,362,363,364,366,368,372,373,374,381,383,385,391,393,395,396,398,400])\n",
      "i: 395, [30,47,92,117,134,179,194,273,321,344,349,361,362,364,368,369,373,376,377,378,379,380,382,383,385,387,388,391,394,399,400])\n",
      "i: 396, [53,55,147,159,178,179,201,211,212,224,230,294,298,322,361,362,365,368,369,370,374,378,383,386,393,394,397])\n",
      "i: 397, [34,55,56,75,77,97,112,137,161,190,200,204,216,270,286,326,331,332,354,363,366,367,369,370,371,373,374,377,379,381,384,385,386,389,390,392,393,396])\n",
      "i: 398, [3,5,8,13,57,69,87,91,96,116,123,125,141,163,164,203,220,224,259,271,310,330,336,363,364,366,367,369,370,372,373,374,375,376,380,381,383,385,386,388,392,394,399,400])\n",
      "i: 399, [10,34,119,135,181,187,199,246,250,255,357,361,364,365,366,367,369,373,374,376,379,381,382,384,385,389,392,393,395,398])\n",
      "i: 400, [11,23,27,33,35,66,71,84,93,117,139,168,178,232,252,302,316,330,358,362,363,364,367,368,375,380,390,393,394,395,398])\n"
     ]
    }
   ],
   "source": [
    "cs,_ = make_two_level_random_graph(t)\n",
    "#println(sort(sample_in_edges(cs,11,39)))\n",
    "#println(sample_out_edges(cs,11,40))\n",
    "println(degree(cs),mean(degree(cs)))\n",
    "for i in 1:t.N\n",
    "    println(\"i: $i, $(neighbors(cs,i)))\")\n",
    "end"
   ]
  },
  {
   "cell_type": "code",
   "execution_count": 92,
   "metadata": {
    "collapsed": false
   },
   "outputs": [
    {
     "name": "stdout",
     "output_type": "stream",
     "text": [
      "3 "
     ]
    },
    {
     "data": {
      "text/plain": [
       "({20, 24} undirected graph,[[1,2,3,4],[5,6,7,8],[9,10,11,12],[13,14,15,16],[17,18,19,20]])"
      ]
     },
     "execution_count": 92,
     "metadata": {},
     "output_type": "execute_result"
    },
    {
     "name": "stdout",
     "output_type": "stream",
     "text": [
      "6 0.3333333333333333\n",
      "2 6 0.3333333333333333\n",
      "3 6 0.3333333333333333\n",
      "4 6 0.3333333333333333\n",
      "4 6 0.3333333333333333\n"
     ]
    }
   ],
   "source": [
    "cs = make_two_level_random_graph(t)"
   ]
  },
  {
   "cell_type": "code",
   "execution_count": 142,
   "metadata": {
    "collapsed": false
   },
   "outputs": [
    {
     "data": {
      "text/plain": [
       "1-element Array{Int64,1}:\n",
       " 3"
      ]
     },
     "execution_count": 142,
     "metadata": {},
     "output_type": "execute_result"
    }
   ],
   "source": [
    "intersect([1,2,3],[3,4,5])"
   ]
  },
  {
   "cell_type": "code",
   "execution_count": 90,
   "metadata": {
    "collapsed": false
   },
   "outputs": [
    {
     "data": {
      "text/plain": [
       "2"
      ]
     },
     "execution_count": 90,
     "metadata": {},
     "output_type": "execute_result"
    }
   ],
   "source": [
    "splice!([1,2,3],2)"
   ]
  },
  {
   "cell_type": "markdown",
   "metadata": {},
   "source": [
    "# Questions\n",
    "\n",
    "## What do we do with knowledge of $P(x | y)$? How do we calculate the dynamics from there\n",
    "## Make sure we have factors of $y (1 - y)$ correctly\n",
    "## what are we using as the transition probabilities? Should we just average over all possible values of $i_r$ and $i_l$?\n",
    "\n",
    "\n",
    "# TODO\n",
    "\n",
    "## Have simulations output a detailed history of which node was infected at what time. That can be used to find the prevalence in each community, given the clusters.\n",
    "\n",
    "## Implement a version with binomial sampling of edges intra-nodes and inter-nodes (so the numbers are not exact)"
   ]
  },
  {
   "cell_type": "code",
   "execution_count": null,
   "metadata": {
    "collapsed": true
   },
   "outputs": [],
   "source": []
  },
  {
   "cell_type": "code",
   "execution_count": null,
   "metadata": {
    "collapsed": true
   },
   "outputs": [],
   "source": []
  }
 ],
 "metadata": {
  "kernelspec": {
   "display_name": "Julia 0.4.3",
   "language": "julia",
   "name": "julia-0.4"
  },
  "language_info": {
   "file_extension": ".jl",
   "mimetype": "application/julia",
   "name": "julia",
   "version": "0.4.3"
  }
 },
 "nbformat": 4,
 "nbformat_minor": 0
}
