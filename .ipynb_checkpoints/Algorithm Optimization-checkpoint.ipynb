{
 "cells": [
  {
   "cell_type": "code",
   "execution_count": 1,
   "metadata": {
    "collapsed": true
   },
   "outputs": [],
   "source": [
    "from graph_reciprocity import *\n",
    "from nonlinear_selection import *\n",
    "from graph_epidemic import *\n",
    "%load_ext autoreload\n",
    "%autoreload 2"
   ]
  },
  {
   "cell_type": "code",
   "execution_count": 2,
   "metadata": {
    "collapsed": false
   },
   "outputs": [],
   "source": [
    "def get_y_eff(y,k):\n",
    "    return y*(1 + (1-y)/(y*k))\n",
    "\n",
    "def get_s_eff(y,alpha,beta,k):\n",
    "    return alpha*get_y_eff(y,k) - beta"
   ]
  },
  {
   "cell_type": "code",
   "execution_count": 3,
   "metadata": {
    "collapsed": false
   },
   "outputs": [
    {
     "name": "stdout",
     "output_type": "stream",
     "text": [
      "20 6.4 1.6\n",
      "0.0\n",
      "y_n = 0.25, y_- = 0.0366116523517, y_+ = 0.213388347648, y_p = 0.278093108924, critical determinant = 0.5\n",
      "n_n = 5.0\n"
     ]
    }
   ],
   "source": [
    "n_n = 5\n",
    "c_r = 0.5\n",
    "N = 20\n",
    "beta = 4.0/(c_r*n_n)\n",
    "alpha = (N*beta)/n_n\n",
    "\n",
    "k_sparse = 4.0\n",
    "k = N-1\n",
    "print N,alpha,beta\n",
    "print (beta/alpha - 1.0/k_sparse)/(1 - 1.0/k_sparse)\n",
    "\n",
    "y_n, y_minus,y_plus,y_p,critical_determinant = get_parameters(N,alpha,beta)"
   ]
  },
  {
   "cell_type": "code",
   "execution_count": 4,
   "metadata": {
    "collapsed": false
   },
   "outputs": [
    {
     "name": "stderr",
     "output_type": "stream",
     "text": [
      "nonlinear_selection.py:125: RuntimeWarning: invalid value encountered in divide\n",
      "  return f(y)/y - beta\n",
      "nonlinear_selection.py:128: RuntimeWarning: divide by zero encountered in divide\n",
      "  return y*(1 + (1-y)/(y*k))\n"
     ]
    },
    {
     "name": "stdout",
     "output_type": "stream",
     "text": [
      "20 6.4 1.6\n",
      "y_n = 0.25, y_- = 0.0366116523517, y_+ = 0.213388347648, y_p = 0.278093108924, critical determinant = 0.5\n",
      "n_n = 5.0\n"
     ]
    },
    {
     "name": "stderr",
     "output_type": "stream",
     "text": [
      "nonlinear_selection.py:128: RuntimeWarning: invalid value encountered in multiply\n",
      "  return y*(1 + (1-y)/(y*k))\n"
     ]
    }
   ],
   "source": [
    "#%pylab inline\n",
    "plot_schematic(n_n,c_r,N,4)"
   ]
  },
  {
   "cell_type": "code",
   "execution_count": 6,
   "metadata": {
    "collapsed": false
   },
   "outputs": [
    {
     "name": "stdout",
     "output_type": "stream",
     "text": [
      "y_n = 0.25, y_- = 0.0366116523517, y_+ = 0.213388347648, y_p = 0.278093108924, critical determinant = 0.5\n",
      "n_n = 5.0\n",
      "T_ave = 0.566472421223, P_fix = 0.02735\n",
      "y_n = 0.25, y_- = 0.0366116523517, y_+ = 0.213388347648, y_p = 0.278093108924, critical determinant = 0.5\n",
      "n_n = 5.0\n",
      "T_ave = 0.552756756757, P_fix = 0.0\n",
      "0.0309822038632\n"
     ]
    }
   ],
   "source": [
    "k = N- 1\n",
    "k_sparse = 4.0\n",
    "num_trials_well_mixed = 20000\n",
    "num_trials = 1000\n",
    "regular = True\n",
    "plotting = False\n",
    "epidemic_sizes,fixed = run_epidemics(N,alpha,beta,num_trials=num_trials_well_mixed,plotting=plotting)\n",
    "epidemic_sizes_g, fixed_g = run_epidemics(N,alpha,beta,num_trials=num_trials,plotting=plotting,\\\n",
    "                                      trajectory_fn = lambda a,b,c: simulate_graph_trajectory_adaptive(a,b,c,k=k,regular= regular))\n",
    "# epidemic_sizes_g2, fixed_g2 = run_epidemics(N,alpha,beta,num_trials=num_trials,plotting=plotting,\\\n",
    "#                                       trajectory_fn = lambda a,b,c: simulate_graph_trajectory_adaptive(a,b,c,k=k/2.0))\n",
    "# epidemic_sizes_g5, fixed_g5 = run_epidemics(N,alpha,beta,num_trials=num_trials,plotting=plotting,\\\n",
    "#                                       trajectory_fn = lambda a,b,c: simulate_graph_trajectory_adaptive(a,b,c,k=k_sparse,regular=regular))\n",
    "\n",
    "#print (1.0/N)/y_p\n",
    "print P_fix(1.0/N,alpha,beta,N)"
   ]
  },
  {
   "cell_type": "code",
   "execution_count": 11,
   "metadata": {
    "collapsed": false
   },
   "outputs": [
    {
     "data": {
      "text/plain": [
       "0.0"
      ]
     },
     "execution_count": 11,
     "metadata": {},
     "output_type": "execute_result"
    }
   ],
   "source": [
    "sum(fixed_g)/len(fixed_g)"
   ]
  },
  {
   "cell_type": "code",
   "execution_count": 16,
   "metadata": {
    "collapsed": false
   },
   "outputs": [],
   "source": [
    "e_sizes_arr = [epidemic_sizes,epidemic_sizes_g,epidemic_sizes_g2,epidemic_sizes_g5]\n",
    "fixed_arr = [fixed,fixed_g,fixed_g2,fixed_g5]"
   ]
  },
  {
   "cell_type": "code",
   "execution_count": 32,
   "metadata": {
    "collapsed": false
   },
   "outputs": [],
   "source": [
    "savez('N40run',N=N,alpha=alpha,beta=beta,k_sparse=k_sparse,e_sizes_arr=e_sizes_arr,fixed_arr=fixed_arr)\n"
   ]
  },
  {
   "cell_type": "code",
   "execution_count": 9,
   "metadata": {
    "collapsed": false
   },
   "outputs": [
    {
     "name": "stdout",
     "output_type": "stream",
     "text": [
      "1.81508431144\n",
      "1.32000595238\n",
      "1.4420297619\n",
      "1.63073690476\n"
     ]
    }
   ],
   "source": [
    "data = load('N40run.npz')\n",
    "e_sizes_arr = data['e_sizes_arr']\n",
    "fixed_arr = data['fixed_arr']\n",
    "close(3)\n",
    "for i,e_sizes in enumerate(e_sizes_arr):\n",
    "    print mean(e_sizes)\n",
    "    if i ==2:\n",
    "        continue\n",
    "\n",
    "    fixed_curr = fixed_arr[i]\n",
    "\n",
    "    #close(1)\n",
    "    figure(3)\n",
    "    hold(1)\n",
    "    nbins = 40\n",
    "    bins = np.logspace(0,log10(max(e_sizes[fixed_curr == 0])),nbins)\n",
    "    hist(e_sizes[fixed_curr == 0],log=True,bins=bins,alpha=0.3,normed=True,label='simulation' + str(i))\n",
    "    xlabel('$w$',size=20)\n",
    "    ylabel('$P(w)$',size=20)\n",
    "    gca().set_xscale('log')\n",
    "    w_range = np.logspace(0,log10(max(e_sizes[fixed_curr == 0])))\n",
    "    P_w_th_range = P_w_th(w_range,s(sqrt(w_range)/N,alpha,beta))\n",
    "    P_w_th_range_eff = P_w_th(w_range,get_s_eff(sqrt(w_range)/N,alpha,beta,k_sparse))\n",
    "\n",
    "    def normed_distribution(x,px):\n",
    "        return px/sum(diff(x)*px[:-1])\n",
    "\n",
    "    if i == 0:\n",
    "        #normed = integrate.quad(lambda x: P_w_th(x,0),min(epidemic_sizes[fixed_curr==0]),max(epidemic_sizes[fixed_curr==0]))[0]\n",
    "        plot(w_range,normed_distribution(w_range,P_w_th_range),'-r',label=r'theory')#$P(w) \\sim e^{- s(\\sqrt{w})^2 w/4} w^{-3/2}/(1 + s(\\sqrt{w}))$ (theory)')\n",
    "        plot(w_range,normed_distribution(w_range,P_w_th_range_eff),'-g',label=r'effective theory')#$P(w) \\sim e^{- s(\\sqrt{w})^2 w/4} w^{-3/2}/(1 + s(\\sqrt{w}))$ (theory)')\n",
    "\n",
    "        #plot(w_range,s(sqrt(w_range)/N,alpha,beta)**2*w_range/4.0,label=r'$s(\\sqrt{w})^2 w /4$')\n",
    "        axvline((2*y_p*N)**2,color = 'k',label=r'$w=4(y_p N)^2$')\n",
    "        axvline((2*y_n*N)**2,color = 'k',label=r'$w=4(y_n N)^2$',linestyle='--')\n",
    "        grid()\n",
    "        if (y_minus > 0):\n",
    "            axvline((2*y_minus*N)**2,color = 'r',label=r'$w=4(y_- N)^2$')\n",
    "    legend(prop={'size':15},loc='upper right')"
   ]
  },
  {
   "cell_type": "code",
   "execution_count": 5,
   "metadata": {
    "collapsed": false
   },
   "outputs": [
    {
     "name": "stdout",
     "output_type": "stream",
     "text": [
      "The line_profiler extension is already loaded. To reload it, use:\n",
      "  %reload_ext line_profiler\n"
     ]
    }
   ],
   "source": [
    "%load_ext line_profiler\n",
    "num_trials = 20\n",
    "regular = True\n",
    "plotting = False"
   ]
  },
  {
   "cell_type": "code",
   "execution_count": 10,
   "metadata": {
    "collapsed": false
   },
   "outputs": [
    {
     "name": "stdout",
     "output_type": "stream",
     "text": [
      "y_n = 0.1, y_- = 0.0146446609407, y_+ = 0.0853553390593, y_p = 0.11123724357, critical determinant = 0.5\n",
      "n_n = 10.0\n",
      "T_ave = 0.384444444444, P_fix = 0.0\n",
      "\n"
     ]
    }
   ],
   "source": [
    "%lprun -f update_node -f get_infected_neighbor_fraction run_epidemics(N,alpha,beta,num_trials=num_trials,plotting=plotting,\\\n",
    "                                       trajectory_fn = lambda a,b,c: simulate_graph_trajectory_adaptive(a,b,c,k=N-1,regular= regular))\n"
   ]
  },
  {
   "cell_type": "code",
   "execution_count": 14,
   "metadata": {
    "collapsed": false
   },
   "outputs": [],
   "source": []
  },
  {
   "cell_type": "code",
   "execution_count": 15,
   "metadata": {
    "collapsed": false
   },
   "outputs": [],
   "source": []
  },
  {
   "cell_type": "code",
   "execution_count": 16,
   "metadata": {
    "collapsed": false
   },
   "outputs": [
    {
     "data": {
      "text/plain": [
       "0.0"
      ]
     },
     "execution_count": 16,
     "metadata": {},
     "output_type": "execute_result"
    }
   ],
   "source": [
    "a"
   ]
  },
  {
   "cell_type": "code",
   "execution_count": null,
   "metadata": {
    "collapsed": false
   },
   "outputs": [],
   "source": []
  }
 ],
 "metadata": {
  "kernelspec": {
   "display_name": "Python 2",
   "language": "python",
   "name": "python2"
  },
  "language_info": {
   "codemirror_mode": {
    "name": "ipython",
    "version": 2
   },
   "file_extension": ".py",
   "mimetype": "text/x-python",
   "name": "python",
   "nbconvert_exporter": "python",
   "pygments_lexer": "ipython2",
   "version": "2.7.3"
  }
 },
 "nbformat": 4,
 "nbformat_minor": 0
}
