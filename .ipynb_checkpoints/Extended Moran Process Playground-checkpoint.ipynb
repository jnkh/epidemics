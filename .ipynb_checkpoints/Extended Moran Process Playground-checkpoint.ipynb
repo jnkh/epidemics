{
 "metadata": {
  "name": "",
  "signature": "sha256:8d8f73ae177629d64ed25d87969a0aca41f723b3a240826a94e8c728bb34b590"
 },
 "nbformat": 3,
 "nbformat_minor": 0,
 "worksheets": [
  {
   "cells": [
    {
     "cell_type": "code",
     "collapsed": false,
     "input": [
      "#builds our transition matrix with a bias in the reproduction given by g(i)\n",
      "#g(i) = 1 corresponds to the standard Moran process\n",
      "\n",
      "def build_transition_matrix(N,g = lambda x: 1):\n",
      "    M = zeros((N+1,N+1))\n",
      "    for i in range(N+1):\n",
      "        norm = N**2 + (g(i)-1)*i*(N-i)\n",
      "        if i < N:\n",
      "            M[i,i+1] = 1.0*g(i)*i*(N-i)/norm\n",
      "        if i > 0:\n",
      "            M[i,i-1] = 1.0*(N-i)*i/norm\n",
      "        M[i,i] = 1.0*((N-i)**2 + i**2)/norm\n",
      "    M[0,0] = 1\n",
      "    M[-1,-1] = 1\n",
      "    M = matrix(M)\n",
      "    return M"
     ],
     "language": "python",
     "metadata": {},
     "outputs": [],
     "prompt_number": 84
    },
    {
     "cell_type": "code",
     "collapsed": false,
     "input": [
      "N = 100\n",
      "#choose a function g here. g = 1 corresponds to standard Moran\n",
      "g = lambda x: 1 + 1.0*exp(-(x-30)**2/10.0) # a 'bump' around a certain range of i\n",
      "M = build_transition_matrix(N,g)"
     ],
     "language": "python",
     "metadata": {},
     "outputs": [],
     "prompt_number": 126
    },
    {
     "cell_type": "code",
     "collapsed": false,
     "input": [
      "#plot the fixation probability as a function of the initial allele frequency\n",
      "%pylab inline\n",
      "steady_state_mat = M**(N**3)\n",
      "fix_prob = zeros(N+1)\n",
      "js = range(N+1)\n",
      "for j in js:\n",
      "    start_vec = matrix(zeros((1,N+1)))\n",
      "    start_vec[0,j] = 1\n",
      "    fix_prob[j] = (start_vec*steady_state_mat)[0,-1]\n",
      "plot(fix_prob,label='with $g(i)$')\n",
      "plot(1.0*array(js)/(N),'--k',label='Moran')\n",
      "plot(js,g(array(js)),label='$g(i)$')\n",
      "legend()\n",
      "xlabel('$i$',size=20)\n",
      "ylabel('$p_{fix}(i)$',size=20)"
     ],
     "language": "python",
     "metadata": {},
     "outputs": [
      {
       "output_type": "stream",
       "stream": "stdout",
       "text": [
        "Populating the interactive namespace from numpy and matplotlib\n"
       ]
      },
      {
       "metadata": {},
       "output_type": "pyout",
       "prompt_number": 125,
       "text": [
        "<matplotlib.text.Text at 0x6abbf50>"
       ]
      },
      {
       "metadata": {},
       "output_type": "display_data",
       "png": "[encoded data removed]",
       "text": [
        "<matplotlib.figure.Figure at 0x5d9af90>"
       ]
      }
     ],
     "prompt_number": 125
    },
    {
     "cell_type": "markdown",
     "metadata": {},
     "source": [
      "Once we are past the bump, it is almost impossible to go through it backwards, because the transition probabilities 'push' to higher i."
     ]
    },
    {
     "cell_type": "code",
     "collapsed": false,
     "input": [],
     "language": "python",
     "metadata": {},
     "outputs": []
    }
   ],
   "metadata": {}
  }
 ]
}