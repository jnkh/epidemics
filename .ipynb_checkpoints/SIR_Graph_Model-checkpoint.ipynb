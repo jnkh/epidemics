{
 "metadata": {
  "name": "",
  "signature": "sha256:558416f30b99eaee517d84764a33b866ba75ce2e6d1b8b01366c0d5dc8d1d49d"
 },
 "nbformat": 3,
 "nbformat_minor": 0,
 "worksheets": [
  {
   "cells": [
    {
     "cell_type": "heading",
     "level": 2,
     "metadata": {},
     "source": [
      "SIR Infection Model on a Graph"
     ]
    },
    {
     "cell_type": "markdown",
     "metadata": {},
     "source": [
      "Initially, we have a number of infected individuals among $N_{nodes}$ total individuals. All non-infecteds are susceptible. At any given timestep, all nodes are updated simultaneously as follows:\n",
      "\n",
      "For a given node, let $x$ be the fraction of infected neighbors. Then $p_{infect}(x)$ and $p_{recover}(x)$ are the probabilities this node node getting infected (given that it is susceptible) or of this node recovering (given that it was infected) during a given time step of length $1$.\n",
      "\n",
      "We perform this update until there are no more infected nodes, at which point the dynamics stop."
     ]
    },
    {
     "cell_type": "code",
     "collapsed": false,
     "input": [
      "from graph_reciprocity import *\n",
      "from nonlinear_selection import *\n",
      "from graph_epidemic import *\n",
      "%load_ext autoreload\n",
      "%autoreload 2"
     ],
     "language": "python",
     "metadata": {},
     "outputs": [
      {
       "output_type": "stream",
       "stream": "stdout",
       "text": [
        "The autoreload extension is already loaded. To reload it, use:\n",
        "  %reload_ext autoreload\n"
       ]
      }
     ],
     "prompt_number": 22
    },
    {
     "cell_type": "code",
     "collapsed": false,
     "input": [],
     "language": "python",
     "metadata": {},
     "outputs": [],
     "prompt_number": 18
    },
    {
     "cell_type": "code",
     "collapsed": false,
     "input": [
      "n_n = 10\n",
      "c_r = 15.5\n",
      "N = 50\n",
      "beta = 4/(c_r*n_n)\n",
      "alpha = (N*beta)/n_n\n",
      "print N,alpha,beta\n",
      "\n",
      "y_n, y_minus,y_plus,y_p,critical_determinant = get_parameters(N,alpha,beta)"
     ],
     "language": "python",
     "metadata": {},
     "outputs": [
      {
       "output_type": "stream",
       "stream": "stdout",
       "text": [
        "50 0.129032258065 0.0258064516129\n",
        "y_n = 0.2, y_- = -1, y_+ = -1, y_p = 0.506201920232, critical determinant = 15.5\n",
        "n_n = 10.0\n"
       ]
      }
     ],
     "prompt_number": 23
    },
    {
     "cell_type": "code",
     "collapsed": false,
     "input": [
      "epidemic_sizes,fixed = run_epidemics(N,alpha,beta,num_trials=10,plotting=1,trajectory_fn = simulate_graph_trajectory_adaptive)\n",
      "#print (1.0/N)/y_p\n",
      "print P_fix(1.0/N,alpha,beta,N)"
     ],
     "language": "python",
     "metadata": {},
     "outputs": [
      {
       "output_type": "stream",
       "stream": "stdout",
       "text": [
        "y_n = 0.2, y_- = -1, y_+ = -1, y_p = 0.506201920232, critical determinant = 15.5\n",
        "n_n = 10.0\n",
        "T_ave = 5.22571428571, P_fix = 0.0"
       ]
      },
      {
       "output_type": "stream",
       "stream": "stdout",
       "text": [
        "\n",
        "0.026495770951\n"
       ]
      }
     ],
     "prompt_number": 20
    },
    {
     "cell_type": "code",
     "collapsed": false,
     "input": [
      "epidemic_sizes,fixed = run_epidemics(N,alpha,beta,num_trials=10,plotting=1)\n",
      "#print (1.0/N)/y_p\n",
      "print P_fix(1.0/N,alpha,beta,N)"
     ],
     "language": "python",
     "metadata": {},
     "outputs": [
      {
       "output_type": "stream",
       "stream": "stdout",
       "text": [
        "y_n = 0.2, y_- = -1, y_+ = -1, y_p = 0.506201920232, critical determinant = 15.5\n",
        "n_n = 10.0\n",
        "T_ave = 1.74496855346, P_fix = 0.0"
       ]
      },
      {
       "output_type": "stream",
       "stream": "stdout",
       "text": [
        "\n",
        "0.026495770951\n"
       ]
      }
     ],
     "prompt_number": 21
    },
    {
     "cell_type": "markdown",
     "metadata": {},
     "source": [
      "The cell below sets up a graph problem with the appropriate parameters"
     ]
    },
    {
     "cell_type": "code",
     "collapsed": false,
     "input": [
      "plotting = 1\n",
      "N_nodes = 100\n",
      "k = 10\n",
      "p_edge = 1.0*k/N_nodes\n",
      "num_infected_init = 1\n",
      "G = create_scale_free_graph(N_nodes,p_edge,num_infected_init)\n"
     ],
     "language": "python",
     "metadata": {},
     "outputs": [],
     "prompt_number": 2
    },
    {
     "cell_type": "markdown",
     "metadata": {},
     "source": [
      "Execute a run of the simulation and view the results"
     ]
    },
    {
     "cell_type": "code",
     "collapsed": false,
     "input": [
      "set_graph_strategies(G,num_infected_init,pos_infected=[8])\n",
      "if plotting:\n",
      "    figure(1)\n",
      "    hold(0)\n",
      "num_infected = num_infected_init\n",
      "num_infecteds = [num_infected]\n",
      "while num_infected > 0:\n",
      "    if plotting:\n",
      "        draw_graph(G,pos=pos)\n",
      "        pause(0.05)\n",
      "    update_graph(G,p_recover,p_infect)\n",
      "    num_infected = get_num_infected(G)\n",
      "    num_infecteds.append(num_infected)\n",
      "    print num_infected\n",
      "print num_infecteds,sum(num_infecteds)*p_recover(0.5)\n",
      "print get_num_with_strategy(G,recovered)"
     ],
     "language": "python",
     "metadata": {},
     "outputs": [
      {
       "output_type": "stream",
       "stream": "stdout",
       "text": [
        "6\n",
        "5"
       ]
      },
      {
       "output_type": "stream",
       "stream": "stdout",
       "text": [
        "\n",
        "2"
       ]
      },
      {
       "output_type": "stream",
       "stream": "stdout",
       "text": [
        "\n",
        "0"
       ]
      },
      {
       "output_type": "stream",
       "stream": "stdout",
       "text": [
        "\n",
        "[1, 6, 5, 2, 0] 14.0\n",
        "14\n"
       ]
      },
      {
       "output_type": "stream",
       "stream": "stderr",
       "text": [
        "/home/julian/Apps/epd-7.3-1/lib/python2.7/site-packages/matplotlib/backend_bases.py:2407: MatplotlibDeprecationWarning: Using default event loop until function specific to this GUI is implemented\n",
        "  warnings.warn(str, mplDeprecation)\n"
       ]
      }
     ],
     "prompt_number": 3
    },
    {
     "cell_type": "code",
     "collapsed": false,
     "input": [
      "figure(2)\n",
      "hold(1)\n",
      "semilogy(num_infecteds)\n",
      "xlabel(r'$t$',size=20)\n",
      "ylabel(r'$n_{infected}(t)$',size=20)"
     ],
     "language": "python",
     "metadata": {},
     "outputs": [
      {
       "metadata": {},
       "output_type": "pyout",
       "prompt_number": 10,
       "text": [
        "<matplotlib.text.Text at 0x4bfe810>"
       ]
      }
     ],
     "prompt_number": 10
    },
    {
     "cell_type": "markdown",
     "metadata": {},
     "source": [
      "Plot the the functional forms of $p_{infect}$ and $p_{recovered}$"
     ]
    },
    {
     "cell_type": "code",
     "collapsed": false,
     "input": [
      "close(3)\n",
      "figure(3)\n",
      "x_range = arange(0,1,0.01)\n",
      "hold(1)\n",
      "plot(x_range,ones_like(x_range)*p_recover(x_range),label=r'$p_{recover}(x)$')\n",
      "plot(x_range,ones_like(x_range)*p_infect(x_range),label=r'$p_{infect}(x)$')\n",
      "grid()\n",
      "legend(loc='lower right',prop={'size':15})\n",
      "xlabel(r'$x$',size=20)\n",
      "xlabel(r'$p(x)$',size=20)\n",
      "xlim(-0.2,1.2)\n",
      "ylim(-0.2,1.2)"
     ],
     "language": "python",
     "metadata": {},
     "outputs": [
      {
       "metadata": {},
       "output_type": "pyout",
       "prompt_number": 4,
       "text": [
        "(-0.2, 1.2)"
       ]
      }
     ],
     "prompt_number": 4
    },
    {
     "cell_type": "markdown",
     "metadata": {},
     "source": [
      "Notes:\n",
      "- Erdos-Renyi random graphs\n",
      "    - $k/N$ constant, $N \\to \\infty$, we should recover well mixed results\n",
      "    - $k$ fixed, $N \\to \\infty$, we should have an independent branching process for each infected, can test the result.\n",
      "- Are social networks well approximated by random graphs ofhighly clustered super nodes?\n",
      "    - Do real graphs actually look like this?\n",
      "    -How do these hierarchical graphs behave? We should be able to apply our insights for E-R random graphs\n",
      "- Can we reason about E[1st degree infections]? The infected nodes will be biased by their degree, so we have to do successive iterations of n'th degree infected, taking care of these biases\n",
      "- Understand the traveling wave dynamics\n",
      "- Can we understand adoption strategy game-theoretically? I should adopt a trend when it is likely to fix, but thislikelihood depends on other peoples strategies of adoption!"
     ]
    },
    {
     "cell_type": "code",
     "collapsed": false,
     "input": [],
     "language": "python",
     "metadata": {},
     "outputs": []
    }
   ],
   "metadata": {}
  }
 ]
}