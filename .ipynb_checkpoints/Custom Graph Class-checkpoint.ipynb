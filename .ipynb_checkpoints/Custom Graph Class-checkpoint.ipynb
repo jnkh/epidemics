{
 "cells": [
  {
   "cell_type": "code",
   "execution_count": 1,
   "metadata": {
    "collapsed": false
   },
   "outputs": [
    {
     "name": "stderr",
     "output_type": "stream",
     "text": [
      "WARNING: Method definition partitions(Integer) in module Base at combinatorics.jl:252 overwritten in module Combinatorics at /Users/julian/.julia/v0.4/Combinatorics/src/partitions.jl:26.\n",
      "WARNING: Method definition partitions(Integer, Integer) in module Base at combinatorics.jl:318 overwritten in module Combinatorics at /Users/julian/.julia/v0.4/Combinatorics/src/partitions.jl:93.\n",
      "WARNING: Method definition partitions(AbstractArray{T<:Any, 1}) in module Base at combinatorics.jl:380 overwritten in module Combinatorics at /Users/julian/.julia/v0.4/Combinatorics/src/partitions.jl:158.\n",
      "WARNING: Method definition partitions(AbstractArray{T<:Any, 1}, Int64) in module Base at combinatorics.jl:447 overwritten in module Combinatorics at /Users/julian/.julia/v0.4/Combinatorics/src/partitions.jl:228.\n",
      "WARNING: Method definition nthperm(AbstractArray{#T<:Integer, 1}) in module Base at combinatorics.jl:92 overwritten in module Combinatorics at /Users/julian/.julia/v0.4/Combinatorics/src/permutations.jl:161.\n",
      "WARNING: Method definition nthperm(AbstractArray{T<:Any, 1}, Integer) in module Base at combinatorics.jl:89 overwritten in module Combinatorics at /Users/julian/.julia/v0.4/Combinatorics/src/permutations.jl:157.\n",
      "WARNING: Method definition levicivita(AbstractArray{#T<:Integer, 1}) in module Base at combinatorics.jl:611 overwritten in module Combinatorics at /Users/julian/.julia/v0.4/Combinatorics/src/permutations.jl:188.\n",
      "WARNING: Method definition nthperm!(AbstractArray{T<:Any, 1}, Integer) in module Base at combinatorics.jl:70 overwritten in module Combinatorics at /Users/julian/.julia/v0.4/Combinatorics/src/permutations.jl:136.\n",
      "WARNING: Method definition factorial(#T<:Integer, #T<:Integer) in module Base at combinatorics.jl:56 overwritten in module Combinatorics at /Users/julian/.julia/v0.4/Combinatorics/src/factorials.jl:18.\n",
      "WARNING: Method definition factorial(Integer, Integer) in module Base at combinatorics.jl:66 overwritten in module Combinatorics at /Users/julian/.julia/v0.4/Combinatorics/src/factorials.jl:28.\n",
      "WARNING: Method definition parity(AbstractArray{#T<:Integer, 1}) in module Base at combinatorics.jl:642 overwritten in module Combinatorics at /Users/julian/.julia/v0.4/Combinatorics/src/permutations.jl:221.\n",
      "WARNING: Method definition permutations(Any) in module Base at combinatorics.jl:219 overwritten in module Combinatorics at /Users/julian/.julia/v0.4/Combinatorics/src/permutations.jl:24.\n",
      "WARNING: Method definition combinations(Any, Integer) in module Base at combinatorics.jl:182 overwritten in module Combinatorics at /Users/julian/.julia/v0.4/Combinatorics/src/combinations.jl:42.\n",
      "WARNING: Method definition prevprod(Array{Int64, 1}, Any) in module Base at combinatorics.jl:565 overwritten in module Combinatorics at /Users/julian/.julia/v0.4/Combinatorics/src/partitions.jl:354.\n",
      "WARNING: @defVar is deprecated, use @variable instead.\n",
      "WARNING: @addConstraint is deprecated, use @constraint instead.\n",
      "WARNING: @setObjective is deprecated, use @objective instead.\n"
     ]
    }
   ],
   "source": [
    "#Pkg.update()\n",
    "#Pkg.add(\"Distributions\")\n",
    "#Pkg.add(\"LightGraphs\")\n",
    "#Pkg.add(\"Cubature\")\n",
    "#include(\"PayloadGraph.jl\")\n",
    "#include(\"IM.jl\")\n",
    "#include(\"SIS.jl\")\n",
    "push!(LOAD_PATH, pwd())\n",
    "@everywhere using SIS,IM,PayloadGraph,PyPlot, Epidemics\n",
    "import LightGraphs"
   ]
  },
  {
   "cell_type": "code",
   "execution_count": 19,
   "metadata": {
    "collapsed": false,
    "scrolled": true
   },
   "outputs": [
    {
     "data": {
      "text/plain": [
       "plot_schematics (generic function with 1 method)"
      ]
     },
     "execution_count": 19,
     "metadata": {},
     "output_type": "execute_result"
    }
   ],
   "source": [
    "function plot_schematic(n_n,c_r,N,k=N-1,plot_k=false)\n",
    "    beta = 4.0/(c_r*n_n)\n",
    "    alpha = (N*beta)/n_n\n",
    "    println(N,alpha,beta)\n",
    "\n",
    "    y_n, y_minus,y_plus,y_p,critical_determinant = get_parameters(N,alpha,beta)\n",
    "    f(y) = alpha.*y.^2\n",
    "    s(y) = f(y)./y - beta\n",
    "    get_y_eff(y,k) = y.*(1 + (1-y)./(y.*k))\n",
    "    get_s_eff(y,alpha,beta,k) = alpha*get_y_eff(y,k) - beta\n",
    "\n",
    "\n",
    "    y_range = collect(0:y_p/1000:1.9*y_p)\n",
    "    figure(1)\n",
    "    plot(y_range,1.0./abs(N*s(y_range)),\"-r\",label=L\"$\\frac{1}{N|s(y)|}$\")\n",
    "    if plot_k\n",
    "        plot(y_range,1.0./abs(N*get_s_eff(y_range,alpha,beta,k)),\"-b\",label=L\"$\\frac{1}{N|s(y_{eff})|}$\")\n",
    "    end\n",
    "    plot(y_range,y_range,\"-k\",label=L\"$y$\")\n",
    "    axvline(y_n,linestyle=\"--\",label=L\"$y_n$\")\n",
    "    axvline(y_p,linestyle=\"-\",label=L\"$y_p$\")\n",
    "    if y_minus > 0\n",
    "        axvline(y_minus,linestyle=\"-.\",label=L\"$y_1$\")\n",
    "        axvline(y_plus,linestyle=\"-.\",label=L\"$y_2$\")\n",
    "    end\n",
    "    ylim([0,1.9*y_p])\n",
    "    legend(prop=Dict{Any,Any}(\"size\"=>15),loc=\"upper right\")\n",
    "    xlabel(L\"$y$\",size=20)\n",
    "    if plot_k\n",
    "        #figure(1)\n",
    "        #plot(y_range,get_s_eff(y_range,alpha,beta,k),\"-b\",label=L\"$s_{eff}(y)$\")\n",
    "        #plot(y_range,s(y_range),\"-r\",label=L\"$s(y)$\")\n",
    "        legend(prop=Dict{Any,Any}(\"size\"=>20),loc=\"upper right\")\n",
    "        xlabel(L\"$y$\",size=20)\n",
    "    end\n",
    "end\n",
    "\n",
    "function plot_schematics(N,n_n,alpha,beta)\n",
    "\n",
    "    pygui(true)\n",
    "    close(\"all\")\n",
    "    dx = 2*n_n/N/50\n",
    "    x = collect(dx:dx:2*n_n/N)\n",
    "    y = IM.P_fix(im,N,x)\n",
    "    yk = IM.P_fix(imk,N,x)\n",
    "    figure(2,figsize=(8,5))\n",
    "    plot(x,y,\"-r\",label=L\"P_{fix}(y)\")\n",
    "    plot(x,yk,\"-b\",label=L\"P_{fix}(y_{eff})\")\n",
    "    plot(x,x,\"--k\")\n",
    "    xlim([0,2*n_n/N])\n",
    "    y_n, y_minus, y_plus, y_p,critical_determinant = get_parameters(N,alpha,beta)\n",
    "    axvline(y_n,linestyle=\"--\",color=\"b\",label=L\"y_n\")\n",
    "    axvline(y_minus,linestyle=\"-.\",color=\"r\",label=L\"y_1\")\n",
    "    axvline(y_plus,linestyle=\"-.\",color=\"r\",label=L\"y_2\")\n",
    "    axvline(y_p,linestyle=\"-\",color=\"b\",label=L\"y_p\")\n",
    "    xlabel(L\"y\")\n",
    "    ylabel(L\"P_{fix}(y)\")\n",
    "    legend(loc=\"upper left\")\n",
    "    title(latexstring(\"\\$y_n = $(n_n/N), c_r = $c_r, N = $N\\$\"))\n",
    "    #savefig(\"p_fix_y_n = $(n_n/N), c_r = $c_r, N = $N.png\")\n",
    "\n",
    "    figure(1,figsize=(8,5))\n",
    "    plot_schematic(n_n,c_r,N,k,true)\n",
    "    title(latexstring(\"\\$y_n = $(n_n/N), c_r = $c_r, N = $N\\$\"))\n",
    "\n",
    "#     figure(3)\n",
    "#     plot(x,get_s_eff(x,alpha,beta,k),\"-b\",label=L\"$s_{eff}(y)$\")\n",
    "#     plot(x,get_s(x,alpha,beta),\"-r\",label=L\"$s(y)$\")\n",
    "#     grid(1)\n",
    "\n",
    "end"
   ]
  },
  {
   "cell_type": "code",
   "execution_count": null,
   "metadata": {
    "collapsed": false
   },
   "outputs": [],
   "source": [
    "addprocs(2)"
   ]
  },
  {
   "cell_type": "markdown",
   "metadata": {},
   "source": [
    "## Set up Model"
   ]
  },
  {
   "cell_type": "code",
   "execution_count": 21,
   "metadata": {
    "collapsed": false
   },
   "outputs": [
    {
     "name": "stdout",
     "output_type": "stream",
     "text": [
      "100 25.0 10.0\n"
     ]
    }
   ],
   "source": [
    "\n",
    "@everywhere begin\n",
    "\n",
    "k = 4\n",
    "#y_n = 0.1\n",
    "c_r = 0.01\n",
    "N = 100\n",
    "n_n = 40#y_n*N\n",
    "beta = 4.0/(c_r*n_n)\n",
    "alpha = (N*beta)/n_n\n",
    "println(N, ' ' ,alpha, ' ',beta)\n",
    "\n",
    "im = InfectionModel(x -> 1 + alpha*x , x -> 1 + beta);\n",
    "imk = InfectionModel(x -> 1 + beta + get_s_eff(x,alpha,beta,k) , x -> 1 + beta);\n",
    "\n",
    "y_n, y_minus, y_plus, y_p,critical_determinant = get_parameters(N,alpha,beta)\n",
    "end"
   ]
  },
  {
   "cell_type": "markdown",
   "metadata": {},
   "source": [
    "Notes on P_fix:\n",
    "\n",
    "- P_fix follows a logistical shape with the point of maximum slope = y_n.\n",
    "- given $n_n$, it is independent of $N$. The larger $n_n$, the sharper the transition.\n",
    "- the smaller $c_r < 1$, the sharper the transition at $y_n$. The larger $c_r < 1$, the shallower the transition\n",
    "- For $c_r > 1$, the growth is linear and reaches $1$ at about $y = y_p$\n"
   ]
  },
  {
   "cell_type": "markdown",
   "metadata": {},
   "source": [
    "# Plot Model"
   ]
  },
  {
   "cell_type": "code",
   "execution_count": 22,
   "metadata": {
    "collapsed": false
   },
   "outputs": [
    {
     "name": "stdout",
     "output_type": "stream",
     "text": [
      "10025.010.0\n"
     ]
    },
    {
     "name": "stderr",
     "output_type": "stream",
     "text": [
      "2016-09-14 21:17:31.764 julia[2968:132960] setCanCycle: is deprecated.  Please use setCollectionBehavior instead\n",
      "2016-09-14 21:17:31.776 julia[2968:132960] setCanCycle: is deprecated.  Please use setCollectionBehavior instead\n",
      "2016-09-14 21:17:32.408 julia[2968:132960] setCanCycle: is deprecated.  Please use setCollectionBehavior instead\n",
      "2016-09-14 21:17:32.415 julia[2968:132960] setCanCycle: is deprecated.  Please use setCollectionBehavior instead\n",
      "2016-09-14 21:17:33.128 julia[2968:132960] setCanCycle: is deprecated.  Please use setCollectionBehavior instead\n",
      "2016-09-14 21:17:33.137 julia[2968:132960] setCanCycle: is deprecated.  Please use setCollectionBehavior instead\n"
     ]
    },
    {
     "ename": "LoadError",
     "evalue": "LoadError: UndefVarError: get_s not defined\nwhile loading In[22], in expression starting on line 1",
     "output_type": "error",
     "traceback": [
      "LoadError: UndefVarError: get_s not defined\nwhile loading In[22], in expression starting on line 1",
      ""
     ]
    }
   ],
   "source": [
    "plot_schematics(N,n_n,alpha,beta)"
   ]
  },
  {
   "cell_type": "markdown",
   "metadata": {},
   "source": [
    "## Get Data"
   ]
  },
  {
   "cell_type": "code",
   "execution_count": null,
   "metadata": {
    "collapsed": false
   },
   "outputs": [],
   "source": [
    "num_trials = 100\n",
    "num_trials_mixed = 100\n",
    "fixation_threshold = 1.0#2*y_n\n",
    "regular=true\n",
    "\n",
    "sizes_mixedk,num_fixed_mixedk,lengthk,runs_mixedk = \n",
    "run_epidemics(num_trials_mixed,imk,(x)\n",
    "    -> run_epidemic_well_mixed(N,x,fixation_threshold))\n",
    "\n",
    "@time sizes_mixed,num_fixed_mixed,length,runs_mixed = \n",
    "run_epidemics(num_trials_mixed,im,(x)\n",
    "    -> run_epidemic_well_mixed(N,x,fixation_threshold))\n",
    "\n",
    "@time sizes_full,num_fixed_full,_,runs_full = \n",
    "    run_epidemics(num_trials,im, (x)\n",
    "-> run_epidemic_graph(N,N-1,x,regular,fixation_threshold))\n",
    "\n",
    "@time sizes,num_fixed,_,runs = \n",
    "    run_epidemics(num_trials,im, (x)\n",
    "    -> run_epidemic_graph(N,k,x,regular,fixation_threshold))\n",
    "\n",
    "\n",
    "#sizes,num_fixed,length,runs = run_epidemics(N,num_trials,im, (N,im) -> run_epidemic_graph(N,k,im,regular))\n",
    "\n",
    "\n",
    "allruns_mixedk = reduce(vcat,runs_mixedk)\n",
    "allruns_mixed = reduce(vcat,runs_mixed)\n",
    "allruns_full = reduce(vcat,runs_full)\n",
    "allruns = reduce(vcat,runs);\n"
   ]
  },
  {
   "cell_type": "code",
   "execution_count": null,
   "metadata": {
    "collapsed": false
   },
   "outputs": [],
   "source": [
    "g = LightGraphs.Graph(10)\n",
    "p = Graph(g,ones(10))\n",
    "@show set_payload(p,2*ones(10))\n",
    "p,2*ones(10)\n",
    "p.payload"
   ]
  },
  {
   "cell_type": "markdown",
   "metadata": {},
   "source": [
    "\n",
    "## Distribution of Max"
   ]
  },
  {
   "cell_type": "code",
   "execution_count": null,
   "metadata": {
    "collapsed": false
   },
   "outputs": [],
   "source": [
    "\n",
    "close(5)\n",
    "figure(5)\n",
    "bins = logspace(log10(0.1),log10(N),100)\n",
    "#PyPlot.plt[:hist]([maximum(r) for r in runs],bins=bins,alpha=0.2,normed=true,log=showlog,label=\"sparse\")\n",
    "PyPlot.plt[:hist]([maximum(r) for r in runs_full],bins=bins,alpha=0.2,normed=true,log=true,label=\"full\")\n",
    "\n",
    "PyPlot.plt[:hist]([maximum(r) for r in runs_mixed],bins=bins,alpha=0.3,normed=true,log=true,label=\"mixed\")\n",
    "#PyPlot.plt[:hist]([maximum(r) for r in runs_mixedk],bins=bins,alpha=0.3,normed=true,log=showlog,label=\"mixed-k\")\n",
    "gca()[:set_xscale](\"log\")\n",
    "legend()"
   ]
  },
  {
   "cell_type": "markdown",
   "metadata": {},
   "source": [
    "## P_fix"
   ]
  },
  {
   "cell_type": "code",
   "execution_count": null,
   "metadata": {
    "collapsed": false
   },
   "outputs": [],
   "source": [
    "println(num_fixed/num_trials,\" \", IM.P_fix(imk,N,1/N))\n",
    "\n",
    "println(num_fixed_full/num_trials,\" \",IM.P_fix(im,N,1/N))\n",
    "# println(num_fixed_fullt/num_trials,\" \",IM.P_fix(im,N,1/N))\n",
    "\n",
    "\n",
    "println(num_fixed_mixed/num_trials_mixed,\" \",IM.P_fix(im,N,1/N))\n",
    "\n",
    "println(num_fixed_mixedk/num_trials_mixed,\" \",IM.P_fix(imk,N,1/N))\n"
   ]
  },
  {
   "cell_type": "code",
   "execution_count": null,
   "metadata": {
    "collapsed": false
   },
   "outputs": [],
   "source": [
    "endrunsfull =[r[end] for r in runs_full] \n",
    "endrunsfull[endrunsfull .!= 100.0]\n",
    "allruns_full_cut = reduce(vcat,runs_full[endrunsfull .!= 100.0])"
   ]
  },
  {
   "cell_type": "markdown",
   "metadata": {},
   "source": [
    "## Distribution vs. Time"
   ]
  },
  {
   "cell_type": "code",
   "execution_count": null,
   "metadata": {
    "collapsed": false,
    "scrolled": true
   },
   "outputs": [],
   "source": [
    "N = 20\n",
    "time_arr = zeros(maximum([size(run) for run in runs_mixed])[1],N+1)\n",
    "for run in runs_mixed\n",
    "    for (i,val) in enumerate(run[1:end-1])\n",
    "        time_arr[i,1+round(val)] += 1\n",
    "    end\n",
    "    T = size(run)[1]\n",
    "    if run[T] >= 20\n",
    "        time_arr[T:end,end] += 1\n",
    "    elseif run[T] == 0\n",
    "        time_arr[T:end,1] += 1\n",
    "    else\n",
    "        println(\"Problem\")\n",
    "        println(run[T])\n",
    "    end\n",
    "end\n",
    "\n",
    "for i in 1:size(time_arr)[1]\n",
    "    time_arr[i,:] /= sum(time_arr[i,:])\n",
    "end"
   ]
  },
  {
   "cell_type": "code",
   "execution_count": null,
   "metadata": {
    "collapsed": false
   },
   "outputs": [],
   "source": [
    "using Interact"
   ]
  },
  {
   "cell_type": "code",
   "execution_count": null,
   "metadata": {
    "collapsed": false
   },
   "outputs": [],
   "source": [
    "f = figure()\n",
    "@manipulate for i = 1:size(time_arr)[1]\n",
    "    withfig(f) do\n",
    "        PyPlot.semilogy(1:20,time_arr[i,:]'+1e-6)\n",
    "        ylim([1e-7,1])\n",
    "    end\n",
    "end"
   ]
  },
  {
   "cell_type": "code",
   "execution_count": null,
   "metadata": {
    "collapsed": false
   },
   "outputs": [],
   "source": [
    "PyPlot.surf(log10(time_arr[:,2:end-1]+1e-6),rstride=20,cstride=2,alpha=0.4)\n",
    "PyPlot.gca()[:view_init](elev=30,azim=210)\n",
    "gca()[:set_xlabel](L\"$t$\")\n",
    "gca()[:set_ylabel](L\"$x$\")\n",
    "gca()[:set_zlabel](L\"$P(x)$\")\n",
    "figure()\n",
    "plot(time_arr[:,end])\n",
    "xlabel(L\"$t$\")\n",
    "ylabel(L\"$P_{fix}(t)$\")\n",
    "figure()\n",
    "plot(time_arr[:,1])\n",
    "xlabel(L\"$t$\")\n",
    "ylabel(L\"$P_{extinct}(t)$\")"
   ]
  },
  {
   "cell_type": "markdown",
   "metadata": {},
   "source": [
    "## General Distribution averaged over time"
   ]
  },
  {
   "cell_type": "code",
   "execution_count": null,
   "metadata": {
    "collapsed": false,
    "scrolled": false
   },
   "outputs": [],
   "source": [
    "close(6)\n",
    "figure(6)\n",
    "showlog = true\n",
    "log_x = false\n",
    "if log_x\n",
    "    bins = linspace(log10(0.1),log10(n_n),20)\n",
    "else\n",
    "    bins = linspace(0,round(1.1*N),1/2*round(1.1*N))\n",
    "end    \n",
    "PyPlot.plt[:hist](allruns_full_cut,bins=bins,alpha=0.2,normed=true,log=showlog,label=\"full\")\n",
    "PyPlot.plt[:hist](allruns,bins=bins,alpha=0.2,normed=true,log=showlog,label=\"sparse\")\n",
    "PyPlot.plt[:hist](allruns_mixed,bins=bins,alpha=0.3,normed=true,log=showlog,label=\"mixed\")\n",
    "PyPlot.plt[:hist](allruns_mixedk,bins=bins,alpha=0.3,normed=true,log=showlog,label=\"mixed-k\")\n",
    "if log_x\n",
    "    gca()[:set_xscale](\"log\")\n",
    "end\n",
    "#PyPlot.plt[:hist](allruns_full,bins=linspace(0,n_n,20),alpha=0.2,normed=true,log=true,label=\"dense\")\n",
    "xlim([0,300])#xlim([0,1.1*N])\n",
    "legend()"
   ]
  },
  {
   "cell_type": "code",
   "execution_count": null,
   "metadata": {
    "collapsed": true
   },
   "outputs": [],
   "source": [
    "close(\"all\")"
   ]
  },
  {
   "cell_type": "markdown",
   "metadata": {},
   "source": [
    "## Distribution of $w$"
   ]
  },
  {
   "cell_type": "code",
   "execution_count": null,
   "metadata": {
    "collapsed": false
   },
   "outputs": [],
   "source": [
    "figure()\n",
    "bins = logspace(log10(minimum(sizes_mixed)),log10(maximum(sizes_mixedk)),150)\n",
    "PyPlot.plt[:hist](sizes,log=true,bins=bins,alpha=0.2,normed=true,label=L\"graph, $degree = k$\")\n",
    "PyPlot.plt[:hist](sizes_full,log=true,bins=bins,alpha=0.2,normed=true,label=\"full\")\n",
    "PyPlot.plt[:hist](sizes_mixedk,log=true,bins=bins,alpha=0.2,normed=true,label=L\"mixed, $degree = k$\")\n",
    "PyPlot.plt[:hist](sizes_mixed,log=true,bins=bins,alpha=0.2,normed=true,label=L\"mixed, $degree = N-1$\")\n",
    "\n",
    "\n",
    "#PyPlot.plt.hist(sizes_full,log=true,bins=bins,alpha=0.5,normed=true,label=\"full\")\n",
    "gca()[:set_xscale](\"log\")\n",
    "\n",
    "w_range = bins[1:end]#logspace(log10(4*minimum(sizes)),log10(maximum(sizes)),30)\n",
    "\n",
    "P_w_th_range = normed_distribution(w_range,P_w_th(w_range,s(sqrt(w_range)./N,alpha,beta)))\n",
    "P_w_th_range_eff = normed_distribution(w_range,P_w_th(w_range,get_s_eff(sqrt(w_range)./N,alpha,beta,k)))\n",
    "\n",
    "plot(w_range,3*P_w_th_range,\"-r\",label=\"theory\")#$P(w) \\sim e^{- s(\\sqrt{w})^2 w/4} w^{-3/2}/(1 + s(\\sqrt{w}))$ (theory)')\n",
    "plot(w_range,3*P_w_th_range_eff,\"-g\",label=\"effective theory\")#$P(w) \\sim e^{- s(\\sqrt{w})^2 w/4} w^{-3/2}/(1 + s(\\sqrt{w}))$ (theory)')\n",
    "\n",
    "xlabel(L\"w\",size=20)\n",
    "ylabel(L\"P(w)\",size=20)\n",
    "\n",
    "legend(loc=\"lower left\")\n",
    "ylim([1e-8,1e1])\n",
    "grid()"
   ]
  },
  {
   "cell_type": "code",
   "execution_count": null,
   "metadata": {
    "collapsed": false
   },
   "outputs": [],
   "source": [
    "bins"
   ]
  },
  {
   "cell_type": "markdown",
   "metadata": {},
   "source": [
    "# TODO"
   ]
  },
  {
   "cell_type": "markdown",
   "metadata": {},
   "source": [
    "The probability that an individual is infected\n",
    "    "
   ]
  },
  {
   "cell_type": "markdown",
   "metadata": {},
   "source": [
    "## Try to replicate the results of Keelings paper (using clustering coefficient) for our model\n",
    "\n",
    "## Use gamma-distribution to generate graphs of arbitrary degree distribution. See if results really are independent of variance in k.\n",
    "\n",
    "## See if we can use equilibration results to get $P(x | \\bar{y})$ in the hierarchical network problem\n",
    "\n",
    "## Derivation of $y_{eff}$: We are picking k not from a binomial distribution, we are sampling *without replacement*!\n",
    " - For small $k$ this shouldn't matter\n",
    " - For large $k$ we know it should behave just like the well mixed model\n",
    " \n",
    "## For small $k$ and large epidemics, we see differences between the well-mixed model for $k$ and the graph model for $k$. For regular graphs, the fixation probabilities on the graph are lower. These differences go away for large $k$. Maybe this is an effect of locality?\n",
    "## Account for the variance in $k$ within a graph\n",
    "\n",
    "## Analyze $N_0 P_{fix}(1/N) = P_{fix}(N_0/N)$?\n",
    "\n",
    "## Parallelize run_epidemics\n",
    "\n",
    "## Test whether $y$ overall is equal to $y$ as seen by the susceptibles.\n",
    "\n",
    "## Compute $P(w)$ for small $w$ to match the experimental results (should be exponential). (Laplace transform from paper, matched asymptotic expansions)"
   ]
  },
  {
   "cell_type": "markdown",
   "metadata": {},
   "source": [
    "# Random Notes"
   ]
  },
  {
   "cell_type": "code",
   "execution_count": null,
   "metadata": {
    "collapsed": true
   },
   "outputs": [],
   "source": []
  },
  {
   "cell_type": "markdown",
   "metadata": {},
   "source": [
    "- It seems that this is because in the well mixed case we are drawing a binomial from the n population,while in the graph case we are attempting to infect the few non-infecteds. We can't get an infectivity greater than all neighbors being infected. But there will always be \"deaths\" in which an infected becomes uninfected.\n",
    "- Formulation in terms of random birth + random death (Moran process) vs. formulation in terms of birth and death of type B's (binomial process) vs. formulation in terms of infection spread (graph process).\n",
    "    \n",
    "Graph process:\n",
    "$$b.r. = \\sum_{i \\in S} n_i/k (1 + \\alpha y_i) \\sim N(1-y) y (1 + \\alpha y)$$\n",
    "Binomial process:\n",
    "$$b.r. = N y (1 + \\alpha y)$$\n",
    "\n",
    "\n",
    "\n",
    "In the derivation of $y_{eff}$, how do we deal with $N \\to N(1-y)$ in the sum? -> That $y$ is the $y$ of the overall graph, it just carries through the derivation.\n",
    "\n",
    "How do we plot probability distribution over time? Can bin/smooth in both position or time space.\n",
    "\n"
   ]
  },
  {
   "cell_type": "markdown",
   "metadata": {},
   "source": [
    "Tunable constraint model:\n",
    "- not necessarily constant population size\n",
    "\n",
    "Conditional models:\n",
    "- some models can diverge, condition on them staying well-behaved"
   ]
  },
  {
   "cell_type": "code",
   "execution_count": null,
   "metadata": {
    "collapsed": true
   },
   "outputs": [],
   "source": [
    "close(\"all\")"
   ]
  },
  {
   "cell_type": "markdown",
   "metadata": {},
   "source": [
    "## Parallelization"
   ]
  },
  {
   "cell_type": "code",
   "execution_count": null,
   "metadata": {
    "collapsed": false
   },
   "outputs": [],
   "source": [
    "#addprocs(2)\n",
    "using SIS,IM,PayloadGraph,PyPlot,Epidemics\n",
    "nprocs()"
   ]
  },
  {
   "cell_type": "code",
   "execution_count": null,
   "metadata": {
    "collapsed": false
   },
   "outputs": [],
   "source": [
    "@everywhere using IM"
   ]
  },
  {
   "cell_type": "code",
   "execution_count": null,
   "metadata": {
    "collapsed": false
   },
   "outputs": [],
   "source": [
    "addprocs(2)\n",
    "nprocs()\n",
    "@everywhere using SIS, IM, PayloadGraph,Epidemics"
   ]
  },
  {
   "cell_type": "code",
   "execution_count": null,
   "metadata": {
    "collapsed": false
   },
   "outputs": [],
   "source": [
    "num_runs = num_trials\n",
    "ss = @spawn run_epidemic_graph(N,k,im,regular,fixation_threshold)\n",
    "fetch(ss)"
   ]
  },
  {
   "cell_type": "code",
   "execution_count": null,
   "metadata": {
    "collapsed": false
   },
   "outputs": [],
   "source": [
    "@everywhere begin\n",
    "\n",
    "num_trials = 10\n",
    "fixation_threshold = 2*y_n\n",
    "regular=true\n",
    "    \n",
    "end\n",
    "\n",
    "srand(1)\n",
    "@time sizes,num_fixed,_,runs = \n",
    "    run_epidemics(N,num_trials,im, (N,im)\n",
    "    -> run_epidemic_graph(N,k,im,regular,fixation_threshold));\n",
    "\n",
    "@show sum(sizes)\n",
    "\n",
    "srand(1)\n",
    "@time sizes,num_fixed,_,runs = \n",
    "run_epidemics_parallel(N,num_trials,im, (N,im)\n",
    "    -> run_epidemic_graph(N,k,im,regular,fixation_threshold));\n",
    "\n",
    "@show sum(sizes)"
   ]
  },
  {
   "cell_type": "code",
   "execution_count": null,
   "metadata": {
    "collapsed": true
   },
   "outputs": [],
   "source": []
  },
  {
   "cell_type": "markdown",
   "metadata": {},
   "source": [
    "## Speed Scaling"
   ]
  },
  {
   "cell_type": "code",
   "execution_count": null,
   "metadata": {
    "collapsed": false
   },
   "outputs": [],
   "source": [
    "function cat_parallel(N)\n",
    "    @parallel (vcat) for i = 1:N\n",
    "        [1]\n",
    "    end\n",
    "end\n",
    "\n",
    "function cat_serial(N)\n",
    "    return reduce(vcat)\n",
    "    cat::Array{Int} = []\n",
    "    for i = 1:N\n",
    "        cat = vcat(cat,[1])\n",
    "    end\n",
    "    cat\n",
    "end\n",
    "\n",
    "function pm(N,m)\n",
    "    return pmap(_ -> sum(randn(m,m)^2),1:N)\n",
    "end\n",
    "\n",
    "function sm(N,m)\n",
    "    return map(_ -> sum(randn(m,m)^2),1:N)\n",
    "end"
   ]
  },
  {
   "cell_type": "code",
   "execution_count": null,
   "metadata": {
    "collapsed": false
   },
   "outputs": [],
   "source": [
    "N = 10\n",
    "@time pm(N);\n",
    "@time sm(N);\n",
    "#sp == ss\n",
    "#(sp - ss)/ss"
   ]
  },
  {
   "cell_type": "code",
   "execution_count": null,
   "metadata": {
    "collapsed": false
   },
   "outputs": [],
   "source": [
    "num_trials = 100\n",
    "#sizes_full,num_fixed_full,_,runs_full = run_epidemics(N,N-1,num_trials,im)\n",
    "\n",
    "#@time run_epidemics(N,k,num_trials,im);\n",
    "\n",
    "xx = [10,20,40,80,160]\n",
    "yy = [0.035,0.085,0.31,1.01,2.8]\n",
    "#yy = [0.03,0.08,0.3,1.0,3.3] #for k = 4 = const\n",
    "#yy = [0.06,0.3,1.7,12] for fully connected\n",
    "\n",
    "loglog(xx,yy)\n",
    "loglog(xx,0.0005*xx.^1.7)\n",
    "xlim([4,400])\n",
    "grid()\n",
    "\n",
    "#x^2.5 for fully connected graph\n",
    "#x^1.7 for constant connected graph k = 4\n",
    "#x^1.6 for constant connected graph k = 8\n",
    "log(yy[end]/yy[1])/log(xx[end]/xx[1])"
   ]
  },
  {
   "cell_type": "code",
   "execution_count": null,
   "metadata": {
    "collapsed": true
   },
   "outputs": [],
   "source": []
  }
 ],
 "metadata": {
  "kernelspec": {
   "display_name": "Julia 0.4.3",
   "language": "julia",
   "name": "julia-0.4"
  },
  "language_info": {
   "file_extension": ".jl",
   "mimetype": "application/julia",
   "name": "julia",
   "version": "0.4.3"
  }
 },
 "nbformat": 4,
 "nbformat_minor": 0
}
