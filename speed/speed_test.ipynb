{
 "cells": [
  {
   "cell_type": "code",
   "execution_count": 1,
   "metadata": {
    "collapsed": false
   },
   "outputs": [],
   "source": [
    "from graph_reciprocity import *\n",
    "from nonlinear_selection import *\n",
    "from graph_epidemic import *\n",
    "%load_ext autoreload\n",
    "%autoreload 2"
   ]
  },
  {
   "cell_type": "code",
   "execution_count": 2,
   "metadata": {
    "collapsed": false
   },
   "outputs": [],
   "source": [
    "def get_total_fraction(g,adj,infecteds,strategies):\n",
    "    a = 0\n",
    "    for n in g.nodes():\n",
    "        a += get_infected_neighbor_fraction(g,adj,infecteds,strategies,n)\n",
    "    return a"
   ]
  },
  {
   "cell_type": "code",
   "execution_count": 10,
   "metadata": {
    "collapsed": false
   },
   "outputs": [],
   "source": [
    "N = 2000\n",
    "k = 1900\n",
    "g = create_graph(N,1.0*k/(N-1),0)\n",
    "strategies = np.zeros(len(g.nodes()))\n",
    "for n in g.nodes():\n",
    "    strategies[n] = g.node[n]['strategy']\n",
    "infecteds = strategies == infected\n",
    "adj = nx.adjacency_matrix(g)"
   ]
  },
  {
   "cell_type": "code",
   "execution_count": 13,
   "metadata": {
    "collapsed": false
   },
   "outputs": [
    {
     "name": "stdout",
     "output_type": "stream",
     "text": [
      "0.0\n",
      "0.0\n",
      "0.0\n",
      "0.0\n",
      "1 loops, best of 3: 918 ms per loop\n"
     ]
    }
   ],
   "source": [
    "%timeit print get_total_fraction(g,adj,infecteds,strategies)"
   ]
  },
  {
   "cell_type": "markdown",
   "metadata": {
    "collapsed": false
   },
   "source": [
    "#timings from Julia:\n",
    "\n",
    "15  ms optimized Julia\n",
    "90  ms unoptimized Julia\n",
    "918 ms python\n",
    "\n"
   ]
  },
  {
   "cell_type": "code",
   "execution_count": 3,
   "metadata": {
    "collapsed": false
   },
   "outputs": [
    {
     "data": {
      "text/plain": [
       "<Container object of 3 artists>"
      ]
     },
     "execution_count": 3,
     "metadata": {},
     "output_type": "execute_result"
    }
   ],
   "source": [
    "from pylab import *\n"
   ]
  },
  {
   "cell_type": "code",
   "execution_count": 21,
   "metadata": {
    "collapsed": false
   },
   "outputs": [],
   "source": [
    "times = [918,90,15]\n",
    "ind =arange(len(times)) \n",
    "bar(ind,times,log=True)\n",
    "gca().set_xticks(ind+0.35)\n",
    "gca().set_xticklabels(('Python','Julia','Julia Optimized'))\n",
    "grid()\n",
    "ylabel(\"$T \\;[ms]$\",size=20)\n",
    "\n",
    "show()\n"
   ]
  },
  {
   "cell_type": "code",
   "execution_count": null,
   "metadata": {
    "collapsed": true
   },
   "outputs": [],
   "source": []
  }
 ],
 "metadata": {
  "kernelspec": {
   "display_name": "Python 2",
   "language": "python",
   "name": "python2"
  },
  "language_info": {
   "codemirror_mode": {
    "name": "ipython",
    "version": 2
   },
   "file_extension": ".py",
   "mimetype": "text/x-python",
   "name": "python",
   "nbconvert_exporter": "python",
   "pygments_lexer": "ipython2",
   "version": "2.7.3"
  }
 },
 "nbformat": 4,
 "nbformat_minor": 0
}
