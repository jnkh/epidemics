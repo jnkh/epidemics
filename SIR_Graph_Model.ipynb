{
 "metadata": {
  "name": "",
  "signature": "sha256:e6402da2b348b49d1a9a5ab8cbece846a7e5285c74150018a699a97e40366487"
 },
 "nbformat": 3,
 "nbformat_minor": 0,
 "worksheets": [
  {
   "cells": [
    {
     "cell_type": "heading",
     "level": 2,
     "metadata": {},
     "source": [
      "SIR Infection Model on a Graph"
     ]
    },
    {
     "cell_type": "markdown",
     "metadata": {},
     "source": [
      "Initially, we have a number of infected individuals among $N_{nodes}$ total individuals. All non-infecteds are susceptible. At any given timestep, all nodes are updated simultaneously as follows:\n",
      "\n",
      "For a given node, let $x$ be the fraction of infected neighbors. Then $p_{infect}(x)$ and $p_{recover}(x)$ are the probabilities this node node getting infected (given that it is susceptible) or of this node recovering (given that it was infected) during a given time step of length $1$.\n",
      "\n",
      "We perform this update until there are no more infected nodes, at which point the dynamics stop."
     ]
    },
    {
     "cell_type": "code",
     "collapsed": false,
     "input": [
      "from graph_reciprocity import *"
     ],
     "language": "python",
     "metadata": {},
     "outputs": [],
     "prompt_number": 1
    },
    {
     "cell_type": "code",
     "collapsed": false,
     "input": [
      "susceptible = 0\n",
      "infected = 1\n",
      "recovered = 2\n",
      "\n",
      "def draw_graph(G,pos=None):\n",
      "    k = 2*len(G.edges())/len(G.nodes())\n",
      "    \n",
      "    node_color = [1.0*G.node[i]['strategy']/recovered for i in range(len(G.nodes()))]\n",
      "    #node_label = {i:G.node[i]['strategy'] for i in range(len(G.nodes()))}\n",
      "    node_label = {n:n for n in G.nodes()}\n",
      "    node_size = [250.0*len(G.edges([n]))/k for n in range(len(G.nodes()))]\n",
      "    nx.draw_networkx_nodes(G, pos, node_color=node_color,node_size=node_size,alpha=0.5, cmap=None, vmin=0.0, vmax=1.0,node_label='s',with_labels=True)\n",
      "    nx.draw_networkx_edges(G, pos, alpha=0.2)\n",
      "    nx.draw_networkx_labels(G,pos,node_label)\n",
      "    #nx.draw(G,node_color=node_color,labels=node_label,cmap='spring',pos=pos)\n",
      "\n",
      "def create_graph(N_nodes,p_edge,n_infected):\n",
      "    G = nx.gnp_random_graph(N_nodes,p_edge,directed=False)\n",
      "    return set_graph_strategies(G, n_infected)\n",
      "\n",
      "def create_small_world_graph(N_nodes,p_edge,n_infected):\n",
      "    n = N_nodes\n",
      "    k = int(p_edge*N_nodes)\n",
      "    p = 0.5\n",
      "    #Random graph\n",
      "    #p_coop is the fraction of cooperators\n",
      "    G = nx.watts_strogatz_graph(n,k,p)\n",
      "    return set_graph_strategies(G, n_infected)\n",
      "\n",
      "\n",
      "def create_scale_free_graph(N_nodes,p_edge,n_infected):\n",
      "    #scale free and small world\n",
      "    #Growing Scale-Free Networks with Tunable Clustering\n",
      "    n = N_nodes\n",
      "    m = int(0.5*p_edge*N_nodes)\n",
      "    p = 1.0\n",
      "    #Random graph\n",
      "    #p_coop is the fraction of cooperators\n",
      "    G = nx.powerlaw_cluster_graph(n,m,p)\n",
      "    return set_graph_strategies(G, n_infected)\n",
      "\n",
      "\n",
      "def set_graph_strategies(G, n_infected,pos_infected=None):\n",
      "    if pos_infected== None:\n",
      "        nodes = G.nodes()\n",
      "        random.shuffle(nodes)\n",
      "        for i,n in enumerate(nodes):\n",
      "            if i >= n_infected:\n",
      "                G.node[n]['strategy'] = susceptible\n",
      "            else:\n",
      "                G.node[n]['strategy'] = infected\n",
      "            G.node[n]['score'] = 0\n",
      "        return G\n",
      "    if len(pos_infected) == n_infected and len(set(pos_infected)) == n_infected:\n",
      "        nodes = G.nodes()\n",
      "        for i,n in enumerate(nodes):\n",
      "            if i in pos_infected:\n",
      "                G.node[n]['strategy'] = infected\n",
      "            else:\n",
      "                G.node[n]['strategy'] = susceptible\n",
      "            G.node[n]['score'] = 0\n",
      "        return G\n",
      "    else:\n",
      "        print 'invalid node positions'\n",
      "        return None\n",
      "\n",
      "def update_node(G,G_old,n,p_recover,p_infect):\n",
      "    current_strategy = G_old.node[n]['strategy']\n",
      "    if current_strategy == recovered:\n",
      "        return\n",
      "    x = get_infected_neighbor_fraction(G_old,n)\n",
      "    if current_strategy == infected:\n",
      "        p = p_recover(x)\n",
      "        if random.binomial(1,p):\n",
      "            G.node[n]['strategy'] = recovered\n",
      "        return\n",
      "    \n",
      "    else:\n",
      "        p = p_infect(x)\n",
      "        if random.binomial(1,p):\n",
      "            G.node[n]['strategy'] = infected\n",
      "        return\n",
      "\n",
      "def update_graph(G,p_recover=lambda x: 1.0,p_infect= lambda x: x):\n",
      "    G_old = G.copy()\n",
      "    nodes= G_old.nodes()\n",
      "    for n in nodes:\n",
      "        update_node(G,G_old,n,p_recover,p_infect)\n",
      "    return\n",
      "\n",
      "def get_num_infected(G):\n",
      "    return get_num_with_strategy(G,infected)\n",
      "   \n",
      "def get_num_with_strategy(G,strategy=infected):\n",
      "    strategies = [G.node[n]['strategy'] for n in G.nodes()]\n",
      "    return len([s for s in strategies if s == strategy])\n",
      "        \n",
      "def get_infected_neighbor_fraction(G,n):\n",
      "    edges = G.edges([n])\n",
      "    if len(edges) == 0:\n",
      "        return 0.0\n",
      "    strategies = [G.node[e[1]]['strategy'] for e in edges]\n",
      "    x = 1.0*len([s for s in strategies if s == infected])/len(edges)\n",
      "    return x\n",
      "\n",
      "def p_recover(x):\n",
      "    return 1.0\n",
      "\n",
      "def p_infect(x):\n",
      "    #beta = 10\n",
      "    #return 1.0/(1 + exp(-beta*(x - 0.4)))\n",
      "    return x\n",
      "\n"
     ],
     "language": "python",
     "metadata": {},
     "outputs": [],
     "prompt_number": 39
    },
    {
     "cell_type": "markdown",
     "metadata": {},
     "source": [
      "The cell below sets up a graph problem with the appropriate parameters"
     ]
    },
    {
     "cell_type": "code",
     "collapsed": false,
     "input": [
      "plotting = 1\n",
      "N_nodes = 100\n",
      "k = 10\n",
      "p_edge = 1.0*k/N_nodes\n",
      "num_infected_init = 1\n",
      "G = create_scale_free_graph(N_nodes,p_edge,num_infected_init)\n",
      "if plotting:\n",
      "    figure(1)\n",
      "    pos = nx.spring_layout(G,iterations=100,k=2.0/sqrt(N_nodes))"
     ],
     "language": "python",
     "metadata": {},
     "outputs": [],
     "prompt_number": 43
    },
    {
     "cell_type": "markdown",
     "metadata": {},
     "source": [
      "Execute a run of the simulation and view the results"
     ]
    },
    {
     "cell_type": "code",
     "collapsed": false,
     "input": [
      "set_graph_strategies(G,num_infected_init,pos_infected=[8])\n",
      "if plotting:\n",
      "    figure(1)\n",
      "    hold(0)\n",
      "num_infected = num_infected_init\n",
      "num_infecteds = [num_infected]\n",
      "while num_infected > 0:\n",
      "    if plotting:\n",
      "        draw_graph(G,pos=pos)\n",
      "        pause(0.05)\n",
      "    update_graph(G,p_recover,p_infect)\n",
      "    num_infected = get_num_infected(G)\n",
      "    num_infecteds.append(num_infected)\n",
      "    print num_infected\n",
      "print num_infecteds,sum(num_infecteds)*p_recover(0.5)\n",
      "print get_num_with_strategy(G,recovered)"
     ],
     "language": "python",
     "metadata": {},
     "outputs": [
      {
       "output_type": "stream",
       "stream": "stdout",
       "text": [
        "7\n",
        "7"
       ]
      },
      {
       "output_type": "stream",
       "stream": "stdout",
       "text": [
        "\n",
        "2"
       ]
      },
      {
       "output_type": "stream",
       "stream": "stdout",
       "text": [
        "\n",
        "0"
       ]
      },
      {
       "output_type": "stream",
       "stream": "stdout",
       "text": [
        "\n",
        "[1, 7, 7, 2, 0] 17.0\n",
        "17\n"
       ]
      }
     ],
     "prompt_number": 44
    },
    {
     "cell_type": "code",
     "collapsed": false,
     "input": [
      "figure(2)\n",
      "hold(1)\n",
      "semilogy(num_infecteds)\n",
      "xlabel(r'$t$',size=20)\n",
      "ylabel(r'$n_{infected}(t)$',size=20)"
     ],
     "language": "python",
     "metadata": {},
     "outputs": [
      {
       "metadata": {},
       "output_type": "pyout",
       "prompt_number": 35,
       "text": [
        "<matplotlib.text.Text at 0x4b07250>"
       ]
      }
     ],
     "prompt_number": 35
    },
    {
     "cell_type": "markdown",
     "metadata": {},
     "source": [
      "Plot the the functional forms of $p_{infect}$ and $p_{recovered}$"
     ]
    },
    {
     "cell_type": "code",
     "collapsed": false,
     "input": [
      "close(3)\n",
      "figure(3)\n",
      "x_range = arange(0,1,0.01)\n",
      "hold(1)\n",
      "plot(x_range,ones_like(x_range)*p_recover(x_range),label=r'$p_{recover}(x)$')\n",
      "plot(x_range,ones_like(x_range)*p_infect(x_range),label=r'$p_{infect}(x)$')\n",
      "grid()\n",
      "legend(loc='lower right',prop={'size':15})\n",
      "xlabel(r'$x$',size=20)\n",
      "xlabel(r'$p(x)$',size=20)\n",
      "xlim(-0.2,1.2)\n",
      "ylim(-0.2,1.2)"
     ],
     "language": "python",
     "metadata": {},
     "outputs": [
      {
       "metadata": {},
       "output_type": "pyout",
       "prompt_number": 36,
       "text": [
        "(-0.2, 1.2)"
       ]
      }
     ],
     "prompt_number": 36
    },
    {
     "cell_type": "markdown",
     "metadata": {},
     "source": [
      "Notes:\n",
      "- $k/N$ constant, $N \\to \\infty$, we should recover well mixed results\n",
      "- $k$ fixed, $N \\to \\infty$, we should have an independent branching process for each infected, can test the result.\n",
      "- Are social networks well approximated by random graphs ofhighly clustered super nodes? How do these hierarchical graphs behave?\n",
      "- Can we reason about E[1st degree infections]? The infected nodes will be biased by their degree, so we have to do successive iterations of n'th degree infected, taking care of these biases\n",
      "- Understand the traveling wave dynamics\n",
      "- Can we understand adoption strategy game-theoretically? I should adopt a trend when it is likely to fix, but thislikelihood depends on other peoples strategies of adoption!"
     ]
    },
    {
     "cell_type": "code",
     "collapsed": false,
     "input": [],
     "language": "python",
     "metadata": {},
     "outputs": []
    }
   ],
   "metadata": {}
  }
 ]
}