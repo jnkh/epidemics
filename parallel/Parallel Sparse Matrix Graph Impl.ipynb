{
 "cells": [
  {
   "cell_type": "code",
   "execution_count": null,
   "metadata": {
    "collapsed": false
   },
   "outputs": [],
   "source": [
    "Pkg.add(\"ParallelSparseMatMul\")"
   ]
  },
  {
   "cell_type": "code",
   "execution_count": 1,
   "metadata": {
    "collapsed": true
   },
   "outputs": [],
   "source": [
    "using ParallelSparseMatMul"
   ]
  },
  {
   "cell_type": "code",
   "execution_count": 2,
   "metadata": {
    "collapsed": false
   },
   "outputs": [
    {
     "data": {
      "text/plain": [
       "ParallelSparseMatMul"
      ]
     },
     "execution_count": 2,
     "metadata": {},
     "output_type": "execute_result"
    },
    {
     "data": {
      "text/plain": [
       "ParallelSparseMatMul"
      ]
     },
     "execution_count": 2,
     "metadata": {},
     "output_type": "execute_result"
    }
   ],
   "source": [
    "addprocs(2)\n",
    "@everywhere using ParallelSparseMatMul\n",
    "PM = ParallelSparseMatMul"
   ]
  },
  {
   "cell_type": "code",
   "execution_count": 3,
   "metadata": {
    "collapsed": false
   },
   "outputs": [
    {
     "data": {
      "text/plain": [
       "4x4 ParallelSparseMatMul.SharedSparseMatrixCSC{Float64,Int64}:\n",
       " -0.562404   0.0         0.0       0.0     \n",
       "  0.0        0.0         0.0       0.0     \n",
       "  0.0        0.0        -0.397944  0.0     \n",
       "  0.0       -0.0626174   0.0       0.607973"
      ]
     },
     "execution_count": 3,
     "metadata": {},
     "output_type": "execute_result"
    },
    {
     "data": {
      "text/plain": [
       "4x4 ParallelSparseMatMul.SharedSparseMatrixCSC{Float64,Int64}:\n",
       " -0.562404   0.0         0.0       0.0     \n",
       "  0.0        0.0         0.0       0.0     \n",
       "  0.0        0.0        -0.397944  0.0     \n",
       "  0.0       -0.0626174   0.0       0.607973"
      ]
     },
     "execution_count": 3,
     "metadata": {},
     "output_type": "execute_result"
    }
   ],
   "source": [
    "S = PM.shsprandn(4,4,0.2)"
   ]
  },
  {
   "cell_type": "code",
   "execution_count": 5,
   "metadata": {
    "collapsed": false
   },
   "outputs": [
    {
     "name": "stdout",
     "output_type": "stream",
     "text": [
      "\tFrom worker 2:\t0.0 id: 2\n",
      "\tFrom worker 2:\t0.0 id: 2\n",
      "\tFrom worker 2:\t0.0 id: 2\n",
      "\tFrom worker 2:\t0.0 id: 2\n",
      "\tFrom worker 2:\t0.0 id: 2\n",
      "\tFrom worker 2:\t0.0 id: 2\n",
      "\tFrom worker 3:\t0.0 id: 3\n",
      "\tFrom worker 3:\t0.0 id: 3\n",
      "\tFrom worker 3:\t0.0 id: 3\n",
      "\tFrom worker 3:\t0.0 id: 3\n",
      "\tFrom worker 2:\t-0.06261737821986858 id: 2\n",
      "\tFrom worker 2:\t0.0 id: 2\n",
      "\tFrom worker 2:\t0.0 id: 2\n",
      "\tFrom worker 3:\t0.607973404667451 id: 3\n",
      "\tFrom worker 2:\t0.0 id: 2\n",
      "\tFrom worker 2:\t0.0 id: 2\n",
      "\tFrom worker 2:\t0.0 id: 2\n",
      "\tFrom worker 2:\t0.0 id: 2\n",
      "\tFrom worker 3:\t0.0 id: 3\n",
      "\tFrom worker 3:\t0.0 id: 3\n",
      "\tFrom worker 3:\t0.0 id: 3\n",
      "\tFrom worker 3:\t0.0 id: 3\n",
      "\tFrom worker 2:\t-0.06261737821986858 id: 2\n",
      "\tFrom worker 2:\t0.0 id: 2\n",
      "\tFrom worker 2:\t0.0 id: 2\n",
      "\tFrom worker 3:\t0.607973404667451 id: 3\n"
     ]
    },
    {
     "ename": "LoadError",
     "evalue": "LoadError: On worker 3:\nBoundsError\n in getindex at /home/julian/.julia/v0.4/ParallelSparseMatMul/src/indexing.jl:7\n in getindex at abstractarray.jl:491\n [inlined code] from In[5]:1\n in anonymous at no file:0\n in anonymous at multi.jl:1341\n in anonymous at multi.jl:905\n in run_work_thunk at multi.jl:646\n in run_work_thunk at multi.jl:655\n in anonymous at task.jl:58\nwhile loading In[5], in expression starting on line 422",
     "output_type": "error",
     "traceback": [
      "LoadError: On worker 3:\nBoundsError\n in getindex at /home/julian/.julia/v0.4/ParallelSparseMatMul/src/indexing.jl:7\n in getindex at abstractarray.jl:491\n [inlined code] from In[5]:1\n in anonymous at no file:0\n in anonymous at multi.jl:1341\n in anonymous at multi.jl:905\n in run_work_thunk at multi.jl:646\n in run_work_thunk at multi.jl:655\n in anonymous at task.jl:58\nwhile loading In[5], in expression starting on line 422",
      "",
      " in remotecall_fetch at multi.jl:732",
      " in remotecall_fetch at multi.jl:735",
      " in call_on_owner at multi.jl:778",
      " in wait at multi.jl:793",
      " in sync_end at ./task.jl:400"
     ]
    },
    {
     "ename": "LoadError",
     "evalue": "LoadError: On worker 3:\nBoundsError\n in getindex at /home/julian/.julia/v0.4/ParallelSparseMatMul/src/indexing.jl:7\n in getindex at abstractarray.jl:491\n [inlined code] from In[5]:1\n in anonymous at no file:0\n in anonymous at multi.jl:1341\n in anonymous at multi.jl:905\n in run_work_thunk at multi.jl:646\n in run_work_thunk at multi.jl:655\n in anonymous at task.jl:58\nwhile loading In[5], in expression starting on line 422",
     "output_type": "error",
     "traceback": [
      "LoadError: On worker 3:\nBoundsError\n in getindex at /home/julian/.julia/v0.4/ParallelSparseMatMul/src/indexing.jl:7\n in getindex at abstractarray.jl:491\n [inlined code] from In[5]:1\n in anonymous at no file:0\n in anonymous at multi.jl:1341\n in anonymous at multi.jl:905\n in run_work_thunk at multi.jl:646\n in run_work_thunk at multi.jl:655\n in anonymous at task.jl:58\nwhile loading In[5], in expression starting on line 422",
      "",
      " in remotecall_fetch at multi.jl:732",
      " in remotecall_fetch at multi.jl:735",
      " in call_on_owner at multi.jl:778",
      " in wait at multi.jl:793",
      " in sync_end at ./task.jl:400"
     ]
    }
   ],
   "source": [
    "@sync @parallel for i = 1:length(S) println(S[i+myid()],\" id: $(myid())\") end"
   ]
  },
  {
   "cell_type": "code",
   "execution_count": null,
   "metadata": {
    "collapsed": true
   },
   "outputs": [],
   "source": []
  }
 ],
 "metadata": {
  "kernelspec": {
   "display_name": "Julia 0.5.0-dev",
   "language": "julia",
   "name": "julia-0.5"
  },
  "language_info": {
   "file_extension": ".jl",
   "mimetype": "application/julia",
   "name": "julia",
   "version": "0.4.1"
  }
 },
 "nbformat": 4,
 "nbformat_minor": 0
}
