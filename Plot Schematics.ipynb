{
 "cells": [
  {
   "cell_type": "code",
   "execution_count": 1,
   "metadata": {
    "collapsed": false
   },
   "outputs": [
    {
     "name": "stderr",
     "output_type": "stream",
     "text": [
      "WARNING: Method definition partitions(Integer) in module Base at combinatorics.jl:252 overwritten in module Combinatorics at /Users/julian/.julia/v0.4/Combinatorics/src/partitions.jl:26.\n",
      "WARNING: Method definition partitions(Integer, Integer) in module Base at combinatorics.jl:318 overwritten in module Combinatorics at /Users/julian/.julia/v0.4/Combinatorics/src/partitions.jl:93.\n",
      "WARNING: Method definition partitions(AbstractArray{T<:Any, 1}) in module Base at combinatorics.jl:380 overwritten in module Combinatorics at /Users/julian/.julia/v0.4/Combinatorics/src/partitions.jl:158.\n",
      "WARNING: Method definition partitions(AbstractArray{T<:Any, 1}, Int64) in module Base at combinatorics.jl:447 overwritten in module Combinatorics at /Users/julian/.julia/v0.4/Combinatorics/src/partitions.jl:228.\n",
      "WARNING: Method definition nthperm(AbstractArray{#T<:Integer, 1}) in module Base at combinatorics.jl:92 overwritten in module Combinatorics at /Users/julian/.julia/v0.4/Combinatorics/src/permutations.jl:161.\n",
      "WARNING: Method definition nthperm(AbstractArray{T<:Any, 1}, Integer) in module Base at combinatorics.jl:89 overwritten in module Combinatorics at /Users/julian/.julia/v0.4/Combinatorics/src/permutations.jl:157.\n",
      "WARNING: Method definition levicivita(AbstractArray{#T<:Integer, 1}) in module Base at combinatorics.jl:611 overwritten in module Combinatorics at /Users/julian/.julia/v0.4/Combinatorics/src/permutations.jl:188.\n",
      "WARNING: Method definition nthperm!(AbstractArray{T<:Any, 1}, Integer) in module Base at combinatorics.jl:70 overwritten in module Combinatorics at /Users/julian/.julia/v0.4/Combinatorics/src/permutations.jl:136.\n",
      "WARNING: Method definition factorial(#T<:Integer, #T<:Integer) in module Base at combinatorics.jl:56 overwritten in module Combinatorics at /Users/julian/.julia/v0.4/Combinatorics/src/factorials.jl:18.\n",
      "WARNING: Method definition factorial(Integer, Integer) in module Base at combinatorics.jl:66 overwritten in module Combinatorics at /Users/julian/.julia/v0.4/Combinatorics/src/factorials.jl:28.\n",
      "WARNING: Method definition parity(AbstractArray{#T<:Integer, 1}) in module Base at combinatorics.jl:642 overwritten in module Combinatorics at /Users/julian/.julia/v0.4/Combinatorics/src/permutations.jl:221.\n",
      "WARNING: Method definition permutations(Any) in module Base at combinatorics.jl:219 overwritten in module Combinatorics at /Users/julian/.julia/v0.4/Combinatorics/src/permutations.jl:24.\n",
      "WARNING: Method definition combinations(Any, Integer) in module Base at combinatorics.jl:182 overwritten in module Combinatorics at /Users/julian/.julia/v0.4/Combinatorics/src/combinations.jl:42.\n",
      "WARNING: Method definition prevprod(Array{Int64, 1}, Any) in module Base at combinatorics.jl:565 overwritten in module Combinatorics at /Users/julian/.julia/v0.4/Combinatorics/src/partitions.jl:354.\n",
      "WARNING: @defVar is deprecated, use @variable instead.\n",
      "WARNING: @addConstraint is deprecated, use @constraint instead.\n",
      "WARNING: @setObjective is deprecated, use @objective instead.\n"
     ]
    }
   ],
   "source": [
    "push!(LOAD_PATH, pwd())\n",
    "@everywhere using SIS,IM,PayloadGraph,PyPlot, Epidemics\n",
    "import LightGraphs"
   ]
  },
  {
   "cell_type": "code",
   "execution_count": 2,
   "metadata": {
    "collapsed": false
   },
   "outputs": [
    {
     "data": {
      "text/plain": [
       "plot_schematics (generic function with 1 method)"
      ]
     },
     "execution_count": 2,
     "metadata": {},
     "output_type": "execute_result"
    }
   ],
   "source": [
    "function plot_schematic(n_n,c_r,N,k=N-1,plot_k=false)\n",
    "    beta = 4.0/(c_r*n_n)\n",
    "    alpha = (N*beta)/n_n\n",
    "    println(N,alpha,beta)\n",
    "\n",
    "    y_n, y_minus,y_plus,y_p,critical_determinant = get_parameters(N,alpha,beta)\n",
    "    f(y) = alpha.*y.^2\n",
    "    s(y) = f(y)./y - beta\n",
    "    get_y_eff(y,k) = y.*(1 + (1-y)./(y.*k))\n",
    "    get_s_eff(y,alpha,beta,k) = alpha*get_y_eff(y,k) - beta\n",
    "\n",
    "\n",
    "    y_range = collect(0:y_p/1000:1.9*y_p)\n",
    "    figure(1)\n",
    "    plot(y_range,1.0./abs(N*s(y_range)),\"-r\",label=L\"$\\frac{1}{N|s(y)|}$\")\n",
    "    if plot_k\n",
    "        plot(y_range,1.0./abs(N*get_s_eff(y_range,alpha,beta,k)),\"-b\",label=L\"$\\frac{1}{N|s(y_{eff})|}$\")\n",
    "    end\n",
    "    plot(y_range,y_range,\"-k\",label=L\"$y$\")\n",
    "    axvline(y_n,linestyle=\"--\",label=L\"$y_n$\")\n",
    "    axvline(y_p,linestyle=\"-\",label=L\"$y_p$\")\n",
    "    if y_minus > 0\n",
    "        axvline(y_minus,linestyle=\"-.\",label=L\"$y_1$\")\n",
    "        axvline(y_plus,linestyle=\"-.\",label=L\"$y_2$\")\n",
    "    end\n",
    "    ylim([0,1.9*y_p])\n",
    "    legend(prop=Dict{Any,Any}(\"size\"=>15),loc=\"upper right\")\n",
    "    xlabel(L\"$y$\",size=20)\n",
    "    if plot_k\n",
    "        #figure(1)\n",
    "        #plot(y_range,get_s_eff(y_range,alpha,beta,k),\"-b\",label=L\"$s_{eff}(y)$\")\n",
    "        #plot(y_range,s(y_range),\"-r\",label=L\"$s(y)$\")\n",
    "        legend(prop=Dict{Any,Any}(\"size\"=>20),loc=\"upper right\")\n",
    "        xlabel(L\"$y$\",size=20)\n",
    "    end\n",
    "end\n",
    "\n",
    "function plot_schematics(N,n_n,alpha,beta)\n",
    "    plot_reach = true\n",
    "    pygui(true)\n",
    "    close(\"all\")\n",
    "    dx = 2*n_n/N/200\n",
    "    x = collect(1/N:dx:2*n_n/N)\n",
    "    if plot_reach\n",
    "        y = IM.P_reach(im,N,1.0/N,x)\n",
    "        yk = IM.P_reach(imk,N,1.0/N,x)\n",
    "        plotfn = loglog\n",
    "        plotstr = \"reach\"\n",
    "    else\n",
    "        y = IM.P_fix(im,N,x)\n",
    "        yk = IM.P_fix(imk,N,x)\n",
    "        plotfn = plot\n",
    "        plotstr = \"fix\"\n",
    "    end\n",
    "    figure(2,figsize=(8,5))\n",
    "    plotfn(x,y,\"-r\",label=latexstring(\"P_{$(plotstr)}(y)\"))\n",
    "    plotfn(x,yk,\"-b\",label=latexstring(\"P_{$(plotstr)}(y_{eff})\"))\n",
    "    plotfn(x,1/N./x,\"--k\",label=latexstring(\"P_{$(plotstr),neutral}\"))\n",
    "    xlim([0,2*n_n/N])\n",
    "    y_n, y_minus, y_plus, y_p,critical_determinant = get_parameters(N,alpha,beta)\n",
    "    axvline(y_n,linestyle=\"--\",color=\"b\",label=L\"y_n\")\n",
    "    axvline(y_minus,linestyle=\"-.\",color=\"r\",label=L\"y_1\")\n",
    "    axvline(y_plus,linestyle=\"-.\",color=\"r\",label=L\"y_2\")\n",
    "    axvline(y_p,linestyle=\"-\",color=\"b\",label=L\"y_p\")\n",
    "    xlabel(L\"y\")\n",
    "    ylabel(latexstring(\"P_{$(plotstr)}(y)\"))\n",
    "    legend(loc=\"best\")\n",
    "    title(latexstring(\"\\$y_n = $(n_n/N), c_r = $c_r, N = $N\\$\"))\n",
    "    #savefig(\"p_fix_y_n = $(n_n/N), c_r = $c_r, N = $N.png\")\n",
    "\n",
    "    figure(1,figsize=(8,5))\n",
    "    plot_schematic(n_n,c_r,N,k,true)\n",
    "    title(latexstring(\"\\$y_n = $(n_n/N), c_r = $c_r, N = $N\\$\"))\n",
    "\n",
    "#     figure(3)\n",
    "#     plot(x,get_s_eff(x,alpha,beta,k),\"-b\",label=L\"$s_{eff}(y)$\")\n",
    "#     plot(x,get_s(x,alpha,beta),\"-r\",label=L\"$s(y)$\")\n",
    "#     grid(1)\n",
    "\n",
    "end"
   ]
  },
  {
   "cell_type": "markdown",
   "metadata": {},
   "source": [
    "Notes on P_fix:\n",
    "\n",
    "- P_fix follows a logistical shape with the point of maximum slope = y_n.\n",
    "- given $n_n$, it is independent of $N$. The larger $n_n$, the sharper the transition.\n",
    "- the smaller $c_r < 1$, the sharper the transition at $y_n$. The larger $c_r < 1$, the shallower the transition\n",
    "- For $c_r > 1$, the growth is linear and reaches $1$ at about $y = y_p$"
   ]
  },
  {
   "cell_type": "code",
   "execution_count": 24,
   "metadata": {
    "collapsed": false
   },
   "outputs": [
    {
     "name": "stdout",
     "output_type": "stream",
     "text": [
      "10000 0.0125 0.005\n"
     ]
    }
   ],
   "source": [
    "\n",
    "@everywhere begin\n",
    "\n",
    "k = 4\n",
    "#y_n = 0.1\n",
    "c_r = 0.2\n",
    "N = 10000\n",
    "n_n = 4000#y_n*N\n",
    "beta = 4.0/(c_r*n_n)\n",
    "alpha = (N*beta)/n_n\n",
    "println(N, ' ' ,alpha, ' ',beta)\n",
    "\n",
    "im = InfectionModel(x -> 1 + alpha*x , x -> 1 + beta);\n",
    "imk = InfectionModel(x -> 1 + beta + get_s_eff(x,alpha,beta,k) , x -> 1 + beta);\n",
    "\n",
    "y_n, y_minus, y_plus, y_p,critical_determinant = get_parameters(N,alpha,beta)\n",
    "end"
   ]
  },
  {
   "cell_type": "code",
   "execution_count": 40,
   "metadata": {
    "collapsed": false
   },
   "outputs": [
    {
     "name": "stdout",
     "output_type": "stream",
     "text": [
      "100000.01250.005\n"
     ]
    },
    {
     "name": "stderr",
     "output_type": "stream",
     "text": [
      "2016-09-14 23:36:57.419 julia[3671:181219] setCanCycle: is deprecated.  Please use setCollectionBehavior instead\n",
      "2016-09-14 23:36:57.438 julia[3671:181219] setCanCycle: is deprecated.  Please use setCollectionBehavior instead\n",
      "2016-09-14 23:36:58.927 julia[3671:181219] setCanCycle: is deprecated.  Please use setCollectionBehavior instead\n",
      "2016-09-14 23:36:58.935 julia[3671:181219] setCanCycle: is deprecated.  Please use setCollectionBehavior instead\n"
     ]
    },
    {
     "data": {
      "text/plain": [
       "PyObject <matplotlib.text.Text object at 0x31f58d650>"
      ]
     },
     "execution_count": 40,
     "metadata": {},
     "output_type": "execute_result"
    }
   ],
   "source": [
    "plot_schematics(N,n_n,alpha,beta)"
   ]
  },
  {
   "cell_type": "code",
   "execution_count": 38,
   "metadata": {
    "collapsed": false
   },
   "outputs": [],
   "source": [
    "runs_well_mixed = run_epidemics(100000, () -> run_epidemic_well_mixed(N,im,1.0));\n",
    "runs_well_mixedk = run_epidemics(100000, () -> run_epidemic_well_mixed(N,imk,1.0));"
   ]
  },
  {
   "cell_type": "code",
   "execution_count": 41,
   "metadata": {
    "collapsed": false
   },
   "outputs": [
    {
     "data": {
      "text/plain": [
       "1-element Array{Any,1}:\n",
       " PyObject <matplotlib.lines.Line2D object at 0x31ef3b950>"
      ]
     },
     "execution_count": 41,
     "metadata": {},
     "output_type": "execute_result"
    }
   ],
   "source": [
    "xvals,pvals = get_p_reach(runs_well_mixed)\n",
    "xvals /= N\n",
    "figure(2)\n",
    "loglog(xvals,pvals,\"-r\")\n",
    "xvals,pvals = get_p_reach(runs_well_mixedk)\n",
    "xvals /= N\n",
    "figure(2)\n",
    "loglog(xvals,pvals,\"-b\")"
   ]
  },
  {
   "cell_type": "code",
   "execution_count": 37,
   "metadata": {
    "collapsed": false
   },
   "outputs": [],
   "source": [
    "close(\"all\")"
   ]
  },
  {
   "cell_type": "code",
   "execution_count": null,
   "metadata": {
    "collapsed": true
   },
   "outputs": [],
   "source": []
  }
 ],
 "metadata": {
  "kernelspec": {
   "display_name": "Julia 0.4.3",
   "language": "julia",
   "name": "julia-0.4"
  },
  "language_info": {
   "file_extension": ".jl",
   "mimetype": "application/julia",
   "name": "julia",
   "version": "0.4.3"
  }
 },
 "nbformat": 4,
 "nbformat_minor": 0
}
