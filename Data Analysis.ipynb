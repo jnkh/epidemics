{
 "cells": [
  {
   "cell_type": "code",
   "execution_count": 2,
   "metadata": {
    "collapsed": false
   },
   "outputs": [
    {
     "name": "stderr",
     "output_type": "stream",
     "text": [
      "WARNING: Method definition partitions(Integer) in module Base at combinatorics.jl:252 overwritten in module Combinatorics at /Users/julian/.julia/v0.4/Combinatorics/src/partitions.jl:26.\n",
      "WARNING: Method definition partitions(Integer, Integer) in module Base at combinatorics.jl:318 overwritten in module Combinatorics at /Users/julian/.julia/v0.4/Combinatorics/src/partitions.jl:93.\n",
      "WARNING: Method definition partitions(AbstractArray{T<:Any, 1}) in module Base at combinatorics.jl:380 overwritten in module Combinatorics at /Users/julian/.julia/v0.4/Combinatorics/src/partitions.jl:158.\n",
      "WARNING: Method definition partitions(AbstractArray{T<:Any, 1}, Int64) in module Base at combinatorics.jl:447 overwritten in module Combinatorics at /Users/julian/.julia/v0.4/Combinatorics/src/partitions.jl:228.\n",
      "WARNING: Method definition nthperm(AbstractArray{#T<:Integer, 1}) in module Base at combinatorics.jl:92 overwritten in module Combinatorics at /Users/julian/.julia/v0.4/Combinatorics/src/permutations.jl:161.\n",
      "WARNING: Method definition nthperm(AbstractArray{T<:Any, 1}, Integer) in module Base at combinatorics.jl:89 overwritten in module Combinatorics at /Users/julian/.julia/v0.4/Combinatorics/src/permutations.jl:157.\n",
      "WARNING: Method definition levicivita(AbstractArray{#T<:Integer, 1}) in module Base at combinatorics.jl:611 overwritten in module Combinatorics at /Users/julian/.julia/v0.4/Combinatorics/src/permutations.jl:188.\n",
      "WARNING: Method definition nthperm!(AbstractArray{T<:Any, 1}, Integer) in module Base at combinatorics.jl:70 overwritten in module Combinatorics at /Users/julian/.julia/v0.4/Combinatorics/src/permutations.jl:136.\n",
      "WARNING: Method definition factorial(#T<:Integer, #T<:Integer) in module Base at combinatorics.jl:56 overwritten in module Combinatorics at /Users/julian/.julia/v0.4/Combinatorics/src/factorials.jl:18.\n",
      "WARNING: Method definition factorial(Integer, Integer) in module Base at combinatorics.jl:66 overwritten in module Combinatorics at /Users/julian/.julia/v0.4/Combinatorics/src/factorials.jl:28.\n",
      "WARNING: Method definition parity(AbstractArray{#T<:Integer, 1}) in module Base at combinatorics.jl:642 overwritten in module Combinatorics at /Users/julian/.julia/v0.4/Combinatorics/src/permutations.jl:221.\n",
      "WARNING: Method definition permutations(Any) in module Base at combinatorics.jl:219 overwritten in module Combinatorics at /Users/julian/.julia/v0.4/Combinatorics/src/permutations.jl:24.\n",
      "WARNING: Method definition combinations(Any, Integer) in module Base at combinatorics.jl:182 overwritten in module Combinatorics at /Users/julian/.julia/v0.4/Combinatorics/src/combinations.jl:42.\n",
      "WARNING: Method definition prevprod(Array{Int64, 1}, Any) in module Base at combinatorics.jl:565 overwritten in module Combinatorics at /Users/julian/.julia/v0.4/Combinatorics/src/partitions.jl:354.\n",
      "WARNING: @defVar is deprecated, use @variable instead.\n",
      "WARNING: @addConstraint is deprecated, use @constraint instead.\n",
      "WARNING: @setObjective is deprecated, use @objective instead.\n"
     ]
    },
    {
     "data": {
      "text/plain": [
       "get_mean_distribution_from_states (generic function with 2 methods)"
      ]
     },
     "execution_count": 2,
     "metadata": {},
     "output_type": "execute_result"
    }
   ],
   "source": [
    "push!(LOAD_PATH, pwd())\n",
    "using SIS,IM,PayloadGraph,PyPlot, Epidemics,JLD, TwoLevelGraphs,Dierckx\n",
    "import LightGraphs\n",
    "\n",
    "function get_c_r(N,alpha,beta)\n",
    "    return 4*alpha/(beta^2*N)\n",
    "end\n",
    "\n",
    "function get_n_n(N,alpha,beta)\n",
    "    return beta/alpha*N\n",
    "end\n",
    "\n",
    "function get_alpha_beta(N,c_r,n_n)\n",
    "    beta = 4.0/(c_r*n_n)\n",
    "    alpha = (N*beta)/n_n\n",
    "    return alpha,beta\n",
    "end\n",
    "\n",
    "\n",
    "f(y,alpha) = alpha.*y.^2\n",
    "s(y,alpha,beta) = f(y,alpha)./y - beta\n",
    "#get_y_eff(y,k) = y.*(1 + (1-y)./(y.*k))\n",
    "#get_s_eff(y::Array,alpha,beta,k) = alpha*get_y_eff(y,k) - beta\n",
    "\n",
    "function plot_schematic(n_n,c_r,N,k=N-1,plot_k=false)\n",
    "    beta = 4.0/(c_r*n_n)\n",
    "    alpha = (N*beta)/n_n\n",
    "    y_n, y_minus,y_plus,y_p,critical_determinant = get_parameters(N,alpha,beta)\n",
    "\n",
    "\n",
    "\n",
    "    y_range = collect(0:y_p/1000:1.9*y_p)\n",
    "    figure(1)\n",
    "    plot(y_range,1.0./abs(N*s(y_range,alpha,beta)),\"-r\",label=L\"$\\frac{1}{N|s(y)|}$\")\n",
    "    if plot_k\n",
    "        plot(y_range,1.0./abs(N*get_s_eff(y_range,alpha,beta,k)),\"-b\",label=L\"$\\frac{1}{N|s(y_{eff})|}$\")\n",
    "    end\n",
    "    plot(y_range,y_range,\"-k\",label=L\"$y$\")\n",
    "    axvline(y_n,linestyle=\"--\",label=L\"$y_n$\")\n",
    "    axvline(y_p,linestyle=\"-\",label=L\"$y_p$\")\n",
    "    if y_minus > 0\n",
    "        axvline(y_minus,linestyle=\"-.\",label=L\"$y_1$\")\n",
    "        axvline(y_plus,linestyle=\"-.\",label=L\"$y_2$\")\n",
    "    end\n",
    "    ylim([0,1.9*y_p])\n",
    "    legend(prop=Dict{Any,Any}(\"size\"=>15),loc=\"upper right\")\n",
    "    xlabel(L\"$y$\",size=20)\n",
    "    if plot_k\n",
    "        #figure(1)\n",
    "        #plot(y_range,get_s_eff(y_range,alpha,beta,k),\"-b\",label=L\"$s_{eff}(y)$\")\n",
    "        #plot(y_range,s(y_range),\"-r\",label=L\"$s(y)$\")\n",
    "        legend(prop=Dict{Any,Any}(\"size\"=>20),loc=\"upper right\")\n",
    "        xlabel(L\"$y$\",size=20)\n",
    "    end\n",
    "end\n",
    "\n",
    "function plot_schematics(N,alpha,beta,k,plot_k = false)\n",
    "    im = InfectionModel(x -> 1 + alpha*x , x -> 1 + beta);\n",
    "    imk = InfectionModel(x -> 1 + beta + get_s_eff(x,alpha,beta,k) , x -> 1 + beta);\n",
    "\n",
    "    c_r = get_c_r(N,alpha,beta)\n",
    "    n_n = get_n_n(N,alpha,beta)\n",
    "    pygui(true)\n",
    "    close(1);close(2);close(3)\n",
    "    dx = 2*n_n/N/50\n",
    "    x = collect(dx:dx:2*n_n/N)\n",
    "    y = IM.P_fix(im,N,x)\n",
    "    yk = IM.P_fix(imk,N,x)\n",
    "    figure(2,figsize=(8,5))\n",
    "    plot(x,y,\"-r\",label=L\"P_{fix}(y)\")\n",
    "    plot(x,yk,\"-b\",label=L\"P_{fix}(y_{eff})\")\n",
    "    plot(x,x,\"--k\")\n",
    "    xlim([0,2*n_n/N])\n",
    "    y_n, y_minus, y_plus, y_p,critical_determinant = get_parameters(N,alpha,beta)\n",
    "    axvline(y_n,linestyle=\"--\",color=\"b\",label=L\"y_n\")\n",
    "    axvline(y_minus,linestyle=\"-.\",color=\"r\",label=L\"y_1\")\n",
    "    axvline(y_plus,linestyle=\"-.\",color=\"r\",label=L\"y_2\")\n",
    "    axvline(y_p,linestyle=\"-\",color=\"b\",label=L\"y_p\")\n",
    "    xlabel(L\"y\")\n",
    "    ylabel(L\"P_{fix}(y)\")\n",
    "    legend(loc=\"upper left\")\n",
    "    title(latexstring(\"\\$y_n = $(n_n/N), c_r = $c_r, N = $N\\$\"))\n",
    "    #savefig(\"p_fix_y_n = $(n_n/N), c_r = $c_r, N = $N.png\")\n",
    "\n",
    "    figure(1,figsize=(8,5))\n",
    "    plot_schematic(n_n,c_r,N,k,plot_k)\n",
    "    title(latexstring(\"\\$y_n = $(n_n/N), c_r = $c_r, N = $N\\$\"))\n",
    "\n",
    "    figure(3)\n",
    "    plot(x,get_s_eff(x,alpha,beta,k),\"-b\",label=L\"$s_{eff}(y)$\")\n",
    "    plot(x,s(x,alpha,beta),\"-r\",label=L\"$s(y)$\")\n",
    "    grid()\n",
    "\n",
    "end\n",
    "\n",
    "function plot_w(sizes,N,alpha,beta,k::Int,word = \"two level\")\n",
    "\n",
    "    figure(4)\n",
    "    sizes = (1 + beta).*sizes\n",
    "    bins = logspace(log10(minimum(sizes)),log10(maximum(sizes)),150)\n",
    "#     word = graph_model ? \"graph\" : \"well-mixed\"\n",
    "    label = latexstring(\"$word, \\$k = $k\\$\")\n",
    "    PyPlot.plt[:hist](sizes,log=true,bins=bins,alpha=0.2,normed=true,label=label)\n",
    "\n",
    "    gca()[:set_xscale](\"log\")\n",
    "\n",
    "    w_range = bins[1:end]#logspace(log10(4*minimum(sizes)),log10(maximum(sizes)),30)\n",
    "\n",
    "    P_w_th_range = normed_distribution(w_range,P_w_th(w_range,s(sqrt(w_range)./N,alpha,beta)))\n",
    "    P_w_th_range_eff = normed_distribution(w_range,P_w_th(w_range,get_s_eff(sqrt(w_range)./N,alpha,beta,k)))\n",
    "    #P_w_th_range_eff = normed_distribution(w_range,P_w_th(w_range,\n",
    "    #get_s_effective_two_level_interp(sqrt(w_range)./N,alpha,beta,y_inf_interp,y_sq_inf_interp,y_susc_interp,y_sq_susc_interp)))\n",
    "    \n",
    "    correction_fac = 5\n",
    "    #plot(w_range,correction_fac*P_w_th_range,\"-r\",label=L\"theory $k \\to N-1$\")#$P(w) \\sim e^{- s(\\sqrt{w})^2 w/4} w^{-3/2}/(1 + s(\\sqrt{w}))$ (theory)')\n",
    "    if true#graph_model\n",
    "        plot(w_range,correction_fac*P_w_th_range_eff,\"-b\",label=latexstring(\"effective theory \\$k = $k\\$\"))#$P(w) \\sim e^{- s(\\sqrt{w})^2 w/4} w^{-3/2}/(1 + s(\\sqrt{w}))$ (theory)')\n",
    "    end\n",
    "        \n",
    "    xlabel(L\"$w$\",size=20)\n",
    "    ylabel(L\"$P(w)$\",size=20)\n",
    "\n",
    "    legend(loc=\"lower left\")\n",
    "    ylim([1e-6,1e3])\n",
    "    grid()\n",
    "\n",
    "end\n",
    "function plot_w(sizes,N,alpha,beta,s_eff_fn::Function, word = \"two level\")\n",
    "\n",
    "    figure(4)\n",
    "    sizes = (1 + beta).*sizes\n",
    "    bins = logspace(log10(minimum(sizes)),log10(maximum(sizes)),150)\n",
    "#     word = graph_model ? \"graph\" : \"well-mixed\"\n",
    "    label = latexstring(\"$word, \\$k = $k\\$\")\n",
    "    PyPlot.plt[:hist](sizes,log=true,bins=bins,alpha=0.2,normed=true,label=label)\n",
    "\n",
    "    gca()[:set_xscale](\"log\")\n",
    "\n",
    "    w_range = bins[1:end]#logspace(log10(4*minimum(sizes)),log10(maximum(sizes)),30)\n",
    "\n",
    "    P_w_th_range = normed_distribution(w_range,P_w_th(w_range,s(sqrt(w_range)./N,alpha,beta)))\n",
    "    #P_w_th_range_eff = normed_distribution(w_range,P_w_th(w_range,get_s_eff(sqrt(w_range)./N,alpha,beta,k)))\n",
    "    P_w_th_range_eff = normed_distribution(w_range,P_w_th(w_range,\n",
    "    s_eff_fn(sqrt(w_range))./N))\n",
    "    \n",
    "    correction_fac = 5\n",
    "    #plot(w_range,correction_fac*P_w_th_range,\"-r\",label=L\"theory $k \\to N-1$\")#$P(w) \\sim e^{- s(\\sqrt{w})^2 w/4} w^{-3/2}/(1 + s(\\sqrt{w}))$ (theory)')\n",
    "    if true#graph_model\n",
    "        plot(w_range,correction_fac*P_w_th_range_eff,\"-g\",label=\"two-level eff. theory\")#$P(w) \\sim e^{- s(\\sqrt{w})^2 w/4} w^{-3/2}/(1 + s(\\sqrt{w}))$ (theory)')\n",
    "    end\n",
    "        \n",
    "    xlabel(L\"$w$\",size=20)\n",
    "    ylabel(L\"$P(w)$\",size=20)\n",
    "\n",
    "    legend(loc=\"lower left\")\n",
    "    ylim([1e-6,1e3])\n",
    "    grid()\n",
    "\n",
    "end\n",
    "\n",
    "#figure out which cluster the infecteds are in from the raw data\n",
    "function get_infecteds_by_clusters_vs_time(clusters::Array{Array{Int,1},1},infecteds_by_nodes_vs_time::Array{Array{Int,1},1})\n",
    "    infecteds_by_clusters_vs_time::Array{Array{Int,1},1} = []\n",
    "    num_clusters = length(clusters)\n",
    "    for infecteds_by_nodes in infecteds_by_nodes_vs_time\n",
    "        infecteds_by_clusters = zeros(Int,num_clusters)\n",
    "        for (i,clust) in enumerate(clusters)\n",
    "            for node in clust\n",
    "                if infecteds_by_nodes[node] == 1\n",
    "                    infecteds_by_clusters[i] += 1\n",
    "                end\n",
    "            end\n",
    "        end\n",
    "        push!(infecteds_by_clusters_vs_time,infecteds_by_clusters)\n",
    "    end\n",
    "    return infecteds_by_clusters_vs_time\n",
    "    \n",
    "end\n",
    "\n",
    "#we have infecteds vs. cluster idx and want to know how many clusters of infectivity level i there are for every possible i=1:m\n",
    "function get_infection_distribution_over_clusters(t::TwoLevel,infecteds_by_clusters)\n",
    "    assert(t.n == length(infecteds_by_clusters))\n",
    "    infection_distribution = zeros(Int,t.m+1)\n",
    "    for (i,num_infected) in enumerate(infecteds_by_clusters)\n",
    "        infection_distribution[num_infected+1] += 1\n",
    "    end\n",
    "    return infection_distribution\n",
    "end\n",
    "\n",
    "function get_two_level_with_distribution(t_template::TwoLevel,infection_distribution::Array{Int,1})\n",
    "    assert(t_template.m + 1 == length(infection_distribution))\n",
    "    t = TwoLevel(t_template)\n",
    "    t.a = infection_distribution\n",
    "    make_consistent(t)\n",
    "    return t\n",
    "end\n",
    "\n",
    "function get_two_level_states(tg::TwoLevelGraph,infecteds_by_nodes_vs_time::Array{Array{Int,1},1})\n",
    "    two_level_states::Array{TwoLevel,1} = []\n",
    "    infecteds_by_clusters_vs_time = get_infecteds_by_clusters_vs_time(tg.clusters,infecteds_by_nodes_vs_time)\n",
    "    for infecteds_by_clusters in infecteds_by_clusters_vs_time\n",
    "        push!(two_level_states,get_two_level_with_distribution(tg.t,get_infection_distribution_over_clusters(tg.t,infecteds_by_clusters)))\n",
    "    end\n",
    "    return two_level_states\n",
    "end\n",
    "\n",
    "function get_two_level_states_from_runs(runs::Array{EpidemicRun,1})\n",
    "    tg_raw = runs[1].graph_information.data\n",
    "    t_raw = runs[1].graph_information.data.t\n",
    "    t::TwoLevel = TwoLevel(t_raw.a,t_raw.N,t_raw.m,t_raw.n,t_raw.i,t_raw.r,t_raw.l)\n",
    "    tg::TwoLevelGraph = TwoLevelGraph(tg_raw.g,t,tg_raw.clusters)\n",
    "    two_level_states::Array{TwoLevel,1} = []\n",
    "    for run in runs\n",
    "        two_level_states = vcat(two_level_states,get_two_level_states(tg,run.infecteds_by_nodes_vs_time))\n",
    "    end\n",
    "    return two_level_states\n",
    "end\n",
    "\n",
    "function get_mean_distribution_from_states(two_level_states::Array{TwoLevel,1},y_desired::AbstractFloat,tol= 0.005)\n",
    "    counter = 0\n",
    "    t = two_level_states[1]\n",
    "    accum = zeros(length(t.a))\n",
    "    for t in two_level_states\n",
    "        if y_desired-tolerance< t.i/t.N < y_desired+tolerance\n",
    "            counter += 1\n",
    "            accum += t.a\n",
    "        end\n",
    "    end\n",
    "    accum /= counter\n",
    "    println(\"$counter instances\")\n",
    "    return accum\n",
    "end\n"
   ]
  },
  {
   "cell_type": "code",
   "execution_count": 2,
   "metadata": {
    "collapsed": false
   },
   "outputs": [
    {
     "data": {
      "text/plain": [
       "\"../data/\""
      ]
     },
     "execution_count": 2,
     "metadata": {},
     "output_type": "execute_result"
    }
   ],
   "source": [
    "data_dir_path = \"../data/\"  #\"/mnt/D/windows/MIT/classes/6/338/project/data/\"\n"
   ]
  },
  {
   "cell_type": "code",
   "execution_count": 2,
   "metadata": {
    "collapsed": false
   },
   "outputs": [
    {
     "ename": "LoadError",
     "evalue": "LoadError: MethodError: `get_p_reach` has no method matching get_p_reach(::Int64)\nwhile loading In[2], in expression starting on line 1",
     "output_type": "error",
     "traceback": [
      "LoadError: MethodError: `get_p_reach` has no method matching get_p_reach(::Int64)\nwhile loading In[2], in expression starting on line 1",
      ""
     ]
    }
   ],
   "source": [
    "get_p_reach(1)"
   ]
  },
  {
   "cell_type": "code",
   "execution_count": 3,
   "metadata": {
    "collapsed": false
   },
   "outputs": [
    {
     "data": {
      "text/plain": [
       "14-element Array{SubString{ASCIIString},1}:\n",
       " \"epidemics_2016-02-18T11:41:00.jld\"      \n",
       " \"epidemics_2016-02-18T11:42:35.jld\"      \n",
       " \"epidemics_2016-02-24T19:36:11.jld\"      \n",
       " \"epidemics_2016-02-24T19:37:07.jld\"      \n",
       " \"epidemics_2016-04-10T23:37:51.jld\"      \n",
       " \"epidemics_2016-04-11T00:15:33.jld\"      \n",
       " \"epidemics_2016-04-11T00:28:47.jld\"      \n",
       " \"epidemics_2016-04-11T01:07:35.jld\"      \n",
       " \"epidemics_graph_2016-04-11T03:09:23.jld\"\n",
       " \"epidemics_graph_2016-04-11T04:02:52.jld\"\n",
       " \"epidemics_graph_2016-04-11T04:20:46.jld\"\n",
       " \"epidemics_graph_2016-04-28T21:07:08.jld\"\n",
       " \"epidemics_graph_2016-04-28T23:59:53.jld\"\n",
       " \"interpolations.jld\"                     "
      ]
     },
     "execution_count": 3,
     "metadata": {},
     "output_type": "execute_result"
    }
   ],
   "source": [
    "filenames = split(readall(`ls $data_dir_path`));\n",
    "filenames[1:end]"
   ]
  },
  {
   "cell_type": "code",
   "execution_count": 3,
   "metadata": {
    "collapsed": false
   },
   "outputs": [
    {
     "ename": "LoadError",
     "evalue": "LoadError: UndefVarError: data_dir_path not defined\nwhile loading In[3], in expression starting on line 2",
     "output_type": "error",
     "traceback": [
      "LoadError: UndefVarError: data_dir_path not defined\nwhile loading In[3], in expression starting on line 2",
      ""
     ]
    }
   ],
   "source": [
    "#using JLD\n",
    "d = load(data_dir_path*filenames[end-2])\n",
    "params = d[\"params\"]\n",
    "runs = d[\"runs\"];\n",
    "num_fixed = get_num_fixed(runs) #d[\"num_fixed\"]\n",
    "sizes = get_sizes(runs) #d[\"sizes\"]\n",
    "\n",
    "N = params[\"N\"]\n",
    "alpha = params[\"alpha\"]\n",
    "beta = params[\"beta\"]\n",
    "k = params[\"k\"]\n",
    "num_trials = length(runs)\n",
    "graph_model = params[\"graph_model\"]\n",
    "\n",
    "c_r = get_c_r(N,alpha,beta)\n",
    "n_n = get_n_n(N,alpha,beta)\n",
    "\n",
    "t = runs[1].graph_information.data.t\n",
    "k = t.l + t.r\n",
    "\n",
    "#im = InfectionModel(x -> 1 + alpha*x , x -> 1 + beta);\n",
    "im = InfectionModel(x -> 1 + beta + get_s_eff(x,alpha,beta,k) , x -> 1 + beta);\n",
    "\n",
    "y_n, y_minus, y_plus, y_p,critical_determinant = get_parameters(N,alpha,beta)\n",
    "\n",
    "#plot_schematics(N,alpha,beta,k,true)\n",
    "\n",
    "\n",
    "\n",
    "#plot_w(sizes,N,alpha,beta)\n",
    "\n",
    "#im = InfectionModel(x -> 1 + alpha*x , x -> 1 + beta);\n",
    "\n",
    "println(num_fixed/num_trials,\" \", IM.P_fix(im,N,1/N))\n",
    "\n",
    "println(\"Is graph model: $graph_model\")\n",
    "\n",
    "\n"
   ]
  },
  {
   "cell_type": "code",
   "execution_count": 4,
   "metadata": {
    "collapsed": false
   },
   "outputs": [
    {
     "name": "stdout",
     "output_type": "stream",
     "text": [
      "N=400, alpha = 5.555555555555555, beta = 0.5555555555555556\n",
      "0.0025\n"
     ]
    }
   ],
   "source": [
    "k = 4\n",
    "#y_n = 0.1\n",
    "c_r = 0.18\n",
    "N = 400#100000#400\n",
    "n_n = 40#10#y_n*N\n",
    "beta = 4.0/(c_r*n_n)\n",
    "alpha = (N*beta)/n_n\n",
    "println(\"N=$N, alpha = $alpha, beta = $beta\")\n",
    "\n",
    "\n",
    "#Generate a random startin vector\n",
    "m = 20 #40\n",
    "n = Int(N/m)\n",
    "l = Int(m/2)#internal\n",
    "r = 2#Int(m/2)#2 #external\n",
    "\n",
    "y_desired = 0.003\n",
    "\n",
    "\n",
    "t = TwoLevel(N,m,l,r)\n",
    "#distribute_randomly(t,n)\n",
    "adjust_infecteds(t,y_desired)\n",
    "make_consistent(t)\n",
    "assert(is_valid(t))\n",
    "println(t.i/t.N)"
   ]
  },
  {
   "cell_type": "code",
   "execution_count": 6,
   "metadata": {
    "collapsed": false
   },
   "outputs": [
    {
     "ename": "LoadError",
     "evalue": "LoadError: UndefVarError: num_fixed not defined\nwhile loading In[6], in expression starting on line 2",
     "output_type": "error",
     "traceback": [
      "LoadError: UndefVarError: num_fixed not defined\nwhile loading In[6], in expression starting on line 2",
      ""
     ]
    }
   ],
   "source": [
    "#t = runs[1].graph_information.data.t\n",
    "println(\"Data P_fixed: $(num_fixed/num_trials)\")\n",
    "\n",
    "println(\"N: $N\")\n",
    "println(\"n_n: $(n_n)\")\n",
    "println(\"r: $(t.r), l: $(t.l)\")\n",
    "println(\"alpha: $alpha, beta: $beta\")"
   ]
  },
  {
   "cell_type": "code",
   "execution_count": 9,
   "metadata": {
    "collapsed": false
   },
   "outputs": [
    {
     "data": {
      "text/plain": [
       "(Spline1D(knots=[9.99988e-5,0.000200304 … 0.9825,0.9925] (226 elements), k=1, extrapolation=\"extrapolate\", residual=0.0),Spline1D(knots=[9.99988e-5,0.000200304 … 0.9825,0.9925] (226 elements), k=1, extrapolation=\"extrapolate\", residual=0.0),Spline1D(knots=[9.99988e-5,0.000200304 … 0.9825,0.9925] (226 elements), k=1, extrapolation=\"extrapolate\", residual=0.0),Spline1D(knots=[9.99988e-5,0.000200304 … 0.9825,0.9925] (226 elements), k=1, extrapolation=\"extrapolate\", residual=0.0))"
      ]
     },
     "execution_count": 9,
     "metadata": {},
     "output_type": "execute_result"
    }
   ],
   "source": [
    "y_inf_interp,y_sq_inf_interp,y_susc_interp,y_sq_susc_interp = get_interpolations(t,alpha,beta)"
   ]
  },
  {
   "cell_type": "code",
   "execution_count": 22,
   "metadata": {
    "collapsed": false
   },
   "outputs": [
    {
     "data": {
      "image/png": "[encoded data removed]",
      "text/plain": [
       "PyPlot.Figure(PyObject <matplotlib.figure.Figure object at 0x31d166d10>)"
      ]
     },
     "metadata": {},
     "output_type": "display_data"
    },
    {
     "name": "stdout",
     "output_type": "stream",
     "text": [
      "3954\n"
     ]
    }
   ],
   "source": [
    "s_eff_fn(x) = get_s_effective_two_level_interp(x,alpha,beta,y_inf_interp,y_sq_inf_interp,y_susc_interp,y_sq_susc_interp)\n",
    "#plot_w(sizes,N,alpha,beta,s_eff_fn,\"two level graph\")\n",
    "plot_w(sizes_two_level,N,alpha,beta,s_eff_fn, \"two level mixed\")\n",
    "plot_w(sizes_well_mixed,N,alpha,beta,t.l + t.r, \"plain mixed\")"
   ]
  },
  {
   "cell_type": "code",
   "execution_count": 48,
   "metadata": {
    "collapsed": false
   },
   "outputs": [
    {
     "data": {
      "text/plain": [
       "P_fix (generic function with 1 method)"
      ]
     },
     "execution_count": 48,
     "metadata": {},
     "output_type": "execute_result"
    }
   ],
   "source": [
    "s(x) = get_s_effective_two_level_interp(x,alpha,beta,y_inf_interp,y_sq_inf_interp,y_susc_interp,y_sq_susc_interp)\n",
    "splus(x) = get_splus_effective_two_level_interp(x,alpha,beta,y_inf_interp,y_sq_inf_interp,y_susc_interp,y_sq_susc_interp)\n",
    "\n",
    "s1(x) = alpha*x - beta\n",
    "splus1(x) = 2 + beta + alpha*x\n",
    "\n",
    "\n",
    "s2(x) = p_birth(im_effective,x) - p_death(im_effective,x)\n",
    "splus2(x) =  p_birth(im_effective,x) + p_death(im_effective,x)\n",
    "\n",
    "function P_fix(s::Function,splus::Function,N::Int,x0::Real)\n",
    "    a(x) = s(x)\n",
    "    b(x) = 1/N*(splus(x))\n",
    "    \n",
    "    psi(x,a,b) = exp( -2* Cubature.hquadrature(y -> a(y)/b(y),0,x)[1])\n",
    "    \n",
    "    return Cubature.hquadrature(y -> psi(y,a,b),0,x0)[1]/Cubature.hquadrature(y -> psi(y,a,b),0,1)[1]\n",
    "end\n",
    "\n",
    "# a(x) = x.*s(x)\n",
    "# b(x) = 1.0/N*(1-x).*x.*splus(x)\n",
    "\n",
    "# a_over_b(x) = N*s(x)./splus(x)\n",
    "# psi(x,a_over_b) = exp( -2* Cubature.hquadrature(y -> a_over_b(y),0,x)[1])"
   ]
  },
  {
   "cell_type": "code",
   "execution_count": 50,
   "metadata": {
    "collapsed": false
   },
   "outputs": [
    {
     "data": {
      "text/plain": [
       "0.02272815639230584"
      ]
     },
     "execution_count": 50,
     "metadata": {},
     "output_type": "execute_result"
    }
   ],
   "source": [
    "P_fix(s2,splus2,N,1/N)\n",
    "# using IM\n",
    "# IM.P_fix(im,N,1/N)"
   ]
  },
  {
   "cell_type": "code",
   "execution_count": 8,
   "metadata": {
    "collapsed": false
   },
   "outputs": [
    {
     "data": {
      "text/plain": [
       "get_s_death_effective_two_level_interp (generic function with 1 method)"
      ]
     },
     "execution_count": 8,
     "metadata": {},
     "output_type": "execute_result"
    }
   ],
   "source": [
    "function get_s_effective_two_level(y,y_susc,y_sq_susc,y_inf,y_sq_inf,alpha::Float64,beta::Float64)\n",
    "    return get_s_birth_effective_two_level(y,y_susc,y_sq_susc,alpha) - get_s_death_effective_two_level(y_inf,beta)\n",
    "end\n",
    "\n",
    "function get_splus_effective_two_level(y,y_susc,y_sq_susc,y_inf,y_sq_inf,alpha::Float64,beta::Float64)\n",
    "    return get_s_birth_effective_two_level(y,y_susc,y_sq_susc,alpha) + get_s_death_effective_two_level(y_inf,beta)\n",
    "end\n",
    "\n",
    "function get_s_birth_effective_two_level(y::Array,y_susc,y_sq_susc,alpha::Float64)\n",
    "    ret = (1-y)./y.*(y_susc + alpha .* y_sq_susc)\n",
    "    ret[y .== 0] = 0.0\n",
    "    return ret\n",
    "end\n",
    "\n",
    "function get_s_birth_effective_two_level(y::Number,y_susc,y_sq_susc,alpha::Float64)\n",
    "    if y == 0 return 0.0 end\n",
    "    ret = (1-y)./y.*(y_susc + alpha .* y_sq_susc)\n",
    "#     ret[y .== 0] = 0\n",
    "    return ret\n",
    "end\n",
    "\n",
    "function get_s_death_effective_two_level(y_inf,beta::Float64)\n",
    "    return (1 - y_inf).*(1 + beta)\n",
    "end\n",
    "    \n",
    "function get_splus_effective_two_level_interp(yy,alpha::Float64,beta::Float64,y_inf_interp,y_sq_inf_interp,y_susc_interp,y_sq_susc_interp)\n",
    "    y_inf = evaluate(y_inf_interp,yy)\n",
    "    y_susc = evaluate(y_susc_interp,yy)\n",
    "    y_sq_inf = evaluate(y_sq_inf_interp,yy)\n",
    "    y_sq_susc = evaluate(y_sq_susc_interp,yy)\n",
    "    return get_splus_effective_two_level(yy,y_susc,y_sq_susc,y_inf,y_sq_inf,alpha,beta)\n",
    "end\n",
    "\n",
    "\n",
    "function get_s_effective_two_level_interp(yy,alpha::Float64,beta::Float64,y_inf_interp,y_sq_inf_interp,y_susc_interp,y_sq_susc_interp)\n",
    "    y_inf = evaluate(y_inf_interp,yy)\n",
    "    y_susc = evaluate(y_susc_interp,yy)\n",
    "    y_sq_inf = evaluate(y_sq_inf_interp,yy)\n",
    "    y_sq_susc = evaluate(y_sq_susc_interp,yy)\n",
    "    return get_s_effective_two_level(yy,y_susc,y_sq_susc,y_inf,y_sq_inf,alpha,beta)\n",
    "end\n",
    "\n",
    "\n",
    "function get_s_birth_effective_two_level_interp(yy,alpha::Float64,y_susc_interp,y_sq_susc_interp)\n",
    "    y_susc = evaluate(y_susc_interp,yy)\n",
    "    y_sq_susc = evaluate(y_sq_susc_interp,yy)\n",
    "    return get_s_birth_effective_two_level(yy,y_susc,y_sq_susc,alpha)\n",
    "end\n",
    "\n",
    "function get_s_death_effective_two_level_interp(yy,beta::Float64,y_inf_interp)\n",
    "    y_inf = evaluate(y_inf_interp,yy)\n",
    "    return get_s_death_effective_two_level(y_inf,beta)\n",
    "end"
   ]
  },
  {
   "cell_type": "code",
   "execution_count": 36,
   "metadata": {
    "collapsed": false
   },
   "outputs": [
    {
     "data": {
      "image/png": "[encoded data removed]",
      "text/plain": [
       "PyPlot.Figure(PyObject <matplotlib.figure.Figure object at 0x323f18c90>)"
      ]
     },
     "metadata": {},
     "output_type": "display_data"
    },
    {
     "data": {
      "text/plain": [
       "1-element Array{Any,1}:\n",
       " PyObject <matplotlib.lines.Line2D object at 0x31f6902d0>"
      ]
     },
     "execution_count": 36,
     "metadata": {},
     "output_type": "execute_result"
    }
   ],
   "source": [
    "w_range = collect(0.01:0.01:100)\n",
    "#yy = collect(0.01:0.01:1)\n",
    "w_range = logspace(-6,4.5,100)\n",
    "y_eff = sqrt(w_range)./N\n",
    "s_eff = get_s_effective_two_level_interp(y_eff,alpha,beta,y_inf_interp,y_sq_inf_interp,y_susc_interp,y_sq_susc_interp)\n",
    "s_birth_eff = get_s_birth_effective_two_level_interp(y_eff,alpha,y_susc_interp,y_sq_susc_interp)\n",
    "s_death_eff = get_s_death_effective_two_level_interp(y_eff,beta,y_inf_interp)\n",
    "loglog(y_eff,s_eff,\"r\")\n",
    "loglog(y_eff,s_birth_eff,\"g\")\n",
    "loglog(y_eff,s_death_eff,\"k\")\n",
    "loglog(y_eff,s(y_eff,alpha,beta),\"--r\")\n",
    "#xlim(0,0.01)\n",
    "#plot(yy,y_sq_inf_interp(yy))\n",
    "#y_inf_interp[sqrt(w_range)./N]"
   ]
  },
  {
   "cell_type": "code",
   "execution_count": 15,
   "metadata": {
    "collapsed": false
   },
   "outputs": [
    {
     "data": {
      "image/png": "[encoded data removed]",
      "text/plain": [
       "PyPlot.Figure(PyObject <matplotlib.figure.Figure object at 0x30a1d8dd0>)"
      ]
     },
     "metadata": {},
     "output_type": "display_data"
    },
    {
     "data": {
      "text/plain": [
       "PyObject <matplotlib.legend.Legend object at 0x31d100910>"
      ]
     },
     "execution_count": 15,
     "metadata": {},
     "output_type": "execute_result"
    }
   ],
   "source": [
    "using Dierckx\n",
    "yy = 0:0.0001:0.1\n",
    "\n",
    "# plot(yy,evaluate(y_inf_interp,yy),\"r\",label=L\"y_{inf}\")\n",
    "# plot(yy,yy,\"--r\")\n",
    "\n",
    "# plot(yy,evaluate(y_sq_inf_interp,yy),\"b\",label=L\"y_{inf}^{2}\")\n",
    "# plot(yy,yy.^2,\"--b\")\n",
    "\n",
    "plot(yy,evaluate(y_susc_interp,yy),\"-.r\",label=L\"y_{susc}\")\n",
    "plot(yy,yy,\"--r\")\n",
    "\n",
    "plot(yy,evaluate(y_sq_susc_interp,yy),\"-.b\",label=L\"y_{susc}^2\")\n",
    "plot(yy,yy.^2,\"--b\")\n",
    "\n",
    " plot(yy,\n",
    " get_s_birth_effective_two_level_interp(collect(yy),alpha,y_susc_interp,y_sq_susc_interp),\n",
    " \"-.g\",label=L\"s_{birth}\")\n",
    "\n",
    "#plot(yy,(1 - yy)./yy,\"-k\")\n",
    "legend(loc=\"lower right\")\n",
    "\n",
    "#xlim([0,1])\n",
    "#ylim([0,1])"
   ]
  },
  {
   "cell_type": "code",
   "execution_count": 12,
   "metadata": {
    "collapsed": false
   },
   "outputs": [
    {
     "data": {
      "text/plain": [
       "get_s_death_effective_two_level_interp (generic function with 1 method)"
      ]
     },
     "execution_count": 12,
     "metadata": {},
     "output_type": "execute_result"
    }
   ],
   "source": [
    "\n",
    "\n",
    "function get_s_effective_two_level(y,y_susc,y_sq_susc,y_inf,y_sq_inf,alpha::Float64,beta::Float64)\n",
    "    return get_s_birth_effective_two_level(y,y_susc,y_sq_susc,alpha) - get_s_death_effective_two_level(y_inf,beta)\n",
    "end\n",
    "\n",
    "function get_splus_effective_two_level(y,y_susc,y_sq_susc,y_inf,y_sq_inf,alpha::Float64,beta::Float64)\n",
    "    return get_s_birth_effective_two_level(y,y_susc,y_sq_susc,alpha) + get_s_death_effective_two_level(y_inf,beta)\n",
    "end\n",
    "\n",
    "function get_s_birth_effective_two_level(y::Array,y_susc,y_sq_susc,alpha::Float64)\n",
    "    ret = (1-y)./y.*(y_susc + alpha .* y_sq_susc)\n",
    "    ret[y .== 0] = 0.0\n",
    "    return ret\n",
    "end\n",
    "\n",
    "function get_s_birth_effective_two_level(y::Number,y_susc,y_sq_susc,alpha::Float64)\n",
    "    if y == 0 return 0.0 end\n",
    "    ret = (1-y)./y.*(y_susc + alpha .* y_sq_susc)\n",
    "#     ret[y .== 0] = 0\n",
    "    return ret\n",
    "end\n",
    "\n",
    "function get_s_death_effective_two_level(y_inf,beta::Float64)\n",
    "    return (1 - y_inf).*(1 + beta)\n",
    "end\n",
    "    \n",
    "function get_splus_effective_two_level_interp(yy,alpha::Float64,beta::Float64,y_inf_interp,y_sq_inf_interp,y_susc_interp,y_sq_susc_interp)\n",
    "    y_inf = evaluate(y_inf_interp,yy)\n",
    "    y_susc = evaluate(y_susc_interp,yy)\n",
    "    y_sq_inf = evaluate(y_sq_inf_interp,yy)\n",
    "    y_sq_susc = evaluate(y_sq_susc_interp,yy)\n",
    "    return get_splus_effective_two_level(yy,y_susc,y_sq_susc,y_inf,y_sq_inf,alpha,beta)\n",
    "end\n",
    "\n",
    "\n",
    "function get_s_effective_two_level_interp(yy,alpha::Float64,beta::Float64,y_inf_interp,y_sq_inf_interp,y_susc_interp,y_sq_susc_interp)\n",
    "    y_inf = evaluate(y_inf_interp,yy)\n",
    "    y_susc = evaluate(y_susc_interp,yy)\n",
    "    y_sq_inf = evaluate(y_sq_inf_interp,yy)\n",
    "    y_sq_susc = evaluate(y_sq_susc_interp,yy)\n",
    "    return get_s_effective_two_level(yy,y_susc,y_sq_susc,y_inf,y_sq_inf,alpha,beta)\n",
    "end\n",
    "\n",
    "\n",
    "function get_s_birth_effective_two_level_interp(yy,alpha::Float64,y_susc_interp,y_sq_susc_interp)\n",
    "    y_susc = evaluate(y_susc_interp,yy)\n",
    "    y_sq_susc = evaluate(y_sq_susc_interp,yy)\n",
    "    return get_s_birth_effective_two_level(yy,y_susc,y_sq_susc,alpha)\n",
    "end\n",
    "\n",
    "function get_s_death_effective_two_level_interp(yy,beta::Float64,y_inf_interp)\n",
    "    y_inf = evaluate(y_inf_interp,yy)\n",
    "    return get_s_death_effective_two_level(y_inf,beta)\n",
    "end\n"
   ]
  },
  {
   "cell_type": "code",
   "execution_count": null,
   "metadata": {
    "collapsed": false
   },
   "outputs": [],
   "source": [
    "tolerance = 0.005\n",
    "y_desired = 0.12\n",
    "\n",
    "\n",
    "\n",
    "accum = get_mean_distribution_from_states(two_level_states,y_desired,tolerance)\n",
    "accum_stationary = get_stationary_distribution(t.N,t.m,t.l,t.r,y_desired,((x,y) -> death_fn(x,y,beta)),((x,y) -> birth_fn(x,y,alpha)))\n",
    "\n"
   ]
  },
  {
   "cell_type": "code",
   "execution_count": null,
   "metadata": {
    "collapsed": false
   },
   "outputs": [],
   "source": [
    "accum_stationary = get_stationary_distribution(t.N,t.m,t.l,t.r,y_desired,((x,y) -> death_fn(x,y,beta)),((x,y) -> birth_fn(x,y,alpha)))\n"
   ]
  },
  {
   "cell_type": "code",
   "execution_count": null,
   "metadata": {
    "collapsed": false
   },
   "outputs": [],
   "source": [
    "#ion()\n",
    "figure()\n",
    "\n",
    "subplot(211)\n",
    "title(latexstring(\"\\$ \\\\bar{y} = $(y_desired)\\$\"))\n",
    "\n",
    "semilogy(accum,label=\"graph simulation\")\n",
    "semilogy(accum_stationary,label=\"MCMC stationary distribution\")\n",
    "#xlabel(\"# of infecteds in subgraph\")\n",
    "ylabel(\"# of subgraphs\")\n",
    "grid()\n",
    "legend()\n",
    "\n",
    "subplot(212)\n",
    "plot(accum,label=\"graph simulation\")\n",
    "plot(accum_stationary,label=\"MCMC stationary distribution\")\n",
    "xlabel(\"# of infecteds in subgraph\")\n",
    "ylabel(\"# of subgraphs\")\n",
    "grid()\n",
    "legend()\n",
    "savefig(\"../figures/mcmc_stationary_to_graph_comparison_y_$(y_desired).png\")"
   ]
  },
  {
   "cell_type": "code",
   "execution_count": null,
   "metadata": {
    "collapsed": false
   },
   "outputs": [],
   "source": [
    "plot_schematics(N,alpha,beta,k,true)"
   ]
  },
  {
   "cell_type": "code",
   "execution_count": null,
   "metadata": {
    "collapsed": false
   },
   "outputs": [],
   "source": [
    "N = 1000\n",
    "n_n = 400\n",
    "c_r = 0.4\n",
    "alpha,beta = get_alpha_beta(N,c_r,n_n)\n",
    "plot_schematics(N,alpha,beta,k,true)\n",
    "im = InfectionModel(x -> 1 + beta + get_s_eff(x,alpha,beta,k) , x -> 1 + beta);\n",
    "IM.P_fix(im,N,1/N)"
   ]
  },
  {
   "cell_type": "code",
   "execution_count": 28,
   "metadata": {
    "collapsed": false
   },
   "outputs": [
    {
     "data": {
      "text/plain": [
       "0.02272815639230584"
      ]
     },
     "execution_count": 28,
     "metadata": {},
     "output_type": "execute_result"
    }
   ],
   "source": [
    "im = InfectionModel(x -> 1 + beta + get_s_eff(x,alpha,beta,t.r + t.l) , x -> 1 + beta);\n",
    "IM.P_fix(im,N,1/N)\n",
    "# xx = 0:0.01:1\n",
    "# plot(xx,get_s_eff(xx,alpha,beta,N-1))"
   ]
  },
  {
   "cell_type": "markdown",
   "metadata": {},
   "source": [
    "# why are there zero fixed for the graph case?"
   ]
  },
  {
   "cell_type": "code",
   "execution_count": null,
   "metadata": {
    "collapsed": false
   },
   "outputs": [],
   "source": [
    "### Well Mixed Case Two Level###\n",
    "function run_epidemic_well_mixed_two_level(dt::AbstractFloat,N::Int,y_susc_fn,y_sq_susc_fn,y_inf_fn,y_sq_inf_fn,alpha::AbstractFloat,beta::AbstractFloat,fixation_threshold=1.0)\n",
    "    infecteds::Array{Float64,1} = []\n",
    "    n = 1\n",
    "    fixed=false\n",
    "    push!(infecteds,n)\n",
    "\n",
    "    while n > 0\n",
    "        if !(n < N && n < N*fixation_threshold)\n",
    "            fixed = true\n",
    "            break\n",
    "        end\n",
    "        n = update_n_two_level(dt,n,N,y_susc_fn,y_sq_susc_fn,y_inf_fn,y_sq_inf_fn,alpha,beta)\n",
    "        push!(infecteds,n)\n",
    "        println(\"$(n/N)\")\n",
    "    end\n",
    "\n",
    "    size = dt*sum(infecteds)\n",
    "    if fixed\n",
    "        size = Inf\n",
    "    end\n",
    "\n",
    "    return EpidemicRun(infecteds,size,fixed)\n",
    "end\n",
    "\n",
    "function get_dt_two_level(alpha::AbstractFloat,beta::AbstractFloat)\n",
    "    desired_rate = 0.1\n",
    "    max_rate = maximum([(1 + alpha),(1 + beta)])\n",
    "    dt = desired_rate/max_rate\n",
    "    return float(dt)\n",
    "end\n",
    "\n",
    "function update_n_two_level(dt::AbstractFloat,n::Int,N::Int,y_susc_fn,y_sq_susc_fn,y_inf_fn,y_sq_inf_fn,alpha::AbstractFloat,beta::AbstractFloat)\n",
    "    y = n/N\n",
    "    y_susc = evaluate(y_susc_fn,y)\n",
    "    y_inf = evaluate(y_inf_fn,y)\n",
    "    y_sq_susc = evaluate(y_sq_susc_fn,y)\n",
    "    y_sq_inf = evaluate(y_sq_inf_fn,y)\n",
    "\n",
    "    prob_birth = (y_susc + y_sq_susc*alpha)*dt\n",
    "    prob_death = (1 - y_inf)*(1 + beta)*dt\n",
    "\n",
    "\n",
    "    if prob_birth == 0\n",
    "        delta_n_plus = 0\n",
    "    else\n",
    "       delta_n_plus = rand(Binomial(N-n,prob_birth))\n",
    "    end\n",
    "\n",
    "    if prob_death == 0\n",
    "        delta_n_minus = 0\n",
    "    else\n",
    "        delta_n_minus = rand(Binomial(n,prob_death))\n",
    "    end\n",
    "\n",
    "    return n + delta_n_plus - delta_n_minus\n",
    "\n",
    "end    "
   ]
  },
  {
   "cell_type": "code",
   "execution_count": 10,
   "metadata": {
    "collapsed": false
   },
   "outputs": [
    {
     "data": {
      "text/plain": [
       "Spline1D(knots=[0.0024655,0.017541 … 0.977498,0.992513] (99 elements), k=2, extrapolation=\"extrapolate\", residual=0.0)"
      ]
     },
     "execution_count": 10,
     "metadata": {},
     "output_type": "execute_result"
    }
   ],
   "source": [
    "#using Grid\n",
    "interpolation_function_path = \"../data/interpolations.jld\"\n",
    "#y_inf_interp,y_sq_inf_interp,y_susc_interp,y_sq_susc_interp = get_interpolations(t,alpha,beta)\n",
    "#save(interpolation_function_path,\"y_inf_interp\",y_inf_interp,\"y_sq_inf_interp\",y_sq_inf_interp,\"y_susc_interp\",y_susc_interp,\"y_sq_susc_interp\",y_sq_susc_interp)\n",
    "interpolation_functions = load(interpolation_function_path)\n",
    "y_inf_interp = interpolation_functions[\"y_inf_interp\"]\n",
    "y_sq_inf_interp = interpolation_functions[\"y_sq_inf_interp\"]\n",
    "y_susc_interp = interpolation_functions[\"y_susc_interp\"]\n",
    "y_sq_susc_interp = interpolation_functions[\"y_sq_susc_interp\"]\n",
    "\n"
   ]
  },
  {
   "cell_type": "code",
   "execution_count": 16,
   "metadata": {
    "collapsed": false
   },
   "outputs": [
    {
     "name": "stdout",
     "output_type": "stream",
     "text": [
      "N: 400, n_n: 40, l: 10, t.r: 2, \n"
     ]
    },
    {
     "data": {
      "text/plain": [
       "(anonymous function)"
      ]
     },
     "execution_count": 16,
     "metadata": {},
     "output_type": "execute_result"
    }
   ],
   "source": [
    "# k = 4\n",
    "# #y_n = 0.1\n",
    "# c_r = 0.18\n",
    "# N = 400#100000#400\n",
    "# n_n = 10#10#y_n*N\n",
    "# beta = 4.0/(c_r*n_n)\n",
    "# alpha = (N*beta)/n_n\n",
    "println(\"N: $(N), n_n: $(n_n), l: $(t.l), t.r: $(t.r), \")\n",
    "dt = get_dt_two_level(alpha,beta)\n",
    "run_epidemic_fn = () -> run_epidemic_well_mixed_two_level(dt,N,y_susc_interp,y_sq_susc_interp,y_inf_interp,y_sq_inf_interp,alpha,beta,1.0)\n"
   ]
  },
  {
   "cell_type": "code",
   "execution_count": 17,
   "metadata": {
    "collapsed": false
   },
   "outputs": [
    {
     "data": {
      "text/plain": [
       "Epidemics.EpidemicRun([1.0,1.0,1.0,1.0,1.0,1.0,1.0,1.0,1.0,1.0  …  399.0,398.0,399.0,399.0,399.0,399.0,399.0,399.0,399.0,400.0],Inf,true,Array{Int64,1}[],Epidemics.GraphInformation((anonymous function),empty undirected graph,false,nothing))"
      ]
     },
     "execution_count": 17,
     "metadata": {},
     "output_type": "execute_result"
    }
   ],
   "source": [
    "run_epidemic_fn()"
   ]
  },
  {
   "cell_type": "code",
   "execution_count": 18,
   "metadata": {
    "collapsed": false,
    "scrolled": true
   },
   "outputs": [
    {
     "name": "stdout",
     "output_type": "stream",
     "text": [
      "193."
     ]
    }
   ],
   "source": [
    "@time runs_two_level = run_epidemics(100000,run_epidemic_fn);"
   ]
  },
  {
   "cell_type": "code",
   "execution_count": 19,
   "metadata": {
    "collapsed": false
   },
   "outputs": [
    {
     "name": "stdout",
     "output_type": "stream",
     "text": [
      "979243 seconds (589.05 M allocations: 45.413 GB, 13.11% gc time)\n",
      "0.32114"
     ]
    }
   ],
   "source": [
    "sizes_two_level = get_sizes(runs_two_level)\n",
    "num_fixed_two_level = get_num_fixed(runs_two_level)\n",
    "println(num_fixed_two_level/length(runs_two_level))"
   ]
  },
  {
   "cell_type": "code",
   "execution_count": 5,
   "metadata": {
    "collapsed": false
   },
   "outputs": [],
   "source": [
    "im_effective = InfectionModel(x -> 1 + beta + get_s_eff(x,alpha,beta,t.l + t.r) , x -> 1 + beta);\n",
    "runs_well_mixed = run_epidemics(1000, () -> run_epidemic_well_mixed(N,im_effective,1.0));\n",
    "\n"
   ]
  },
  {
   "cell_type": "code",
   "execution_count": 6,
   "metadata": {
    "collapsed": false
   },
   "outputs": [
    {
     "data": {
      "text/plain": [
       "([1.0,2.0,3.0,4.0,5.0,6.0,7.0,8.0,9.0,10.0  …  19.0,20.0,21.0,23.0,25.0,28.0,29.0,38.0,400.0,401.0],[1.0,0.526,0.339,0.255,0.203,0.17,0.142,0.125,0.106,0.095  …  0.06,0.056,0.055,0.054,0.053,0.052,0.048,0.047,0.046,0.004])"
      ]
     },
     "execution_count": 6,
     "metadata": {},
     "output_type": "execute_result"
    }
   ],
   "source": [
    "xvals,pvals = get_p_reach(runs_well_mixed)\n",
    "loglog(xvals,pvals)"
   ]
  },
  {
   "cell_type": "code",
   "execution_count": 21,
   "metadata": {
    "collapsed": false
   },
   "outputs": [
    {
     "name": "stdout",
     "output_type": "stream",
     "text": [
      "\n",
      "0.0"
     ]
    }
   ],
   "source": [
    "sizes_well_mixed = get_sizes(runs_well_mixed)\n",
    "num_fixed_well_mixed = get_num_fixed(runs_well_mixed)\n",
    "println(num_fixed_well_mixed/length(runs_well_mixed))"
   ]
  },
  {
   "cell_type": "markdown",
   "metadata": {},
   "source": [
    "## todo why doesn't the process converge?\n",
    "\n",
    "## vary the fixation threshold and measure accuracy\n",
    "\n",
    "## Ideas for future work:\n",
    "\n",
    "    ### - use clustering and second order properties ($y$, $q_{0,0}$, $q_{1,0}$\n",
    "    ### - discretize a vector ($a_j$ is the number of subgraphs with a fraction $j/jmax$ of infecteds). Calculate the average incoming edges using variations in $k$."
   ]
  },
  {
   "cell_type": "code",
   "execution_count": null,
   "metadata": {
    "collapsed": true
   },
   "outputs": [],
   "source": [
    "## Lior Pachter"
   ]
  }
 ],
 "metadata": {
  "kernelspec": {
   "display_name": "Julia 0.4.3",
   "language": "julia",
   "name": "julia-0.4"
  },
  "language_info": {
   "file_extension": ".jl",
   "mimetype": "application/julia",
   "name": "julia",
   "version": "0.4.3"
  }
 },
 "nbformat": 4,
 "nbformat_minor": 0
}
