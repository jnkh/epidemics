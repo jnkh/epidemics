{
 "cells": [
  {
   "cell_type": "code",
   "execution_count": 8,
   "metadata": {
    "collapsed": false
   },
   "outputs": [
    {
     "data": {
      "text/plain": [
       "plot_w (generic function with 1 method)"
      ]
     },
     "execution_count": 8,
     "metadata": {},
     "output_type": "execute_result"
    }
   ],
   "source": [
    "push!(LOAD_PATH, pwd())\n",
    "using SIS,IM,PayloadGraph,PyPlot, Epidemics,JLD\n",
    "import LightGraphs\n",
    "\n",
    "function get_c_r(N,alpha,beta)\n",
    "    return 4*alpha/(beta^2*N)\n",
    "end\n",
    "\n",
    "function get_n_n(N,alpha,beta)\n",
    "    return beta/alpha*N\n",
    "end\n",
    "\n",
    "function get_alpha_beta(N,c_r,n_n)\n",
    "    beta = 4.0/(c_r*n_n)\n",
    "    alpha = (N*beta)/n_n\n",
    "    return alpha,beta\n",
    "end\n",
    "\n",
    "\n",
    "f(y,alpha) = alpha.*y.^2\n",
    "s(y,alpha,beta) = f(y,alpha)./y - beta\n",
    "#get_y_eff(y,k) = y.*(1 + (1-y)./(y.*k))\n",
    "#get_s_eff(y::Array,alpha,beta,k) = alpha*get_y_eff(y,k) - beta\n",
    "\n",
    "function plot_schematic(n_n,c_r,N,k=N-1,plot_k=false)\n",
    "    beta = 4.0/(c_r*n_n)\n",
    "    alpha = (N*beta)/n_n\n",
    "    y_n, y_minus,y_plus,y_p,critical_determinant = get_parameters(N,alpha,beta)\n",
    "\n",
    "\n",
    "\n",
    "    y_range = collect(0:y_p/1000:1.9*y_p)\n",
    "    figure(1)\n",
    "    plot(y_range,1.0./abs(N*s(y_range,alpha,beta)),\"-r\",label=L\"$\\frac{1}{N|s(y)|}$\")\n",
    "    if plot_k\n",
    "        plot(y_range,1.0./abs(N*get_s_eff(y_range,alpha,beta,k)),\"-b\",label=L\"$\\frac{1}{N|s(y_{eff})|}$\")\n",
    "    end\n",
    "    plot(y_range,y_range,\"-k\",label=L\"$y$\")\n",
    "    axvline(y_n,linestyle=\"--\",label=L\"$y_n$\")\n",
    "    axvline(y_p,linestyle=\"-\",label=L\"$y_p$\")\n",
    "    if y_minus > 0\n",
    "        axvline(y_minus,linestyle=\"-.\",label=L\"$y_1$\")\n",
    "        axvline(y_plus,linestyle=\"-.\",label=L\"$y_2$\")\n",
    "    end\n",
    "    ylim([0,1.9*y_p])\n",
    "    legend(prop=Dict{Any,Any}(\"size\"=>15),loc=\"upper right\")\n",
    "    xlabel(L\"$y$\",size=20)\n",
    "    if plot_k\n",
    "        #figure(1)\n",
    "        #plot(y_range,get_s_eff(y_range,alpha,beta,k),\"-b\",label=L\"$s_{eff}(y)$\")\n",
    "        #plot(y_range,s(y_range),\"-r\",label=L\"$s(y)$\")\n",
    "        legend(prop=Dict{Any,Any}(\"size\"=>20),loc=\"upper right\")\n",
    "        xlabel(L\"$y$\",size=20)\n",
    "    end\n",
    "end\n",
    "\n",
    "function plot_schematics(N,alpha,beta,k,plot_k = false)\n",
    "    im = InfectionModel(x -> 1 + alpha*x , x -> 1 + beta);\n",
    "    imk = InfectionModel(x -> 1 + beta + get_s_eff(x,alpha,beta,k) , x -> 1 + beta);\n",
    "\n",
    "    c_r = get_c_r(N,alpha,beta)\n",
    "    n_n = get_n_n(N,alpha,beta)\n",
    "    pygui(true)\n",
    "    close(1);close(2);close(3)\n",
    "    dx = 2*n_n/N/50\n",
    "    x = collect(dx:dx:2*n_n/N)\n",
    "    y = IM.P_fix(im,N,x)\n",
    "    yk = IM.P_fix(imk,N,x)\n",
    "    figure(2,figsize=(8,5))\n",
    "    plot(x,y,\"-r\",label=L\"P_{fix}(y)\")\n",
    "    plot(x,yk,\"-b\",label=L\"P_{fix}(y_{eff})\")\n",
    "    plot(x,x,\"--k\")\n",
    "    xlim([0,2*n_n/N])\n",
    "    y_n, y_minus, y_plus, y_p,critical_determinant = get_parameters(N,alpha,beta)\n",
    "    axvline(y_n,linestyle=\"--\",color=\"b\",label=L\"y_n\")\n",
    "    axvline(y_minus,linestyle=\"-.\",color=\"r\",label=L\"y_1\")\n",
    "    axvline(y_plus,linestyle=\"-.\",color=\"r\",label=L\"y_2\")\n",
    "    axvline(y_p,linestyle=\"-\",color=\"b\",label=L\"y_p\")\n",
    "    xlabel(L\"y\")\n",
    "    ylabel(L\"P_{fix}(y)\")\n",
    "    legend(loc=\"upper left\")\n",
    "    title(latexstring(\"\\$y_n = $(n_n/N), c_r = $c_r, N = $N\\$\"))\n",
    "    #savefig(\"p_fix_y_n = $(n_n/N), c_r = $c_r, N = $N.png\")\n",
    "\n",
    "    figure(1,figsize=(8,5))\n",
    "    plot_schematic(n_n,c_r,N,k,plot_k)\n",
    "    title(latexstring(\"\\$y_n = $(n_n/N), c_r = $c_r, N = $N\\$\"))\n",
    "\n",
    "    figure(3)\n",
    "    plot(x,get_s_eff(x,alpha,beta,k),\"-b\",label=L\"$s_{eff}(y)$\")\n",
    "    plot(x,s(x,alpha,beta),\"-r\",label=L\"$s(y)$\")\n",
    "    grid()\n",
    "\n",
    "end\n",
    "\n",
    "function plot_w(sizes,N,alpha,beta)\n",
    "\n",
    "    figure(4)\n",
    "    bins = logspace(log10(minimum(sizes)),log10(maximum(sizes)),150)\n",
    "    word = graph_model ? \"graph\" : \"well-mixed\"\n",
    "    label = latexstring(\"$word, \\$k = $k\\$\")\n",
    "    PyPlot.plt[:hist](sizes,log=true,bins=bins,alpha=0.2,normed=true,label=label)\n",
    "\n",
    "    gca()[:set_xscale](\"log\")\n",
    "\n",
    "    w_range = bins[15:end]#logspace(log10(4*minimum(sizes)),log10(maximum(sizes)),30)\n",
    "\n",
    "    P_w_th_range = normed_distribution(w_range,P_w_th(w_range,s(sqrt(w_range)./N,alpha,beta)))\n",
    "    P_w_th_range_eff = normed_distribution(w_range,P_w_th(w_range,get_s_eff(sqrt(w_range)./N,alpha,beta,k)))\n",
    "    \n",
    "    if graph_model\n",
    "        plot(w_range,P_w_th_range,\"-r\",label=L\"theory $k \\to N-1$\")#$P(w) \\sim e^{- s(\\sqrt{w})^2 w/4} w^{-3/2}/(1 + s(\\sqrt{w}))$ (theory)')\n",
    "        plot(w_range,P_w_th_range_eff,\"-g\",label=latexstring(\"effective theory \\$k = $k\\$\"))#$P(w) \\sim e^{- s(\\sqrt{w})^2 w/4} w^{-3/2}/(1 + s(\\sqrt{w}))$ (theory)')\n",
    "    end\n",
    "        \n",
    "    xlabel(L\"$w$\",size=20)\n",
    "    ylabel(L\"$P(w)$\",size=20)\n",
    "\n",
    "    legend(loc=\"lower left\")\n",
    "    ylim([1e-10,1e1])\n",
    "    grid()\n",
    "\n",
    "end"
   ]
  },
  {
   "cell_type": "code",
   "execution_count": 2,
   "metadata": {
    "collapsed": false
   },
   "outputs": [
    {
     "data": {
      "text/plain": [
       "\"../data/\""
      ]
     },
     "execution_count": 2,
     "metadata": {},
     "output_type": "execute_result"
    }
   ],
   "source": [
    "data_dir_path = \"../data/\"  #\"/mnt/D/windows/MIT/classes/6/338/project/data/\"\n"
   ]
  },
  {
   "cell_type": "code",
   "execution_count": 3,
   "metadata": {
    "collapsed": false
   },
   "outputs": [
    {
     "data": {
      "text/plain": [
       "4-element Array{SubString{ASCIIString},1}:\n",
       " \"epidemics_2016-02-12T11:16:23.jld\"\n",
       " \"epidemics_2016-02-12T11:16:35.jld\"\n",
       " \"epidemics_2016-02-12T11:16:36.jld\"\n",
       " \"epidemics_2016-02-12T11:18:03.jld\""
      ]
     },
     "execution_count": 3,
     "metadata": {},
     "output_type": "execute_result"
    }
   ],
   "source": [
    "filenames = split(readall(`ls $data_dir_path`));\n",
    "filenames[end-3:end]"
   ]
  },
  {
   "cell_type": "code",
   "execution_count": 9,
   "metadata": {
    "collapsed": false
   },
   "outputs": [
    {
     "ename": "LoadError",
     "evalue": "LoadError: MethodError: `get_s_eff` has no method matching get_s_eff(::Float64, ::Float64, ::Float64, ::Int64)\nClosest candidates are:\n  get_s_eff(!Matched::Array{T,N}, ::Any, ::Any, ::Any)\nwhile loading In[9], in expression starting on line 19",
     "output_type": "error",
     "traceback": [
      "LoadError: MethodError: `get_s_eff` has no method matching get_s_eff(::Float64, ::Float64, ::Float64, ::Int64)\nClosest candidates are:\n  get_s_eff(!Matched::Array{T,N}, ::Any, ::Any, ::Any)\nwhile loading In[9], in expression starting on line 19",
      "",
      " in anonymous at In[9]:19",
      " in call at /Users/julian/Dropbox/ubuntu_home/Harvard/research/desai/population/src/IM.jl:22"
     ]
    }
   ],
   "source": [
    "#using JLD\n",
    "d = load(data_dir_path*filenames[end-2])\n",
    "params = d[\"params\"]\n",
    "runs = d[\"runs\"];\n",
    "num_fixed = d[\"num_fixed\"]\n",
    "sizes = d[\"sizes\"]\n",
    "\n",
    "N = params[\"N\"]\n",
    "alpha = params[\"alpha\"]\n",
    "beta = params[\"beta\"]\n",
    "k = params[\"k\"]\n",
    "num_trials = length(runs)\n",
    "graph_model = params[\"graph_model\"]\n",
    "\n",
    "c_r = get_c_r(N,alpha,beta)\n",
    "n_n = get_n_n(N,alpha,beta)\n",
    "\n",
    "#im = InfectionModel(x -> 1 + alpha*x , x -> 1 + beta);\n",
    "im = InfectionModel(x -> 1 + beta + get_s_eff(x,alpha,beta,k) , x -> 1 + beta);\n",
    "\n",
    "y_n, y_minus, y_plus, y_p,critical_determinant = get_parameters(N,alpha,beta)\n",
    "\n",
    "#plot_schematics(N,alpha,beta,k,true)\n",
    "plot_w(sizes,N,alpha,beta)\n",
    "\n",
    "#im = InfectionModel(x -> 1 + alpha*x , x -> 1 + beta);\n",
    "\n",
    "println(num_fixed/num_trials,\" \", IM.P_fix(im,N,1/N))\n",
    "\n",
    "println(\"Is graph model: $graph_model\")\n",
    "\n",
    "\n"
   ]
  },
  {
   "cell_type": "code",
   "execution_count": 7,
   "metadata": {
    "collapsed": false
   },
   "outputs": [
    {
     "data": {
      "text/html": [
       "1 method for generic function <b>get_s_eff</b>:<ul><li> get_s_eff(y::<b>Array{T,N}</b>, alpha, beta, k) at In[1]:23</ul>"
      ],
      "text/plain": [
       "# 1 method for generic function \"get_s_eff\":\n",
       "get_s_eff(y::Array{T,N}, alpha, beta, k) at In[1]:23"
      ]
     },
     "execution_count": 7,
     "metadata": {},
     "output_type": "execute_result"
    }
   ],
   "source": [
    "methods(get_s_eff)"
   ]
  },
  {
   "cell_type": "code",
   "execution_count": null,
   "metadata": {
    "collapsed": false
   },
   "outputs": [],
   "source": [
    "plot_schematics(N,alpha,beta,k,true)"
   ]
  },
  {
   "cell_type": "code",
   "execution_count": null,
   "metadata": {
    "collapsed": false
   },
   "outputs": [],
   "source": [
    "N = 1000\n",
    "n_n = 400\n",
    "c_r = 0.4\n",
    "alpha,beta = get_alpha_beta(N,c_r,n_n)\n",
    "plot_schematics(N,alpha,beta,k,true)\n",
    "im = InfectionModel(x -> 1 + beta + get_s_eff(x,alpha,beta,k) , x -> 1 + beta);\n",
    "IM.P_fix(im,N,1/N)"
   ]
  },
  {
   "cell_type": "code",
   "execution_count": null,
   "metadata": {
    "collapsed": false
   },
   "outputs": [],
   "source": [
    "alpha,beta"
   ]
  },
  {
   "cell_type": "markdown",
   "metadata": {},
   "source": [
    "# why are there zero fixed for the graph case?"
   ]
  },
  {
   "cell_type": "code",
   "execution_count": null,
   "metadata": {
    "collapsed": false
   },
   "outputs": [],
   "source": [
    "plot_w(sizes,N,alpha,beta)"
   ]
  },
  {
   "cell_type": "code",
   "execution_count": null,
   "metadata": {
    "collapsed": false
   },
   "outputs": [],
   "source": [
    "get_s_eff\n"
   ]
  },
  {
   "cell_type": "code",
   "execution_count": null,
   "metadata": {
    "collapsed": true
   },
   "outputs": [],
   "source": []
  }
 ],
 "metadata": {
  "kernelspec": {
   "display_name": "Julia 0.4.3",
   "language": "julia",
   "name": "julia-0.4"
  },
  "language_info": {
   "file_extension": ".jl",
   "mimetype": "application/julia",
   "name": "julia",
   "version": "0.4.3"
  }
 },
 "nbformat": 4,
 "nbformat_minor": 0
}
