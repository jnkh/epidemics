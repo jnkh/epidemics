{
 "cells": [
  {
   "cell_type": "code",
   "execution_count": 4,
   "metadata": {
    "collapsed": false
   },
   "outputs": [
    {
     "name": "stderr",
     "output_type": "stream",
     "text": [
      "WARNING: replacing module IM\n"
     ]
    },
    {
     "data": {
      "text/plain": [
       "SIS"
      ]
     },
     "execution_count": 4,
     "metadata": {},
     "output_type": "execute_result"
    }
   ],
   "source": [
    "include(\"IM.jl\")\n",
    "include(\"SIS.jl\")"
   ]
  },
  {
   "cell_type": "code",
   "execution_count": null,
   "metadata": {
    "collapsed": false
   },
   "outputs": [],
   "source": [
    "using Graphs\n",
    "using SIS\n",
    "using LightGraphs\n",
    "\n"
   ]
  },
  {
   "cell_type": "code",
   "execution_count": null,
   "metadata": {
    "collapsed": false
   },
   "outputs": [],
   "source": [
    "N = 1000\n",
    "k = 10\n",
    "g = Graphs.erdos_renyi_graph(N,1.0*k/(N-1),is_directed=false)\n",
    "t = get_type_graph(g,SUSCEPTIBLE)\n",
    "\n",
    "function get_total_fraction(t,this_type)\n",
    "    a = 0\n",
    "    for v in Graphs.vertices(t)\n",
    "        a += get_neighbor_fraction_of_type(t,v,this_type)\n",
    "    end\n",
    "    a\n",
    "end"
   ]
  },
  {
   "cell_type": "code",
   "execution_count": null,
   "metadata": {
    "collapsed": false
   },
   "outputs": [],
   "source": [
    "#@code_warntype get_total_fraction(t,INFECTED)\n",
    "v = Graphs.vertices(t)[1]\n",
    "this_type = SUSCEPTIBLE\n",
    "Graphs.vertices(t)[15].key = INFECTED\n",
    "@profile get_neighbor_fraction_of_type(t,v,this_type)\n"
   ]
  },
  {
   "cell_type": "code",
   "execution_count": null,
   "metadata": {
    "collapsed": false
   },
   "outputs": [],
   "source": [
    "Profile.clear()\n",
    "@profile get_total_fraction(t,SUSCEPTIBLE)"
   ]
  },
  {
   "cell_type": "code",
   "execution_count": null,
   "metadata": {
    "collapsed": false
   },
   "outputs": [],
   "source": [
    "@time get_total_fraction(t,INFECTED)"
   ]
  },
  {
   "cell_type": "code",
   "execution_count": null,
   "metadata": {
    "collapsed": false
   },
   "outputs": [],
   "source": [
    "@time get_total_fraction_new(t,INFECTED)"
   ]
  },
  {
   "cell_type": "code",
   "execution_count": null,
   "metadata": {
    "collapsed": true
   },
   "outputs": [],
   "source": [
    "Profile.print()"
   ]
  },
  {
   "cell_type": "markdown",
   "metadata": {},
   "source": [
    "# LightGraphs vs Graphs"
   ]
  },
  {
   "cell_type": "code",
   "execution_count": null,
   "metadata": {
    "collapsed": false
   },
   "outputs": [],
   "source": [
    "function iterate_test(g)\n",
    "    tot = 0\n",
    "    for v in Graphs.vertices(g)\n",
    "        for e in Graphs.out_edges(v,g)\n",
    "            for m in Graphs.out_edges(e.target,g)\n",
    "                tot += 1.0\n",
    "            end\n",
    "        end\n",
    "    end\n",
    "    tot\n",
    "end\n",
    "\n",
    "function iterate_test_light(g)\n",
    "    tot = 0\n",
    "    for v in LightGraphs.vertices(g)\n",
    "        for n in LightGraphs.neighbors(g,v)\n",
    "            for m in LightGraphs.neighbors(g,n)\n",
    "                tot += 1.0\n",
    "            end\n",
    "        end\n",
    "    end\n",
    "    tot\n",
    "end\n",
    "\n",
    "function iterate_test_ideal(N,k)\n",
    "    tot = 0\n",
    "    for v in 1:N\n",
    "        for n in 1:k\n",
    "            for m in 1:k\n",
    "                tot += 1.0\n",
    "            end\n",
    "        end\n",
    "    end\n",
    "    tot\n",
    "end"
   ]
  },
  {
   "cell_type": "code",
   "execution_count": null,
   "metadata": {
    "collapsed": false
   },
   "outputs": [],
   "source": [
    "N =10000\n",
    "k = 50\n",
    "g = Graphs.erdos_renyi_graph(N,1.0*k/(N-1),is_directed=false)\n",
    "\n",
    "gl = LightGraphs.erdos_renyi(N,1.0*k/(N-1))"
   ]
  },
  {
   "cell_type": "code",
   "execution_count": null,
   "metadata": {
    "collapsed": false
   },
   "outputs": [],
   "source": [
    "@time println(iterate_test(g))\n",
    "@time println(iterate_test_light(gl))\n",
    "@time println(iterate_test_ideal(N,k))\n",
    "@time println(iterate_test_ideal2(N,k))"
   ]
  },
  {
   "cell_type": "code",
   "execution_count": 2,
   "metadata": {
    "collapsed": false
   },
   "outputs": [
    {
     "ename": "LoadError",
     "evalue": "LoadError: LoadError: ArgumentError: IM not found in path\nwhile loading /mnt/windows/D/MIT/classes/6/338/src/PayloadGraph.jl, in expression starting on line 70\nwhile loading In[2], in expression starting on line 1",
     "output_type": "error",
     "traceback": [
      "LoadError: LoadError: ArgumentError: IM not found in path\nwhile loading /mnt/windows/D/MIT/classes/6/338/src/PayloadGraph.jl, in expression starting on line 70\nwhile loading In[2], in expression starting on line 1",
      "",
      " in require at ./loading.jl:219",
      " in include at ./boot.jl:260",
      " in include_from_node1 at ./loading.jl:271"
     ]
    }
   ],
   "source": [
    "include(\"PayloadGraph.jl\")"
   ]
  },
  {
   "cell_type": "code",
   "execution_count": 1,
   "metadata": {
    "collapsed": false
   },
   "outputs": [
    {
     "name": "stderr",
     "output_type": "stream",
     "text": [
      "WARNING: using Graphs.Graph in module Main conflicts with an existing identifier.\n"
     ]
    }
   ],
   "source": [
    "include(\"NewGraphModules.jl\")\n",
    "using Graphs"
   ]
  },
  {
   "cell_type": "code",
   "execution_count": 1,
   "metadata": {
    "collapsed": false
   },
   "outputs": [
    {
     "ename": "LoadError",
     "evalue": "LoadError: ArgumentError: SIS not found in path\nwhile loading In[1], in expression starting on line 3",
     "output_type": "error",
     "traceback": [
      "LoadError: ArgumentError: SIS not found in path\nwhile loading In[1], in expression starting on line 3",
      "",
      " in require at ./loading.jl:219"
     ]
    }
   ],
   "source": [
    "include(\"PayloadGraph.jl\")\n",
    "include(\"IM.jl\")\n",
    "include(\"SIS.jl\")\n",
    "using SIS"
   ]
  },
  {
   "cell_type": "code",
   "execution_count": 3,
   "metadata": {
    "collapsed": false
   },
   "outputs": [],
   "source": [
    "using SIS"
   ]
  },
  {
   "cell_type": "code",
   "execution_count": 12,
   "metadata": {
    "collapsed": false
   },
   "outputs": [
    {
     "data": {
      "text/plain": [
       "PayloadGraph.Graph{Int64}({1000, 50163} undirected graph,[0,0,0,0,0,0,0,0,0,0  …  0,0,0,0,0,0,0,0,0,0])"
      ]
     },
     "execution_count": 12,
     "metadata": {},
     "output_type": "execute_result"
    }
   ],
   "source": [
    "N = 1000\n",
    "k = 100\n",
    "g = LightGraphs.erdos_renyi(N,1.0*k/(N-1))\n",
    "p = PayloadGraph.Graph(g,fill(SUSCEPTIBLE,N))"
   ]
  },
  {
   "cell_type": "code",
   "execution_count": 14,
   "metadata": {
    "collapsed": false
   },
   "outputs": [
    {
     "data": {
      "text/plain": [
       "89-element Array{Int64,1}:\n",
       "   8\n",
       "  17\n",
       "  24\n",
       "  30\n",
       "  40\n",
       "  59\n",
       "  69\n",
       "  73\n",
       "  78\n",
       "  89\n",
       "  90\n",
       " 121\n",
       " 125\n",
       "   ⋮\n",
       " 883\n",
       " 885\n",
       " 891\n",
       " 902\n",
       " 908\n",
       " 910\n",
       " 912\n",
       " 913\n",
       " 925\n",
       " 926\n",
       " 958\n",
       " 966"
      ]
     },
     "execution_count": 14,
     "metadata": {},
     "output_type": "execute_result"
    }
   ],
   "source": [
    "PayloadGraph.neighbors(p,1)"
   ]
  },
  {
   "cell_type": "code",
   "execution_count": 4,
   "metadata": {
    "collapsed": false
   },
   "outputs": [
    {
     "ename": "LoadError",
     "evalue": "LoadError: UndefVarError: Graphs not defined\nwhile loading In[4], in expression starting on line 3",
     "output_type": "error",
     "traceback": [
      "LoadError: UndefVarError: Graphs not defined\nwhile loading In[4], in expression starting on line 3",
      ""
     ]
    }
   ],
   "source": [
    "N = 10000\n",
    "k = 100\n",
    "g = Graphs.erdos_renyi_graph(N,1.0*k/(N-1),is_directed=false)\n",
    "t = get_type_graph(g,SUSCEPTIBLE)\n",
    "g = LightGraphs.erdos_renyi(N,1.0*k/(N-1))\n",
    "p = PayloadGraph.Graph(g,fill(SUSCEPTIBLE,N))\n",
    "\n",
    "function get_total_fraction{K}(t::TypeGraph{K},this_type)\n",
    "    a = 0\n",
    "    for v in Graphs.vertices(t)\n",
    "        a += SIS.get_neighbor_fraction_of_type(t,v,this_type)\n",
    "    end\n",
    "    a\n",
    "end\n",
    "\n",
    "function get_total_fraction{P}(p::PayloadGraph.Graph{P},thistype)\n",
    "    a = 0\n",
    "    for v in PayloadGraph.vertices(p)\n",
    "        a += get_neighbor_fraction_of_type(p,v,thistype)\n",
    "    end\n",
    "    a\n",
    "end"
   ]
  },
  {
   "cell_type": "code",
   "execution_count": 21,
   "metadata": {
    "collapsed": false
   },
   "outputs": [
    {
     "name": "stdout",
     "output_type": "stream",
     "text": [
      "  "
     ]
    },
    {
     "name": "stderr",
     "output_type": "stream",
     "text": [
      "WARNING: both Graphs and PayloadGraph export \"vertices\"; uses of it in module Main must be qualified\n"
     ]
    },
    {
     "ename": "LoadError",
     "evalue": "LoadError: UndefVarError: vertices not defined\nwhile loading In[21], in expression starting on line 4",
     "output_type": "error",
     "traceback": [
      "LoadError: UndefVarError: vertices not defined\nwhile loading In[21], in expression starting on line 4",
      "",
      " in get_fraction_of_type at /mnt/windows/D/MIT/classes/6/338/src/NewGraphModules.jl:20"
     ]
    },
    {
     "name": "stdout",
     "output_type": "stream",
     "text": [
      "0.058767 seconds (20.00 k allocations: 312.656 KB)\n",
      "  0.009825 seconds (20.00 k allocations: 312.656 KB)\n"
     ]
    }
   ],
   "source": [
    "thistype = INFECTED\n",
    "@time get_total_fraction(t,thistype)\n",
    "@time get_total_fraction(p,thistype)\n",
    "get_fraction_of_type(p,thistype)"
   ]
  },
  {
   "cell_type": "code",
   "execution_count": 2,
   "metadata": {
    "collapsed": false
   },
   "outputs": [
    {
     "data": {
      "text/plain": [
       "{5, 5} undirected graph"
      ]
     },
     "execution_count": 2,
     "metadata": {},
     "output_type": "execute_result"
    }
   ],
   "source": [
    "g = LightGraphs.Graph(5,5)"
   ]
  },
  {
   "cell_type": "code",
   "execution_count": 3,
   "metadata": {
    "collapsed": false
   },
   "outputs": [
    {
     "data": {
      "text/plain": [
       "PayloadGraph.Graph{Int64}({5, 5} undirected graph,[0,0,0,0,0])"
      ]
     },
     "execution_count": 3,
     "metadata": {},
     "output_type": "execute_result"
    }
   ],
   "source": [
    "p = PayloadGraph.Graph(g,fill(0,5))"
   ]
  },
  {
   "cell_type": "code",
   "execution_count": 9,
   "metadata": {
    "collapsed": false
   },
   "outputs": [
    {
     "data": {
      "text/plain": [
       "2-element Array{Pair{Int64,Int64},1}:\n",
       " edge 1 - 5\n",
       " edge 1 - 4"
      ]
     },
     "execution_count": 9,
     "metadata": {},
     "output_type": "execute_result"
    }
   ],
   "source": [
    "PayloadGraph.out_edges(p,1)"
   ]
  },
  {
   "cell_type": "code",
   "execution_count": 6,
   "metadata": {
    "collapsed": false
   },
   "outputs": [
    {
     "data": {
      "text/plain": [
       "PayloadGraph.Graph{Int64}({6, 5} undirected graph,[0,0,0,0,0,19])"
      ]
     },
     "execution_count": 6,
     "metadata": {},
     "output_type": "execute_result"
    }
   ],
   "source": [
    "PayloadGraph.add_vertex!(p,19)\n",
    "p"
   ]
  },
  {
   "cell_type": "code",
   "execution_count": 10,
   "metadata": {
    "collapsed": false
   },
   "outputs": [
    {
     "ename": "LoadError",
     "evalue": "LoadError: Edge edge 1 - 3 is not in graph\nwhile loading In[10], in expression starting on line 1",
     "output_type": "error",
     "traceback": [
      "LoadError: Edge edge 1 - 3 is not in graph\nwhile loading In[10], in expression starting on line 1",
      "",
      " in error at ./error.jl:21",
      " in rem_edge! at /home/julian/.julia/v0.4/LightGraphs/src/graph.jl:73",
      " in rem_edge! at /mnt/windows/D/MIT/classes/6/338/src/PayloadGraph.jl:58"
     ]
    }
   ],
   "source": [
    "PayloadGraph.rem_edge!(p,1,3)"
   ]
  },
  {
   "cell_type": "code",
   "execution_count": null,
   "metadata": {
    "collapsed": true
   },
   "outputs": [],
   "source": []
  }
 ],
 "metadata": {
  "kernelspec": {
   "display_name": "Julia 0.4.0-pre",
   "language": "julia",
   "name": "julia-0.4"
  },
  "language_info": {
   "file_extension": ".jl",
   "mimetype": "application/julia",
   "name": "julia",
   "version": "0.4.0"
  }
 },
 "nbformat": 4,
 "nbformat_minor": 0
}
